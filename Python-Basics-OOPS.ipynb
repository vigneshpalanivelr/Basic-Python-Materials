{
 "cells": [
  {
   "cell_type": "markdown",
   "metadata": {
    "toc": true
   },
   "source": [
    "<h1>OOPS Concept<span class=\"tocSkip\"></span></h1>\n",
    "<div class=\"toc\"><ul class=\"toc-item\"><li><span><a href=\"#OOP's-in-Python\" data-toc-modified-id=\"OOP's-in-Python-1\"><span class=\"toc-item-num\">1&nbsp;&nbsp;</span>OOP's in Python</a></span><ul class=\"toc-item\"><li><span><a href=\"#Class-&amp;-Instance\" data-toc-modified-id=\"Class-&amp;-Instance-1.1\"><span class=\"toc-item-num\">1.1&nbsp;&nbsp;</span>Class &amp; Instance</a></span></li><li><span><a href=\"#Constructor\" data-toc-modified-id=\"Constructor-1.2\"><span class=\"toc-item-num\">1.2&nbsp;&nbsp;</span>Constructor</a></span><ul class=\"toc-item\"><li><span><a href=\"#What-is-self-?\" data-toc-modified-id=\"What-is-self-?-1.2.1\"><span class=\"toc-item-num\">1.2.1&nbsp;&nbsp;</span>What is self ?</a></span></li><li><span><a href=\"#Constructor-Overloading\" data-toc-modified-id=\"Constructor-Overloading-1.2.2\"><span class=\"toc-item-num\">1.2.2&nbsp;&nbsp;</span>Constructor Overloading</a></span></li></ul></li></ul></li></ul></div>"
   ]
  },
  {
   "cell_type": "markdown",
   "metadata": {},
   "source": [
    "# OOP's in Python"
   ]
  },
  {
   "cell_type": "markdown",
   "metadata": {},
   "source": [
    "## Class & Instance"
   ]
  },
  {
   "cell_type": "raw",
   "metadata": {},
   "source": [
    "A class is a code template for creating objects.\n",
    "Objects have member variables and have behaviour associated with them.\n",
    "An object is created using the constructor of the class. \n",
    "This object will then be called the instance of the class."
   ]
  },
  {
   "cell_type": "code",
   "execution_count": 7,
   "metadata": {
    "ExecuteTime": {
     "end_time": "2020-08-23T09:22:45.111875Z",
     "start_time": "2020-08-23T09:22:45.104874Z"
    }
   },
   "outputs": [],
   "source": [
    "class className:\n",
    "    '''======= Example Doc String ========'''\n",
    "    pass\n",
    "Instance = className()"
   ]
  },
  {
   "cell_type": "code",
   "execution_count": 8,
   "metadata": {
    "ExecuteTime": {
     "end_time": "2020-08-23T09:22:46.220938Z",
     "start_time": "2020-08-23T09:22:46.211938Z"
    }
   },
   "outputs": [
    {
     "name": "stdout",
     "output_type": "stream",
     "text": [
      "<__main__.className object at 0x000000000509F448>\n"
     ]
    }
   ],
   "source": [
    "print(Instance)"
   ]
  },
  {
   "cell_type": "code",
   "execution_count": 9,
   "metadata": {
    "ExecuteTime": {
     "end_time": "2020-08-23T09:22:46.529956Z",
     "start_time": "2020-08-23T09:22:46.522955Z"
    }
   },
   "outputs": [
    {
     "name": "stdout",
     "output_type": "stream",
     "text": [
      "======= Example Doc String ========\n"
     ]
    }
   ],
   "source": [
    "print(Instance.__doc__)"
   ]
  },
  {
   "cell_type": "code",
   "execution_count": 10,
   "metadata": {
    "ExecuteTime": {
     "end_time": "2020-08-23T09:23:41.668110Z",
     "start_time": "2020-08-23T09:23:41.656109Z"
    }
   },
   "outputs": [
    {
     "name": "stdout",
     "output_type": "stream",
     "text": [
      "Help on className in module __main__ object:\n",
      "\n",
      "class className(builtins.object)\n",
      " |  ======= Example Doc String ========\n",
      " |  \n",
      " |  Data descriptors defined here:\n",
      " |  \n",
      " |  __dict__\n",
      " |      dictionary for instance variables (if defined)\n",
      " |  \n",
      " |  __weakref__\n",
      " |      list of weak references to the object (if defined)\n",
      "\n"
     ]
    }
   ],
   "source": [
    "help(Instance)"
   ]
  },
  {
   "cell_type": "markdown",
   "metadata": {},
   "source": [
    "## Constructor\n",
    "Python the __init__() method is called the constructor.<br>\n",
    "It is always called when a class is created."
   ]
  },
  {
   "cell_type": "markdown",
   "metadata": {},
   "source": [
    "### What is self ?"
   ]
  },
  {
   "cell_type": "code",
   "execution_count": 22,
   "metadata": {
    "ExecuteTime": {
     "end_time": "2020-08-23T10:23:32.795510Z",
     "start_time": "2020-08-23T10:23:32.779509Z"
    }
   },
   "outputs": [
    {
     "name": "stdout",
     "output_type": "stream",
     "text": [
      "\n",
      "Vignesh\n",
      "15\n",
      "\n",
      "Vignesh\n",
      "15\n",
      "X\n"
     ]
    }
   ],
   "source": [
    "class Student: \n",
    "    # constructor \n",
    "    def __init__(self):\n",
    "        self.Name  = \"Vignesh\"\n",
    "        self.Age   = \"15\"\n",
    "        self.Class = \"X\"\n",
    "    def talk(self):\n",
    "        print(self.Name)\n",
    "        print(self.Age)\n",
    "        print(self.Class)\n",
    "\n",
    "s=Student()     # ===> Instance\n",
    "print()\n",
    "\n",
    "print(s.Name)   # ===> Instance Attributes\n",
    "print(s.Age)    # ===> Instance Attributes\n",
    "print()\n",
    "\n",
    "s.talk()        # ===> Instance Methods"
   ]
  },
  {
   "cell_type": "code",
   "execution_count": 27,
   "metadata": {
    "ExecuteTime": {
     "end_time": "2020-08-23T10:26:48.970731Z",
     "start_time": "2020-08-23T10:26:48.952730Z"
    }
   },
   "outputs": [
    {
     "name": "stdout",
     "output_type": "stream",
     "text": [
      "Vignesh\n",
      "15\n",
      "X\n",
      "\n",
      "Vignesh_1\n",
      "16\n",
      "XI\n"
     ]
    }
   ],
   "source": [
    "class Student: \n",
    "    # parametrized constructor \n",
    "    def __init__(self, name, age, std):\n",
    "        self.Name  = name\n",
    "        self.Age   = age\n",
    "        self.std   = std\n",
    "    def talk(self):\n",
    "        print(self.Name)\n",
    "        print(self.Age)\n",
    "        print(self.std)\n",
    "\n",
    "s=Student(\"Vignesh\", 15, \"X\")     # ===> Instance\n",
    "s.talk()                          # ===> Instance Methods\n",
    "print()\n",
    "s=Student(\"Vignesh_1\", 16, \"XI\")     # ===> Instance\n",
    "s.talk()                          # ===> Instance Methods"
   ]
  },
  {
   "cell_type": "markdown",
   "metadata": {},
   "source": [
    "### Constructor Overloading\n",
    "Accessing variables in the class.<br>\n",
    "Passing variables from methods to class."
   ]
  },
  {
   "cell_type": "code",
   "execution_count": 28,
   "metadata": {
    "ExecuteTime": {
     "end_time": "2020-08-23T10:27:29.250035Z",
     "start_time": "2020-08-23T10:27:29.224033Z"
    }
   },
   "outputs": [
    {
     "ename": "TypeError",
     "evalue": "__init__() takes 3 positional arguments but 4 were given",
     "output_type": "error",
     "traceback": [
      "\u001b[1;31m---------------------------------------------------------------------------\u001b[0m",
      "\u001b[1;31mTypeError\u001b[0m                                 Traceback (most recent call last)",
      "\u001b[1;32m<ipython-input-28-8ade2c48c153>\u001b[0m in \u001b[0;36m<module>\u001b[1;34m\u001b[0m\n\u001b[0;32m     10\u001b[0m         \u001b[0mprint\u001b[0m\u001b[1;33m(\u001b[0m\u001b[0mself\u001b[0m\u001b[1;33m.\u001b[0m\u001b[0mstd\u001b[0m\u001b[1;33m)\u001b[0m\u001b[1;33m\u001b[0m\u001b[1;33m\u001b[0m\u001b[0m\n\u001b[0;32m     11\u001b[0m \u001b[1;33m\u001b[0m\u001b[0m\n\u001b[1;32m---> 12\u001b[1;33m \u001b[0ms\u001b[0m\u001b[1;33m=\u001b[0m\u001b[0mStudent\u001b[0m\u001b[1;33m(\u001b[0m\u001b[1;34m\"Vignesh\"\u001b[0m\u001b[1;33m,\u001b[0m \u001b[1;36m15\u001b[0m\u001b[1;33m,\u001b[0m \u001b[1;34m\"X\"\u001b[0m\u001b[1;33m)\u001b[0m     \u001b[1;31m# ===> Instance\u001b[0m\u001b[1;33m\u001b[0m\u001b[1;33m\u001b[0m\u001b[0m\n\u001b[0m",
      "\u001b[1;31mTypeError\u001b[0m: __init__() takes 3 positional arguments but 4 were given"
     ]
    }
   ],
   "source": [
    "class Student: \n",
    "    # parametrized constructor \n",
    "    def __init__( name, age, std):\n",
    "        self.Name  = name\n",
    "        self.Age   = age\n",
    "        self.std   = std\n",
    "    def talk(self):\n",
    "        print(self.Name)\n",
    "        print(self.Age)\n",
    "        print(self.std)\n",
    "\n",
    "s=Student(\"Vignesh\", 15, \"X\")     # ===> Instance"
   ]
  },
  {
   "cell_type": "code",
   "execution_count": 32,
   "metadata": {
    "ExecuteTime": {
     "end_time": "2020-08-23T10:28:49.016597Z",
     "start_time": "2020-08-23T10:28:48.993596Z"
    }
   },
   "outputs": [
    {
     "name": "stdout",
     "output_type": "stream",
     "text": [
      "87639048\n",
      "\n",
      "Vignesh\n",
      "15\n",
      "X\n",
      "87639048\n"
     ]
    }
   ],
   "source": [
    "class Student: \n",
    "    # parametrized constructor \n",
    "    def __init__(self, name, age, std):\n",
    "        self.Name  = name\n",
    "        self.Age   = age\n",
    "        self.std   = std\n",
    "        print(id(self))\n",
    "    def talk(self):\n",
    "        print(self.Name)\n",
    "        print(self.Age)\n",
    "        print(self.std)\n",
    "        print(id(self))\n",
    "\n",
    "s=Student(\"Vignesh\", 15, \"X\")     # ===> Instance\n",
    "print()\n",
    "s.talk()                          # ===> Instance Methods"
   ]
  },
  {
   "cell_type": "code",
   "execution_count": 39,
   "metadata": {
    "ExecuteTime": {
     "end_time": "2020-08-23T16:03:46.787124Z",
     "start_time": "2020-08-23T16:03:46.770123Z"
    }
   },
   "outputs": [
    {
     "name": "stdout",
     "output_type": "stream",
     "text": [
      "87565704\n",
      "{'Name': 'Vignesh', 'Age': 15, 'std': 'X'}\n"
     ]
    }
   ],
   "source": [
    "class Student: \n",
    "    # parametrized constructor \n",
    "    def __init__(self, name, age, std):\n",
    "        self.Name  = name\n",
    "        self.Age   = age\n",
    "        self.std   = std\n",
    "        print(id(self))\n",
    "    def talk(self):\n",
    "        print(self.Name)\n",
    "        print(self.Age)\n",
    "        print(self.std)\n",
    "        print(id(self))\n",
    "\n",
    "s=Student(\"Vignesh\", 15, \"X\")     # ===> Instance\n",
    "print(s.__dict__)"
   ]
  },
  {
   "cell_type": "code",
   "execution_count": 41,
   "metadata": {
    "ExecuteTime": {
     "end_time": "2020-08-23T16:04:01.116943Z",
     "start_time": "2020-08-23T16:04:01.100943Z"
    }
   },
   "outputs": [
    {
     "name": "stdout",
     "output_type": "stream",
     "text": [
      "87462856\n",
      "{'Name': 'Vignesh', 'Age': 15, 'std': 'X'}\n",
      "Vicky\n"
     ]
    }
   ],
   "source": [
    "class Student: \n",
    "    # parametrized constructor \n",
    "    def __init__(self, name, age, std):\n",
    "        self.Name  = name\n",
    "        self.Age   = age\n",
    "        self.std   = std\n",
    "        print(id(self))\n",
    "    def talk(self):\n",
    "        print(self.Name)\n",
    "        print(self.Age)\n",
    "        print(self.std)\n",
    "        print(id(self))\n",
    "\n",
    "s=Student(\"Vignesh\", 15, \"X\")     # ===> Instance\n",
    "print(s.__dict__)\n",
    "s.Name = \"Vicky\"\n",
    "print(s.Name)"
   ]
  },
  {
   "cell_type": "code",
   "execution_count": 35,
   "metadata": {
    "ExecuteTime": {
     "end_time": "2020-08-23T10:46:33.867503Z",
     "start_time": "2020-08-23T10:46:33.845502Z"
    }
   },
   "outputs": [
    {
     "ename": "TypeError",
     "evalue": "__init__() takes 1 positional argument but 2 were given",
     "output_type": "error",
     "traceback": [
      "\u001b[1;31m---------------------------------------------------------------------------\u001b[0m",
      "\u001b[1;31mTypeError\u001b[0m                                 Traceback (most recent call last)",
      "\u001b[1;32m<ipython-input-35-b17b92906637>\u001b[0m in \u001b[0;36m<module>\u001b[1;34m\u001b[0m\n\u001b[0;32m      5\u001b[0m     \u001b[1;32mdef\u001b[0m \u001b[0m__init__\u001b[0m\u001b[1;33m(\u001b[0m\u001b[0mself\u001b[0m\u001b[1;33m)\u001b[0m\u001b[1;33m:\u001b[0m\u001b[1;33m\u001b[0m\u001b[1;33m\u001b[0m\u001b[0m\n\u001b[0;32m      6\u001b[0m         \u001b[0mprint\u001b[0m\u001b[1;33m(\u001b[0m\u001b[1;34m\"No Args Constructor\"\u001b[0m\u001b[1;33m)\u001b[0m\u001b[1;33m\u001b[0m\u001b[1;33m\u001b[0m\u001b[0m\n\u001b[1;32m----> 7\u001b[1;33m \u001b[0ms\u001b[0m\u001b[1;33m=\u001b[0m\u001b[0mStudent\u001b[0m\u001b[1;33m(\u001b[0m\u001b[1;34m\"Vignesh\"\u001b[0m\u001b[1;33m)\u001b[0m\u001b[1;33m\u001b[0m\u001b[1;33m\u001b[0m\u001b[0m\n\u001b[0m",
      "\u001b[1;31mTypeError\u001b[0m: __init__() takes 1 positional argument but 2 were given"
     ]
    }
   ],
   "source": [
    "class Student: \n",
    "    # constructor overloading\n",
    "    def __init__(self, name):\n",
    "        print(\"One Args Constructor\")\n",
    "    def __init__(self):\n",
    "        print(\"No Args Constructor\")\n",
    "s=Student(\"Vignesh\")"
   ]
  },
  {
   "cell_type": "code",
   "execution_count": 36,
   "metadata": {
    "ExecuteTime": {
     "end_time": "2020-08-23T10:47:07.390420Z",
     "start_time": "2020-08-23T10:47:07.379420Z"
    }
   },
   "outputs": [
    {
     "name": "stdout",
     "output_type": "stream",
     "text": [
      "One Args Constructor\n"
     ]
    }
   ],
   "source": [
    "class Student: \n",
    "    # constructor overloading\n",
    "    def __init__(self):\n",
    "        print(\"No Args Constructor\")\n",
    "    def __init__(self, name):\n",
    "        print(\"One Args Constructor\")\n",
    "s=Student(\"Vignesh\")"
   ]
  },
  {
   "cell_type": "code",
   "execution_count": 4,
   "metadata": {
    "ExecuteTime": {
     "end_time": "2020-08-23T16:30:20.421274Z",
     "start_time": "2020-08-23T16:30:20.404273Z"
    }
   },
   "outputs": [
    {
     "name": "stdout",
     "output_type": "stream",
     "text": [
      "{'__module__': '__main__', 'a': 10, '__init__': <function Student.__init__ at 0x000000000537D678>, 'talk': <function Student.talk at 0x000000000537D9D8>, '__dict__': <attribute '__dict__' of 'Student' objects>, '__weakref__': <attribute '__weakref__' of 'Student' objects>, '__doc__': None}\n",
      "{'b': 20}\n",
      "{'b': 20, 'c': 30}\n"
     ]
    }
   ],
   "source": [
    "class Student: \n",
    "    # parametrized constructor\n",
    "    a = 10\n",
    "    def __init__(self):\n",
    "        self.b = 20\n",
    "    \n",
    "    def talk(self):\n",
    "        self.c = 30\n",
    "        d = 40\n",
    "\n",
    "print(Student.__dict__)\n",
    "s=Student()\n",
    "\n",
    "print(s.__dict__)\n",
    "s.talk()\n",
    "print(s.__dict__)"
   ]
  },
  {
   "cell_type": "code",
   "execution_count": 6,
   "metadata": {
    "ExecuteTime": {
     "end_time": "2020-11-08T19:04:00.114766Z",
     "start_time": "2020-11-08T19:03:58.451671Z"
    }
   },
   "outputs": [
    {
     "name": "stdout",
     "output_type": "stream",
     "text": [
      "Enter the value of n: 10\n",
      "[1, 4, 9, 16, 25, 36, 49, 64, 81, 100]\n",
      "1\n",
      "5\n",
      "14\n",
      "30\n",
      "55\n",
      "91\n",
      "140\n",
      "204\n",
      "285\n",
      "385\n"
     ]
    }
   ],
   "source": [
    "def f(n):\n",
    "    squares = [n**2 for n in range(1,n+1)]\n",
    "    print(squares)\n",
    "    \n",
    "    partsum=0\n",
    "    i=0\n",
    "    \n",
    "    while(i<n):\n",
    "        partsum=partsum+squares[i]\n",
    "        i +=1\n",
    "        print(partsum)\n",
    "\n",
    "n=int(input(\"Enter the value of n: \"))\n",
    "f(n)"
   ]
  },
  {
   "cell_type": "code",
   "execution_count": 23,
   "metadata": {
    "ExecuteTime": {
     "end_time": "2020-11-08T19:59:54.413621Z",
     "start_time": "2020-11-08T19:59:52.462510Z"
    }
   },
   "outputs": [
    {
     "name": "stdout",
     "output_type": "stream",
     "text": [
      "Enter the value of n: 4\n",
      "Sum of squares from 1-4 is 1+8+27+64 = 100\n",
      "\n",
      "The Partial sum of 4 is 100\n"
     ]
    }
   ],
   "source": [
    "# Defining Partial Sum\n",
    "def createseq(n):\n",
    "    for i in range(1, n+1):\n",
    "        yield i**3\n",
    "\n",
    "if __name__ == \"__main__\":\n",
    "    # Reading the input values from user\n",
    "    n = int(input(\"Enter the value of n: \"))\n",
    "   \n",
    "    list_of_n = [i for i in createseq(n)]\n",
    "    print(\"Sum of squares from 1-{} is \".format(n) + \"+\".join([str(i) for i in list_of_n]) + \" = {}\".format(sum(list_of_n)))\n",
    "    print(\"\\nThe Partial sum of {} is {}\".format(n,sum(list_of_n)))"
   ]
  },
  {
   "cell_type": "code",
   "execution_count": null,
   "metadata": {},
   "outputs": [],
   "source": []
  }
 ],
 "metadata": {
  "kernelspec": {
   "display_name": "Python 3 (ipykernel)",
   "language": "python",
   "name": "python3"
  },
  "language_info": {
   "codemirror_mode": {
    "name": "ipython",
    "version": 3
   },
   "file_extension": ".py",
   "mimetype": "text/x-python",
   "name": "python",
   "nbconvert_exporter": "python",
   "pygments_lexer": "ipython3",
   "version": "3.8.13"
  },
  "toc": {
   "base_numbering": 1,
   "nav_menu": {},
   "number_sections": true,
   "sideBar": true,
   "skip_h1_title": false,
   "title_cell": "OOPS Concept",
   "title_sidebar": "Contents",
   "toc_cell": true,
   "toc_position": {},
   "toc_section_display": true,
   "toc_window_display": true
  }
 },
 "nbformat": 4,
 "nbformat_minor": 4
}
