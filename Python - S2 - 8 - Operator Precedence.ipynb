{
 "cells": [
  {
   "cell_type": "markdown",
   "id": "63d5a103",
   "metadata": {
    "toc": true
   },
   "source": [
    "<h1>Table of Contents<span class=\"tocSkip\"></span></h1>\n",
    "<div class=\"toc\"><ul class=\"toc-item\"><li><span><a href=\"#Operator-Precedence\" data-toc-modified-id=\"Operator-Precedence-1\"><span class=\"toc-item-num\">1&nbsp;&nbsp;</span>Operator Precedence</a></span><ul class=\"toc-item\"><li><span><a href=\"#Highest-to-Lowest-precedence\" data-toc-modified-id=\"Highest-to-Lowest-precedence-1.1\"><span class=\"toc-item-num\">1.1&nbsp;&nbsp;</span>Highest to Lowest precedence</a></span></li><li><span><a href=\"#Associativity-Rules\" data-toc-modified-id=\"Associativity-Rules-1.2\"><span class=\"toc-item-num\">1.2&nbsp;&nbsp;</span>Associativity Rules</a></span><ul class=\"toc-item\"><li><span><a href=\"#Left-to-right-associativity\" data-toc-modified-id=\"Left-to-right-associativity-1.2.1\"><span class=\"toc-item-num\">1.2.1&nbsp;&nbsp;</span>Left-to-right associativity</a></span></li><li><span><a href=\"#Right-to-left-associativity\" data-toc-modified-id=\"Right-to-left-associativity-1.2.2\"><span class=\"toc-item-num\">1.2.2&nbsp;&nbsp;</span>Right-to-left associativity</a></span></li><li><span><a href=\"#Quick-Reference-for-Associativity\" data-toc-modified-id=\"Quick-Reference-for-Associativity-1.2.3\"><span class=\"toc-item-num\">1.2.3&nbsp;&nbsp;</span>Quick Reference for Associativity</a></span></li></ul></li></ul></li><li><span><a href=\"#Example\" data-toc-modified-id=\"Example-2\"><span class=\"toc-item-num\">2&nbsp;&nbsp;</span>Example</a></span><ul class=\"toc-item\"><li><span><a href=\"#Parentheses\" data-toc-modified-id=\"Parentheses-2.1\"><span class=\"toc-item-num\">2.1&nbsp;&nbsp;</span>Parentheses</a></span></li><li><span><a href=\"#Exponentiation\" data-toc-modified-id=\"Exponentiation-2.2\"><span class=\"toc-item-num\">2.2&nbsp;&nbsp;</span>Exponentiation</a></span></li><li><span><a href=\"#Multiplication-and-Division-(Left-to-Right)\" data-toc-modified-id=\"Multiplication-and-Division-(Left-to-Right)-2.3\"><span class=\"toc-item-num\">2.3&nbsp;&nbsp;</span>Multiplication and Division (Left to Right)</a></span></li><li><span><a href=\"#Addition-and-Subtraction-(Left-to-Right)\" data-toc-modified-id=\"Addition-and-Subtraction-(Left-to-Right)-2.4\"><span class=\"toc-item-num\">2.4&nbsp;&nbsp;</span>Addition and Subtraction (Left to Right)</a></span></li><li><span><a href=\"#Bitwise-AND\" data-toc-modified-id=\"Bitwise-AND-2.5\"><span class=\"toc-item-num\">2.5&nbsp;&nbsp;</span>Bitwise AND</a></span></li><li><span><a href=\"#Bitwise-XOR\" data-toc-modified-id=\"Bitwise-XOR-2.6\"><span class=\"toc-item-num\">2.6&nbsp;&nbsp;</span>Bitwise XOR</a></span></li><li><span><a href=\"#Bitwise-OR\" data-toc-modified-id=\"Bitwise-OR-2.7\"><span class=\"toc-item-num\">2.7&nbsp;&nbsp;</span>Bitwise OR</a></span></li><li><span><a href=\"#Comparison-Operator-(Left-to-Right)\" data-toc-modified-id=\"Comparison-Operator-(Left-to-Right)-2.8\"><span class=\"toc-item-num\">2.8&nbsp;&nbsp;</span>Comparison Operator (Left to Right)</a></span></li><li><span><a href=\"#Logical-NOT\" data-toc-modified-id=\"Logical-NOT-2.9\"><span class=\"toc-item-num\">2.9&nbsp;&nbsp;</span>Logical NOT</a></span></li><li><span><a href=\"#Logical-AND\" data-toc-modified-id=\"Logical-AND-2.10\"><span class=\"toc-item-num\">2.10&nbsp;&nbsp;</span>Logical AND</a></span></li><li><span><a href=\"#Logical-OR\" data-toc-modified-id=\"Logical-OR-2.11\"><span class=\"toc-item-num\">2.11&nbsp;&nbsp;</span>Logical OR</a></span></li></ul></li><li><span><a href=\"#Example\" data-toc-modified-id=\"Example-3\"><span class=\"toc-item-num\">3&nbsp;&nbsp;</span>Example</a></span><ul class=\"toc-item\"><li><span><a href=\"#Exponential\" data-toc-modified-id=\"Exponential-3.1\"><span class=\"toc-item-num\">3.1&nbsp;&nbsp;</span>Exponential</a></span></li><li><span><a href=\"#Multiplication,-Division,-Modulo-(Left-to-Right)\" data-toc-modified-id=\"Multiplication,-Division,-Modulo-(Left-to-Right)-3.2\"><span class=\"toc-item-num\">3.2&nbsp;&nbsp;</span>Multiplication, Division, Modulo (Left to Right)</a></span></li><li><span><a href=\"#Addition,-Subtration-(Left-to-Right)\" data-toc-modified-id=\"Addition,-Subtration-(Left-to-Right)-3.3\"><span class=\"toc-item-num\">3.3&nbsp;&nbsp;</span>Addition, Subtration (Left to Right)</a></span></li><li><span><a href=\"#Bitwise-Left-shift\" data-toc-modified-id=\"Bitwise-Left-shift-3.4\"><span class=\"toc-item-num\">3.4&nbsp;&nbsp;</span>Bitwise Left shift</a></span></li><li><span><a href=\"#Comparisson\" data-toc-modified-id=\"Comparisson-3.5\"><span class=\"toc-item-num\">3.5&nbsp;&nbsp;</span>Comparisson</a></span></li><li><span><a href=\"#Logical-AND\" data-toc-modified-id=\"Logical-AND-3.6\"><span class=\"toc-item-num\">3.6&nbsp;&nbsp;</span>Logical AND</a></span></li></ul></li><li><span><a href=\"#Exercise\" data-toc-modified-id=\"Exercise-4\"><span class=\"toc-item-num\">4&nbsp;&nbsp;</span>Exercise</a></span></li></ul></div>"
   ]
  },
  {
   "cell_type": "markdown",
   "id": "d3a23e28",
   "metadata": {},
   "source": [
    "# Operator Precedence"
   ]
  },
  {
   "cell_type": "markdown",
   "id": "0f7dab66",
   "metadata": {},
   "source": [
    "## Highest to Lowest precedence\n",
    "\n",
    "| Operator Name  | Operator  | Others.     |\n",
    "|----------------|-----------|-------------|\n",
    "| Parentheses    | ( )       |             |\n",
    "| Exponentiation | **        |             |\n",
    "| Unary plus, minus, bitwise NOT| +, -, ~| |\n",
    "| Multiplication, Division, Floor division, Modulus| *, /, //, %| |\n",
    "| Addition, Subtraction| +, -| |\n",
    "| Bitwise shift operators| <<, >>| |\n",
    "| Bitwise AND | & | int\n",
    "| Bitwise XOR | ^ | int\n",
    "| Bitwise OR  | $$|$$ | int |\n",
    "| Comparison operators | ==, !=, >, <, >=, <=| |\n",
    "| Logical NOT | not | |\n",
    "| Logical AND | and | |\n",
    "| Logical OR  | or | |"
   ]
  },
  {
   "cell_type": "markdown",
   "id": "d4466ebd",
   "metadata": {},
   "source": [
    "> When operators share the same precedence, they are evaluated from <b>left to right</b> in the expression."
   ]
  },
  {
   "cell_type": "markdown",
   "id": "dbb2924f",
   "metadata": {},
   "source": [
    "## Associativity Rules"
   ]
  },
  {
   "cell_type": "markdown",
   "id": "ea3c00e5",
   "metadata": {},
   "source": [
    "### Left-to-right associativity"
   ]
  },
  {
   "cell_type": "markdown",
   "id": "f67703a1",
   "metadata": {},
   "source": [
    "| Operator Name | Operator |\n",
    "|---------------|----------|\n",
    "| Arithmetic    | +, -, *, /, //, % |\n",
    "| Bitwise       | &, $$|$$, ^, <<, >> |\n",
    "| Comparison    | <, <=, >, >=, ==, != |\n",
    "| Logical       | and, or |"
   ]
  },
  {
   "cell_type": "markdown",
   "id": "7338a5b4",
   "metadata": {},
   "source": [
    "### Right-to-left associativity"
   ]
  },
  {
   "cell_type": "markdown",
   "id": "929848ca",
   "metadata": {},
   "source": [
    "| Operator Name | Operator |\n",
    "|---------------|----------|\n",
    "|Exponentiation  | ** |\n",
    "|Unary operators |+, -, ~)|\n",
    "|Assignment operators | =, +=, -= |"
   ]
  },
  {
   "cell_type": "markdown",
   "id": "cc04bda8",
   "metadata": {},
   "source": [
    "### Quick Reference for Associativity"
   ]
  },
  {
   "cell_type": "markdown",
   "id": "7519cc4a",
   "metadata": {},
   "source": [
    "| **Operator**                    | **Associativity**    | **Examples**                                      |\n",
    "|----------------------------------|----------------------|--------------------------------------------------|\n",
    "| `+`, `-`, `*`, `/`, `//`, `%`   | Left-to-right        | `10 - 5 + 2` → `(10 - 5) + 2`                   |\n",
    "| `<`, `<=`, `>`, `>=`, `==`, `!=`| Left-to-right        | `3 > 2 > 1` → `(3 > 2) and (2 > 1)`             |\n",
    "| `and`, `or`                     | Left-to-right        | `True or False and True` → `True or (False and True)` |\n",
    "| `**`                            | Right-to-left        | `2 ** 3 ** 2` → `2 ** (3 ** 2)`                 |\n",
    "| Unary (`+`, `-`, `~`)           | Right-to-left        | `-3 ** 2` → `-(3 ** 2)`                         |\n",
    "| Assignment (`=`, `+=`, etc.)    | Right-to-left        | `x = y = z = 10`                                |\n"
   ]
  },
  {
   "cell_type": "markdown",
   "id": "5fead916",
   "metadata": {},
   "source": [
    "# Example"
   ]
  },
  {
   "cell_type": "code",
   "execution_count": 1,
   "id": "5e7574b4",
   "metadata": {
    "ExecuteTime": {
     "end_time": "2024-11-15T14:48:49.433455Z",
     "start_time": "2024-11-15T14:48:49.364190Z"
    }
   },
   "outputs": [],
   "source": [
    "result = (3 + 5 * 2 ** 3 - int(10 / 2) * 4 + 7 & 3 | 6 ^ 2) > 10 and not (5 == 5) or (4 << 1) <= 20"
   ]
  },
  {
   "cell_type": "markdown",
   "id": "0277cf6f",
   "metadata": {},
   "source": [
    "## Parentheses"
   ]
  },
  {
   "cell_type": "raw",
   "id": "79be5182",
   "metadata": {
    "ExecuteTime": {
     "end_time": "2024-11-15T14:42:18.143875Z",
     "start_time": "2024-11-15T14:42:18.118946Z"
    }
   },
   "source": [
    "(3 + 5 * 2 ** 3 - int(10 / 2) * 4 + 7 & 3 | 6 ^ 2)"
   ]
  },
  {
   "cell_type": "code",
   "execution_count": 2,
   "id": "53f85078",
   "metadata": {
    "ExecuteTime": {
     "end_time": "2024-11-15T14:48:49.576918Z",
     "start_time": "2024-11-15T14:48:49.463882Z"
    }
   },
   "outputs": [
    {
     "data": {
      "text/plain": [
       "True"
      ]
     },
     "execution_count": 2,
     "metadata": {},
     "output_type": "execute_result"
    }
   ],
   "source": [
    "(5 == 5)"
   ]
  },
  {
   "cell_type": "code",
   "execution_count": 3,
   "id": "5550df9d",
   "metadata": {
    "ExecuteTime": {
     "end_time": "2024-11-15T14:48:49.617473Z",
     "start_time": "2024-11-15T14:48:49.594863Z"
    }
   },
   "outputs": [
    {
     "data": {
      "text/plain": [
       "8"
      ]
     },
     "execution_count": 3,
     "metadata": {},
     "output_type": "execute_result"
    }
   ],
   "source": [
    "(4 << 1)"
   ]
  },
  {
   "cell_type": "raw",
   "id": "ed1cc447",
   "metadata": {
    "ExecuteTime": {
     "end_time": "2024-11-15T14:43:09.897508Z",
     "start_time": "2024-11-15T14:43:09.844958Z"
    }
   },
   "source": [
    "(3 + 5 * 2 ** 3 - int(10 / 2) * 4 + 7 & 3 | 6 ^ 2) > 10 and not True or 8 <= 20"
   ]
  },
  {
   "cell_type": "markdown",
   "id": "4bc36e34",
   "metadata": {},
   "source": [
    "## Exponentiation"
   ]
  },
  {
   "cell_type": "code",
   "execution_count": 4,
   "id": "96b84549",
   "metadata": {
    "ExecuteTime": {
     "end_time": "2024-11-15T14:48:49.761793Z",
     "start_time": "2024-11-15T14:48:49.626714Z"
    }
   },
   "outputs": [
    {
     "data": {
      "text/plain": [
       "8"
      ]
     },
     "execution_count": 4,
     "metadata": {},
     "output_type": "execute_result"
    }
   ],
   "source": [
    "2 ** 3"
   ]
  },
  {
   "cell_type": "raw",
   "id": "b1592588",
   "metadata": {
    "ExecuteTime": {
     "end_time": "2024-11-15T14:28:55.449223Z",
     "start_time": "2024-11-15T14:28:55.401330Z"
    }
   },
   "source": [
    "(3 + 5 * 8 - int(10 / 2) * 4 + 7 & 3 | 6 ^ 2) > 10 and not True or 8 <= 20"
   ]
  },
  {
   "cell_type": "markdown",
   "id": "4b4b7c30",
   "metadata": {},
   "source": [
    "## Multiplication and Division (Left to Right)"
   ]
  },
  {
   "cell_type": "code",
   "execution_count": 5,
   "id": "69a1fdec",
   "metadata": {
    "ExecuteTime": {
     "end_time": "2024-11-15T14:48:49.784542Z",
     "start_time": "2024-11-15T14:48:49.769655Z"
    }
   },
   "outputs": [
    {
     "data": {
      "text/plain": [
       "40"
      ]
     },
     "execution_count": 5,
     "metadata": {},
     "output_type": "execute_result"
    }
   ],
   "source": [
    "5 * 8"
   ]
  },
  {
   "cell_type": "code",
   "execution_count": 6,
   "id": "e8ea311c",
   "metadata": {
    "ExecuteTime": {
     "end_time": "2024-11-15T14:48:49.812553Z",
     "start_time": "2024-11-15T14:48:49.789474Z"
    }
   },
   "outputs": [
    {
     "data": {
      "text/plain": [
       "5"
      ]
     },
     "execution_count": 6,
     "metadata": {},
     "output_type": "execute_result"
    }
   ],
   "source": [
    "int(10 / 2)"
   ]
  },
  {
   "cell_type": "raw",
   "id": "5bdd9262",
   "metadata": {
    "ExecuteTime": {
     "end_time": "2024-11-15T14:46:15.030880Z",
     "start_time": "2024-11-15T14:46:14.989520Z"
    }
   },
   "source": [
    "40 - 5 * 4"
   ]
  },
  {
   "cell_type": "code",
   "execution_count": 7,
   "id": "54ebe052",
   "metadata": {
    "ExecuteTime": {
     "end_time": "2024-11-15T14:48:49.839284Z",
     "start_time": "2024-11-15T14:48:49.821897Z"
    }
   },
   "outputs": [
    {
     "data": {
      "text/plain": [
       "20"
      ]
     },
     "execution_count": 7,
     "metadata": {},
     "output_type": "execute_result"
    }
   ],
   "source": [
    "5 * 4"
   ]
  },
  {
   "cell_type": "raw",
   "id": "dfaddda9",
   "metadata": {
    "ExecuteTime": {
     "end_time": "2024-11-15T14:46:27.816763Z",
     "start_time": "2024-11-15T14:46:27.804024Z"
    }
   },
   "source": [
    "40 - 20"
   ]
  },
  {
   "cell_type": "raw",
   "id": "ff408437",
   "metadata": {},
   "source": [
    "(3 + 40 - 20 + 7 & 3 | 6 ^ 2) > 10 and not True or 8 <= 20"
   ]
  },
  {
   "cell_type": "markdown",
   "id": "ea6f3522",
   "metadata": {},
   "source": [
    "## Addition and Subtraction (Left to Right)"
   ]
  },
  {
   "cell_type": "raw",
   "id": "5efa7767",
   "metadata": {},
   "source": [
    "3 + 40 - 20 + 7"
   ]
  },
  {
   "cell_type": "code",
   "execution_count": 8,
   "id": "35dde515",
   "metadata": {
    "ExecuteTime": {
     "end_time": "2024-11-15T14:50:55.062183Z",
     "start_time": "2024-11-15T14:50:55.033651Z"
    }
   },
   "outputs": [
    {
     "data": {
      "text/plain": [
       "43"
      ]
     },
     "execution_count": 8,
     "metadata": {},
     "output_type": "execute_result"
    }
   ],
   "source": [
    "3 + 40"
   ]
  },
  {
   "cell_type": "raw",
   "id": "00268134",
   "metadata": {},
   "source": [
    "43 - 20 + 7"
   ]
  },
  {
   "cell_type": "code",
   "execution_count": 9,
   "id": "aeac868d",
   "metadata": {
    "ExecuteTime": {
     "end_time": "2024-11-15T14:51:31.826884Z",
     "start_time": "2024-11-15T14:51:31.794373Z"
    }
   },
   "outputs": [
    {
     "data": {
      "text/plain": [
       "23"
      ]
     },
     "execution_count": 9,
     "metadata": {},
     "output_type": "execute_result"
    }
   ],
   "source": [
    "43 - 20"
   ]
  },
  {
   "cell_type": "raw",
   "id": "5984ffdc",
   "metadata": {},
   "source": [
    "23 + 7"
   ]
  },
  {
   "cell_type": "code",
   "execution_count": 11,
   "id": "d350e534",
   "metadata": {
    "ExecuteTime": {
     "end_time": "2024-11-15T14:52:37.965457Z",
     "start_time": "2024-11-15T14:52:37.928839Z"
    }
   },
   "outputs": [
    {
     "data": {
      "text/plain": [
       "30"
      ]
     },
     "execution_count": 11,
     "metadata": {},
     "output_type": "execute_result"
    }
   ],
   "source": [
    "23 + 7"
   ]
  },
  {
   "cell_type": "raw",
   "id": "5a55e509",
   "metadata": {
    "ExecuteTime": {
     "end_time": "2024-11-15T14:52:44.842319Z",
     "start_time": "2024-11-15T14:52:44.767131Z"
    }
   },
   "source": [
    "(30 & 3 | 6 ^ 2) > 10 and not True or 8 <= 20"
   ]
  },
  {
   "cell_type": "markdown",
   "id": "77853bde",
   "metadata": {},
   "source": [
    "## Bitwise AND"
   ]
  },
  {
   "cell_type": "code",
   "execution_count": 13,
   "id": "619c3f78",
   "metadata": {
    "ExecuteTime": {
     "end_time": "2024-11-15T14:53:47.636280Z",
     "start_time": "2024-11-15T14:53:47.616287Z"
    }
   },
   "outputs": [
    {
     "data": {
      "text/plain": [
       "2"
      ]
     },
     "execution_count": 13,
     "metadata": {},
     "output_type": "execute_result"
    }
   ],
   "source": [
    "30 & 3"
   ]
  },
  {
   "cell_type": "raw",
   "id": "de48b37c",
   "metadata": {},
   "source": [
    "30 & 3 → Binary: 11110 & 00011 = 00010 → Result: 2"
   ]
  },
  {
   "cell_type": "raw",
   "id": "71ab513b",
   "metadata": {},
   "source": [
    "(2 | 6 ^ 2) > 10 and not True or 8 <= 20"
   ]
  },
  {
   "cell_type": "markdown",
   "id": "12b41537",
   "metadata": {},
   "source": [
    "## Bitwise XOR"
   ]
  },
  {
   "cell_type": "code",
   "execution_count": 14,
   "id": "3833f0bc",
   "metadata": {
    "ExecuteTime": {
     "end_time": "2024-11-15T14:55:05.595697Z",
     "start_time": "2024-11-15T14:55:05.586890Z"
    }
   },
   "outputs": [
    {
     "data": {
      "text/plain": [
       "4"
      ]
     },
     "execution_count": 14,
     "metadata": {},
     "output_type": "execute_result"
    }
   ],
   "source": [
    "6 ^ 2"
   ]
  },
  {
   "cell_type": "raw",
   "id": "5d3c68cc",
   "metadata": {},
   "source": [
    "(2 | 4) > 10 and not True or 8 <= 20"
   ]
  },
  {
   "cell_type": "markdown",
   "id": "1f1742d9",
   "metadata": {
    "ExecuteTime": {
     "end_time": "2024-11-15T17:20:31.764715Z",
     "start_time": "2024-11-15T17:20:31.674613Z"
    }
   },
   "source": [
    "## Bitwise OR"
   ]
  },
  {
   "cell_type": "code",
   "execution_count": 16,
   "id": "3cc081b4",
   "metadata": {
    "ExecuteTime": {
     "end_time": "2024-11-15T17:20:53.169962Z",
     "start_time": "2024-11-15T17:20:53.142769Z"
    }
   },
   "outputs": [
    {
     "data": {
      "text/plain": [
       "6"
      ]
     },
     "execution_count": 16,
     "metadata": {},
     "output_type": "execute_result"
    }
   ],
   "source": [
    "(2 | 4)"
   ]
  },
  {
   "cell_type": "raw",
   "id": "5df0d94d",
   "metadata": {},
   "source": [
    "6 > 10 and not True or 8 <= 20"
   ]
  },
  {
   "cell_type": "markdown",
   "id": "9ab0fbc5",
   "metadata": {},
   "source": [
    "## Comparison Operator (Left to Right)"
   ]
  },
  {
   "cell_type": "code",
   "execution_count": 17,
   "id": "ab4dc9aa",
   "metadata": {
    "ExecuteTime": {
     "end_time": "2024-11-15T17:22:29.946270Z",
     "start_time": "2024-11-15T17:22:29.926607Z"
    }
   },
   "outputs": [
    {
     "data": {
      "text/plain": [
       "False"
      ]
     },
     "execution_count": 17,
     "metadata": {},
     "output_type": "execute_result"
    }
   ],
   "source": [
    "6 > 10"
   ]
  },
  {
   "cell_type": "code",
   "execution_count": 18,
   "id": "bbfa09bd",
   "metadata": {
    "ExecuteTime": {
     "end_time": "2024-11-15T17:22:50.353304Z",
     "start_time": "2024-11-15T17:22:50.334890Z"
    }
   },
   "outputs": [
    {
     "data": {
      "text/plain": [
       "True"
      ]
     },
     "execution_count": 18,
     "metadata": {},
     "output_type": "execute_result"
    }
   ],
   "source": [
    "8 <= 20"
   ]
  },
  {
   "cell_type": "markdown",
   "id": "2ac3a91b",
   "metadata": {},
   "source": [
    "False and not True or True"
   ]
  },
  {
   "cell_type": "markdown",
   "id": "62dd900d",
   "metadata": {},
   "source": [
    "## Logical NOT"
   ]
  },
  {
   "cell_type": "code",
   "execution_count": 19,
   "id": "4006c52a",
   "metadata": {
    "ExecuteTime": {
     "end_time": "2024-11-15T17:55:21.735749Z",
     "start_time": "2024-11-15T17:55:21.725022Z"
    }
   },
   "outputs": [
    {
     "data": {
      "text/plain": [
       "False"
      ]
     },
     "execution_count": 19,
     "metadata": {},
     "output_type": "execute_result"
    }
   ],
   "source": [
    "not True"
   ]
  },
  {
   "cell_type": "raw",
   "id": "75495d3f",
   "metadata": {},
   "source": [
    "False and False or True"
   ]
  },
  {
   "cell_type": "markdown",
   "id": "780508b4",
   "metadata": {},
   "source": [
    "## Logical AND"
   ]
  },
  {
   "cell_type": "code",
   "execution_count": 20,
   "id": "b8cea2e6",
   "metadata": {
    "ExecuteTime": {
     "end_time": "2024-11-15T17:55:57.803400Z",
     "start_time": "2024-11-15T17:55:57.790539Z"
    }
   },
   "outputs": [
    {
     "data": {
      "text/plain": [
       "False"
      ]
     },
     "execution_count": 20,
     "metadata": {},
     "output_type": "execute_result"
    }
   ],
   "source": [
    "False and False"
   ]
  },
  {
   "cell_type": "raw",
   "id": "888721f6",
   "metadata": {
    "ExecuteTime": {
     "end_time": "2024-11-15T17:56:08.439736Z",
     "start_time": "2024-11-15T17:56:08.429292Z"
    }
   },
   "source": [
    "False or True"
   ]
  },
  {
   "cell_type": "markdown",
   "id": "b3c4ef55",
   "metadata": {},
   "source": [
    "## Logical OR"
   ]
  },
  {
   "cell_type": "code",
   "execution_count": 22,
   "id": "354b3599",
   "metadata": {
    "ExecuteTime": {
     "end_time": "2024-11-15T17:56:16.787199Z",
     "start_time": "2024-11-15T17:56:16.777616Z"
    }
   },
   "outputs": [
    {
     "data": {
      "text/plain": [
       "True"
      ]
     },
     "execution_count": 22,
     "metadata": {},
     "output_type": "execute_result"
    }
   ],
   "source": [
    "False or True"
   ]
  },
  {
   "cell_type": "markdown",
   "id": "80d78aa0",
   "metadata": {},
   "source": [
    "# Example"
   ]
  },
  {
   "cell_type": "code",
   "execution_count": 24,
   "id": "93e64d14",
   "metadata": {
    "ExecuteTime": {
     "end_time": "2024-11-15T18:11:47.535376Z",
     "start_time": "2024-11-15T18:11:47.529259Z"
    }
   },
   "outputs": [],
   "source": [
    "result = 3 + 5 * 2 ** 3 - 10 / 2 * 4 + 6 % 3 > 5 and 4 << 1 == 8"
   ]
  },
  {
   "cell_type": "markdown",
   "id": "81ecffb5",
   "metadata": {},
   "source": [
    "## Exponential"
   ]
  },
  {
   "cell_type": "raw",
   "id": "7c3b755f",
   "metadata": {},
   "source": [
    "5 * 2 ** 3"
   ]
  },
  {
   "cell_type": "code",
   "execution_count": 28,
   "id": "b1cdeade",
   "metadata": {
    "ExecuteTime": {
     "end_time": "2024-11-15T18:15:11.470916Z",
     "start_time": "2024-11-15T18:15:11.459413Z"
    }
   },
   "outputs": [
    {
     "data": {
      "text/plain": [
       "8"
      ]
     },
     "execution_count": 28,
     "metadata": {},
     "output_type": "execute_result"
    }
   ],
   "source": [
    "2 ** 3"
   ]
  },
  {
   "cell_type": "raw",
   "id": "a56f5cad",
   "metadata": {},
   "source": [
    "5 * 8"
   ]
  },
  {
   "cell_type": "markdown",
   "id": "3a28d465",
   "metadata": {},
   "source": [
    "## Multiplication, Division, Modulo (Left to Right)"
   ]
  },
  {
   "cell_type": "code",
   "execution_count": 29,
   "id": "c2a9ad47",
   "metadata": {
    "ExecuteTime": {
     "end_time": "2024-11-15T18:15:19.577118Z",
     "start_time": "2024-11-15T18:15:19.563756Z"
    }
   },
   "outputs": [
    {
     "data": {
      "text/plain": [
       "40"
      ]
     },
     "execution_count": 29,
     "metadata": {},
     "output_type": "execute_result"
    }
   ],
   "source": [
    "5 * 8"
   ]
  },
  {
   "cell_type": "markdown",
   "id": "5f7fabe7",
   "metadata": {},
   "source": [
    "3 + 40 - 10 / 2 * 4 + 6 % 3 > 5 and 4 << 1 == 8"
   ]
  },
  {
   "cell_type": "code",
   "execution_count": 30,
   "id": "7a9de07b",
   "metadata": {
    "ExecuteTime": {
     "end_time": "2024-11-15T18:22:59.074990Z",
     "start_time": "2024-11-15T18:22:59.059937Z"
    }
   },
   "outputs": [
    {
     "data": {
      "text/plain": [
       "5.0"
      ]
     },
     "execution_count": 30,
     "metadata": {},
     "output_type": "execute_result"
    }
   ],
   "source": [
    "10 / 2"
   ]
  },
  {
   "cell_type": "raw",
   "id": "bd48b530",
   "metadata": {},
   "source": [
    "5.0 * 4"
   ]
  },
  {
   "cell_type": "code",
   "execution_count": 31,
   "id": "a96b15b4",
   "metadata": {
    "ExecuteTime": {
     "end_time": "2024-11-15T18:23:28.941723Z",
     "start_time": "2024-11-15T18:23:28.933242Z"
    }
   },
   "outputs": [
    {
     "data": {
      "text/plain": [
       "20.0"
      ]
     },
     "execution_count": 31,
     "metadata": {},
     "output_type": "execute_result"
    }
   ],
   "source": [
    "5.0 * 4"
   ]
  },
  {
   "cell_type": "raw",
   "id": "4e9337d1",
   "metadata": {},
   "source": [
    "3 + 40 - 20.0 + 6 % 3 > 5 and 4 << 1 == 8"
   ]
  },
  {
   "cell_type": "code",
   "execution_count": 32,
   "id": "97b16963",
   "metadata": {
    "ExecuteTime": {
     "end_time": "2024-11-15T18:23:57.803249Z",
     "start_time": "2024-11-15T18:23:57.784593Z"
    }
   },
   "outputs": [
    {
     "data": {
      "text/plain": [
       "0"
      ]
     },
     "execution_count": 32,
     "metadata": {},
     "output_type": "execute_result"
    }
   ],
   "source": [
    "6 % 3"
   ]
  },
  {
   "cell_type": "raw",
   "id": "3815367f",
   "metadata": {},
   "source": [
    "3 + 40 - 20.0 + 0 > 5 and 4 << 1 == 8"
   ]
  },
  {
   "cell_type": "markdown",
   "id": "66ae2029",
   "metadata": {},
   "source": [
    "## Addition, Subtration (Left to Right)"
   ]
  },
  {
   "cell_type": "raw",
   "id": "062a9357",
   "metadata": {},
   "source": [
    "3 + 40 - 20.0 + 0"
   ]
  },
  {
   "cell_type": "code",
   "execution_count": 33,
   "id": "13ec10c1",
   "metadata": {
    "ExecuteTime": {
     "end_time": "2024-11-15T18:26:49.864305Z",
     "start_time": "2024-11-15T18:26:49.843562Z"
    }
   },
   "outputs": [
    {
     "data": {
      "text/plain": [
       "43"
      ]
     },
     "execution_count": 33,
     "metadata": {},
     "output_type": "execute_result"
    }
   ],
   "source": [
    "3 + 40"
   ]
  },
  {
   "cell_type": "code",
   "execution_count": 34,
   "id": "b5f1d626",
   "metadata": {
    "ExecuteTime": {
     "end_time": "2024-11-15T18:26:56.444005Z",
     "start_time": "2024-11-15T18:26:56.433684Z"
    }
   },
   "outputs": [
    {
     "data": {
      "text/plain": [
       "23.0"
      ]
     },
     "execution_count": 34,
     "metadata": {},
     "output_type": "execute_result"
    }
   ],
   "source": [
    "43 - 20.0"
   ]
  },
  {
   "cell_type": "raw",
   "id": "57ac8086",
   "metadata": {},
   "source": [
    "23.0 > 5 and 4 << 1 == 8"
   ]
  },
  {
   "cell_type": "markdown",
   "id": "3b37a26c",
   "metadata": {},
   "source": [
    "## Bitwise Left shift"
   ]
  },
  {
   "cell_type": "code",
   "execution_count": 35,
   "id": "64aa0d8d",
   "metadata": {
    "ExecuteTime": {
     "end_time": "2024-11-15T18:27:55.106015Z",
     "start_time": "2024-11-15T18:27:55.096071Z"
    }
   },
   "outputs": [
    {
     "data": {
      "text/plain": [
       "8"
      ]
     },
     "execution_count": 35,
     "metadata": {},
     "output_type": "execute_result"
    }
   ],
   "source": [
    "4 << 1"
   ]
  },
  {
   "cell_type": "raw",
   "id": "e85aaca9",
   "metadata": {},
   "source": [
    "23.0 > 5 and 8 == 8"
   ]
  },
  {
   "cell_type": "markdown",
   "id": "ebdd9710",
   "metadata": {},
   "source": [
    "## Comparisson "
   ]
  },
  {
   "cell_type": "code",
   "execution_count": 36,
   "id": "241280f1",
   "metadata": {
    "ExecuteTime": {
     "end_time": "2024-11-15T18:28:31.599494Z",
     "start_time": "2024-11-15T18:28:31.589954Z"
    }
   },
   "outputs": [
    {
     "data": {
      "text/plain": [
       "True"
      ]
     },
     "execution_count": 36,
     "metadata": {},
     "output_type": "execute_result"
    }
   ],
   "source": [
    "23.0 > 5"
   ]
  },
  {
   "cell_type": "code",
   "execution_count": 37,
   "id": "99940bcc",
   "metadata": {
    "ExecuteTime": {
     "end_time": "2024-11-15T18:28:36.720289Z",
     "start_time": "2024-11-15T18:28:36.710701Z"
    }
   },
   "outputs": [
    {
     "data": {
      "text/plain": [
       "True"
      ]
     },
     "execution_count": 37,
     "metadata": {},
     "output_type": "execute_result"
    }
   ],
   "source": [
    "8 == 8"
   ]
  },
  {
   "cell_type": "raw",
   "id": "72041b51",
   "metadata": {},
   "source": [
    "True and True"
   ]
  },
  {
   "cell_type": "markdown",
   "id": "73880f2a",
   "metadata": {},
   "source": [
    "## Logical AND"
   ]
  },
  {
   "cell_type": "code",
   "execution_count": 38,
   "id": "fdb806b8",
   "metadata": {
    "ExecuteTime": {
     "end_time": "2024-11-15T18:29:14.806804Z",
     "start_time": "2024-11-15T18:29:14.796716Z"
    }
   },
   "outputs": [
    {
     "data": {
      "text/plain": [
       "True"
      ]
     },
     "execution_count": 38,
     "metadata": {},
     "output_type": "execute_result"
    }
   ],
   "source": [
    "True and True"
   ]
  },
  {
   "cell_type": "markdown",
   "id": "1a372e34",
   "metadata": {},
   "source": [
    "# Exercise"
   ]
  },
  {
   "cell_type": "code",
   "execution_count": 39,
   "id": "74653fa0",
   "metadata": {
    "ExecuteTime": {
     "end_time": "2024-11-15T18:30:16.136065Z",
     "start_time": "2024-11-15T18:30:16.117566Z"
    }
   },
   "outputs": [],
   "source": [
    "result = (6 + 3 * 2 ** 2 - 10 // 3 * 4) & 7 | 8 ^ 2\n",
    "Answer = 14"
   ]
  },
  {
   "cell_type": "code",
   "execution_count": 40,
   "id": "4b5bca3b",
   "metadata": {
    "ExecuteTime": {
     "end_time": "2024-11-15T18:30:41.894308Z",
     "start_time": "2024-11-15T18:30:41.884263Z"
    }
   },
   "outputs": [],
   "source": [
    "result = (8 + 6 * 3 - 10 // 3 * 4) <= 20 or 5 == 5 and 4 > 2\n",
    "Answer = True"
   ]
  },
  {
   "cell_type": "code",
   "execution_count": 41,
   "id": "b50d83d8",
   "metadata": {
    "ExecuteTime": {
     "end_time": "2024-11-15T18:31:02.833881Z",
     "start_time": "2024-11-15T18:31:02.824670Z"
    }
   },
   "outputs": [],
   "source": [
    "result = 3 + 5 * (2 ** 3 - 10 // 2) % 3 | (5 ^ 3) and 2 <= 4\n",
    "Answer = True"
   ]
  },
  {
   "cell_type": "code",
   "execution_count": 42,
   "id": "3e141deb",
   "metadata": {
    "ExecuteTime": {
     "end_time": "2024-11-15T18:31:20.645031Z",
     "start_time": "2024-11-15T18:31:20.624534Z"
    }
   },
   "outputs": [],
   "source": [
    "result = not (5 == 5) and (3 > 2 or 6 == 6) or (10 // 2) != 5\n",
    "Answer = False"
   ]
  },
  {
   "cell_type": "code",
   "execution_count": 43,
   "id": "8b489d28",
   "metadata": {
    "ExecuteTime": {
     "end_time": "2024-11-15T18:31:41.993289Z",
     "start_time": "2024-11-15T18:31:41.988490Z"
    }
   },
   "outputs": [],
   "source": [
    "result = (10 + 2 * 5 ** 2 - 3 // 2) == 11 and (4 << 1) > 3\n",
    "Answer = False"
   ]
  },
  {
   "cell_type": "code",
   "execution_count": 44,
   "id": "1fcd7358",
   "metadata": {
    "ExecuteTime": {
     "end_time": "2024-11-15T18:31:58.062578Z",
     "start_time": "2024-11-15T18:31:58.058230Z"
    }
   },
   "outputs": [],
   "source": [
    "result = 6 / 2 + (5 * 4) % 3 == 2 and not (4 > 3) or 2 != 3\n",
    "Answer = True"
   ]
  },
  {
   "cell_type": "code",
   "execution_count": 45,
   "id": "b8e46f2f",
   "metadata": {
    "ExecuteTime": {
     "end_time": "2024-11-15T18:32:40.302259Z",
     "start_time": "2024-11-15T18:32:40.297245Z"
    }
   },
   "outputs": [],
   "source": [
    "result = (10 + 5 * (2 ** 2)) // 3 == 4 and 5 & 3 | 6 ^ 2\n",
    "Answer = False"
   ]
  },
  {
   "cell_type": "code",
   "execution_count": 46,
   "id": "3897d360",
   "metadata": {
    "ExecuteTime": {
     "end_time": "2024-11-15T18:32:58.302258Z",
     "start_time": "2024-11-15T18:32:58.296592Z"
    }
   },
   "outputs": [],
   "source": [
    "result = 7 * (2 + 5) // 3 % 2 > 3 or (5 ** 2) <= 25\n",
    "Answer = True"
   ]
  },
  {
   "cell_type": "code",
   "execution_count": 47,
   "id": "61a4c909",
   "metadata": {
    "ExecuteTime": {
     "end_time": "2024-11-15T18:33:18.755946Z",
     "start_time": "2024-11-15T18:33:18.750825Z"
    }
   },
   "outputs": [],
   "source": [
    "result = not (10 > 2 and 5 == 5) or 4 >> 1\n",
    "Answer = 1"
   ]
  },
  {
   "cell_type": "code",
   "execution_count": 48,
   "id": "955c8961",
   "metadata": {
    "ExecuteTime": {
     "end_time": "2024-11-15T18:33:51.051391Z",
     "start_time": "2024-11-15T18:33:51.046365Z"
    }
   },
   "outputs": [],
   "source": [
    "result = 3 + 5 * 2 ** (4 // 2) - 7 & 3 | 6 ^ 2"
   ]
  },
  {
   "cell_type": "code",
   "execution_count": 49,
   "id": "28239759",
   "metadata": {
    "ExecuteTime": {
     "end_time": "2024-11-15T18:33:59.008149Z",
     "start_time": "2024-11-15T18:33:58.997078Z"
    }
   },
   "outputs": [],
   "source": [
    "result = 10 / 2 * 3 - 5 + 7 % 3 == 4 and (4 << 1) > 3"
   ]
  },
  {
   "cell_type": "code",
   "execution_count": 50,
   "id": "c78d2672",
   "metadata": {
    "ExecuteTime": {
     "end_time": "2024-11-15T18:34:06.556741Z",
     "start_time": "2024-11-15T18:34:06.549474Z"
    }
   },
   "outputs": [],
   "source": [
    "result = (5 + 3 * 2) ** 2 - 10 // 2 and 7 & 3 == 2"
   ]
  },
  {
   "cell_type": "code",
   "execution_count": 52,
   "id": "6e8f2ca5",
   "metadata": {
    "ExecuteTime": {
     "end_time": "2024-11-15T18:34:16.707323Z",
     "start_time": "2024-11-15T18:34:16.701767Z"
    }
   },
   "outputs": [],
   "source": [
    "result = (3 > 2 or 5 < 4) and 4 * 2 - 10 // 3 + 5 % 2"
   ]
  },
  {
   "cell_type": "code",
   "execution_count": 53,
   "id": "df02415d",
   "metadata": {
    "ExecuteTime": {
     "end_time": "2024-11-15T18:34:27.552364Z",
     "start_time": "2024-11-15T18:34:27.548245Z"
    }
   },
   "outputs": [],
   "source": [
    "result = 6 ^ 2 + 3 * 4 - (10 // 2) | 5 & 3"
   ]
  },
  {
   "cell_type": "code",
   "execution_count": 54,
   "id": "5b0a1adc",
   "metadata": {
    "ExecuteTime": {
     "end_time": "2024-11-15T18:34:59.400278Z",
     "start_time": "2024-11-15T18:34:59.395260Z"
    }
   },
   "outputs": [],
   "source": [
    "result = not 4 == 4 and (7 + 3 * 2) // 2"
   ]
  },
  {
   "cell_type": "code",
   "execution_count": 55,
   "id": "c014fde2",
   "metadata": {
    "ExecuteTime": {
     "end_time": "2024-11-15T18:36:06.324748Z",
     "start_time": "2024-11-15T18:36:06.316684Z"
    }
   },
   "outputs": [],
   "source": [
    "result = (10 // 2 + 3 * 5) % 4 and 5 & 2 or 3 ^ 2"
   ]
  },
  {
   "cell_type": "code",
   "execution_count": 56,
   "id": "e535bc0c",
   "metadata": {
    "ExecuteTime": {
     "end_time": "2024-11-15T18:36:15.671004Z",
     "start_time": "2024-11-15T18:36:15.654975Z"
    }
   },
   "outputs": [],
   "source": [
    "result = 10 ** 2 + (5 - 3) * 4 // 2 and 5 <= 3 or 6 != 6"
   ]
  },
  {
   "cell_type": "code",
   "execution_count": 57,
   "id": "83d80d06",
   "metadata": {
    "ExecuteTime": {
     "end_time": "2024-11-15T18:36:20.556979Z",
     "start_time": "2024-11-15T18:36:20.550541Z"
    }
   },
   "outputs": [],
   "source": [
    "result = 6 + (8 * 2) // 3 % 5 and not (5 == 5) or 7 > 5"
   ]
  },
  {
   "cell_type": "code",
   "execution_count": 58,
   "id": "ca825388",
   "metadata": {
    "ExecuteTime": {
     "end_time": "2024-11-15T18:36:25.945273Z",
     "start_time": "2024-11-15T18:36:25.935891Z"
    }
   },
   "outputs": [],
   "source": [
    "result = 5 * 2 - (3 + 7) % 4 and 4 << 1 or 6 >> 2"
   ]
  },
  {
   "cell_type": "code",
   "execution_count": null,
   "id": "37f31b43",
   "metadata": {},
   "outputs": [],
   "source": []
  }
 ],
 "metadata": {
  "kernelspec": {
   "display_name": "Python 3 (ipykernel)",
   "language": "python",
   "name": "python3"
  },
  "language_info": {
   "codemirror_mode": {
    "name": "ipython",
    "version": 3
   },
   "file_extension": ".py",
   "mimetype": "text/x-python",
   "name": "python",
   "nbconvert_exporter": "python",
   "pygments_lexer": "ipython3",
   "version": "3.8.13"
  },
  "toc": {
   "base_numbering": 1,
   "nav_menu": {},
   "number_sections": true,
   "sideBar": true,
   "skip_h1_title": false,
   "title_cell": "Table of Contents",
   "title_sidebar": "Contents",
   "toc_cell": true,
   "toc_position": {},
   "toc_section_display": true,
   "toc_window_display": true
  }
 },
 "nbformat": 4,
 "nbformat_minor": 5
}
