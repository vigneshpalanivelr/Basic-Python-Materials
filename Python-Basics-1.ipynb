{
 "cells": [
  {
   "cell_type": "markdown",
   "metadata": {
    "toc": true
   },
   "source": [
    "<h1>Table of Contents<span class=\"tocSkip\"></span></h1>\n",
    "<div class=\"toc\"><ul class=\"toc-item\"><li><span><a href=\"#Language-Fundamentals\" data-toc-modified-id=\"Language-Fundamentals-1\"><span class=\"toc-item-num\">1&nbsp;&nbsp;</span>Language Fundamentals</a></span><ul class=\"toc-item\"><li><span><a href=\"#Identifiers-of-Python\" data-toc-modified-id=\"Identifiers-of-Python-1.1\"><span class=\"toc-item-num\">1.1&nbsp;&nbsp;</span>Identifiers of Python</a></span></li><li><span><a href=\"#Reserved-Words-in-Python\" data-toc-modified-id=\"Reserved-Words-in-Python-1.2\"><span class=\"toc-item-num\">1.2&nbsp;&nbsp;</span>Reserved Words in Python</a></span></li><li><span><a href=\"#Fundamental-datatypes-in-Python\" data-toc-modified-id=\"Fundamental-datatypes-in-Python-1.3\"><span class=\"toc-item-num\">1.3&nbsp;&nbsp;</span>Fundamental datatypes in Python</a></span><ul class=\"toc-item\"><li><span><a href=\"#Integer-Datatype\" data-toc-modified-id=\"Integer-Datatype-1.3.1\"><span class=\"toc-item-num\">1.3.1&nbsp;&nbsp;</span>Integer Datatype</a></span></li><li><span><a href=\"#Float-Datatype\" data-toc-modified-id=\"Float-Datatype-1.3.2\"><span class=\"toc-item-num\">1.3.2&nbsp;&nbsp;</span>Float Datatype</a></span></li><li><span><a href=\"#Complex-Datatype\" data-toc-modified-id=\"Complex-Datatype-1.3.3\"><span class=\"toc-item-num\">1.3.3&nbsp;&nbsp;</span>Complex Datatype</a></span></li><li><span><a href=\"#Boolean-Datatype\" data-toc-modified-id=\"Boolean-Datatype-1.3.4\"><span class=\"toc-item-num\">1.3.4&nbsp;&nbsp;</span>Boolean Datatype</a></span></li><li><span><a href=\"#String-Datatype\" data-toc-modified-id=\"String-Datatype-1.3.5\"><span class=\"toc-item-num\">1.3.5&nbsp;&nbsp;</span>String Datatype</a></span></li><li><span><a href=\"#Type-Casting-(float-&amp;-int)\" data-toc-modified-id=\"Type-Casting-(float-&amp;-int)-1.3.6\"><span class=\"toc-item-num\">1.3.6&nbsp;&nbsp;</span>Type Casting (float &amp; int)</a></span></li><li><span><a href=\"#Type-Casting-(complex-&amp;-bool-&amp;-str)\" data-toc-modified-id=\"Type-Casting-(complex-&amp;-bool-&amp;-str)-1.3.7\"><span class=\"toc-item-num\">1.3.7&nbsp;&nbsp;</span>Type Casting (complex &amp; bool &amp; str)</a></span></li><li><span><a href=\"#Mutable-and-Immutable\" data-toc-modified-id=\"Mutable-and-Immutable-1.3.8\"><span class=\"toc-item-num\">1.3.8&nbsp;&nbsp;</span>Mutable and Immutable</a></span></li></ul></li><li><span><a href=\"#Advanced-datatypes-in-Python\" data-toc-modified-id=\"Advanced-datatypes-in-Python-1.4\"><span class=\"toc-item-num\">1.4&nbsp;&nbsp;</span>Advanced datatypes in Python</a></span><ul class=\"toc-item\"><li><span><a href=\"#Bytes-and-Bytearray-Datatype\" data-toc-modified-id=\"Bytes-and-Bytearray-Datatype-1.4.1\"><span class=\"toc-item-num\">1.4.1&nbsp;&nbsp;</span>Bytes and Bytearray Datatype</a></span></li><li><span><a href=\"#List-and-Tuple-Datatype\" data-toc-modified-id=\"List-and-Tuple-Datatype-1.4.2\"><span class=\"toc-item-num\">1.4.2&nbsp;&nbsp;</span>List and Tuple Datatype</a></span></li><li><span><a href=\"#Range-Datatype\" data-toc-modified-id=\"Range-Datatype-1.4.3\"><span class=\"toc-item-num\">1.4.3&nbsp;&nbsp;</span>Range Datatype</a></span></li><li><span><a href=\"#Set-and-Frozen-Set\" data-toc-modified-id=\"Set-and-Frozen-Set-1.4.4\"><span class=\"toc-item-num\">1.4.4&nbsp;&nbsp;</span>Set and Frozen Set</a></span></li><li><span><a href=\"#Dict-Datatype\" data-toc-modified-id=\"Dict-Datatype-1.4.5\"><span class=\"toc-item-num\">1.4.5&nbsp;&nbsp;</span>Dict Datatype</a></span></li><li><span><a href=\"#None-Datatype\" data-toc-modified-id=\"None-Datatype-1.4.6\"><span class=\"toc-item-num\">1.4.6&nbsp;&nbsp;</span>None Datatype</a></span></li></ul></li><li><span><a href=\"#Operators\" data-toc-modified-id=\"Operators-1.5\"><span class=\"toc-item-num\">1.5&nbsp;&nbsp;</span>Operators</a></span><ul class=\"toc-item\"><li><span><a href=\"#Arithmatic-Operator\" data-toc-modified-id=\"Arithmatic-Operator-1.5.1\"><span class=\"toc-item-num\">1.5.1&nbsp;&nbsp;</span>Arithmatic Operator</a></span></li><li><span><a href=\"#Comparison-or-Relational-Operator\" data-toc-modified-id=\"Comparison-or-Relational-Operator-1.5.2\"><span class=\"toc-item-num\">1.5.2&nbsp;&nbsp;</span>Comparison or Relational Operator</a></span></li><li><span><a href=\"#Equality-Operator\" data-toc-modified-id=\"Equality-Operator-1.5.3\"><span class=\"toc-item-num\">1.5.3&nbsp;&nbsp;</span>Equality Operator</a></span></li><li><span><a href=\"#Logical-or-Boolean-Operator\" data-toc-modified-id=\"Logical-or-Boolean-Operator-1.5.4\"><span class=\"toc-item-num\">1.5.4&nbsp;&nbsp;</span>Logical or Boolean Operator</a></span></li><li><span><a href=\"#Bitwise-Operator\" data-toc-modified-id=\"Bitwise-Operator-1.5.5\"><span class=\"toc-item-num\">1.5.5&nbsp;&nbsp;</span>Bitwise Operator</a></span></li><li><span><a href=\"#Assignment-Operator\" data-toc-modified-id=\"Assignment-Operator-1.5.6\"><span class=\"toc-item-num\">1.5.6&nbsp;&nbsp;</span>Assignment Operator</a></span></li><li><span><a href=\"#Ternary-Operator\" data-toc-modified-id=\"Ternary-Operator-1.5.7\"><span class=\"toc-item-num\">1.5.7&nbsp;&nbsp;</span>Ternary Operator</a></span></li><li><span><a href=\"#Identity-Operator\" data-toc-modified-id=\"Identity-Operator-1.5.8\"><span class=\"toc-item-num\">1.5.8&nbsp;&nbsp;</span>Identity Operator</a></span></li><li><span><a href=\"#Membership-Operator\" data-toc-modified-id=\"Membership-Operator-1.5.9\"><span class=\"toc-item-num\">1.5.9&nbsp;&nbsp;</span>Membership Operator</a></span></li><li><span><a href=\"#Operator-Precedence\" data-toc-modified-id=\"Operator-Precedence-1.5.10\"><span class=\"toc-item-num\">1.5.10&nbsp;&nbsp;</span>Operator Precedence</a></span></li></ul></li><li><span><a href=\"#List-of-In-Built-Functions\" data-toc-modified-id=\"List-of-In-Built-Functions-1.6\"><span class=\"toc-item-num\">1.6&nbsp;&nbsp;</span>List of In-Built Functions</a></span><ul class=\"toc-item\"><li><span><a href=\"#Input-Function\" data-toc-modified-id=\"Input-Function-1.6.1\"><span class=\"toc-item-num\">1.6.1&nbsp;&nbsp;</span>Input Function</a></span></li><li><span><a href=\"#Eval-Function\" data-toc-modified-id=\"Eval-Function-1.6.2\"><span class=\"toc-item-num\">1.6.2&nbsp;&nbsp;</span>Eval Function</a></span></li><li><span><a href=\"#Print-function\" data-toc-modified-id=\"Print-function-1.6.3\"><span class=\"toc-item-num\">1.6.3&nbsp;&nbsp;</span>Print function</a></span></li></ul></li><li><span><a href=\"#Flow-Control\" data-toc-modified-id=\"Flow-Control-1.7\"><span class=\"toc-item-num\">1.7&nbsp;&nbsp;</span>Flow Control</a></span><ul class=\"toc-item\"><li><span><a href=\"#Conditional-Statments-or-Selection-Statements\" data-toc-modified-id=\"Conditional-Statments-or-Selection-Statements-1.7.1\"><span class=\"toc-item-num\">1.7.1&nbsp;&nbsp;</span>Conditional Statments or Selection Statements</a></span></li><li><span><a href=\"#Iterative-Statments-or-Loops-Statements\" data-toc-modified-id=\"Iterative-Statments-or-Loops-Statements-1.7.2\"><span class=\"toc-item-num\">1.7.2&nbsp;&nbsp;</span>Iterative Statments or Loops Statements</a></span></li><li><span><a href=\"#Transfer-Statement\" data-toc-modified-id=\"Transfer-Statement-1.7.3\"><span class=\"toc-item-num\">1.7.3&nbsp;&nbsp;</span>Transfer Statement</a></span></li></ul></li></ul></li></ul></div>"
   ]
  },
  {
   "cell_type": "markdown",
   "metadata": {},
   "source": [
    "# Language Fundamentals\n",
    "## Identifiers of Python\n",
    "Identifier can be<br>\n",
    "**- Variable Name**<br>\n",
    "**- Class Name**<br>\n",
    "**- Method Name**<br>\n",
    "**- Function Name , etc...**<br>\n",
    "\n",
    "**Rules of Identifiers**<br>\n",
    "`1) Upper Case A - Z`<br>\n",
    "`2) Lower Case a - z`<br>\n",
    "`3) Numbers    0 - 9`<br>\n",
    "`4) Underscores  _`<br>\n",
    "\n",
    "    • Identifiers are case sensitive\n",
    "\t• Identifiers should not start with Numbers\n",
    "\t• Identifiers should not contain special characters\n",
    "    • Identifiers should not contain keywords\n",
    "    • Identifiers length is unlimited (rule set by the PEP-8 - 79 Charecters)\n",
    "\n",
    "Private &emsp;&emsp;&emsp;&emsp;&emsp;&emsp;&emsp;&emsp;&emsp;&emsp;: If identifiers start with '\\_'<br>\n",
    "Strongly Private &emsp;&emsp;&emsp;&emsp;&emsp;&emsp;: If identifiers start with '_ \\_'<br>\n",
    "Language Specific Identifiers   : If identifiers start with '_ \\_'  and ends with '_ \\_'<br>\n",
    "\n",
    "**Check an identifier**<br>\n",
    "`5) 'str'.isidentifier()`\n",
    "\n",
    "**Error Message**<br>\n",
    "`6) SyntaxError`"
   ]
  },
  {
   "cell_type": "code",
   "execution_count": 1,
   "metadata": {
    "ExecuteTime": {
     "end_time": "2022-09-24T14:27:38.084405Z",
     "start_time": "2022-09-24T14:27:38.065883Z"
    }
   },
   "outputs": [],
   "source": [
    "total  = 100                                                      #Case sensitive\n",
    "Total  = 1                                                        #Case sensitive\n",
    "TOTAL  = 10                                                       #Case sensitive\n",
    "_total = 1000                                                     #Private variable\n",
    "_to_12 = 200                                                      #Private variable\n",
    "avanvenvqovnaokvnqoevnoeka_povnqproginq3rpvon = 500               #Unlimited variable length"
   ]
  },
  {
   "cell_type": "code",
   "execution_count": 2,
   "metadata": {
    "ExecuteTime": {
     "end_time": "2022-09-24T13:39:33.788033Z",
     "start_time": "2022-09-24T13:39:33.779599Z"
    },
    "deletable": false,
    "editable": false,
    "run_control": {
     "frozen": true
    }
   },
   "outputs": [
    {
     "ename": "SyntaxError",
     "evalue": "invalid decimal literal (2381741919.py, line 1)",
     "output_type": "error",
     "traceback": [
      "\u001b[0;36m  Input \u001b[0;32mIn [2]\u001b[0;36m\u001b[0m\n\u001b[0;31m    123_to_ = 500                                                     #Should Not start with Numbers\u001b[0m\n\u001b[0m       ^\u001b[0m\n\u001b[0;31mSyntaxError\u001b[0m\u001b[0;31m:\u001b[0m invalid decimal literal\n"
     ]
    }
   ],
   "source": [
    "123_to_ = 500                                                     #Should Not start with Numbers"
   ]
  },
  {
   "cell_type": "code",
   "execution_count": 2,
   "metadata": {
    "ExecuteTime": {
     "end_time": "2022-09-24T13:40:25.830478Z",
     "start_time": "2022-09-24T13:40:25.822068Z"
    },
    "deletable": false,
    "editable": false,
    "run_control": {
     "frozen": true
    }
   },
   "outputs": [
    {
     "ename": "SyntaxError",
     "evalue": "invalid syntax (192556457.py, line 1)",
     "output_type": "error",
     "traceback": [
      "\u001b[0;36m  Input \u001b[0;32mIn [2]\u001b[0;36m\u001b[0m\n\u001b[0;31m    ca$h    = 500                                                     #Should Not have specialcharecters except _(underscore)\u001b[0m\n\u001b[0m      ^\u001b[0m\n\u001b[0;31mSyntaxError\u001b[0m\u001b[0;31m:\u001b[0m invalid syntax\n"
     ]
    }
   ],
   "source": [
    "ca$h    = 500                                                     #Should Not have specialcharecters except _(underscore)"
   ]
  },
  {
   "cell_type": "code",
   "execution_count": 2,
   "metadata": {
    "ExecuteTime": {
     "end_time": "2022-09-24T13:43:01.786322Z",
     "start_time": "2022-09-24T13:43:01.775506Z"
    },
    "deletable": false,
    "editable": false,
    "run_control": {
     "frozen": true
    }
   },
   "outputs": [
    {
     "ename": "SyntaxError",
     "evalue": "invalid syntax (1186232186.py, line 1)",
     "output_type": "error",
     "traceback": [
      "\u001b[0;36m  Input \u001b[0;32mIn [2]\u001b[0;36m\u001b[0m\n\u001b[0;31m    if=20                                                             #Should Not have reserved words\u001b[0m\n\u001b[0m      ^\u001b[0m\n\u001b[0;31mSyntaxError\u001b[0m\u001b[0;31m:\u001b[0m invalid syntax\n"
     ]
    }
   ],
   "source": [
    "if=20                                                             #Should Not have reserved words"
   ]
  },
  {
   "cell_type": "code",
   "execution_count": 2,
   "metadata": {
    "ExecuteTime": {
     "end_time": "2022-09-24T13:43:42.441945Z",
     "start_time": "2022-09-24T13:43:42.436261Z"
    },
    "deletable": false,
    "editable": false,
    "run_control": {
     "frozen": true
    }
   },
   "outputs": [
    {
     "ename": "SyntaxError",
     "evalue": "invalid syntax (2992769221.py, line 1)",
     "output_type": "error",
     "traceback": [
      "\u001b[0;36m  Input \u001b[0;32mIn [2]\u001b[0;36m\u001b[0m\n\u001b[0;31m    def=100                                                           #Should Not have reserved words\u001b[0m\n\u001b[0m       ^\u001b[0m\n\u001b[0;31mSyntaxError\u001b[0m\u001b[0;31m:\u001b[0m invalid syntax\n"
     ]
    }
   ],
   "source": [
    "def=100                                                           #Should Not have reserved words"
   ]
  },
  {
   "cell_type": "code",
   "execution_count": 2,
   "metadata": {
    "ExecuteTime": {
     "end_time": "2022-09-24T14:27:38.128072Z",
     "start_time": "2022-09-24T14:27:38.098833Z"
    }
   },
   "outputs": [
    {
     "data": {
      "text/plain": [
       "True"
      ]
     },
     "execution_count": 2,
     "metadata": {},
     "output_type": "execute_result"
    }
   ],
   "source": [
    "'_total'.isidentifier()"
   ]
  },
  {
   "cell_type": "code",
   "execution_count": 3,
   "metadata": {
    "ExecuteTime": {
     "end_time": "2022-09-24T14:27:38.143620Z",
     "start_time": "2022-09-24T14:27:38.133917Z"
    }
   },
   "outputs": [
    {
     "data": {
      "text/plain": [
       "False"
      ]
     },
     "execution_count": 3,
     "metadata": {},
     "output_type": "execute_result"
    }
   ],
   "source": [
    "'123_to_'.isidentifier()"
   ]
  },
  {
   "cell_type": "code",
   "execution_count": 4,
   "metadata": {
    "ExecuteTime": {
     "end_time": "2022-09-24T14:27:38.160092Z",
     "start_time": "2022-09-24T14:27:38.152103Z"
    }
   },
   "outputs": [
    {
     "data": {
      "text/plain": [
       "False"
      ]
     },
     "execution_count": 4,
     "metadata": {},
     "output_type": "execute_result"
    }
   ],
   "source": [
    "'ca$h'.isidentifier()"
   ]
  },
  {
   "cell_type": "code",
   "execution_count": 5,
   "metadata": {
    "ExecuteTime": {
     "end_time": "2022-09-24T14:27:38.175327Z",
     "start_time": "2022-09-24T14:27:38.165086Z"
    },
    "scrolled": true
   },
   "outputs": [
    {
     "data": {
      "text/plain": [
       "True"
      ]
     },
     "execution_count": 5,
     "metadata": {},
     "output_type": "execute_result"
    }
   ],
   "source": [
    "'def'.isidentifier()"
   ]
  },
  {
   "cell_type": "markdown",
   "metadata": {},
   "source": [
    "## Reserved Words in Python\n",
    "Reserved words cannot be used as an **Identifier, Variables, Classes and Functions**<br>\n",
    "\n",
    "**Rules of Reserved / KeyWords**<br>\n",
    "`1) There are 33 keywords`<br>\n",
    "`2) All Contains only alphabets`<br>\n",
    "`3) Only 3 Words will have Upper case letter (True | False | None)`<br>\n",
    "`4) Python not having below keyword`<br>\n",
    "\n",
    "        • Switch | Do-While | Throws | Catch |Modifiers | Static\n",
    "        • Throw -> Raise\n",
    "        • Catch -> Except\n",
    "\n",
    "**List all KeyWord**<br>\n",
    "`5) import keyword;keyword.kwlist;`\n",
    "\n",
    "**Check an keyword**<br>\n",
    "`6) import keyword;keyword.iskeyword('KeyWord')`"
   ]
  },
  {
   "cell_type": "code",
   "execution_count": 6,
   "metadata": {
    "ExecuteTime": {
     "end_time": "2022-09-24T14:27:38.211444Z",
     "start_time": "2022-09-24T14:27:38.201528Z"
    }
   },
   "outputs": [
    {
     "name": "stdout",
     "output_type": "stream",
     "text": [
      "{\n",
      "    \"Annonymous\": [\n",
      "        \"lambda\",\n",
      "        \"del\",\n",
      "        \"with\"\n",
      "    ],\n",
      "    \"Boolean\": [\n",
      "        \"True\",\n",
      "        \"False\",\n",
      "        \"None\"\n",
      "    ],\n",
      "    \"Conditional\": [\n",
      "        \"if\",\n",
      "        \"elif\",\n",
      "        \"else\"\n",
      "    ],\n",
      "    \"Exceptional\": [\n",
      "        \"try\",\n",
      "        \"except\",\n",
      "        \"finally\",\n",
      "        \"raise\",\n",
      "        \"assert\"\n",
      "    ],\n",
      "    \"Import\": [\n",
      "        \"import\",\n",
      "        \"from\",\n",
      "        \"as\"\n",
      "    ],\n",
      "    \"Logical\": [\n",
      "        \"and\",\n",
      "        \"or\",\n",
      "        \"not\",\n",
      "        \"is\"\n",
      "    ],\n",
      "    \"Looping\": [\n",
      "        \"while\",\n",
      "        \"for\",\n",
      "        \"continue\",\n",
      "        \"break\",\n",
      "        \"return\",\n",
      "        \"yeild\",\n",
      "        \"in\"\n",
      "    ],\n",
      "    \"Methods Fuc\": [\n",
      "        \"class\",\n",
      "        \"def\",\n",
      "        \"global\",\n",
      "        \"nonlocal\",\n",
      "        \"pass\"\n",
      "    ]\n",
      "}\n"
     ]
    }
   ],
   "source": [
    "import json\n",
    "keyword = {\n",
    "    'Boolean'    : ['True','False','None'],\n",
    "    'Logical'    : ['and','or','not','is'],\n",
    "    'Conditional': ['if','elif','else'],\n",
    "    'Looping'    : ['while','for','continue','break','return','yeild','in'],\n",
    "    'Exceptional': ['try','except','finally','raise','assert'],\n",
    "    'Methods Fuc': ['class','def','global','nonlocal','pass'],\n",
    "    'Import'     : ['import','from','as'],\n",
    "    'Annonymous' : ['lambda','del','with']\n",
    "}\n",
    "\n",
    "print(json.dumps(keyword,sort_keys=True,indent=4))                #Listing all the keywords in python"
   ]
  },
  {
   "cell_type": "code",
   "execution_count": 7,
   "metadata": {
    "ExecuteTime": {
     "end_time": "2022-09-24T14:27:38.227311Z",
     "start_time": "2022-09-24T14:27:38.217399Z"
    }
   },
   "outputs": [
    {
     "data": {
      "text/plain": [
       "True"
      ]
     },
     "execution_count": 7,
     "metadata": {},
     "output_type": "execute_result"
    }
   ],
   "source": [
    "import keyword;keyword.iskeyword('with')                          #Check the given work is keyword or not"
   ]
  },
  {
   "cell_type": "code",
   "execution_count": 8,
   "metadata": {
    "ExecuteTime": {
     "end_time": "2022-09-24T14:27:38.245217Z",
     "start_time": "2022-09-24T14:27:38.235555Z"
    },
    "scrolled": true
   },
   "outputs": [
    {
     "data": {
      "text/plain": [
       "False"
      ]
     },
     "execution_count": 8,
     "metadata": {},
     "output_type": "execute_result"
    }
   ],
   "source": [
    "import keyword;keyword.iskeyword('With')                          #Check the given work is keyword or not"
   ]
  },
  {
   "cell_type": "markdown",
   "metadata": {},
   "source": [
    "## Fundamental datatypes in Python\n",
    "**Types**<br>\n",
    "    * Fundamental Datatype\n",
    "    * Advanced Datatype\n",
    "\n",
    "**Rules of Datatype**<br>\n",
    "    * Dynamically Typed Programming Language (datatype will be assigned automatically)\n",
    "    * long keyword is not available in Python 3.X (only available in Python 2.X)\n",
    "    * In python everything is OBJECTS()"
   ]
  },
  {
   "cell_type": "code",
   "execution_count": 9,
   "metadata": {
    "ExecuteTime": {
     "end_time": "2022-09-24T14:27:38.262502Z",
     "start_time": "2022-09-24T14:27:38.252359Z"
    }
   },
   "outputs": [
    {
     "name": "stdout",
     "output_type": "stream",
     "text": [
      "{'bool', 'int', 'float', 'complex', 'str'}\n",
      "{'dict', 'set', 'bytearray', 'list', 'tuple', 'bytes', 'frozenset'}\n"
     ]
    }
   ],
   "source": [
    "fundamental_datatypes = {'int','float','complex','bool','str'}\n",
    "advanced_datatypes    = {'bytes','bytearray','list','tuple','set','frozenset','dict'}\n",
    "\n",
    "print(fundamental_datatypes)                                      #List all the Fundamental Datatypes\n",
    "print (advanced_datatypes)                                        #List all the Advanced Datatypes"
   ]
  },
  {
   "cell_type": "code",
   "execution_count": 10,
   "metadata": {
    "ExecuteTime": {
     "end_time": "2022-09-24T14:27:38.282493Z",
     "start_time": "2022-09-24T14:27:38.274782Z"
    }
   },
   "outputs": [
    {
     "name": "stdout",
     "output_type": "stream",
     "text": [
      "{'bytes': '[]', 'bytearray': '[]', 'list': '[]', 'tuple': '()', 'set': '{}', 'frozenset': '{}', 'dict': '{}'}\n"
     ]
    }
   ],
   "source": [
    "datatype_representation     = {'bytes'      :'[]',\n",
    "                               'bytearray'  :'[]',\n",
    "                               'list'       :'[]',\n",
    "                               'tuple'      :'()',\n",
    "                               'set'        :'{}',\n",
    "                               'frozenset'  :'{}',\n",
    "                               'dict'       :'{}'\n",
    "                              }\n",
    "print (datatype_representation)"
   ]
  },
  {
   "cell_type": "markdown",
   "metadata": {},
   "source": [
    "### Integer Datatype\n",
    "`1) In Python 3, There is no limit to how long an integer value can be.`<br>\n",
    "`2) We can express integral data type in 4 types/other bases.`<br>\n",
    "`3) By Defaut - Python will give output in Decimal`<br>\n",
    "`4) We can convert any base to any base values`<br>\n",
    "\n",
    "|Base Name|Base Value|Prefix (+/-)|Base Conversion Func|\n",
    "|---------|----------|------|--------------------|\n",
    "|<p align=\"left\">Decimal|<p align=\"left\">Base-10 (0-9)|<p align=\"left\">Normal Form|<p align=\"left\">|\n",
    "|<p align=\"left\">Binary|<p align=\"left\">Base-2  (0-1)|<p align=\"left\">0B1010|<p align=\"left\">bin()|\n",
    "|<p align=\"left\">Octal|<p align=\"left\">Base-8  (0-7)|<p align=\"left\">0O777|<p align=\"left\">oct()|\n",
    "|<p align=\"left\">Hexa Decimal|<p align=\"left\">Base-16 (0-F)|<p align=\"left\">0xFacE|<p align=\"left\">hex()|\n",
    "\n",
    "\n",
    "**Error Message**<br>\n",
    "`5) SyntaxError`"
   ]
  },
  {
   "cell_type": "code",
   "execution_count": 11,
   "metadata": {
    "ExecuteTime": {
     "end_time": "2022-09-24T14:27:38.297468Z",
     "start_time": "2022-09-24T14:27:38.286709Z"
    }
   },
   "outputs": [
    {
     "name": "stdout",
     "output_type": "stream",
     "text": [
      "110 6 -72 272\n"
     ]
    }
   ],
   "source": [
    "decimal = 110                                                     #Decimal - Default -> Output is Decimal\n",
    "binay   = 0B110                                                   #Binary            -> Output is Decimal\n",
    "octal   = -0o110                                                  #Octal             -> Output is Decimal\n",
    "hexaDeci= 0X110                                                   #HexaDecimal       -> Output is Decimal\n",
    "\n",
    "print (decimal,binay,octal,hexaDeci)"
   ]
  },
  {
   "cell_type": "code",
   "execution_count": 12,
   "metadata": {
    "ExecuteTime": {
     "end_time": "2022-09-24T14:27:38.311566Z",
     "start_time": "2022-09-24T14:27:38.301292Z"
    }
   },
   "outputs": [
    {
     "name": "stdout",
     "output_type": "stream",
     "text": [
      "5789 53 -3750 48879 64206\n"
     ]
    }
   ],
   "source": [
    "decimal = 5789                                                    #Decimal - Default -> Output is Decimal\n",
    "binay   = 0B110101                                                #Binary            -> Output is Decimal\n",
    "octal   = -0o7246                                                 #Octal             -> Output is Decimal\n",
    "hexaDec1= 0XBeef                                                  #HexaDecimal       -> Output is Decimal\n",
    "hexaDec2= 0xFacE                                                  #HexaDecimal       -> Output is Decimal\n",
    "\n",
    "print (decimal,binay,octal,hexaDec1,hexaDec2)"
   ]
  },
  {
   "cell_type": "code",
   "execution_count": 13,
   "metadata": {
    "ExecuteTime": {
     "end_time": "2022-09-24T13:44:23.523281Z",
     "start_time": "2022-09-24T13:44:23.518006Z"
    },
    "deletable": false,
    "editable": false,
    "run_control": {
     "frozen": true
    }
   },
   "outputs": [
    {
     "ename": "SyntaxError",
     "evalue": "invalid syntax (2233347947.py, line 1)",
     "output_type": "error",
     "traceback": [
      "\u001b[0;36m  Input \u001b[0;32mIn [13]\u001b[0;36m\u001b[0m\n\u001b[0;31m    hexaDec3= 0xBeeR                                                  #HexaDecimal       -> Error is invalid-syntax\u001b[0m\n\u001b[0m                   ^\u001b[0m\n\u001b[0;31mSyntaxError\u001b[0m\u001b[0;31m:\u001b[0m invalid syntax\n"
     ]
    }
   ],
   "source": [
    "hexaDec3= 0xBeeR                                                  #HexaDecimal       -> Error is invalid-syntax"
   ]
  },
  {
   "cell_type": "code",
   "execution_count": 13,
   "metadata": {
    "ExecuteTime": {
     "end_time": "2022-09-24T14:27:38.343653Z",
     "start_time": "2022-09-24T14:27:38.318379Z"
    }
   },
   "outputs": [
    {
     "data": {
      "text/plain": [
       "'0b1111'"
      ]
     },
     "execution_count": 13,
     "metadata": {},
     "output_type": "execute_result"
    }
   ],
   "source": [
    "bin(15)                                                           #Decimal to Binary"
   ]
  },
  {
   "cell_type": "code",
   "execution_count": 14,
   "metadata": {
    "ExecuteTime": {
     "end_time": "2022-09-24T14:27:38.367082Z",
     "start_time": "2022-09-24T14:27:38.353874Z"
    }
   },
   "outputs": [
    {
     "data": {
      "text/plain": [
       "'0o17'"
      ]
     },
     "execution_count": 14,
     "metadata": {},
     "output_type": "execute_result"
    }
   ],
   "source": [
    "oct(15)                                                           #Decimal to Octal"
   ]
  },
  {
   "cell_type": "code",
   "execution_count": 15,
   "metadata": {
    "ExecuteTime": {
     "end_time": "2022-09-24T14:27:38.380486Z",
     "start_time": "2022-09-24T14:27:38.372143Z"
    }
   },
   "outputs": [
    {
     "data": {
      "text/plain": [
       "'0xf'"
      ]
     },
     "execution_count": 15,
     "metadata": {},
     "output_type": "execute_result"
    }
   ],
   "source": [
    "hex(15)                                                           #Decimal to HexaDecimal"
   ]
  },
  {
   "cell_type": "code",
   "execution_count": 16,
   "metadata": {
    "ExecuteTime": {
     "end_time": "2022-09-24T14:27:38.400024Z",
     "start_time": "2022-09-24T14:27:38.386961Z"
    }
   },
   "outputs": [
    {
     "data": {
      "text/plain": [
       "'0b1111101011001110'"
      ]
     },
     "execution_count": 16,
     "metadata": {},
     "output_type": "execute_result"
    }
   ],
   "source": [
    "bin(0xFacE)                                                       #HexaDecimal to Binary"
   ]
  },
  {
   "cell_type": "code",
   "execution_count": 17,
   "metadata": {
    "ExecuteTime": {
     "end_time": "2022-09-24T14:27:38.412316Z",
     "start_time": "2022-09-24T14:27:38.405088Z"
    }
   },
   "outputs": [
    {
     "data": {
      "text/plain": [
       "'0o137357'"
      ]
     },
     "execution_count": 17,
     "metadata": {},
     "output_type": "execute_result"
    }
   ],
   "source": [
    "oct(0XBeeF)                                                       #HexaDecimal to Octal"
   ]
  },
  {
   "cell_type": "code",
   "execution_count": 18,
   "metadata": {
    "ExecuteTime": {
     "end_time": "2022-09-24T14:27:38.431792Z",
     "start_time": "2022-09-24T14:27:38.421223Z"
    }
   },
   "outputs": [
    {
     "data": {
      "text/plain": [
       "'0b111110111'"
      ]
     },
     "execution_count": 18,
     "metadata": {},
     "output_type": "execute_result"
    }
   ],
   "source": [
    "bin(0o767)                                                        #Octal to Binary"
   ]
  },
  {
   "cell_type": "code",
   "execution_count": 19,
   "metadata": {
    "ExecuteTime": {
     "end_time": "2022-09-24T14:27:38.459575Z",
     "start_time": "2022-09-24T14:27:38.438072Z"
    }
   },
   "outputs": [
    {
     "data": {
      "text/plain": [
       "'0x1f7'"
      ]
     },
     "execution_count": 19,
     "metadata": {},
     "output_type": "execute_result"
    }
   ],
   "source": [
    "hex(0O767)                                                        #Octal to HexaDecimal"
   ]
  },
  {
   "cell_type": "code",
   "execution_count": 20,
   "metadata": {
    "ExecuteTime": {
     "end_time": "2022-09-24T14:27:38.497858Z",
     "start_time": "2022-09-24T14:27:38.484064Z"
    }
   },
   "outputs": [
    {
     "data": {
      "text/plain": [
       "'0o535'"
      ]
     },
     "execution_count": 20,
     "metadata": {},
     "output_type": "execute_result"
    }
   ],
   "source": [
    "oct(0B101011101)                                                  #Binary to Octal"
   ]
  },
  {
   "cell_type": "code",
   "execution_count": 21,
   "metadata": {
    "ExecuteTime": {
     "end_time": "2022-09-24T14:27:38.512864Z",
     "start_time": "2022-09-24T14:27:38.501916Z"
    }
   },
   "outputs": [
    {
     "data": {
      "text/plain": [
       "'0x15d'"
      ]
     },
     "execution_count": 21,
     "metadata": {},
     "output_type": "execute_result"
    }
   ],
   "source": [
    "hex(0b101011101)                                                  #Binary to HexaDecimal"
   ]
  },
  {
   "cell_type": "markdown",
   "metadata": {},
   "source": [
    "### Float Datatype\n",
    "`1) Floating Point values only be represented in Decimal Form(base-10)`<br>\n",
    "`2) Internally all the values represented in binary form, hence it cannot be represented by floating point`<br>\n",
    "`3) Optionally, We can use e or E followed by a (+ | -) exponential integer`\n",
    "\n",
    "**Error Message**<br>\n",
    "`4) AttributeError`"
   ]
  },
  {
   "cell_type": "code",
   "execution_count": 22,
   "metadata": {
    "ExecuteTime": {
     "end_time": "2022-09-24T14:27:38.525483Z",
     "start_time": "2022-09-24T14:27:38.516924Z"
    }
   },
   "outputs": [
    {
     "data": {
      "text/plain": [
       "10.124484"
      ]
     },
     "execution_count": 22,
     "metadata": {},
     "output_type": "execute_result"
    }
   ],
   "source": [
    "10.124484                                                         #Floating values only be represented in Decimal(int)"
   ]
  },
  {
   "cell_type": "code",
   "execution_count": 23,
   "metadata": {
    "ExecuteTime": {
     "end_time": "2022-09-24T13:46:11.955367Z",
     "start_time": "2022-09-24T13:46:11.216712Z"
    },
    "deletable": false,
    "editable": false,
    "run_control": {
     "frozen": true
    }
   },
   "outputs": [
    {
     "ename": "AttributeError",
     "evalue": "'int' object has no attribute 'abcd'",
     "output_type": "error",
     "traceback": [
      "\u001b[0;31m---------------------------------------------------------------------------\u001b[0m",
      "\u001b[0;31mAttributeError\u001b[0m                            Traceback (most recent call last)",
      "Input \u001b[0;32mIn [23]\u001b[0m, in \u001b[0;36m<cell line: 1>\u001b[0;34m()\u001b[0m\n\u001b[0;32m----> 1\u001b[0m \u001b[38;5;241;43m0Xabcd\u001b[39;49m\u001b[38;5;241;43m.\u001b[39;49m\u001b[43mabcd\u001b[49m\n",
      "\u001b[0;31mAttributeError\u001b[0m: 'int' object has no attribute 'abcd'"
     ]
    }
   ],
   "source": [
    "0Xabcd.abcd                                                       #Floating values only be represented in Decimal(int)"
   ]
  },
  {
   "cell_type": "code",
   "execution_count": 23,
   "metadata": {
    "ExecuteTime": {
     "end_time": "2022-09-24T14:27:38.538538Z",
     "start_time": "2022-09-24T14:27:38.530355Z"
    }
   },
   "outputs": [
    {
     "data": {
      "text/plain": [
       "1200.0"
      ]
     },
     "execution_count": 23,
     "metadata": {},
     "output_type": "execute_result"
    }
   ],
   "source": [
    "1.2e3                                                             #Exponential Function always gives float value"
   ]
  },
  {
   "cell_type": "code",
   "execution_count": 24,
   "metadata": {
    "ExecuteTime": {
     "end_time": "2022-09-24T14:27:38.553238Z",
     "start_time": "2022-09-24T14:27:38.543687Z"
    }
   },
   "outputs": [
    {
     "data": {
      "text/plain": [
       "1.8e+307"
      ]
     },
     "execution_count": 24,
     "metadata": {},
     "output_type": "execute_result"
    }
   ],
   "source": [
    "1.8e307                                                           #Maximum value of the floating point "
   ]
  },
  {
   "cell_type": "code",
   "execution_count": 25,
   "metadata": {
    "ExecuteTime": {
     "end_time": "2022-09-24T14:27:38.570167Z",
     "start_time": "2022-09-24T14:27:38.559334Z"
    }
   },
   "outputs": [
    {
     "data": {
      "text/plain": [
       "inf"
      ]
     },
     "execution_count": 25,
     "metadata": {},
     "output_type": "execute_result"
    }
   ],
   "source": [
    "1.8e308                                                           #Above Maximum value of the floating point "
   ]
  },
  {
   "cell_type": "code",
   "execution_count": 26,
   "metadata": {
    "ExecuteTime": {
     "end_time": "2022-09-24T14:27:38.586765Z",
     "start_time": "2022-09-24T14:27:38.576590Z"
    }
   },
   "outputs": [
    {
     "data": {
      "text/plain": [
       "5e-324"
      ]
     },
     "execution_count": 26,
     "metadata": {},
     "output_type": "execute_result"
    }
   ],
   "source": [
    "5e-324                                                            #Minimum value of the floating point "
   ]
  },
  {
   "cell_type": "code",
   "execution_count": 27,
   "metadata": {
    "ExecuteTime": {
     "end_time": "2022-09-24T14:27:38.602086Z",
     "start_time": "2022-09-24T14:27:38.593568Z"
    }
   },
   "outputs": [
    {
     "data": {
      "text/plain": [
       "0.0"
      ]
     },
     "execution_count": 27,
     "metadata": {},
     "output_type": "execute_result"
    }
   ],
   "source": [
    "5e-325                                                            #Below Minimum value of the floating point "
   ]
  },
  {
   "cell_type": "markdown",
   "metadata": {},
   "source": [
    "### Complex Datatype\n",
    "|Value|Part|Representation|\n",
    "|-----|----|--------------|\n",
    "|<p align=\"left\">a|<p align=\"left\">Real Part|<p align=\"left\">Can be represented in any Base|\n",
    "|<p align=\"left\">b|<p align=\"left\">Imaginary Part|<p align=\"left\">Can only be represented in **Decimal/Base(10)**|\n",
    "\n",
    "\n",
    "$j=\\sqrt-1$<br>\n",
    "$j^2=-1$\n",
    "\n",
    "**Error Message**<br>\n",
    "`SyntaxError`<br>\n",
    "`NameError`"
   ]
  },
  {
   "cell_type": "code",
   "execution_count": 28,
   "metadata": {
    "ExecuteTime": {
     "end_time": "2022-09-24T14:27:38.662965Z",
     "start_time": "2022-09-24T14:27:38.651083Z"
    }
   },
   "outputs": [
    {
     "data": {
      "text/plain": [
       "(10+20j)"
      ]
     },
     "execution_count": 28,
     "metadata": {},
     "output_type": "execute_result"
    }
   ],
   "source": [
    "10 + 20j                                                          #Complex Datatype experssion - int"
   ]
  },
  {
   "cell_type": "code",
   "execution_count": 29,
   "metadata": {
    "ExecuteTime": {
     "end_time": "2022-09-24T14:27:38.680863Z",
     "start_time": "2022-09-24T14:27:38.670216Z"
    }
   },
   "outputs": [
    {
     "data": {
      "text/plain": [
       "(10.547-18.272j)"
      ]
     },
     "execution_count": 29,
     "metadata": {},
     "output_type": "execute_result"
    }
   ],
   "source": [
    "10.547 - 18.272j                                                  #Complex Datatype experssion - Float"
   ]
  },
  {
   "cell_type": "code",
   "execution_count": 30,
   "metadata": {
    "ExecuteTime": {
     "end_time": "2022-09-24T14:27:38.696868Z",
     "start_time": "2022-09-24T14:27:38.686535Z"
    }
   },
   "outputs": [
    {
     "data": {
      "text/plain": [
       "(-43981+1542.2574j)"
      ]
     },
     "execution_count": 30,
     "metadata": {},
     "output_type": "execute_result"
    }
   ],
   "source": [
    "-0XABCD + 1542.2574j                                              #Complex Datatype experssion - hexa + float"
   ]
  },
  {
   "cell_type": "code",
   "execution_count": 31,
   "metadata": {
    "ExecuteTime": {
     "end_time": "2022-09-24T13:46:52.210653Z",
     "start_time": "2022-09-24T13:46:52.199046Z"
    },
    "deletable": false,
    "editable": false,
    "run_control": {
     "frozen": true
    }
   },
   "outputs": [
    {
     "ename": "SyntaxError",
     "evalue": "invalid syntax (250858702.py, line 1)",
     "output_type": "error",
     "traceback": [
      "\u001b[0;36m  Input \u001b[0;32mIn [31]\u001b[0;36m\u001b[0m\n\u001b[0;31m    0XABCD + 0XABCDj                                                  #Imaginary part can only be represented by Decimal\u001b[0m\n\u001b[0m                   ^\u001b[0m\n\u001b[0;31mSyntaxError\u001b[0m\u001b[0;31m:\u001b[0m invalid syntax\n"
     ]
    }
   ],
   "source": [
    "0XABCD + 0XABCDj                                                  #Imaginary part can only be represented by Decimal"
   ]
  },
  {
   "cell_type": "code",
   "execution_count": 31,
   "metadata": {
    "ExecuteTime": {
     "end_time": "2022-09-24T13:47:49.265640Z",
     "start_time": "2022-09-24T13:47:49.254598Z"
    },
    "deletable": false,
    "editable": false,
    "run_control": {
     "frozen": true
    }
   },
   "outputs": [
    {
     "ename": "SyntaxError",
     "evalue": "invalid syntax (2118192199.py, line 1)",
     "output_type": "error",
     "traceback": [
      "\u001b[0;36m  Input \u001b[0;32mIn [31]\u001b[0;36m\u001b[0m\n\u001b[0;31m    10 + 20i                                                          #Only j is supported in complex\u001b[0m\n\u001b[0m           ^\u001b[0m\n\u001b[0;31mSyntaxError\u001b[0m\u001b[0;31m:\u001b[0m invalid syntax\n"
     ]
    }
   ],
   "source": [
    "10 + 20i                                                          #Only j is supported in complex"
   ]
  },
  {
   "cell_type": "code",
   "execution_count": 31,
   "metadata": {
    "ExecuteTime": {
     "end_time": "2022-09-24T13:49:43.480429Z",
     "start_time": "2022-09-24T13:49:42.572393Z"
    },
    "deletable": false,
    "editable": false,
    "run_control": {
     "frozen": true
    }
   },
   "outputs": [
    {
     "ename": "NameError",
     "evalue": "name 'j20' is not defined",
     "output_type": "error",
     "traceback": [
      "\u001b[0;31m---------------------------------------------------------------------------\u001b[0m",
      "\u001b[0;31mNameError\u001b[0m                                 Traceback (most recent call last)",
      "Input \u001b[0;32mIn [31]\u001b[0m, in \u001b[0;36m<cell line: 1>\u001b[0;34m()\u001b[0m\n\u001b[0;32m----> 1\u001b[0m \u001b[38;5;241m10\u001b[39m \u001b[38;5;241m+\u001b[39m \u001b[43mj20\u001b[49m\n",
      "\u001b[0;31mNameError\u001b[0m: name 'j20' is not defined"
     ]
    }
   ],
   "source": [
    "10 + j20                                                          #Should follow Pre-Defined form "
   ]
  },
  {
   "cell_type": "code",
   "execution_count": 31,
   "metadata": {
    "ExecuteTime": {
     "end_time": "2022-09-24T14:27:38.712701Z",
     "start_time": "2022-09-24T14:27:38.702282Z"
    }
   },
   "outputs": [],
   "source": [
    "a= 10+20j\n",
    "b= 10.547+1248.58j                                                #Addition of imaginary numbers"
   ]
  },
  {
   "cell_type": "code",
   "execution_count": 32,
   "metadata": {
    "ExecuteTime": {
     "end_time": "2022-09-24T14:27:38.738505Z",
     "start_time": "2022-09-24T14:27:38.725893Z"
    }
   },
   "outputs": [
    {
     "data": {
      "text/plain": [
       "(20.547+1268.58j)"
      ]
     },
     "execution_count": 32,
     "metadata": {},
     "output_type": "execute_result"
    }
   ],
   "source": [
    " a + b                                                            #Addition of imaginary numbers"
   ]
  },
  {
   "cell_type": "code",
   "execution_count": 33,
   "metadata": {
    "ExecuteTime": {
     "end_time": "2022-09-24T14:27:38.754452Z",
     "start_time": "2022-09-24T14:27:38.745555Z"
    }
   },
   "outputs": [
    {
     "data": {
      "text/plain": [
       "(-0.5470000000000006-1228.58j)"
      ]
     },
     "execution_count": 33,
     "metadata": {},
     "output_type": "execute_result"
    }
   ],
   "source": [
    "a - b                                                             #Subtraction of imaginary numbers"
   ]
  },
  {
   "cell_type": "code",
   "execution_count": 34,
   "metadata": {
    "ExecuteTime": {
     "end_time": "2022-09-24T14:27:38.770022Z",
     "start_time": "2022-09-24T14:27:38.760007Z"
    }
   },
   "outputs": [
    {
     "data": {
      "text/plain": [
       "(-24866.129999999997+12696.74j)"
      ]
     },
     "execution_count": 34,
     "metadata": {},
     "output_type": "execute_result"
    }
   ],
   "source": [
    "a * b                                                             #Multiplication of imaginary numbers"
   ]
  },
  {
   "cell_type": "code",
   "execution_count": 35,
   "metadata": {
    "ExecuteTime": {
     "end_time": "2022-09-24T14:27:38.788665Z",
     "start_time": "2022-09-24T14:27:38.777577Z"
    }
   },
   "outputs": [
    {
     "data": {
      "text/plain": [
       "(0.01608470336901399-0.00787322769351344j)"
      ]
     },
     "execution_count": 35,
     "metadata": {},
     "output_type": "execute_result"
    }
   ],
   "source": [
    "a / b                                                             #Division of imaginary numbers"
   ]
  },
  {
   "cell_type": "code",
   "execution_count": 36,
   "metadata": {
    "ExecuteTime": {
     "end_time": "2022-09-24T14:27:38.812751Z",
     "start_time": "2022-09-24T14:27:38.796186Z"
    }
   },
   "outputs": [
    {
     "data": {
      "text/plain": [
       "10.0"
      ]
     },
     "execution_count": 36,
     "metadata": {},
     "output_type": "execute_result"
    }
   ],
   "source": [
    "a.real                                                            #Functions for complex numbers"
   ]
  },
  {
   "cell_type": "code",
   "execution_count": 37,
   "metadata": {
    "ExecuteTime": {
     "end_time": "2022-09-24T14:27:38.828430Z",
     "start_time": "2022-09-24T14:27:38.820697Z"
    }
   },
   "outputs": [
    {
     "data": {
      "text/plain": [
       "1248.58"
      ]
     },
     "execution_count": 37,
     "metadata": {},
     "output_type": "execute_result"
    }
   ],
   "source": [
    "b.imag                                                            #Functions for complex numbers"
   ]
  },
  {
   "cell_type": "markdown",
   "metadata": {},
   "source": [
    "### Boolean Datatype\n",
    "$True = 1$<br>\n",
    "$False = 0$\n",
    "\n",
    "**Error Message**<br>\n",
    "`NameError`"
   ]
  },
  {
   "cell_type": "code",
   "execution_count": 38,
   "metadata": {
    "ExecuteTime": {
     "end_time": "2022-09-24T14:27:38.842485Z",
     "start_time": "2022-09-24T14:27:38.834167Z"
    }
   },
   "outputs": [
    {
     "name": "stdout",
     "output_type": "stream",
     "text": [
      "True\n"
     ]
    }
   ],
   "source": [
    "a = 10\n",
    "b = 20\n",
    "c = a < b\n",
    "print (c)                                                         #Boolean type - Comparison"
   ]
  },
  {
   "cell_type": "code",
   "execution_count": 39,
   "metadata": {
    "ExecuteTime": {
     "end_time": "2022-09-24T14:27:38.854764Z",
     "start_time": "2022-09-24T14:27:38.849773Z"
    }
   },
   "outputs": [],
   "source": [
    "a = True\n",
    "b = False"
   ]
  },
  {
   "cell_type": "code",
   "execution_count": 40,
   "metadata": {
    "ExecuteTime": {
     "end_time": "2022-09-24T14:27:38.875074Z",
     "start_time": "2022-09-24T14:27:38.867381Z"
    }
   },
   "outputs": [
    {
     "name": "stdout",
     "output_type": "stream",
     "text": [
      "False\n"
     ]
    }
   ],
   "source": [
    "c = a < b\n",
    "print (c)                                                         #Boolean type - Comparison"
   ]
  },
  {
   "cell_type": "code",
   "execution_count": 41,
   "metadata": {
    "ExecuteTime": {
     "end_time": "2022-09-24T14:27:38.891831Z",
     "start_time": "2022-09-24T14:27:38.879957Z"
    }
   },
   "outputs": [
    {
     "data": {
      "text/plain": [
       "2"
      ]
     },
     "execution_count": 41,
     "metadata": {},
     "output_type": "execute_result"
    }
   ],
   "source": [
    "True + True + False + True - True                                 #Boolean type - Addition"
   ]
  },
  {
   "cell_type": "code",
   "execution_count": 42,
   "metadata": {
    "ExecuteTime": {
     "end_time": "2022-09-24T14:27:38.908294Z",
     "start_time": "2022-09-24T14:27:38.899760Z"
    }
   },
   "outputs": [
    {
     "data": {
      "text/plain": [
       "1"
      ]
     },
     "execution_count": 42,
     "metadata": {},
     "output_type": "execute_result"
    }
   ],
   "source": [
    "True * True                                                       #Boolean type - Multiplication"
   ]
  },
  {
   "cell_type": "code",
   "execution_count": 43,
   "metadata": {
    "ExecuteTime": {
     "end_time": "2022-09-24T14:27:38.923150Z",
     "start_time": "2022-09-24T14:27:38.914744Z"
    }
   },
   "outputs": [
    {
     "data": {
      "text/plain": [
       "0"
      ]
     },
     "execution_count": 43,
     "metadata": {},
     "output_type": "execute_result"
    }
   ],
   "source": [
    "True * True * False * True * True                                 #Boolean type - Multiplication"
   ]
  },
  {
   "cell_type": "code",
   "execution_count": 44,
   "metadata": {
    "ExecuteTime": {
     "end_time": "2022-09-24T13:50:33.502010Z",
     "start_time": "2022-09-24T13:50:32.750358Z"
    },
    "deletable": false,
    "editable": false,
    "run_control": {
     "frozen": true
    }
   },
   "outputs": [
    {
     "ename": "NameError",
     "evalue": "name 'true' is not defined",
     "output_type": "error",
     "traceback": [
      "\u001b[0;31m---------------------------------------------------------------------------\u001b[0m",
      "\u001b[0;31mNameError\u001b[0m                                 Traceback (most recent call last)",
      "Input \u001b[0;32mIn [44]\u001b[0m, in \u001b[0;36m<cell line: 1>\u001b[0;34m()\u001b[0m\n\u001b[0;32m----> 1\u001b[0m c \u001b[38;5;241m=\u001b[39m \u001b[43mtrue\u001b[49m\n",
      "\u001b[0;31mNameError\u001b[0m: name 'true' is not defined"
     ]
    }
   ],
   "source": [
    "c = true                                                          #Assiging boolean to variable"
   ]
  },
  {
   "cell_type": "markdown",
   "metadata": {},
   "source": [
    " ### String Datatype\n",
    " 1) No Char datatype in python.<br>\n",
    " 2) Can be represented in **Single** | __Double__ | **Triple Quotes**<br>\n",
    " 3) Always **Output will be in Single Quotes only**<br>\n",
    " 4) Access charecters using below methods,Both **Positive** and **Negetive** index is possible<br>\n",
    " \n",
    "    • Index\n",
    "         * string [ index ]\n",
    "    • Slicing\n",
    "         * string [ begin : end-1 ]\n",
    "         * string [ begin : end-1 : step ]\n",
    "     \n",
    "**Error Values**<br>\n",
    "`IndexError`<br>\n",
    "`ValueError`"
   ]
  },
  {
   "cell_type": "code",
   "execution_count": 44,
   "metadata": {
    "ExecuteTime": {
     "end_time": "2022-09-24T14:27:38.939449Z",
     "start_time": "2022-09-24T14:27:38.928683Z"
    }
   },
   "outputs": [
    {
     "name": "stdout",
     "output_type": "stream",
     "text": [
      "\"Python\" is 'very easy' to learn.\n",
      "\"Python\" is 'very easy' to learn.\n",
      "\"Python\" is 'very easy' to learn.\n",
      "\"Python\" is 'very easy' to learn.\n",
      "\"Python\" is 'very easy' to learn.\n",
      "s 'very easy' to learn.\n",
      "s 'very easy' to learn.\n",
      "s \n",
      "s 'very ea\n",
      "\"Python\" is 'very easy' t\n",
      "o\"i vr ay \n",
      "\"osrsor\n"
     ]
    }
   ],
   "source": [
    "string = '''\"Python\" is 'very easy' to learn.'''\n",
    "print(string)                                                     #Full Slicing a string\n",
    "print(string [:255:])                                             #Full Slicing a string[ 1 : Maximum : 1 ]\n",
    "print(string [:255])                                              #Full Slicing a string[ 1 : Maximum : 1 ]\n",
    "print(string [:])                                                 #Full Slicing a string[ 1 :   End   : 1 ]\n",
    "print(string [::1])                                               #Full Slicing a string[ 1 :   End   : 1 ]\n",
    "\n",
    "print(string [10:])                                               #Slicing a string[ 10 :    1   : 1 ]\n",
    "print(string [10:200])                                            #Slicing a string[ 10 :  200   : 1 ]\n",
    "\n",
    "print(string [10:12])\n",
    "print(string [10:20])\n",
    "print(string [:25:])\n",
    "print(string [5:25:2])\n",
    "print(string [::5])"
   ]
  },
  {
   "cell_type": "code",
   "execution_count": 45,
   "metadata": {
    "ExecuteTime": {
     "end_time": "2022-09-24T14:27:38.951798Z",
     "start_time": "2022-09-24T14:27:38.945195Z"
    }
   },
   "outputs": [
    {
     "name": "stdout",
     "output_type": "stream",
     "text": [
      "\n",
      "Ha !\n",
      "Ha !\n",
      "\n"
     ]
    }
   ],
   "source": [
    "string = '''\n",
    "Ha !\n",
    "Ha !\n",
    "'''\n",
    "print(string)"
   ]
  },
  {
   "cell_type": "code",
   "execution_count": 46,
   "metadata": {
    "ExecuteTime": {
     "end_time": "2022-09-24T14:27:38.969054Z",
     "start_time": "2022-09-24T14:27:38.960789Z"
    }
   },
   "outputs": [
    {
     "data": {
      "text/plain": [
       "'P'"
      ]
     },
     "execution_count": 46,
     "metadata": {},
     "output_type": "execute_result"
    }
   ],
   "source": [
    "s = 'Python'\n",
    "s[0]"
   ]
  },
  {
   "cell_type": "code",
   "execution_count": 47,
   "metadata": {
    "ExecuteTime": {
     "end_time": "2022-09-24T13:51:25.211623Z",
     "start_time": "2022-09-24T13:51:24.000755Z"
    },
    "deletable": false,
    "editable": false,
    "run_control": {
     "frozen": true
    }
   },
   "outputs": [
    {
     "ename": "IndexError",
     "evalue": "string index out of range",
     "output_type": "error",
     "traceback": [
      "\u001b[0;31m---------------------------------------------------------------------------\u001b[0m",
      "\u001b[0;31mIndexError\u001b[0m                                Traceback (most recent call last)",
      "Input \u001b[0;32mIn [47]\u001b[0m, in \u001b[0;36m<cell line: 1>\u001b[0;34m()\u001b[0m\n\u001b[0;32m----> 1\u001b[0m \u001b[43ms\u001b[49m\u001b[43m[\u001b[49m\u001b[38;5;241;43m100\u001b[39;49m\u001b[43m]\u001b[49m\n",
      "\u001b[0;31mIndexError\u001b[0m: string index out of range"
     ]
    }
   ],
   "source": [
    "s[100]"
   ]
  },
  {
   "cell_type": "code",
   "execution_count": 47,
   "metadata": {
    "ExecuteTime": {
     "end_time": "2022-09-24T13:52:11.817966Z",
     "start_time": "2022-09-24T13:52:11.001135Z"
    },
    "deletable": false,
    "editable": false,
    "run_control": {
     "frozen": true
    }
   },
   "outputs": [
    {
     "ename": "ValueError",
     "evalue": "slice step cannot be zero",
     "output_type": "error",
     "traceback": [
      "\u001b[0;31m---------------------------------------------------------------------------\u001b[0m",
      "\u001b[0;31mValueError\u001b[0m                                Traceback (most recent call last)",
      "Input \u001b[0;32mIn [47]\u001b[0m, in \u001b[0;36m<cell line: 1>\u001b[0;34m()\u001b[0m\n\u001b[0;32m----> 1\u001b[0m \u001b[43mstring\u001b[49m\u001b[43m \u001b[49m\u001b[43m[\u001b[49m\u001b[43m:\u001b[49m\u001b[38;5;241;43m25\u001b[39;49m\u001b[43m:\u001b[49m\u001b[38;5;241;43m0\u001b[39;49m\u001b[43m]\u001b[49m\n",
      "\u001b[0;31mValueError\u001b[0m: slice step cannot be zero"
     ]
    }
   ],
   "source": [
    "string [:25:0]"
   ]
  },
  {
   "cell_type": "code",
   "execution_count": 47,
   "metadata": {
    "ExecuteTime": {
     "end_time": "2022-09-24T14:27:38.983501Z",
     "start_time": "2022-09-24T14:27:38.975845Z"
    }
   },
   "outputs": [
    {
     "data": {
      "text/plain": [
       "'\\n! aH\\n! aH\\n'"
      ]
     },
     "execution_count": 47,
     "metadata": {},
     "output_type": "execute_result"
    }
   ],
   "source": [
    "string [::-1]                                                    #Reverse using Slicing a string[ 0 :   End   : -1 ]"
   ]
  },
  {
   "cell_type": "code",
   "execution_count": 48,
   "metadata": {
    "ExecuteTime": {
     "end_time": "2022-09-24T14:27:38.999737Z",
     "start_time": "2022-09-24T14:27:38.989879Z"
    }
   },
   "outputs": [
    {
     "data": {
      "text/plain": [
       "11"
      ]
     },
     "execution_count": 48,
     "metadata": {},
     "output_type": "execute_result"
    }
   ],
   "source": [
    "len(string)                                                       #Function to find the length of the string"
   ]
  },
  {
   "cell_type": "markdown",
   "metadata": {},
   "source": [
    "### Type Casting (float & int)\n",
    "`Type casting also called conversion or casting or coersion.`\n",
    "\n",
    "|From Type|To Type|Possibility|$$|$$|From Type|To Type|Possibility|\n",
    "|-----|----|--------------|-|-----|----|--------------|\n",
    "|<p align=\"left\">Float|<p align=\"left\">Int|<p align=\"left\">Possible|$$|$$|<p align=\"left\">Int|<p align=\"left\">Float|<p align=\"left\">Possible|\n",
    "|<p align=\"left\">Complex|<p align=\"left\">Int|<p align=\"left\">Not Possible **TypeError**|$$|$$|<p align=\"left\">Complex|<p align=\"left\">Float|<p align=\"left\">Not Possible **TypeError**|\n",
    "|<p align=\"left\">Boolean|<p align=\"left\">Int|<p align=\"left\">Possible|$$|$$|<p align=\"left\">Boolean|<p align=\"left\">Float|<p align=\"left\">Possible|\n",
    "|<p align=\"left\">String|<p align=\"left\">Int|<p align=\"left\">Value with only int base-10 else **ValueError**|$$|$$|<p align=\"left\">String|<p align=\"left\">Float|<p align=\"left\">Value with int/float with base-10 else **ValueError**|"
   ]
  },
  {
   "cell_type": "code",
   "execution_count": 49,
   "metadata": {
    "ExecuteTime": {
     "end_time": "2022-09-24T14:27:39.017369Z",
     "start_time": "2022-09-24T14:27:39.007017Z"
    }
   },
   "outputs": [
    {
     "name": "stdout",
     "output_type": "stream",
     "text": [
      "10 10.0\n"
     ]
    }
   ],
   "source": [
    "print (int(10.6482),float(10))"
   ]
  },
  {
   "cell_type": "code",
   "execution_count": 50,
   "metadata": {
    "ExecuteTime": {
     "end_time": "2022-09-24T14:27:39.033129Z",
     "start_time": "2022-09-24T14:27:39.025913Z"
    }
   },
   "outputs": [
    {
     "name": "stdout",
     "output_type": "stream",
     "text": [
      "0 1.0\n"
     ]
    }
   ],
   "source": [
    "print (int(False),float(True))"
   ]
  },
  {
   "cell_type": "code",
   "execution_count": 51,
   "metadata": {
    "ExecuteTime": {
     "end_time": "2022-09-24T14:27:39.046326Z",
     "start_time": "2022-09-24T14:27:39.040411Z"
    }
   },
   "outputs": [
    {
     "name": "stdout",
     "output_type": "stream",
     "text": [
      "17 17.0\n"
     ]
    }
   ],
   "source": [
    "print (int(\"17\"),float('17'))"
   ]
  },
  {
   "cell_type": "code",
   "execution_count": 52,
   "metadata": {
    "ExecuteTime": {
     "end_time": "2022-09-24T13:54:06.898865Z",
     "start_time": "2022-09-24T13:54:06.104850Z"
    },
    "deletable": false,
    "editable": false,
    "run_control": {
     "frozen": true
    }
   },
   "outputs": [
    {
     "ename": "TypeError",
     "evalue": "can't convert complex to int",
     "output_type": "error",
     "traceback": [
      "\u001b[0;31m---------------------------------------------------------------------------\u001b[0m",
      "\u001b[0;31mTypeError\u001b[0m                                 Traceback (most recent call last)",
      "Input \u001b[0;32mIn [52]\u001b[0m, in \u001b[0;36m<cell line: 1>\u001b[0;34m()\u001b[0m\n\u001b[0;32m----> 1\u001b[0m \u001b[38;5;28;43mint\u001b[39;49m\u001b[43m(\u001b[49m\u001b[38;5;241;43m5.12\u001b[39;49m\u001b[43m \u001b[49m\u001b[38;5;241;43m+\u001b[39;49m\u001b[43m \u001b[49m\u001b[38;5;241;43m11\u001b[39;49m\u001b[43mj\u001b[49m\u001b[43m)\u001b[49m\n",
      "\u001b[0;31mTypeError\u001b[0m: can't convert complex to int"
     ]
    }
   ],
   "source": [
    "int(5.12 + 11j)"
   ]
  },
  {
   "cell_type": "code",
   "execution_count": 52,
   "metadata": {
    "ExecuteTime": {
     "end_time": "2022-09-24T13:55:04.667042Z",
     "start_time": "2022-09-24T13:55:03.903885Z"
    },
    "deletable": false,
    "editable": false,
    "run_control": {
     "frozen": true
    }
   },
   "outputs": [
    {
     "ename": "ValueError",
     "evalue": "invalid literal for int() with base 10: '17.5'",
     "output_type": "error",
     "traceback": [
      "\u001b[0;31m---------------------------------------------------------------------------\u001b[0m",
      "\u001b[0;31mValueError\u001b[0m                                Traceback (most recent call last)",
      "Input \u001b[0;32mIn [52]\u001b[0m, in \u001b[0;36m<cell line: 1>\u001b[0;34m()\u001b[0m\n\u001b[0;32m----> 1\u001b[0m \u001b[38;5;28;43mint\u001b[39;49m\u001b[43m(\u001b[49m\u001b[38;5;124;43m\"\u001b[39;49m\u001b[38;5;124;43m17.5\u001b[39;49m\u001b[38;5;124;43m\"\u001b[39;49m\u001b[43m)\u001b[49m\n",
      "\u001b[0;31mValueError\u001b[0m: invalid literal for int() with base 10: '17.5'"
     ]
    }
   ],
   "source": [
    "int(\"17.5\")"
   ]
  },
  {
   "cell_type": "code",
   "execution_count": 53,
   "metadata": {
    "ExecuteTime": {
     "end_time": "2022-09-24T13:55:44.818037Z",
     "start_time": "2022-09-24T13:55:44.797631Z"
    },
    "deletable": false,
    "editable": false,
    "run_control": {
     "frozen": true
    }
   },
   "outputs": [
    {
     "ename": "ValueError",
     "evalue": "invalid literal for int() with base 10: '0X101101'",
     "output_type": "error",
     "traceback": [
      "\u001b[0;31m---------------------------------------------------------------------------\u001b[0m",
      "\u001b[0;31mValueError\u001b[0m                                Traceback (most recent call last)",
      "Input \u001b[0;32mIn [53]\u001b[0m, in \u001b[0;36m<cell line: 1>\u001b[0;34m()\u001b[0m\n\u001b[0;32m----> 1\u001b[0m \u001b[38;5;28;43mint\u001b[39;49m\u001b[43m(\u001b[49m\u001b[38;5;124;43m\"\u001b[39;49m\u001b[38;5;124;43m0X101101\u001b[39;49m\u001b[38;5;124;43m\"\u001b[39;49m\u001b[43m)\u001b[49m\n",
      "\u001b[0;31mValueError\u001b[0m: invalid literal for int() with base 10: '0X101101'"
     ]
    }
   ],
   "source": [
    "int(\"0X101101\")"
   ]
  },
  {
   "cell_type": "code",
   "execution_count": 52,
   "metadata": {
    "ExecuteTime": {
     "end_time": "2022-09-24T14:27:39.065375Z",
     "start_time": "2022-09-24T14:27:39.055869Z"
    }
   },
   "outputs": [
    {
     "data": {
      "text/plain": [
       "17.5"
      ]
     },
     "execution_count": 52,
     "metadata": {},
     "output_type": "execute_result"
    }
   ],
   "source": [
    "float(\"17.5\")"
   ]
  },
  {
   "cell_type": "code",
   "execution_count": 55,
   "metadata": {
    "ExecuteTime": {
     "end_time": "2022-09-24T13:55:45.219028Z",
     "start_time": "2022-09-24T13:55:45.192553Z"
    },
    "deletable": false,
    "editable": false,
    "run_control": {
     "frozen": true
    }
   },
   "outputs": [
    {
     "ename": "TypeError",
     "evalue": "can't convert complex to float",
     "output_type": "error",
     "traceback": [
      "\u001b[0;31m---------------------------------------------------------------------------\u001b[0m",
      "\u001b[0;31mTypeError\u001b[0m                                 Traceback (most recent call last)",
      "Input \u001b[0;32mIn [55]\u001b[0m, in \u001b[0;36m<cell line: 1>\u001b[0;34m()\u001b[0m\n\u001b[0;32m----> 1\u001b[0m \u001b[38;5;28;43mfloat\u001b[39;49m\u001b[43m(\u001b[49m\u001b[38;5;241;43m5.12\u001b[39;49m\u001b[43m \u001b[49m\u001b[38;5;241;43m+\u001b[39;49m\u001b[43m \u001b[49m\u001b[38;5;241;43m11\u001b[39;49m\u001b[43mj\u001b[49m\u001b[43m)\u001b[49m\n",
      "\u001b[0;31mTypeError\u001b[0m: can't convert complex to float"
     ]
    }
   ],
   "source": [
    "float(5.12 + 11j)"
   ]
  },
  {
   "cell_type": "code",
   "execution_count": 56,
   "metadata": {
    "ExecuteTime": {
     "end_time": "2022-09-24T13:56:10.563956Z",
     "start_time": "2022-09-24T13:56:10.542898Z"
    },
    "deletable": false,
    "editable": false,
    "run_control": {
     "frozen": true
    }
   },
   "outputs": [
    {
     "ename": "ValueError",
     "evalue": "could not convert string to float: '0X101101'",
     "output_type": "error",
     "traceback": [
      "\u001b[0;31m---------------------------------------------------------------------------\u001b[0m",
      "\u001b[0;31mValueError\u001b[0m                                Traceback (most recent call last)",
      "Input \u001b[0;32mIn [56]\u001b[0m, in \u001b[0;36m<cell line: 1>\u001b[0;34m()\u001b[0m\n\u001b[0;32m----> 1\u001b[0m \u001b[38;5;28;43mfloat\u001b[39;49m\u001b[43m(\u001b[49m\u001b[38;5;124;43m\"\u001b[39;49m\u001b[38;5;124;43m0X101101\u001b[39;49m\u001b[38;5;124;43m\"\u001b[39;49m\u001b[43m)\u001b[49m\n",
      "\u001b[0;31mValueError\u001b[0m: could not convert string to float: '0X101101'"
     ]
    }
   ],
   "source": [
    "float(\"0X101101\")"
   ]
  },
  {
   "cell_type": "markdown",
   "metadata": {},
   "source": [
    "### Type Casting (complex & bool & str)\n",
    "It is also called **conversion** or **casting** or **coersion**.\n",
    "\n",
    "|From Type|To Type|Possibility|$$|$$|From Type|To Type|Possibility|\n",
    "|-----|----|--------------|-|-----|----|--------------|\n",
    "|<p align=\"left\">Int|<p align=\"left\">Complex|<p align=\"left\">Possible|$$|$$|<p align=\"left\">Int|<p align=\"left\">Boolean & String|<p align=\"left\">Possible|\n",
    "|<p align=\"left\">Float|<p align=\"left\">Complex|<p align=\"left\">Possible|$$|$$|<p align=\"left\">Float|<p align=\"left\">Boolean & String|<p align=\"left\">Possible|\n",
    "|<p align=\"left\">Boolean|<p align=\"left\">Complex|<p align=\"left\">Possible|$$|$$|<p align=\"left\">Complex|<p align=\"left\">Boolean & String|<p align=\"left\">Possible|\n",
    "|<p align=\"left\">String|<p align=\"left\">Complex|<p align=\"left\">Only one argument can be passed else **TypeError**|$$|$$|<p align=\"left\">String|<p align=\"left\">Boolean & String|<p align=\"left\">Possible|\n",
    "    \n",
    "    \n",
    "**Error Values**<br>\n",
    "`TypeError`<br>\n",
    "`ValueError`<br>\n"
   ]
  },
  {
   "cell_type": "code",
   "execution_count": 53,
   "metadata": {
    "ExecuteTime": {
     "end_time": "2022-09-24T14:27:39.078416Z",
     "start_time": "2022-09-24T14:27:39.071407Z"
    }
   },
   "outputs": [
    {
     "name": "stdout",
     "output_type": "stream",
     "text": [
      "(10+0j) (10.5+0j) (10+20j)\n"
     ]
    }
   ],
   "source": [
    "print (complex(10),complex(10.5),complex(10,20))"
   ]
  },
  {
   "cell_type": "code",
   "execution_count": 54,
   "metadata": {
    "ExecuteTime": {
     "end_time": "2022-09-24T14:27:39.090303Z",
     "start_time": "2022-09-24T14:27:39.084186Z"
    }
   },
   "outputs": [
    {
     "name": "stdout",
     "output_type": "stream",
     "text": [
      "(1+0j) 0j (1+0j)\n"
     ]
    }
   ],
   "source": [
    "print (complex(True),complex(False),complex(True,False))"
   ]
  },
  {
   "cell_type": "code",
   "execution_count": 55,
   "metadata": {
    "ExecuteTime": {
     "end_time": "2022-09-24T14:27:39.101385Z",
     "start_time": "2022-09-24T14:27:39.094572Z"
    }
   },
   "outputs": [
    {
     "name": "stdout",
     "output_type": "stream",
     "text": [
      "(10+0j) (10.5+0j)\n"
     ]
    }
   ],
   "source": [
    "print (complex('10'),complex('10.5'))"
   ]
  },
  {
   "cell_type": "code",
   "execution_count": 60,
   "metadata": {
    "ExecuteTime": {
     "end_time": "2022-09-24T13:58:52.465157Z",
     "start_time": "2022-09-24T13:58:52.429338Z"
    },
    "deletable": false,
    "editable": false,
    "run_control": {
     "frozen": true
    }
   },
   "outputs": [
    {
     "ename": "TypeError",
     "evalue": "complex() can't take second arg if first is a string",
     "output_type": "error",
     "traceback": [
      "\u001b[0;31m---------------------------------------------------------------------------\u001b[0m",
      "\u001b[0;31mTypeError\u001b[0m                                 Traceback (most recent call last)",
      "Input \u001b[0;32mIn [60]\u001b[0m, in \u001b[0;36m<cell line: 1>\u001b[0;34m()\u001b[0m\n\u001b[0;32m----> 1\u001b[0m \u001b[38;5;28mprint\u001b[39m (\u001b[38;5;28;43mcomplex\u001b[39;49m\u001b[43m(\u001b[49m\u001b[38;5;124;43m'\u001b[39;49m\u001b[38;5;124;43m10\u001b[39;49m\u001b[38;5;124;43m'\u001b[39;49m\u001b[43m,\u001b[49m\u001b[38;5;241;43m10\u001b[39;49m\u001b[43m)\u001b[49m)\n",
      "\u001b[0;31mTypeError\u001b[0m: complex() can't take second arg if first is a string"
     ]
    }
   ],
   "source": [
    "print (complex('10',10))"
   ]
  },
  {
   "cell_type": "code",
   "execution_count": 61,
   "metadata": {
    "ExecuteTime": {
     "end_time": "2022-09-24T13:58:52.672779Z",
     "start_time": "2022-09-24T13:58:52.592514Z"
    },
    "deletable": false,
    "editable": false,
    "run_control": {
     "frozen": true
    }
   },
   "outputs": [
    {
     "ename": "ValueError",
     "evalue": "complex() arg is a malformed string",
     "output_type": "error",
     "traceback": [
      "\u001b[0;31m---------------------------------------------------------------------------\u001b[0m",
      "\u001b[0;31mValueError\u001b[0m                                Traceback (most recent call last)",
      "Input \u001b[0;32mIn [61]\u001b[0m, in \u001b[0;36m<cell line: 1>\u001b[0;34m()\u001b[0m\n\u001b[0;32m----> 1\u001b[0m \u001b[38;5;28;43mcomplex\u001b[39;49m\u001b[43m(\u001b[49m\u001b[38;5;124;43m'\u001b[39;49m\u001b[38;5;124;43mten\u001b[39;49m\u001b[38;5;124;43m'\u001b[39;49m\u001b[43m)\u001b[49m\n",
      "\u001b[0;31mValueError\u001b[0m: complex() arg is a malformed string"
     ]
    }
   ],
   "source": [
    "complex('ten')"
   ]
  },
  {
   "cell_type": "code",
   "execution_count": 62,
   "metadata": {
    "ExecuteTime": {
     "end_time": "2022-09-24T13:58:52.792068Z",
     "start_time": "2022-09-24T13:58:52.771982Z"
    },
    "deletable": false,
    "editable": false,
    "run_control": {
     "frozen": true
    }
   },
   "outputs": [
    {
     "ename": "ValueError",
     "evalue": "complex() arg is a malformed string",
     "output_type": "error",
     "traceback": [
      "\u001b[0;31m---------------------------------------------------------------------------\u001b[0m",
      "\u001b[0;31mValueError\u001b[0m                                Traceback (most recent call last)",
      "Input \u001b[0;32mIn [62]\u001b[0m, in \u001b[0;36m<cell line: 1>\u001b[0;34m()\u001b[0m\n\u001b[0;32m----> 1\u001b[0m \u001b[38;5;28;43mcomplex\u001b[39;49m\u001b[43m(\u001b[49m\u001b[38;5;124;43m'\u001b[39;49m\u001b[38;5;124;43m0XABCD\u001b[39;49m\u001b[38;5;124;43m'\u001b[39;49m\u001b[43m)\u001b[49m\n",
      "\u001b[0;31mValueError\u001b[0m: complex() arg is a malformed string"
     ]
    }
   ],
   "source": [
    "complex('0XABCD')"
   ]
  },
  {
   "cell_type": "code",
   "execution_count": 56,
   "metadata": {
    "ExecuteTime": {
     "end_time": "2022-09-24T14:27:39.118667Z",
     "start_time": "2022-09-24T14:27:39.108083Z"
    }
   },
   "outputs": [
    {
     "name": "stdout",
     "output_type": "stream",
     "text": [
      "False True\n"
     ]
    }
   ],
   "source": [
    "print (bool(0.0),bool(10))"
   ]
  },
  {
   "cell_type": "code",
   "execution_count": 57,
   "metadata": {
    "ExecuteTime": {
     "end_time": "2022-09-24T14:27:39.156812Z",
     "start_time": "2022-09-24T14:27:39.132226Z"
    }
   },
   "outputs": [
    {
     "name": "stdout",
     "output_type": "stream",
     "text": [
      "True True True\n"
     ]
    }
   ],
   "source": [
    "print (bool(-10.5),bool(10.5 + 10.5j),bool(0.0001))"
   ]
  },
  {
   "cell_type": "code",
   "execution_count": 58,
   "metadata": {
    "ExecuteTime": {
     "end_time": "2022-09-24T14:27:39.185790Z",
     "start_time": "2022-09-24T14:27:39.176812Z"
    }
   },
   "outputs": [
    {
     "name": "stdout",
     "output_type": "stream",
     "text": [
      "True False True\n"
     ]
    }
   ],
   "source": [
    "print (bool(10.5 + 10.5j),bool(0 + 0j),bool(0 + 0.1j))"
   ]
  },
  {
   "cell_type": "code",
   "execution_count": 59,
   "metadata": {
    "ExecuteTime": {
     "end_time": "2022-09-24T14:27:39.213207Z",
     "start_time": "2022-09-24T14:27:39.206052Z"
    }
   },
   "outputs": [
    {
     "name": "stdout",
     "output_type": "stream",
     "text": [
      "False True\n"
     ]
    }
   ],
   "source": [
    "print (bool(''),bool(' '))"
   ]
  },
  {
   "cell_type": "code",
   "execution_count": 60,
   "metadata": {
    "ExecuteTime": {
     "end_time": "2022-09-24T14:27:39.248991Z",
     "start_time": "2022-09-24T14:27:39.238558Z"
    }
   },
   "outputs": [
    {
     "data": {
      "text/plain": [
       "'0.0'"
      ]
     },
     "execution_count": 60,
     "metadata": {},
     "output_type": "execute_result"
    }
   ],
   "source": [
    "str(0.0)"
   ]
  },
  {
   "cell_type": "code",
   "execution_count": 61,
   "metadata": {
    "ExecuteTime": {
     "end_time": "2022-09-24T14:27:39.262701Z",
     "start_time": "2022-09-24T14:27:39.254280Z"
    }
   },
   "outputs": [
    {
     "data": {
      "text/plain": [
       "'  '"
      ]
     },
     "execution_count": 61,
     "metadata": {},
     "output_type": "execute_result"
    }
   ],
   "source": [
    "str ('  ')"
   ]
  },
  {
   "cell_type": "markdown",
   "metadata": {},
   "source": [
    "### Mutable and Immutable\n",
    "`If the same content required repeatedly, then no need to create new objects everytime in RAM`.<br>\n",
    "`All Fundamental Datatypes are immutable`\n",
    "\n",
    "    * Increase Object Re-Usability\n",
    "    * Decrease Memory Utilization\n",
    "    * Increase Performance\n",
    "    \n",
    "`To verify the objects having same reference, **is** Operator can be used.`<br>\n",
    "`It will verify the Underlying Memory block.`<br>\n",
    "`The below default objects will be created while python interpretor initilize.`\n",
    "   \n",
    "    * Strings without whitespaces,Special charecters and only less than 20 characters\n",
    "\t* Integers from -5 to +256 and boolean.\n",
    "    * Float & Complex is Not Possible"
   ]
  },
  {
   "cell_type": "code",
   "execution_count": 62,
   "metadata": {
    "ExecuteTime": {
     "end_time": "2022-09-24T14:27:39.275658Z",
     "start_time": "2022-09-24T14:27:39.269551Z"
    }
   },
   "outputs": [],
   "source": [
    "obj_1 = 'Chennai'\n",
    "obj_2 = 'Chennai'\n",
    "obj_3 = 'Chennai'\n",
    "obj_4 = 'Chennai'"
   ]
  },
  {
   "cell_type": "code",
   "execution_count": 63,
   "metadata": {
    "ExecuteTime": {
     "end_time": "2022-09-24T14:27:39.290138Z",
     "start_time": "2022-09-24T14:27:39.282234Z"
    }
   },
   "outputs": [
    {
     "name": "stdout",
     "output_type": "stream",
     "text": [
      "140320513895728 140320513895728 140320513895728 140320513895728\n"
     ]
    }
   ],
   "source": [
    "print (id(obj_1),id(obj_2),id(obj_3),id(obj_4))"
   ]
  },
  {
   "cell_type": "code",
   "execution_count": 64,
   "metadata": {
    "ExecuteTime": {
     "end_time": "2022-09-24T14:27:39.305376Z",
     "start_time": "2022-09-24T14:27:39.298131Z"
    }
   },
   "outputs": [
    {
     "name": "stdout",
     "output_type": "stream",
     "text": [
      "140320513895728 140320513895728 140320513895728 140320514081648\n"
     ]
    }
   ],
   "source": [
    "obj_4 = 'Coimbatore'\n",
    "print (id(obj_1),id(obj_2),id(obj_3),id(obj_4))"
   ]
  },
  {
   "cell_type": "code",
   "execution_count": 65,
   "metadata": {
    "ExecuteTime": {
     "end_time": "2022-09-24T14:27:39.319287Z",
     "start_time": "2022-09-24T14:27:39.311693Z"
    }
   },
   "outputs": [
    {
     "data": {
      "text/plain": [
       "True"
      ]
     },
     "execution_count": 65,
     "metadata": {},
     "output_type": "execute_result"
    }
   ],
   "source": [
    "obj_1 is obj_2"
   ]
  },
  {
   "cell_type": "code",
   "execution_count": 66,
   "metadata": {
    "ExecuteTime": {
     "end_time": "2022-09-24T14:27:39.334130Z",
     "start_time": "2022-09-24T14:27:39.324261Z"
    }
   },
   "outputs": [
    {
     "data": {
      "text/plain": [
       "False"
      ]
     },
     "execution_count": 66,
     "metadata": {},
     "output_type": "execute_result"
    }
   ],
   "source": [
    "obj_1 is obj_4"
   ]
  },
  {
   "cell_type": "code",
   "execution_count": 67,
   "metadata": {
    "ExecuteTime": {
     "end_time": "2022-09-24T14:27:39.345103Z",
     "start_time": "2022-09-24T14:27:39.338506Z"
    }
   },
   "outputs": [],
   "source": [
    "x = True\n",
    "y = True\n",
    "z = True"
   ]
  },
  {
   "cell_type": "code",
   "execution_count": 68,
   "metadata": {
    "ExecuteTime": {
     "end_time": "2022-09-24T14:27:39.359167Z",
     "start_time": "2022-09-24T14:27:39.349279Z"
    }
   },
   "outputs": [
    {
     "data": {
      "text/plain": [
       "True"
      ]
     },
     "execution_count": 68,
     "metadata": {},
     "output_type": "execute_result"
    }
   ],
   "source": [
    "x is y is z"
   ]
  },
  {
   "cell_type": "code",
   "execution_count": 69,
   "metadata": {
    "ExecuteTime": {
     "end_time": "2022-09-24T14:27:39.382245Z",
     "start_time": "2022-09-24T14:27:39.363096Z"
    }
   },
   "outputs": [
    {
     "data": {
      "text/plain": [
       "False"
      ]
     },
     "execution_count": 69,
     "metadata": {},
     "output_type": "execute_result"
    }
   ],
   "source": [
    "a = False\n",
    "x is y is z is a"
   ]
  },
  {
   "cell_type": "code",
   "execution_count": 70,
   "metadata": {
    "ExecuteTime": {
     "end_time": "2022-09-24T14:27:39.393927Z",
     "start_time": "2022-09-24T14:27:39.387694Z"
    }
   },
   "outputs": [
    {
     "name": "stdout",
     "output_type": "stream",
     "text": [
      "4363467088 4363467088\n"
     ]
    }
   ],
   "source": [
    "x = -5\n",
    "y = -5\n",
    "print (id(x),id(y))"
   ]
  },
  {
   "cell_type": "code",
   "execution_count": 71,
   "metadata": {
    "ExecuteTime": {
     "end_time": "2022-09-24T14:27:39.405970Z",
     "start_time": "2022-09-24T14:27:39.399376Z"
    }
   },
   "outputs": [
    {
     "name": "stdout",
     "output_type": "stream",
     "text": [
      "140320513989904 140320513989616\n"
     ]
    }
   ],
   "source": [
    "x = -6\n",
    "y = -6\n",
    "print (id(x),id(y))"
   ]
  },
  {
   "cell_type": "code",
   "execution_count": 72,
   "metadata": {
    "ExecuteTime": {
     "end_time": "2022-09-24T14:27:39.502342Z",
     "start_time": "2022-09-24T14:27:39.493542Z"
    }
   },
   "outputs": [
    {
     "name": "stdout",
     "output_type": "stream",
     "text": [
      "140320512881392 140320512881392\n"
     ]
    }
   ],
   "source": [
    "x = y = -7\n",
    "print (id(x),id(y))"
   ]
  },
  {
   "cell_type": "code",
   "execution_count": 73,
   "metadata": {
    "ExecuteTime": {
     "end_time": "2022-09-24T14:27:39.513442Z",
     "start_time": "2022-09-24T14:27:39.507692Z"
    }
   },
   "outputs": [
    {
     "name": "stdout",
     "output_type": "stream",
     "text": [
      "140320513989904 140320513989808\n"
     ]
    }
   ],
   "source": [
    "x = 257 + 256j\n",
    "y = 257 + 256j\n",
    "print (id(x),id(y))"
   ]
  },
  {
   "cell_type": "code",
   "execution_count": 74,
   "metadata": {
    "ExecuteTime": {
     "end_time": "2022-09-24T14:27:39.527892Z",
     "start_time": "2022-09-24T14:27:39.520624Z"
    }
   },
   "outputs": [
    {
     "name": "stdout",
     "output_type": "stream",
     "text": [
      "140320512881040 140320513990064\n"
     ]
    }
   ],
   "source": [
    "x = 10.56\n",
    "y = 10.56\n",
    "print (id(x),id(y))"
   ]
  },
  {
   "cell_type": "code",
   "execution_count": 75,
   "metadata": {
    "ExecuteTime": {
     "end_time": "2022-09-24T14:27:39.543069Z",
     "start_time": "2022-09-24T14:27:39.534712Z"
    }
   },
   "outputs": [
    {
     "name": "stdout",
     "output_type": "stream",
     "text": [
      "140320513909584 140320513915360\n"
     ]
    }
   ],
   "source": [
    "x = 'Vignesh Palanivel'\n",
    "y = 'Vignesh Palanivel'\n",
    "print (id(x),id(y))"
   ]
  },
  {
   "cell_type": "code",
   "execution_count": 76,
   "metadata": {
    "ExecuteTime": {
     "end_time": "2022-09-24T14:27:39.555006Z",
     "start_time": "2022-09-24T14:27:39.549220Z"
    }
   },
   "outputs": [
    {
     "name": "stdout",
     "output_type": "stream",
     "text": [
      "140320513870384 140320513870384\n"
     ]
    }
   ],
   "source": [
    "x = 'VigneshPalanivel'\n",
    "y = 'VigneshPalanivel'\n",
    "print (id(x),id(y))"
   ]
  },
  {
   "cell_type": "code",
   "execution_count": 77,
   "metadata": {
    "ExecuteTime": {
     "end_time": "2022-09-24T14:27:39.570770Z",
     "start_time": "2022-09-24T14:27:39.561231Z"
    }
   },
   "outputs": [
    {
     "name": "stdout",
     "output_type": "stream",
     "text": [
      "140320513466240 140320513466240\n"
     ]
    }
   ],
   "source": [
    "x = 'Vignesh_Palanivel'\n",
    "y = 'Vignesh_Palanivel'\n",
    "print (id(x),id(y))"
   ]
  },
  {
   "cell_type": "code",
   "execution_count": 78,
   "metadata": {
    "ExecuteTime": {
     "end_time": "2022-09-24T14:27:39.606743Z",
     "start_time": "2022-09-24T14:27:39.584846Z"
    }
   },
   "outputs": [
    {
     "name": "stdout",
     "output_type": "stream",
     "text": [
      "140320513870064 140320514243360\n"
     ]
    }
   ],
   "source": [
    "x = 'Vignesh&Palanivel'\n",
    "y = 'Vignesh&Palanivel'\n",
    "print (id(x),id(y))"
   ]
  },
  {
   "cell_type": "code",
   "execution_count": 79,
   "metadata": {
    "ExecuteTime": {
     "end_time": "2022-09-24T14:27:39.632911Z",
     "start_time": "2022-09-24T14:27:39.623158Z"
    },
    "scrolled": true
   },
   "outputs": [
    {
     "name": "stdout",
     "output_type": "stream",
     "text": [
      "{\n",
      "    \"Im-Mutable\": [\n",
      "        \"bytes\",\n",
      "        \"tuple\",\n",
      "        \"frozenset\",\n",
      "        \"range\"\n",
      "    ],\n",
      "    \"Mutable\": [\n",
      "        \"bytearray\",\n",
      "        \"list\",\n",
      "        \"set\",\n",
      "        \"dict\"\n",
      "    ],\n",
      "    \"Special\": [\n",
      "        \"range\",\n",
      "        \"None\"\n",
      "    ]\n",
      "}\n"
     ]
    }
   ],
   "source": [
    "import json\n",
    "mutable_immutable     = {'Mutable' : ['bytearray','list','set','dict'],\n",
    "                      'Im-Mutable' : ['bytes','tuple','frozenset','range'],\n",
    "                         'Special' : ['range','None']\n",
    "                        }\n",
    "print(json.dumps(mutable_immutable,sort_keys=True,indent=4))"
   ]
  },
  {
   "cell_type": "markdown",
   "metadata": {},
   "source": [
    "## Advanced datatypes in Python\n",
    "### Bytes and Bytearray Datatype\n",
    "A group of byte numbers(like array)<br>\n",
    "Used in **Images, Videos, Documnets**, etc....\n",
    "\n",
    "\n",
    "|Bytes Datatype|ByteArray Datatype|\n",
    "|-----|---------|\n",
    "|<p align=\"left\">Range is 0 - 256|<p align=\"left\">Range is 0 - 256|\n",
    "|<p align=\"left\">Immutable datatype|<p align=\"left\">Mutable datatype|\n",
    "|<p align=\"left\">(No - Item Assignement)|<p align=\"left\">(Item Assignement)|\n",
    "\n",
    "\n",
    "**Error**<br>\n",
    "`ValueError`<br>\n",
    "`TypeError`<br>"
   ]
  },
  {
   "cell_type": "code",
   "execution_count": 80,
   "metadata": {
    "ExecuteTime": {
     "end_time": "2022-09-24T14:27:39.657584Z",
     "start_time": "2022-09-24T14:27:39.645481Z"
    }
   },
   "outputs": [
    {
     "data": {
      "text/plain": [
       "bytes"
      ]
     },
     "execution_count": 80,
     "metadata": {},
     "output_type": "execute_result"
    }
   ],
   "source": [
    "a = [10,20,30,40]\n",
    "a = bytes(a)\n",
    "type(a)"
   ]
  },
  {
   "cell_type": "code",
   "execution_count": 81,
   "metadata": {
    "ExecuteTime": {
     "end_time": "2022-09-24T14:27:39.677516Z",
     "start_time": "2022-09-24T14:27:39.665968Z"
    }
   },
   "outputs": [
    {
     "data": {
      "text/plain": [
       "b'\\n\\x14\\x1e'"
      ]
     },
     "execution_count": 81,
     "metadata": {},
     "output_type": "execute_result"
    }
   ],
   "source": [
    "a[0:3]"
   ]
  },
  {
   "cell_type": "code",
   "execution_count": 82,
   "metadata": {
    "ExecuteTime": {
     "end_time": "2022-09-24T14:27:39.706942Z",
     "start_time": "2022-09-24T14:27:39.698673Z"
    }
   },
   "outputs": [
    {
     "data": {
      "text/plain": [
       "30"
      ]
     },
     "execution_count": 82,
     "metadata": {},
     "output_type": "execute_result"
    }
   ],
   "source": [
    "a[2]"
   ]
  },
  {
   "cell_type": "code",
   "execution_count": 83,
   "metadata": {
    "ExecuteTime": {
     "end_time": "2022-09-24T13:59:41.930090Z",
     "start_time": "2022-09-24T13:59:41.033165Z"
    },
    "deletable": false,
    "editable": false,
    "run_control": {
     "frozen": true
    }
   },
   "outputs": [
    {
     "ename": "TypeError",
     "evalue": "'bytes' object does not support item assignment",
     "output_type": "error",
     "traceback": [
      "\u001b[0;31m---------------------------------------------------------------------------\u001b[0m",
      "\u001b[0;31mTypeError\u001b[0m                                 Traceback (most recent call last)",
      "Input \u001b[0;32mIn [83]\u001b[0m, in \u001b[0;36m<cell line: 1>\u001b[0;34m()\u001b[0m\n\u001b[0;32m----> 1\u001b[0m a[\u001b[38;5;241m2\u001b[39m] \u001b[38;5;241m=\u001b[39m \u001b[38;5;241m300\u001b[39m\n",
      "\u001b[0;31mTypeError\u001b[0m: 'bytes' object does not support item assignment"
     ]
    }
   ],
   "source": [
    "a[2] = 300"
   ]
  },
  {
   "cell_type": "code",
   "execution_count": 84,
   "metadata": {
    "ExecuteTime": {
     "end_time": "2022-09-24T14:02:43.583962Z",
     "start_time": "2022-09-24T14:02:43.562074Z"
    },
    "deletable": false,
    "editable": false,
    "run_control": {
     "frozen": true
    }
   },
   "outputs": [
    {
     "ename": "ValueError",
     "evalue": "bytes must be in range(0, 256)",
     "output_type": "error",
     "traceback": [
      "\u001b[0;31m---------------------------------------------------------------------------\u001b[0m",
      "\u001b[0;31mValueError\u001b[0m                                Traceback (most recent call last)",
      "Input \u001b[0;32mIn [84]\u001b[0m, in \u001b[0;36m<cell line: 2>\u001b[0;34m()\u001b[0m\n\u001b[1;32m      1\u001b[0m a \u001b[38;5;241m=\u001b[39m [\u001b[38;5;241m10\u001b[39m,\u001b[38;5;241m20\u001b[39m,\u001b[38;5;241m30\u001b[39m,\u001b[38;5;241m40\u001b[39m,\u001b[38;5;241m257\u001b[39m]\n\u001b[0;32m----> 2\u001b[0m a \u001b[38;5;241m=\u001b[39m \u001b[38;5;28;43mbytes\u001b[39;49m\u001b[43m(\u001b[49m\u001b[43ma\u001b[49m\u001b[43m)\u001b[49m\n",
      "\u001b[0;31mValueError\u001b[0m: bytes must be in range(0, 256)"
     ]
    }
   ],
   "source": [
    "a = [10,20,30,40,257]\n",
    "a = bytes(a)"
   ]
  },
  {
   "cell_type": "code",
   "execution_count": 83,
   "metadata": {
    "ExecuteTime": {
     "end_time": "2022-09-24T14:27:39.723656Z",
     "start_time": "2022-09-24T14:27:39.714039Z"
    }
   },
   "outputs": [
    {
     "data": {
      "text/plain": [
       "bytearray"
      ]
     },
     "execution_count": 83,
     "metadata": {},
     "output_type": "execute_result"
    }
   ],
   "source": [
    "a = [10,20,30,40]\n",
    "a = bytearray(a)\n",
    "type(a)"
   ]
  },
  {
   "cell_type": "code",
   "execution_count": 84,
   "metadata": {
    "ExecuteTime": {
     "end_time": "2022-09-24T14:27:39.741103Z",
     "start_time": "2022-09-24T14:27:39.730036Z"
    }
   },
   "outputs": [
    {
     "data": {
      "text/plain": [
       "bytearray(b'\\n\\x14\\x1e')"
      ]
     },
     "execution_count": 84,
     "metadata": {},
     "output_type": "execute_result"
    }
   ],
   "source": [
    "a[0:3]"
   ]
  },
  {
   "cell_type": "code",
   "execution_count": 85,
   "metadata": {
    "ExecuteTime": {
     "end_time": "2022-09-24T14:27:39.761437Z",
     "start_time": "2022-09-24T14:27:39.748165Z"
    }
   },
   "outputs": [
    {
     "data": {
      "text/plain": [
       "30"
      ]
     },
     "execution_count": 85,
     "metadata": {},
     "output_type": "execute_result"
    }
   ],
   "source": [
    "a[2]"
   ]
  },
  {
   "cell_type": "code",
   "execution_count": 86,
   "metadata": {
    "ExecuteTime": {
     "end_time": "2022-09-24T14:27:39.774233Z",
     "start_time": "2022-09-24T14:27:39.767034Z"
    }
   },
   "outputs": [
    {
     "name": "stdout",
     "output_type": "stream",
     "text": [
      "bytearray(b'\\n\\x14\\x19(')\n"
     ]
    }
   ],
   "source": [
    "a[2] = 25\n",
    "print(a)"
   ]
  },
  {
   "cell_type": "code",
   "execution_count": 89,
   "metadata": {
    "ExecuteTime": {
     "end_time": "2022-09-24T14:03:04.071682Z",
     "start_time": "2022-09-24T14:03:04.042256Z"
    },
    "deletable": false,
    "editable": false,
    "run_control": {
     "frozen": true
    }
   },
   "outputs": [
    {
     "ename": "ValueError",
     "evalue": "byte must be in range(0, 256)",
     "output_type": "error",
     "traceback": [
      "\u001b[0;31m---------------------------------------------------------------------------\u001b[0m",
      "\u001b[0;31mValueError\u001b[0m                                Traceback (most recent call last)",
      "Input \u001b[0;32mIn [89]\u001b[0m, in \u001b[0;36m<cell line: 2>\u001b[0;34m()\u001b[0m\n\u001b[1;32m      1\u001b[0m a \u001b[38;5;241m=\u001b[39m [\u001b[38;5;241m10\u001b[39m,\u001b[38;5;241m20\u001b[39m,\u001b[38;5;241m30\u001b[39m,\u001b[38;5;241m40\u001b[39m,\u001b[38;5;241m257\u001b[39m]\n\u001b[0;32m----> 2\u001b[0m a \u001b[38;5;241m=\u001b[39m \u001b[38;5;28;43mbytearray\u001b[39;49m\u001b[43m(\u001b[49m\u001b[43ma\u001b[49m\u001b[43m)\u001b[49m\n",
      "\u001b[0;31mValueError\u001b[0m: byte must be in range(0, 256)"
     ]
    }
   ],
   "source": [
    "a = [10,20,30,40,257]\n",
    "a = bytearray(a)"
   ]
  },
  {
   "cell_type": "markdown",
   "metadata": {},
   "source": [
    "### List and Tuple Datatype\n",
    "\n",
    "Repetation Operator can be used with both the types\n",
    "\n",
    "|List Dataype|Tuple Datatype|\n",
    "|-----|---------|\n",
    "|<p align=\"left\">Insertion Order is preserved|<p align=\"left\">Insertion Order is preserved|\n",
    "|<p align=\"left\">Duplicates are Allowed|<p align=\"left\">Duplicates are Allowed|\n",
    "|<p align=\"left\">Hetrogeneous objects are allowed|<p align=\"left\">Hetrogeneous objects are allowed|\n",
    "|<p align=\"left\">Mutable(Item Assignement,etc...)|<p align=\"left\">Im-Mutable(Item Assignement,etc...)|\n",
    "|<p align=\"left\">Inserstion and Deletion|<p align=\"left\">No Inserstion and Deletion|\n",
    "    \n",
    "\n",
    "**Error**<br>\n",
    "`TypeError`<br>\n",
    "`AttributeError`<br>"
   ]
  },
  {
   "cell_type": "code",
   "execution_count": 87,
   "metadata": {
    "ExecuteTime": {
     "end_time": "2022-09-24T14:27:39.792515Z",
     "start_time": "2022-09-24T14:27:39.781424Z"
    }
   },
   "outputs": [
    {
     "data": {
      "text/plain": [
       "[10, 20, 1, 2, 10]"
      ]
     },
     "execution_count": 87,
     "metadata": {},
     "output_type": "execute_result"
    }
   ],
   "source": [
    "l = []\n",
    "l.append(10)\n",
    "l.append(20)\n",
    "l.append(1)\n",
    "l.append(2)\n",
    "l.append(10)\n",
    "l"
   ]
  },
  {
   "cell_type": "code",
   "execution_count": 88,
   "metadata": {
    "ExecuteTime": {
     "end_time": "2022-09-24T14:27:39.810662Z",
     "start_time": "2022-09-24T14:27:39.798910Z"
    }
   },
   "outputs": [
    {
     "data": {
      "text/plain": [
       "['Vignesh', None, True, str]"
      ]
     },
     "execution_count": 88,
     "metadata": {},
     "output_type": "execute_result"
    }
   ],
   "source": [
    "l = []\n",
    "l.append('Vignesh')\n",
    "l.append(None)\n",
    "l.append(True)\n",
    "l.append(str)\n",
    "l"
   ]
  },
  {
   "cell_type": "code",
   "execution_count": 89,
   "metadata": {
    "ExecuteTime": {
     "end_time": "2022-09-24T14:27:39.840786Z",
     "start_time": "2022-09-24T14:27:39.817884Z"
    }
   },
   "outputs": [
    {
     "data": {
      "text/plain": [
       "str"
      ]
     },
     "execution_count": 89,
     "metadata": {},
     "output_type": "execute_result"
    }
   ],
   "source": [
    "type(l[0])"
   ]
  },
  {
   "cell_type": "code",
   "execution_count": 90,
   "metadata": {
    "ExecuteTime": {
     "end_time": "2022-09-24T14:27:39.891679Z",
     "start_time": "2022-09-24T14:27:39.844782Z"
    }
   },
   "outputs": [
    {
     "data": {
      "text/plain": [
       "type"
      ]
     },
     "execution_count": 90,
     "metadata": {},
     "output_type": "execute_result"
    }
   ],
   "source": [
    "type(l[3])"
   ]
  },
  {
   "cell_type": "code",
   "execution_count": 91,
   "metadata": {
    "ExecuteTime": {
     "end_time": "2022-09-24T14:27:39.907249Z",
     "start_time": "2022-09-24T14:27:39.896404Z"
    }
   },
   "outputs": [
    {
     "data": {
      "text/plain": [
       "['Vignesh',\n",
       " None,\n",
       " True,\n",
       " str,\n",
       " 'Vignesh',\n",
       " None,\n",
       " True,\n",
       " str,\n",
       " 'Vignesh',\n",
       " None,\n",
       " True,\n",
       " str]"
      ]
     },
     "execution_count": 91,
     "metadata": {},
     "output_type": "execute_result"
    }
   ],
   "source": [
    "l * 3"
   ]
  },
  {
   "cell_type": "code",
   "execution_count": 95,
   "metadata": {
    "ExecuteTime": {
     "end_time": "2022-09-24T14:03:20.580205Z",
     "start_time": "2022-09-24T14:03:20.557967Z"
    },
    "deletable": false,
    "editable": false,
    "run_control": {
     "frozen": true
    }
   },
   "outputs": [
    {
     "ename": "TypeError",
     "evalue": "can't multiply sequence by non-int of type 'list'",
     "output_type": "error",
     "traceback": [
      "\u001b[0;31m---------------------------------------------------------------------------\u001b[0m",
      "\u001b[0;31mTypeError\u001b[0m                                 Traceback (most recent call last)",
      "Input \u001b[0;32mIn [95]\u001b[0m, in \u001b[0;36m<cell line: 1>\u001b[0;34m()\u001b[0m\n\u001b[0;32m----> 1\u001b[0m \u001b[43ml\u001b[49m\u001b[43m \u001b[49m\u001b[38;5;241;43m*\u001b[39;49m\u001b[43m \u001b[49m\u001b[43ml\u001b[49m\n",
      "\u001b[0;31mTypeError\u001b[0m: can't multiply sequence by non-int of type 'list'"
     ]
    }
   ],
   "source": [
    "l * l"
   ]
  },
  {
   "cell_type": "code",
   "execution_count": 92,
   "metadata": {
    "ExecuteTime": {
     "end_time": "2022-09-24T14:27:39.923459Z",
     "start_time": "2022-09-24T14:27:39.910618Z"
    }
   },
   "outputs": [
    {
     "data": {
      "text/plain": [
       "(10, 100, 1000, 10)"
      ]
     },
     "execution_count": 92,
     "metadata": {},
     "output_type": "execute_result"
    }
   ],
   "source": [
    "t = [10,100,1000,10]\n",
    "t = tuple(t)\n",
    "t"
   ]
  },
  {
   "cell_type": "code",
   "execution_count": 97,
   "metadata": {
    "ExecuteTime": {
     "end_time": "2022-09-24T14:03:38.163682Z",
     "start_time": "2022-09-24T14:03:38.130785Z"
    },
    "deletable": false,
    "editable": false,
    "run_control": {
     "frozen": true
    }
   },
   "outputs": [
    {
     "ename": "AttributeError",
     "evalue": "'tuple' object has no attribute 'append'",
     "output_type": "error",
     "traceback": [
      "\u001b[0;31m---------------------------------------------------------------------------\u001b[0m",
      "\u001b[0;31mAttributeError\u001b[0m                            Traceback (most recent call last)",
      "Input \u001b[0;32mIn [97]\u001b[0m, in \u001b[0;36m<cell line: 1>\u001b[0;34m()\u001b[0m\n\u001b[0;32m----> 1\u001b[0m \u001b[43mt\u001b[49m\u001b[38;5;241;43m.\u001b[39;49m\u001b[43mappend\u001b[49m(\u001b[38;5;28mstr\u001b[39m)\n",
      "\u001b[0;31mAttributeError\u001b[0m: 'tuple' object has no attribute 'append'"
     ]
    }
   ],
   "source": [
    "t.append(str)"
   ]
  },
  {
   "cell_type": "code",
   "execution_count": 98,
   "metadata": {
    "ExecuteTime": {
     "end_time": "2022-09-24T14:03:38.302165Z",
     "start_time": "2022-09-24T14:03:38.278466Z"
    },
    "deletable": false,
    "editable": false,
    "run_control": {
     "frozen": true
    }
   },
   "outputs": [
    {
     "ename": "TypeError",
     "evalue": "'tuple' object does not support item assignment",
     "output_type": "error",
     "traceback": [
      "\u001b[0;31m---------------------------------------------------------------------------\u001b[0m",
      "\u001b[0;31mTypeError\u001b[0m                                 Traceback (most recent call last)",
      "Input \u001b[0;32mIn [98]\u001b[0m, in \u001b[0;36m<cell line: 1>\u001b[0;34m()\u001b[0m\n\u001b[0;32m----> 1\u001b[0m t[\u001b[38;5;241m1\u001b[39m] \u001b[38;5;241m=\u001b[39m \u001b[38;5;241m10\u001b[39m\n",
      "\u001b[0;31mTypeError\u001b[0m: 'tuple' object does not support item assignment"
     ]
    }
   ],
   "source": [
    "t[1] = 10"
   ]
  },
  {
   "cell_type": "code",
   "execution_count": 93,
   "metadata": {
    "ExecuteTime": {
     "end_time": "2022-09-24T14:27:39.937932Z",
     "start_time": "2022-09-24T14:27:39.927655Z"
    }
   },
   "outputs": [
    {
     "data": {
      "text/plain": [
       "140320514279120"
      ]
     },
     "execution_count": 93,
     "metadata": {},
     "output_type": "execute_result"
    }
   ],
   "source": [
    "id(t)"
   ]
  },
  {
   "cell_type": "code",
   "execution_count": 94,
   "metadata": {
    "ExecuteTime": {
     "end_time": "2022-09-24T14:27:39.951843Z",
     "start_time": "2022-09-24T14:27:39.942084Z"
    }
   },
   "outputs": [
    {
     "data": {
      "text/plain": [
       "(10, 100, 1000)"
      ]
     },
     "execution_count": 94,
     "metadata": {},
     "output_type": "execute_result"
    }
   ],
   "source": [
    "t[0:3]"
   ]
  },
  {
   "cell_type": "code",
   "execution_count": 95,
   "metadata": {
    "ExecuteTime": {
     "end_time": "2022-09-24T14:27:39.966815Z",
     "start_time": "2022-09-24T14:27:39.957123Z"
    }
   },
   "outputs": [
    {
     "data": {
      "text/plain": [
       "(10, 100, 1000, 10, 10, 100, 1000, 10, 10, 100, 1000, 10)"
      ]
     },
     "execution_count": 95,
     "metadata": {},
     "output_type": "execute_result"
    }
   ],
   "source": [
    "t * 3"
   ]
  },
  {
   "cell_type": "markdown",
   "metadata": {},
   "source": [
    "### Range Datatype\n",
    "\n",
    "`1) Its a function as well as datatype.`<br>\n",
    "`2) Most Commanly datatype.`<br>\n",
    "`3) Represents a sequence of values.`<br>\n",
    "`4) Im-Mutable.`<br>\n",
    "`5) Only applicable in Integer Value.`<br>\n",
    "\n",
    "    • Type 1:\n",
    "        * range(End-1)\n",
    "    • Form 2:\n",
    "        * range(Start,End-1)\n",
    "    • Form 3:\n",
    "        * range(Start,End-1,step)\n",
    "    \n",
    "**Error Value**<br>\n",
    "`TypeError`"
   ]
  },
  {
   "cell_type": "code",
   "execution_count": 96,
   "metadata": {
    "ExecuteTime": {
     "end_time": "2022-09-24T14:27:39.981723Z",
     "start_time": "2022-09-24T14:27:39.973125Z"
    }
   },
   "outputs": [
    {
     "name": "stdout",
     "output_type": "stream",
     "text": [
      "0\n",
      "1\n",
      "2\n",
      "3\n",
      "4\n",
      "5\n",
      "6\n",
      "7\n",
      "8\n",
      "9\n"
     ]
    }
   ],
   "source": [
    "r = range(10)\n",
    "for i in r:print (i);"
   ]
  },
  {
   "cell_type": "code",
   "execution_count": 97,
   "metadata": {
    "ExecuteTime": {
     "end_time": "2022-09-24T14:27:40.011592Z",
     "start_time": "2022-09-24T14:27:39.992019Z"
    }
   },
   "outputs": [
    {
     "data": {
      "text/plain": [
       "range(4, 10)"
      ]
     },
     "execution_count": 97,
     "metadata": {},
     "output_type": "execute_result"
    }
   ],
   "source": [
    "r[4:]"
   ]
  },
  {
   "cell_type": "code",
   "execution_count": 98,
   "metadata": {
    "ExecuteTime": {
     "end_time": "2022-09-24T14:03:54.282771Z",
     "start_time": "2022-09-24T14:03:53.381222Z"
    },
    "deletable": false,
    "editable": false,
    "run_control": {
     "frozen": true
    }
   },
   "outputs": [
    {
     "ename": "TypeError",
     "evalue": "'range' object does not support item assignment",
     "output_type": "error",
     "traceback": [
      "\u001b[0;31m---------------------------------------------------------------------------\u001b[0m",
      "\u001b[0;31mTypeError\u001b[0m                                 Traceback (most recent call last)",
      "Input \u001b[0;32mIn [98]\u001b[0m, in \u001b[0;36m<cell line: 1>\u001b[0;34m()\u001b[0m\n\u001b[0;32m----> 1\u001b[0m r[\u001b[38;5;241m0\u001b[39m] \u001b[38;5;241m=\u001b[39m \u001b[38;5;241m777\u001b[39m\n",
      "\u001b[0;31mTypeError\u001b[0m: 'range' object does not support item assignment"
     ]
    }
   ],
   "source": [
    "r[0] = 777"
   ]
  },
  {
   "cell_type": "code",
   "execution_count": 98,
   "metadata": {
    "ExecuteTime": {
     "end_time": "2022-09-24T14:27:40.032052Z",
     "start_time": "2022-09-24T14:27:40.023636Z"
    }
   },
   "outputs": [
    {
     "name": "stdout",
     "output_type": "stream",
     "text": [
      "4\n",
      "5\n",
      "6\n",
      "7\n",
      "8\n",
      "9\n"
     ]
    }
   ],
   "source": [
    "r = range(4, 10)\n",
    "for i in r:print (i);"
   ]
  },
  {
   "cell_type": "code",
   "execution_count": 99,
   "metadata": {
    "ExecuteTime": {
     "end_time": "2022-09-24T14:27:40.052362Z",
     "start_time": "2022-09-24T14:27:40.038058Z"
    }
   },
   "outputs": [
    {
     "name": "stdout",
     "output_type": "stream",
     "text": [
      "5\n",
      "10\n",
      "15\n",
      "20\n",
      "25\n",
      "30\n",
      "35\n",
      "40\n",
      "45\n"
     ]
    }
   ],
   "source": [
    "r = range(5, 50, 5)\n",
    "for i in r:print (i);"
   ]
  },
  {
   "cell_type": "code",
   "execution_count": 101,
   "metadata": {
    "ExecuteTime": {
     "end_time": "2022-09-24T14:04:45.663486Z",
     "start_time": "2022-09-24T14:04:45.635622Z"
    },
    "deletable": false,
    "editable": false,
    "run_control": {
     "frozen": true
    }
   },
   "outputs": [
    {
     "ename": "TypeError",
     "evalue": "'float' object cannot be interpreted as an integer",
     "output_type": "error",
     "traceback": [
      "\u001b[0;31m---------------------------------------------------------------------------\u001b[0m",
      "\u001b[0;31mTypeError\u001b[0m                                 Traceback (most recent call last)",
      "Input \u001b[0;32mIn [101]\u001b[0m, in \u001b[0;36m<cell line: 1>\u001b[0;34m()\u001b[0m\n\u001b[0;32m----> 1\u001b[0m r \u001b[38;5;241m=\u001b[39m \u001b[38;5;28;43mrange\u001b[39;49m\u001b[43m(\u001b[49m\u001b[38;5;241;43m5\u001b[39;49m\u001b[43m,\u001b[49m\u001b[43m \u001b[49m\u001b[38;5;241;43m50.5\u001b[39;49m\u001b[43m,\u001b[49m\u001b[43m \u001b[49m\u001b[38;5;241;43m5.5\u001b[39;49m\u001b[43m)\u001b[49m\n\u001b[1;32m      2\u001b[0m \u001b[38;5;28;01mfor\u001b[39;00m i \u001b[38;5;129;01min\u001b[39;00m r:\u001b[38;5;28mprint\u001b[39m (i)\n",
      "\u001b[0;31mTypeError\u001b[0m: 'float' object cannot be interpreted as an integer"
     ]
    }
   ],
   "source": [
    "r = range(5, 50.5, 5.5)\n",
    "for i in r:print (i);"
   ]
  },
  {
   "cell_type": "markdown",
   "metadata": {},
   "source": [
    "### Set and Frozen Set\n",
    "|<p align=\"left\">List|<p align=\"left\">Set|<p align=\"left\">frozenSet|\n",
    "|----|---|---------|\n",
    "|<p align=\"left\">Order of insertion|<p align=\"left\">**NO** Order|<p align=\"left\">**NO** Order|\n",
    "|<p align=\"left\">Duplicates|<p align=\"left\">**NO** Duplicates|<p align=\"left\">**NO** Duplicates|\n",
    "|<p align=\"left\">Indexing and Slicing|<p align=\"left\">**NO** Indexing & Slicing|<p align=\"left\">**NO** Indexing & Slicing|\n",
    "|<p align=\"left\">Hetrogenious|<p align=\"left\">Hetrogenious|<p align=\"left\">Hetrogenious|\n",
    "|<p align=\"left\">Mutable|<p align=\"left\">Mutable|<p align=\"left\">**Im**-Mutable|\n",
    "|<p align=\"left\">Add & Remove|<p align=\"left\">Add & Remove|<p align=\"left\">Cannot Add & Remove|\n",
    "    \n",
    "**Error Value**<br>\n",
    "`TypeError`<br>\n",
    "`AttributeError`"
   ]
  },
  {
   "cell_type": "code",
   "execution_count": 100,
   "metadata": {
    "ExecuteTime": {
     "end_time": "2022-09-24T14:27:40.077387Z",
     "start_time": "2022-09-24T14:27:40.067445Z"
    }
   },
   "outputs": [
    {
     "data": {
      "text/plain": [
       "set()"
      ]
     },
     "execution_count": 100,
     "metadata": {},
     "output_type": "execute_result"
    }
   ],
   "source": [
    "s = set()\n",
    "s"
   ]
  },
  {
   "cell_type": "code",
   "execution_count": 101,
   "metadata": {
    "ExecuteTime": {
     "end_time": "2022-09-24T14:27:40.097006Z",
     "start_time": "2022-09-24T14:27:40.084403Z"
    }
   },
   "outputs": [
    {
     "data": {
      "text/plain": [
       "{10, 20, 30}"
      ]
     },
     "execution_count": 101,
     "metadata": {},
     "output_type": "execute_result"
    }
   ],
   "source": [
    "s = {10,20,30,10,20,30}\n",
    "s"
   ]
  },
  {
   "cell_type": "code",
   "execution_count": 104,
   "metadata": {
    "ExecuteTime": {
     "end_time": "2022-09-24T14:05:03.644082Z",
     "start_time": "2022-09-24T14:05:03.577000Z"
    },
    "deletable": false,
    "editable": false,
    "run_control": {
     "frozen": true
    }
   },
   "outputs": [
    {
     "ename": "TypeError",
     "evalue": "'set' object is not subscriptable",
     "output_type": "error",
     "traceback": [
      "\u001b[0;31m---------------------------------------------------------------------------\u001b[0m",
      "\u001b[0;31mTypeError\u001b[0m                                 Traceback (most recent call last)",
      "Input \u001b[0;32mIn [104]\u001b[0m, in \u001b[0;36m<cell line: 1>\u001b[0;34m()\u001b[0m\n\u001b[0;32m----> 1\u001b[0m \u001b[43ms\u001b[49m\u001b[43m[\u001b[49m\u001b[38;5;241;43m0\u001b[39;49m\u001b[43m]\u001b[49m\n",
      "\u001b[0;31mTypeError\u001b[0m: 'set' object is not subscriptable"
     ]
    }
   ],
   "source": [
    "s[0]"
   ]
  },
  {
   "cell_type": "code",
   "execution_count": 105,
   "metadata": {
    "ExecuteTime": {
     "end_time": "2022-09-24T14:05:03.711123Z",
     "start_time": "2022-09-24T14:05:03.693342Z"
    },
    "deletable": false,
    "editable": false,
    "run_control": {
     "frozen": true
    }
   },
   "outputs": [
    {
     "ename": "TypeError",
     "evalue": "'set' object is not subscriptable",
     "output_type": "error",
     "traceback": [
      "\u001b[0;31m---------------------------------------------------------------------------\u001b[0m",
      "\u001b[0;31mTypeError\u001b[0m                                 Traceback (most recent call last)",
      "Input \u001b[0;32mIn [105]\u001b[0m, in \u001b[0;36m<cell line: 1>\u001b[0;34m()\u001b[0m\n\u001b[0;32m----> 1\u001b[0m \u001b[43ms\u001b[49m\u001b[43m[\u001b[49m\u001b[38;5;241;43m1\u001b[39;49m\u001b[43m:\u001b[49m\u001b[43m]\u001b[49m\n",
      "\u001b[0;31mTypeError\u001b[0m: 'set' object is not subscriptable"
     ]
    }
   ],
   "source": [
    "s[1:]"
   ]
  },
  {
   "cell_type": "code",
   "execution_count": 102,
   "metadata": {
    "ExecuteTime": {
     "end_time": "2022-09-24T14:27:40.111242Z",
     "start_time": "2022-09-24T14:27:40.100413Z"
    }
   },
   "outputs": [
    {
     "data": {
      "text/plain": [
       "{10, 20, 30, 'Python'}"
      ]
     },
     "execution_count": 102,
     "metadata": {},
     "output_type": "execute_result"
    }
   ],
   "source": [
    "s.add('Python')\n",
    "s"
   ]
  },
  {
   "cell_type": "code",
   "execution_count": 103,
   "metadata": {
    "ExecuteTime": {
     "end_time": "2022-09-24T14:27:40.126379Z",
     "start_time": "2022-09-24T14:27:40.114436Z"
    }
   },
   "outputs": [
    {
     "data": {
      "text/plain": [
       "{20, 30, 'Python'}"
      ]
     },
     "execution_count": 103,
     "metadata": {},
     "output_type": "execute_result"
    }
   ],
   "source": [
    "s.remove(10)\n",
    "s"
   ]
  },
  {
   "cell_type": "code",
   "execution_count": 104,
   "metadata": {
    "ExecuteTime": {
     "end_time": "2022-09-24T14:27:40.142683Z",
     "start_time": "2022-09-24T14:27:40.131826Z"
    }
   },
   "outputs": [
    {
     "data": {
      "text/plain": [
       "frozenset({10, 20, 30, 40})"
      ]
     },
     "execution_count": 104,
     "metadata": {},
     "output_type": "execute_result"
    }
   ],
   "source": [
    "fs = {10,20,30,40,40}\n",
    "fs = frozenset(fs)\n",
    "fs"
   ]
  },
  {
   "cell_type": "code",
   "execution_count": 109,
   "metadata": {
    "ExecuteTime": {
     "end_time": "2022-09-24T14:05:29.789979Z",
     "start_time": "2022-09-24T14:05:29.768213Z"
    },
    "deletable": false,
    "editable": false,
    "run_control": {
     "frozen": true
    }
   },
   "outputs": [
    {
     "ename": "TypeError",
     "evalue": "'frozenset' object is not subscriptable",
     "output_type": "error",
     "traceback": [
      "\u001b[0;31m---------------------------------------------------------------------------\u001b[0m",
      "\u001b[0;31mTypeError\u001b[0m                                 Traceback (most recent call last)",
      "Input \u001b[0;32mIn [109]\u001b[0m, in \u001b[0;36m<cell line: 1>\u001b[0;34m()\u001b[0m\n\u001b[0;32m----> 1\u001b[0m \u001b[43mfs\u001b[49m\u001b[43m[\u001b[49m\u001b[38;5;241;43m1\u001b[39;49m\u001b[43m]\u001b[49m\n",
      "\u001b[0;31mTypeError\u001b[0m: 'frozenset' object is not subscriptable"
     ]
    }
   ],
   "source": [
    "fs[1]"
   ]
  },
  {
   "cell_type": "code",
   "execution_count": 110,
   "metadata": {
    "ExecuteTime": {
     "end_time": "2022-09-24T14:05:30.011687Z",
     "start_time": "2022-09-24T14:05:29.983129Z"
    },
    "deletable": false,
    "editable": false,
    "run_control": {
     "frozen": true
    }
   },
   "outputs": [
    {
     "ename": "AttributeError",
     "evalue": "'frozenset' object has no attribute 'add'",
     "output_type": "error",
     "traceback": [
      "\u001b[0;31m---------------------------------------------------------------------------\u001b[0m",
      "\u001b[0;31mAttributeError\u001b[0m                            Traceback (most recent call last)",
      "Input \u001b[0;32mIn [110]\u001b[0m, in \u001b[0;36m<cell line: 1>\u001b[0;34m()\u001b[0m\n\u001b[0;32m----> 1\u001b[0m \u001b[43mfs\u001b[49m\u001b[38;5;241;43m.\u001b[39;49m\u001b[43madd\u001b[49m(\u001b[38;5;124m'\u001b[39m\u001b[38;5;124mPython\u001b[39m\u001b[38;5;124m'\u001b[39m)\n",
      "\u001b[0;31mAttributeError\u001b[0m: 'frozenset' object has no attribute 'add'"
     ]
    }
   ],
   "source": [
    "fs.add('Python')"
   ]
  },
  {
   "cell_type": "markdown",
   "metadata": {},
   "source": [
    "### Dict Datatype\n",
    "`1) A group of individual objects with Key-Value pairs.`<br>\n",
    "`2) Both Key-Value can be Hetrogeneous.`<br>\n",
    "`3) **No** Duplicate in Key, It will always update if dupicate key comes.`<br>\n",
    "`4) Duplicate in Value.`<br>\n",
    "`5) Mutable.`<br>"
   ]
  },
  {
   "cell_type": "code",
   "execution_count": 105,
   "metadata": {
    "ExecuteTime": {
     "end_time": "2022-09-24T14:27:40.163538Z",
     "start_time": "2022-09-24T14:27:40.149908Z"
    }
   },
   "outputs": [
    {
     "data": {
      "text/plain": [
       "{}"
      ]
     },
     "execution_count": 105,
     "metadata": {},
     "output_type": "execute_result"
    }
   ],
   "source": [
    "d = {}\n",
    "d"
   ]
  },
  {
   "cell_type": "code",
   "execution_count": 106,
   "metadata": {
    "ExecuteTime": {
     "end_time": "2022-09-24T14:27:40.185713Z",
     "start_time": "2022-09-24T14:27:40.173476Z"
    }
   },
   "outputs": [
    {
     "data": {
      "text/plain": [
       "{100: 'Sunny', 200: 'Lenone'}"
      ]
     },
     "execution_count": 106,
     "metadata": {},
     "output_type": "execute_result"
    }
   ],
   "source": [
    "d[100] = 'Sunny'\n",
    "d[200] = 'Lenone'\n",
    "d"
   ]
  },
  {
   "cell_type": "code",
   "execution_count": 107,
   "metadata": {
    "ExecuteTime": {
     "end_time": "2022-09-24T14:27:40.199804Z",
     "start_time": "2022-09-24T14:27:40.189906Z"
    }
   },
   "outputs": [
    {
     "data": {
      "text/plain": [
       "{100: 'SUNNY', 200: 'Lenone'}"
      ]
     },
     "execution_count": 107,
     "metadata": {},
     "output_type": "execute_result"
    }
   ],
   "source": [
    "d[100] = 'SUNNY'\n",
    "d"
   ]
  },
  {
   "cell_type": "code",
   "execution_count": 1,
   "metadata": {
    "ExecuteTime": {
     "end_time": "2022-10-09T10:05:08.213749Z",
     "start_time": "2022-10-09T10:05:08.200802Z"
    }
   },
   "outputs": [],
   "source": [
    "spam = dict() # Initializing the dict variable\n",
    "\n",
    "if 'color' not in spam:\n",
    "    spam['color'] = 'black'"
   ]
  },
  {
   "cell_type": "code",
   "execution_count": 4,
   "metadata": {
    "ExecuteTime": {
     "end_time": "2022-10-09T10:06:15.822068Z",
     "start_time": "2022-10-09T10:06:15.814652Z"
    }
   },
   "outputs": [
    {
     "name": "stdout",
     "output_type": "stream",
     "text": [
      "{'color': 'black'}\n",
      "{'color': 'black'}\n"
     ]
    }
   ],
   "source": [
    "spam = dict() # Initializing the dict variable\n",
    "\n",
    "spam.setdefault('color','black')\n",
    "print(spam)\n",
    "spam.setdefault('color','white')\n",
    "print(spam)"
   ]
  },
  {
   "cell_type": "markdown",
   "metadata": {},
   "source": [
    "### None Datatype\n",
    "`No Value associated, will not return anything.`<br>\n",
    "`Almost equivalent to Void.`<br>"
   ]
  },
  {
   "cell_type": "code",
   "execution_count": 108,
   "metadata": {
    "ExecuteTime": {
     "end_time": "2022-09-24T14:27:40.221486Z",
     "start_time": "2022-09-24T14:27:40.207500Z"
    }
   },
   "outputs": [],
   "source": [
    "def f1():\n",
    "    a = 10\n",
    "def f2():\n",
    "    print ('Hello, Welcome to Python !!!')\n",
    "def f3():\n",
    "    pass"
   ]
  },
  {
   "cell_type": "code",
   "execution_count": 109,
   "metadata": {
    "ExecuteTime": {
     "end_time": "2022-09-24T14:27:40.232547Z",
     "start_time": "2022-09-24T14:27:40.225786Z"
    }
   },
   "outputs": [],
   "source": [
    "f1()"
   ]
  },
  {
   "cell_type": "code",
   "execution_count": 110,
   "metadata": {
    "ExecuteTime": {
     "end_time": "2022-09-24T14:27:40.245517Z",
     "start_time": "2022-09-24T14:27:40.237425Z"
    }
   },
   "outputs": [
    {
     "name": "stdout",
     "output_type": "stream",
     "text": [
      "Hello, Welcome to Python !!!\n"
     ]
    }
   ],
   "source": [
    "f2()"
   ]
  },
  {
   "cell_type": "code",
   "execution_count": 111,
   "metadata": {
    "ExecuteTime": {
     "end_time": "2022-09-24T14:27:40.260393Z",
     "start_time": "2022-09-24T14:27:40.252835Z"
    }
   },
   "outputs": [
    {
     "name": "stdout",
     "output_type": "stream",
     "text": [
      "None\n",
      "None\n"
     ]
    }
   ],
   "source": [
    "print (f1())\n",
    "print (f3())"
   ]
  },
  {
   "cell_type": "code",
   "execution_count": 112,
   "metadata": {
    "ExecuteTime": {
     "end_time": "2022-09-24T14:05:52.914898Z",
     "start_time": "2022-09-24T14:05:52.899414Z"
    },
    "deletable": false,
    "editable": false,
    "run_control": {
     "frozen": true
    },
    "scrolled": true
   },
   "outputs": [
    {
     "ename": "SyntaxError",
     "evalue": "unexpected EOF while parsing (1020112714.py, line 1)",
     "output_type": "error",
     "traceback": [
      "\u001b[0;36m  Input \u001b[0;32mIn [112]\u001b[0;36m\u001b[0m\n\u001b[0;31m    def empty():\u001b[0m\n\u001b[0m                ^\u001b[0m\n\u001b[0;31mSyntaxError\u001b[0m\u001b[0;31m:\u001b[0m unexpected EOF while parsing\n"
     ]
    }
   ],
   "source": [
    "def empty():"
   ]
  },
  {
   "cell_type": "markdown",
   "metadata": {},
   "source": [
    "## Operators\n",
    "**Types of Operator**<br>\n",
    "`1. Arithmatic Operators`<br>\n",
    "`2. Relational Operators or Comparison Operators`<br>\n",
    "`3. Equality Operators`<br>\n",
    "`4. Logical Operators`<br>\n",
    "`5. Bitwise Operatos`<br>\n",
    "`6. Assignment Operators`<br>\n",
    "`7. Ternary Operator`<br>\n",
    "`8. Special Operator`<br>\n",
    "\n",
    "    • Identity Operators\n",
    "    • Membership  Operators\n",
    "    \n",
    "`9. Operator Precedence`<br>"
   ]
  },
  {
   "cell_type": "markdown",
   "metadata": {},
   "source": [
    "### Arithmatic Operator\n",
    "|<p align=\"left\">Operator|<p align=\"left\">Usage|<p align=\"left\">Result|<p align=\"left\">Explaination|\n",
    "|--------|------|------|------------|\n",
    "|<p align=\"left\">+|<p align=\"left\">Addition **OR** Concatenation|<p align=\"left\">Depends|<p align=\"left\">**String Concatenation** : Both argument should be String<br>**Bool**   : Adding/Subtracting Boolen with 1 or 0|\n",
    "|<p align=\"left\">-|<p align=\"left\">Subtraction|<p align=\"left\">Depends||\n",
    "|<p align=\"left\">*|<p align=\"left\">Multiplication **OR** Repetation|<p align=\"left\">Depends|<p align=\"left\">**String  Repetation** : One argument should be Integer<br>**Bool** : Multipling Boolen with 1 or 0|\n",
    "|<p align=\"left\">/|<p align=\"left\">Division **OR** 0|<p align=\"left\">**Floating**|<p align=\"left\">Zero Division error|\n",
    "|<p align=\"left\">%|<p align=\"left\">Modulo **OR** 0|<p align=\"left\">Depends|<p align=\"left\">Zero Division error|\n",
    "|<p align=\"left\">//|<p align=\"left\">Floor Division **OR** 0|<p align=\"left\">**Int** or **Float**|<p align=\"left\">Zero Division error|\n",
    "|<p align=\"left\">**|<p align=\"left\">Exponential|<p align=\"left\">Depends|"
   ]
  },
  {
   "cell_type": "code",
   "execution_count": 112,
   "metadata": {
    "ExecuteTime": {
     "end_time": "2022-09-24T14:27:40.278088Z",
     "start_time": "2022-09-24T14:27:40.265616Z"
    }
   },
   "outputs": [
    {
     "name": "stdout",
     "output_type": "stream",
     "text": [
      " a + b  =  12\n",
      " a - b  =  8\n",
      " a * b  =  20\n",
      " a / b  =  5.0\n",
      " a % b  =  0\n",
      "\n",
      " a // b =  5\n",
      " a ** b =  100\n"
     ]
    }
   ],
   "source": [
    "a = 10\n",
    "b = 2\n",
    "print(\" a + b  = \",a+b)\n",
    "print(\" a - b  = \",a-b)\n",
    "print(\" a * b  = \",a*b)\n",
    "print(\" a / b  = \",a/b)\n",
    "print(\" a % b  = \",a%b)\n",
    "print()\n",
    "print(\" a // b = \",a//b)\n",
    "print(\" a ** b = \",a**b)"
   ]
  },
  {
   "cell_type": "code",
   "execution_count": 113,
   "metadata": {
    "ExecuteTime": {
     "end_time": "2022-09-24T14:27:40.297067Z",
     "start_time": "2022-09-24T14:27:40.287613Z"
    }
   },
   "outputs": [
    {
     "name": "stdout",
     "output_type": "stream",
     "text": [
      " a + b  =  13.5\n",
      " a - b  =  9.5\n",
      " a * b  =  23.0\n",
      " a / b  =  5.75\n",
      " a % b  =  1.5\n",
      "\n",
      " a // b =  5.0\n",
      " a ** b =  132.25\n"
     ]
    }
   ],
   "source": [
    "a = 11.50\n",
    "b = 2\n",
    "print(\" a + b  = \",a+b)\n",
    "print(\" a - b  = \",a-b)\n",
    "print(\" a * b  = \",a*b)\n",
    "print(\" a / b  = \",a/b)\n",
    "print(\" a % b  = \",a%b)\n",
    "print()\n",
    "print(\" a // b = \",a//b)\n",
    "print(\" a ** b = \",a**b)"
   ]
  },
  {
   "cell_type": "code",
   "execution_count": 114,
   "metadata": {
    "ExecuteTime": {
     "end_time": "2022-09-24T14:27:40.312691Z",
     "start_time": "2022-09-24T14:27:40.303556Z"
    }
   },
   "outputs": [
    {
     "name": "stdout",
     "output_type": "stream",
     "text": [
      " a + b  =  12.0\n",
      " a - b  =  8.0\n",
      " a * b  =  20.0\n",
      " a / b  =  5.0\n",
      " a % b  =  0.0\n",
      "\n",
      " a // b =  5.0\n",
      " a ** b =  100.0\n"
     ]
    }
   ],
   "source": [
    "a = 10.00\n",
    "b = 2\n",
    "print(\" a + b  = \",a+b)\n",
    "print(\" a - b  = \",a-b)\n",
    "print(\" a * b  = \",a*b)\n",
    "print(\" a / b  = \",a/b)\n",
    "print(\" a % b  = \",a%b)\n",
    "print()\n",
    "print(\" a // b = \",a//b)\n",
    "print(\" a ** b = \",a**b)"
   ]
  },
  {
   "cell_type": "code",
   "execution_count": 116,
   "metadata": {
    "ExecuteTime": {
     "end_time": "2022-09-24T14:06:56.208901Z",
     "start_time": "2022-09-24T14:06:55.629517Z"
    },
    "deletable": false,
    "editable": false,
    "run_control": {
     "frozen": true
    }
   },
   "outputs": [
    {
     "ename": "TypeError",
     "evalue": "can only concatenate str (not \"int\") to str",
     "output_type": "error",
     "traceback": [
      "\u001b[0;31m---------------------------------------------------------------------------\u001b[0m",
      "\u001b[0;31mTypeError\u001b[0m                                 Traceback (most recent call last)",
      "Input \u001b[0;32mIn [116]\u001b[0m, in \u001b[0;36m<cell line: 1>\u001b[0;34m()\u001b[0m\n\u001b[0;32m----> 1\u001b[0m \u001b[38;5;124;43m'\u001b[39;49m\u001b[38;5;124;43mVignesh\u001b[39;49m\u001b[38;5;124;43m'\u001b[39;49m\u001b[43m \u001b[49m\u001b[38;5;241;43m+\u001b[39;49m\u001b[43m \u001b[49m\u001b[38;5;241;43m3\u001b[39;49m\n",
      "\u001b[0;31mTypeError\u001b[0m: can only concatenate str (not \"int\") to str"
     ]
    }
   ],
   "source": [
    "'Vignesh' + 3"
   ]
  },
  {
   "cell_type": "code",
   "execution_count": 115,
   "metadata": {
    "ExecuteTime": {
     "end_time": "2022-09-24T14:27:40.337399Z",
     "start_time": "2022-09-24T14:27:40.323751Z"
    }
   },
   "outputs": [
    {
     "data": {
      "text/plain": [
       "'Vignesh-3'"
      ]
     },
     "execution_count": 115,
     "metadata": {},
     "output_type": "execute_result"
    }
   ],
   "source": [
    "'Vignesh-' + str(3)"
   ]
  },
  {
   "cell_type": "code",
   "execution_count": 116,
   "metadata": {
    "ExecuteTime": {
     "end_time": "2022-09-24T14:27:40.358384Z",
     "start_time": "2022-09-24T14:27:40.346870Z"
    }
   },
   "outputs": [
    {
     "data": {
      "text/plain": [
       "'Vignesh-3'"
      ]
     },
     "execution_count": 116,
     "metadata": {},
     "output_type": "execute_result"
    }
   ],
   "source": [
    "'Vignesh-' + '3'"
   ]
  },
  {
   "cell_type": "code",
   "execution_count": 117,
   "metadata": {
    "ExecuteTime": {
     "end_time": "2022-09-24T14:27:40.375313Z",
     "start_time": "2022-09-24T14:27:40.364498Z"
    }
   },
   "outputs": [
    {
     "data": {
      "text/plain": [
       "'Vignesh-Vignesh-Vignesh-'"
      ]
     },
     "execution_count": 117,
     "metadata": {},
     "output_type": "execute_result"
    }
   ],
   "source": [
    "'Vignesh-' * 3"
   ]
  },
  {
   "cell_type": "code",
   "execution_count": 120,
   "metadata": {
    "ExecuteTime": {
     "end_time": "2022-09-24T14:07:08.093837Z",
     "start_time": "2022-09-24T14:07:08.071628Z"
    },
    "deletable": false,
    "editable": false,
    "run_control": {
     "frozen": true
    }
   },
   "outputs": [
    {
     "ename": "TypeError",
     "evalue": "can't multiply sequence by non-int of type 'float'",
     "output_type": "error",
     "traceback": [
      "\u001b[0;31m---------------------------------------------------------------------------\u001b[0m",
      "\u001b[0;31mTypeError\u001b[0m                                 Traceback (most recent call last)",
      "Input \u001b[0;32mIn [120]\u001b[0m, in \u001b[0;36m<cell line: 1>\u001b[0;34m()\u001b[0m\n\u001b[0;32m----> 1\u001b[0m \u001b[38;5;124;43m'\u001b[39;49m\u001b[38;5;124;43mVignesh-\u001b[39;49m\u001b[38;5;124;43m'\u001b[39;49m\u001b[43m \u001b[49m\u001b[38;5;241;43m*\u001b[39;49m\u001b[43m \u001b[49m\u001b[38;5;241;43m3.0\u001b[39;49m\n",
      "\u001b[0;31mTypeError\u001b[0m: can't multiply sequence by non-int of type 'float'"
     ]
    }
   ],
   "source": [
    "'Vignesh-' * 3.0"
   ]
  },
  {
   "cell_type": "code",
   "execution_count": 121,
   "metadata": {
    "ExecuteTime": {
     "end_time": "2022-09-24T14:07:08.334979Z",
     "start_time": "2022-09-24T14:07:08.257091Z"
    },
    "deletable": false,
    "editable": false,
    "run_control": {
     "frozen": true
    }
   },
   "outputs": [
    {
     "ename": "TypeError",
     "evalue": "can't multiply sequence by non-int of type 'str'",
     "output_type": "error",
     "traceback": [
      "\u001b[0;31m---------------------------------------------------------------------------\u001b[0m",
      "\u001b[0;31mTypeError\u001b[0m                                 Traceback (most recent call last)",
      "Input \u001b[0;32mIn [121]\u001b[0m, in \u001b[0;36m<cell line: 1>\u001b[0;34m()\u001b[0m\n\u001b[0;32m----> 1\u001b[0m \u001b[38;5;124;43m'\u001b[39;49m\u001b[38;5;124;43mVignesh-\u001b[39;49m\u001b[38;5;124;43m'\u001b[39;49m\u001b[43m \u001b[49m\u001b[38;5;241;43m*\u001b[39;49m\u001b[43m \u001b[49m\u001b[38;5;124;43m'\u001b[39;49m\u001b[38;5;124;43m3\u001b[39;49m\u001b[38;5;124;43m'\u001b[39;49m\n",
      "\u001b[0;31mTypeError\u001b[0m: can't multiply sequence by non-int of type 'str'"
     ]
    }
   ],
   "source": [
    "'Vignesh-' * '3'"
   ]
  },
  {
   "cell_type": "code",
   "execution_count": 118,
   "metadata": {
    "ExecuteTime": {
     "end_time": "2022-09-24T14:27:40.391150Z",
     "start_time": "2022-09-24T14:27:40.380417Z"
    }
   },
   "outputs": [
    {
     "data": {
      "text/plain": [
       "0.01"
      ]
     },
     "execution_count": 118,
     "metadata": {},
     "output_type": "execute_result"
    }
   ],
   "source": [
    "10 ** -2"
   ]
  },
  {
   "cell_type": "code",
   "execution_count": 119,
   "metadata": {
    "ExecuteTime": {
     "end_time": "2022-09-24T14:27:40.408047Z",
     "start_time": "2022-09-24T14:27:40.396585Z"
    }
   },
   "outputs": [
    {
     "data": {
      "text/plain": [
       "(0.4214355953934907+0.3847316792794285j)"
      ]
     },
     "execution_count": 119,
     "metadata": {},
     "output_type": "execute_result"
    }
   ],
   "source": [
    "(10.3 + 4j) ** (1 + 8j)"
   ]
  },
  {
   "cell_type": "code",
   "execution_count": 125,
   "metadata": {
    "ExecuteTime": {
     "end_time": "2022-09-24T14:07:21.048651Z",
     "start_time": "2022-09-24T14:07:21.025422Z"
    },
    "deletable": false,
    "editable": false,
    "run_control": {
     "frozen": true
    }
   },
   "outputs": [
    {
     "ename": "ZeroDivisionError",
     "evalue": "division by zero",
     "output_type": "error",
     "traceback": [
      "\u001b[0;31m---------------------------------------------------------------------------\u001b[0m",
      "\u001b[0;31mZeroDivisionError\u001b[0m                         Traceback (most recent call last)",
      "Input \u001b[0;32mIn [125]\u001b[0m, in \u001b[0;36m<cell line: 1>\u001b[0;34m()\u001b[0m\n\u001b[0;32m----> 1\u001b[0m \u001b[38;5;241;43m10\u001b[39;49m\u001b[43m \u001b[49m\u001b[38;5;241;43m/\u001b[39;49m\u001b[43m \u001b[49m\u001b[38;5;241;43m0\u001b[39;49m\n",
      "\u001b[0;31mZeroDivisionError\u001b[0m: division by zero"
     ]
    }
   ],
   "source": [
    "10 / 0"
   ]
  },
  {
   "cell_type": "code",
   "execution_count": 126,
   "metadata": {
    "ExecuteTime": {
     "end_time": "2022-09-24T14:07:21.171901Z",
     "start_time": "2022-09-24T14:07:21.151650Z"
    },
    "deletable": false,
    "editable": false,
    "run_control": {
     "frozen": true
    }
   },
   "outputs": [
    {
     "ename": "ZeroDivisionError",
     "evalue": "float modulo",
     "output_type": "error",
     "traceback": [
      "\u001b[0;31m---------------------------------------------------------------------------\u001b[0m",
      "\u001b[0;31mZeroDivisionError\u001b[0m                         Traceback (most recent call last)",
      "Input \u001b[0;32mIn [126]\u001b[0m, in \u001b[0;36m<cell line: 1>\u001b[0;34m()\u001b[0m\n\u001b[0;32m----> 1\u001b[0m \u001b[38;5;241;43m10.6\u001b[39;49m\u001b[43m \u001b[49m\u001b[38;5;241;43m%\u001b[39;49m\u001b[43m \u001b[49m\u001b[38;5;241;43m0\u001b[39;49m\n",
      "\u001b[0;31mZeroDivisionError\u001b[0m: float modulo"
     ]
    }
   ],
   "source": [
    "10.6 % 0"
   ]
  },
  {
   "cell_type": "code",
   "execution_count": 127,
   "metadata": {
    "ExecuteTime": {
     "end_time": "2022-09-24T14:07:38.986096Z",
     "start_time": "2022-09-24T14:07:38.965037Z"
    },
    "deletable": false,
    "editable": false,
    "run_control": {
     "frozen": true
    }
   },
   "outputs": [
    {
     "ename": "ZeroDivisionError",
     "evalue": "float division by zero",
     "output_type": "error",
     "traceback": [
      "\u001b[0;31m---------------------------------------------------------------------------\u001b[0m",
      "\u001b[0;31mZeroDivisionError\u001b[0m                         Traceback (most recent call last)",
      "Input \u001b[0;32mIn [127]\u001b[0m, in \u001b[0;36m<cell line: 1>\u001b[0;34m()\u001b[0m\n\u001b[0;32m----> 1\u001b[0m \u001b[38;5;241;43m0.0\u001b[39;49m\u001b[43m \u001b[49m\u001b[38;5;241;43m/\u001b[39;49m\u001b[43m \u001b[49m\u001b[38;5;241;43m0\u001b[39;49m\n",
      "\u001b[0;31mZeroDivisionError\u001b[0m: float division by zero"
     ]
    }
   ],
   "source": [
    "0.0 / 0"
   ]
  },
  {
   "cell_type": "code",
   "execution_count": 128,
   "metadata": {
    "ExecuteTime": {
     "end_time": "2022-09-24T14:07:39.171037Z",
     "start_time": "2022-09-24T14:07:39.149633Z"
    },
    "deletable": false,
    "editable": false,
    "run_control": {
     "frozen": true
    }
   },
   "outputs": [
    {
     "ename": "ZeroDivisionError",
     "evalue": "integer division or modulo by zero",
     "output_type": "error",
     "traceback": [
      "\u001b[0;31m---------------------------------------------------------------------------\u001b[0m",
      "\u001b[0;31mZeroDivisionError\u001b[0m                         Traceback (most recent call last)",
      "Input \u001b[0;32mIn [128]\u001b[0m, in \u001b[0;36m<cell line: 1>\u001b[0;34m()\u001b[0m\n\u001b[0;32m----> 1\u001b[0m \u001b[38;5;241;43m534\u001b[39;49m\u001b[43m \u001b[49m\u001b[38;5;241;43m/\u001b[39;49m\u001b[38;5;241;43m/\u001b[39;49m\u001b[43m \u001b[49m\u001b[38;5;241;43m0\u001b[39;49m\n",
      "\u001b[0;31mZeroDivisionError\u001b[0m: integer division or modulo by zero"
     ]
    }
   ],
   "source": [
    "534 // 0"
   ]
  },
  {
   "cell_type": "code",
   "execution_count": 120,
   "metadata": {
    "ExecuteTime": {
     "end_time": "2022-09-24T14:27:40.427006Z",
     "start_time": "2022-09-24T14:27:40.413179Z"
    }
   },
   "outputs": [
    {
     "data": {
      "text/plain": [
       "1"
      ]
     },
     "execution_count": 120,
     "metadata": {},
     "output_type": "execute_result"
    }
   ],
   "source": [
    "534 ** 0"
   ]
  },
  {
   "attachments": {
    "image.png": {
     "image/png": "[encoded data removed]"
    }
   },
   "cell_type": "markdown",
   "metadata": {},
   "source": [
    "### Comparison or Relational Operator\n",
    "\n",
    "![image.png](attachment:image.png)"
   ]
  },
  {
   "cell_type": "code",
   "execution_count": 121,
   "metadata": {
    "ExecuteTime": {
     "end_time": "2022-09-24T14:27:40.440129Z",
     "start_time": "2022-09-24T14:27:40.432264Z"
    }
   },
   "outputs": [
    {
     "name": "stdout",
     "output_type": "stream",
     "text": [
      " a > b   =  False\n",
      " a < b   =  True\n",
      " a >= b  =  False\n",
      " a <= b  =  True\n"
     ]
    }
   ],
   "source": [
    "a = 10\n",
    "b = 20\n",
    "print(\" a > b   = \",a>b)\n",
    "print(\" a < b   = \",a<b)\n",
    "print(\" a >= b  = \",a>=b)\n",
    "print(\" a <= b  = \",a<=b)"
   ]
  },
  {
   "cell_type": "code",
   "execution_count": 122,
   "metadata": {
    "ExecuteTime": {
     "end_time": "2022-09-24T14:27:40.455535Z",
     "start_time": "2022-09-24T14:27:40.447247Z"
    }
   },
   "outputs": [
    {
     "name": "stdout",
     "output_type": "stream",
     "text": [
      " a > b   =  False\n",
      " a < b   =  True\n",
      " a >= b  =  False\n",
      " a <= b  =  True\n"
     ]
    }
   ],
   "source": [
    "a = 'durga'\n",
    "b = 'ravi'\n",
    "print(\" a > b   = \",a>b)\n",
    "print(\" a < b   = \",a<b)\n",
    "print(\" a >= b  = \",a>=b)\n",
    "print(\" a <= b  = \",a<=b)"
   ]
  },
  {
   "cell_type": "code",
   "execution_count": 123,
   "metadata": {
    "ExecuteTime": {
     "end_time": "2022-09-24T14:27:40.470732Z",
     "start_time": "2022-09-24T14:27:40.461421Z"
    }
   },
   "outputs": [
    {
     "name": "stdout",
     "output_type": "stream",
     "text": [
      " a > b  =  True\n",
      " a < b  =  False\n",
      " a >= b  =  True\n",
      " a <= b  =  False\n"
     ]
    }
   ],
   "source": [
    "a = 'durga'\n",
    "b = 'darga'\n",
    "print(\" a > b  = \",a>b)\n",
    "print(\" a < b  = \",a<b)\n",
    "print(\" a >= b  = \",a>=b)\n",
    "print(\" a <= b  = \",a<=b)"
   ]
  },
  {
   "cell_type": "code",
   "execution_count": 124,
   "metadata": {
    "ExecuteTime": {
     "end_time": "2022-09-24T14:27:40.498304Z",
     "start_time": "2022-09-24T14:27:40.481737Z"
    }
   },
   "outputs": [
    {
     "name": "stdout",
     "output_type": "stream",
     "text": [
      " a > b   =  True\n",
      " a < b   =  False\n",
      " a >= b  =  True\n",
      " a <= b  =  False\n"
     ]
    }
   ],
   "source": [
    "a = 'durga'\n",
    "b = 'Ravi'\n",
    "print(\" a > b   = \",a>b)\n",
    "print(\" a < b   = \",a<b)\n",
    "print(\" a >= b  = \",a>=b)\n",
    "print(\" a <= b  = \",a<=b)"
   ]
  },
  {
   "cell_type": "code",
   "execution_count": 125,
   "metadata": {
    "ExecuteTime": {
     "end_time": "2022-09-24T14:27:40.528478Z",
     "start_time": "2022-09-24T14:27:40.515698Z"
    }
   },
   "outputs": [
    {
     "name": "stdout",
     "output_type": "stream",
     "text": [
      " a > b   =  True\n",
      " a < b   =  False\n",
      " a >= b  =  True\n",
      " a <= b  =  False\n"
     ]
    }
   ],
   "source": [
    "a = True\n",
    "b = False\n",
    "print(\" a > b   = \",a>b)\n",
    "print(\" a < b   = \",a<b)\n",
    "print(\" a >= b  = \",a>=b)\n",
    "print(\" a <= b  = \",a<=b)"
   ]
  },
  {
   "cell_type": "code",
   "execution_count": 126,
   "metadata": {
    "ExecuteTime": {
     "end_time": "2022-09-24T14:07:53.402933Z",
     "start_time": "2022-09-24T14:07:52.154160Z"
    },
    "deletable": false,
    "editable": false,
    "run_control": {
     "frozen": true
    }
   },
   "outputs": [
    {
     "ename": "TypeError",
     "evalue": "'>' not supported between instances of 'str' and 'bool'",
     "output_type": "error",
     "traceback": [
      "\u001b[0;31m---------------------------------------------------------------------------\u001b[0m",
      "\u001b[0;31mTypeError\u001b[0m                                 Traceback (most recent call last)",
      "Input \u001b[0;32mIn [126]\u001b[0m, in \u001b[0;36m<cell line: 3>\u001b[0;34m()\u001b[0m\n\u001b[1;32m      1\u001b[0m a \u001b[38;5;241m=\u001b[39m \u001b[38;5;124m'\u001b[39m\u001b[38;5;124mTrue\u001b[39m\u001b[38;5;124m'\u001b[39m\n\u001b[1;32m      2\u001b[0m b \u001b[38;5;241m=\u001b[39m \u001b[38;5;28;01mFalse\u001b[39;00m\n\u001b[0;32m----> 3\u001b[0m \u001b[38;5;28mprint\u001b[39m(\u001b[38;5;124m\"\u001b[39m\u001b[38;5;124m a > b   = \u001b[39m\u001b[38;5;124m\"\u001b[39m,\u001b[43ma\u001b[49m\u001b[38;5;241;43m>\u001b[39;49m\u001b[43mb\u001b[49m)\n\u001b[1;32m      4\u001b[0m \u001b[38;5;28mprint\u001b[39m(\u001b[38;5;124m\"\u001b[39m\u001b[38;5;124m a < b   = \u001b[39m\u001b[38;5;124m\"\u001b[39m,a\u001b[38;5;241m<\u001b[39mb)\n\u001b[1;32m      5\u001b[0m \u001b[38;5;28mprint\u001b[39m(\u001b[38;5;124m\"\u001b[39m\u001b[38;5;124m a >= b  = \u001b[39m\u001b[38;5;124m\"\u001b[39m,a\u001b[38;5;241m>\u001b[39m\u001b[38;5;241m=\u001b[39mb)\n",
      "\u001b[0;31mTypeError\u001b[0m: '>' not supported between instances of 'str' and 'bool'"
     ]
    }
   ],
   "source": [
    "a = 'True'\n",
    "b = False\n",
    "print(\" a > b   = \",a>b)\n",
    "print(\" a < b   = \",a<b)\n",
    "print(\" a >= b  = \",a>=b)\n",
    "print(\" a <= b  = \",a<=b)"
   ]
  },
  {
   "cell_type": "code",
   "execution_count": 126,
   "metadata": {
    "ExecuteTime": {
     "end_time": "2022-09-24T14:27:40.544960Z",
     "start_time": "2022-09-24T14:27:40.535295Z"
    }
   },
   "outputs": [
    {
     "data": {
      "text/plain": [
       "True"
      ]
     },
     "execution_count": 126,
     "metadata": {},
     "output_type": "execute_result"
    }
   ],
   "source": [
    "10 < 20 < 30 < 40"
   ]
  },
  {
   "cell_type": "code",
   "execution_count": 127,
   "metadata": {
    "ExecuteTime": {
     "end_time": "2022-09-24T14:27:40.563120Z",
     "start_time": "2022-09-24T14:27:40.553359Z"
    }
   },
   "outputs": [
    {
     "data": {
      "text/plain": [
       "False"
      ]
     },
     "execution_count": 127,
     "metadata": {},
     "output_type": "execute_result"
    }
   ],
   "source": [
    "10 < 20 < 30 < 40 > 50"
   ]
  },
  {
   "cell_type": "code",
   "execution_count": 128,
   "metadata": {
    "ExecuteTime": {
     "end_time": "2022-09-24T14:27:40.582484Z",
     "start_time": "2022-09-24T14:27:40.570474Z"
    }
   },
   "outputs": [
    {
     "data": {
      "text/plain": [
       "True"
      ]
     },
     "execution_count": 128,
     "metadata": {},
     "output_type": "execute_result"
    }
   ],
   "source": [
    "10 < 20 < 30 < 40 > 5"
   ]
  },
  {
   "cell_type": "markdown",
   "metadata": {},
   "source": [
    "### Equality Operator\n",
    "\n",
    "|<p align=\"left\">Operator|<p align=\"left\">Usage|<p align=\"left\">Result|<p align=\"left\">Explaination|\n",
    "|-|-|-|-|\n",
    "|<p align=\"left\">==|<p align=\"left\">Equality|<p align=\"left\">Boolean|<p align=\"left\">**Content Comparison** : Never Returns ERROR<br>**String & Integer Comparison** : Always False<br>**In-Compatible Comparison** : Returns False|\n",
    "|<p align=\"left\">!=|<p align=\"left\">Not Equality|<p align=\"left\">Boolean|<p align=\"left\">**Chaining of Operators** : Compare all at once<br>**Returns True** : Only if all Condition True<br>**Returns False** : If One of the Condition False|"
   ]
  },
  {
   "cell_type": "code",
   "execution_count": 129,
   "metadata": {
    "ExecuteTime": {
     "end_time": "2022-09-24T14:27:40.596670Z",
     "start_time": "2022-09-24T14:27:40.586873Z"
    }
   },
   "outputs": [
    {
     "data": {
      "text/plain": [
       "False"
      ]
     },
     "execution_count": 129,
     "metadata": {},
     "output_type": "execute_result"
    }
   ],
   "source": [
    "10 == 20 "
   ]
  },
  {
   "cell_type": "code",
   "execution_count": 130,
   "metadata": {
    "ExecuteTime": {
     "end_time": "2022-09-24T14:27:40.612081Z",
     "start_time": "2022-09-24T14:27:40.603168Z"
    }
   },
   "outputs": [
    {
     "data": {
      "text/plain": [
       "True"
      ]
     },
     "execution_count": 130,
     "metadata": {},
     "output_type": "execute_result"
    }
   ],
   "source": [
    "10 != 20"
   ]
  },
  {
   "cell_type": "code",
   "execution_count": 131,
   "metadata": {
    "ExecuteTime": {
     "end_time": "2022-09-24T14:27:40.630635Z",
     "start_time": "2022-09-24T14:27:40.620323Z"
    }
   },
   "outputs": [
    {
     "data": {
      "text/plain": [
       "False"
      ]
     },
     "execution_count": 131,
     "metadata": {},
     "output_type": "execute_result"
    }
   ],
   "source": [
    "10 == True"
   ]
  },
  {
   "cell_type": "code",
   "execution_count": 132,
   "metadata": {
    "ExecuteTime": {
     "end_time": "2022-09-24T14:27:40.651196Z",
     "start_time": "2022-09-24T14:27:40.641564Z"
    }
   },
   "outputs": [
    {
     "data": {
      "text/plain": [
       "False"
      ]
     },
     "execution_count": 132,
     "metadata": {},
     "output_type": "execute_result"
    }
   ],
   "source": [
    "False == True"
   ]
  },
  {
   "cell_type": "code",
   "execution_count": 133,
   "metadata": {
    "ExecuteTime": {
     "end_time": "2022-09-24T14:27:40.669744Z",
     "start_time": "2022-09-24T14:27:40.660303Z"
    }
   },
   "outputs": [
    {
     "data": {
      "text/plain": [
       "True"
      ]
     },
     "execution_count": 133,
     "metadata": {},
     "output_type": "execute_result"
    }
   ],
   "source": [
    "'Vignesh' == 'Vignesh'"
   ]
  },
  {
   "cell_type": "code",
   "execution_count": 134,
   "metadata": {
    "ExecuteTime": {
     "end_time": "2022-09-24T14:27:40.687469Z",
     "start_time": "2022-09-24T14:27:40.676230Z"
    }
   },
   "outputs": [
    {
     "data": {
      "text/plain": [
       "False"
      ]
     },
     "execution_count": 134,
     "metadata": {},
     "output_type": "execute_result"
    }
   ],
   "source": [
    "10 == 'Vignesh'"
   ]
  },
  {
   "cell_type": "code",
   "execution_count": 135,
   "metadata": {
    "ExecuteTime": {
     "end_time": "2022-09-24T14:27:40.703805Z",
     "start_time": "2022-09-24T14:27:40.691865Z"
    }
   },
   "outputs": [
    {
     "data": {
      "text/plain": [
       "True"
      ]
     },
     "execution_count": 135,
     "metadata": {},
     "output_type": "execute_result"
    }
   ],
   "source": [
    "10 == 5+5 == 3+7 == 2*5"
   ]
  },
  {
   "cell_type": "code",
   "execution_count": 136,
   "metadata": {
    "ExecuteTime": {
     "end_time": "2022-09-24T14:27:40.718995Z",
     "start_time": "2022-09-24T14:27:40.707499Z"
    }
   },
   "outputs": [
    {
     "data": {
      "text/plain": [
       "False"
      ]
     },
     "execution_count": 136,
     "metadata": {},
     "output_type": "execute_result"
    }
   ],
   "source": [
    "'a' == 97"
   ]
  },
  {
   "cell_type": "code",
   "execution_count": 137,
   "metadata": {
    "ExecuteTime": {
     "end_time": "2022-09-24T14:27:40.732266Z",
     "start_time": "2022-09-24T14:27:40.722484Z"
    }
   },
   "outputs": [
    {
     "data": {
      "text/plain": [
       "True"
      ]
     },
     "execution_count": 137,
     "metadata": {},
     "output_type": "execute_result"
    }
   ],
   "source": [
    "(10 + 2j) == (10 + 2j)"
   ]
  },
  {
   "cell_type": "code",
   "execution_count": 138,
   "metadata": {
    "ExecuteTime": {
     "end_time": "2022-09-24T14:27:40.757562Z",
     "start_time": "2022-09-24T14:27:40.746398Z"
    }
   },
   "outputs": [
    {
     "data": {
      "text/plain": [
       "False"
      ]
     },
     "execution_count": 138,
     "metadata": {},
     "output_type": "execute_result"
    }
   ],
   "source": [
    "(10 + 2j) == 'Vignesh'"
   ]
  },
  {
   "cell_type": "code",
   "execution_count": 139,
   "metadata": {
    "ExecuteTime": {
     "end_time": "2022-09-24T14:27:40.770245Z",
     "start_time": "2022-09-24T14:27:40.762197Z"
    }
   },
   "outputs": [
    {
     "data": {
      "text/plain": [
       "True"
      ]
     },
     "execution_count": 139,
     "metadata": {},
     "output_type": "execute_result"
    }
   ],
   "source": [
    "10 == 10.0"
   ]
  },
  {
   "cell_type": "code",
   "execution_count": 140,
   "metadata": {
    "ExecuteTime": {
     "end_time": "2022-09-24T14:27:40.786111Z",
     "start_time": "2022-09-24T14:27:40.775119Z"
    }
   },
   "outputs": [
    {
     "data": {
      "text/plain": [
       "False"
      ]
     },
     "execution_count": 140,
     "metadata": {},
     "output_type": "execute_result"
    }
   ],
   "source": [
    "10 == '10'"
   ]
  },
  {
   "cell_type": "code",
   "execution_count": 141,
   "metadata": {
    "ExecuteTime": {
     "end_time": "2022-09-24T14:27:40.809191Z",
     "start_time": "2022-09-24T14:27:40.794968Z"
    }
   },
   "outputs": [
    {
     "data": {
      "text/plain": [
       "True"
      ]
     },
     "execution_count": 141,
     "metadata": {},
     "output_type": "execute_result"
    }
   ],
   "source": [
    "1 == True"
   ]
  },
  {
   "cell_type": "code",
   "execution_count": 142,
   "metadata": {
    "ExecuteTime": {
     "end_time": "2022-09-24T14:27:40.829215Z",
     "start_time": "2022-09-24T14:27:40.818571Z"
    }
   },
   "outputs": [
    {
     "data": {
      "text/plain": [
       "True"
      ]
     },
     "execution_count": 142,
     "metadata": {},
     "output_type": "execute_result"
    }
   ],
   "source": [
    "10.0 == 10"
   ]
  },
  {
   "cell_type": "code",
   "execution_count": 143,
   "metadata": {
    "ExecuteTime": {
     "end_time": "2022-09-24T14:27:40.859209Z",
     "start_time": "2022-09-24T14:27:40.845331Z"
    }
   },
   "outputs": [
    {
     "data": {
      "text/plain": [
       "True"
      ]
     },
     "execution_count": 143,
     "metadata": {},
     "output_type": "execute_result"
    }
   ],
   "source": [
    "10.10 == 10.1"
   ]
  },
  {
   "cell_type": "markdown",
   "metadata": {},
   "source": [
    "### Logical or Boolean Operator\n",
    "\n",
    "|<p align=\"left\">Operator|<p align=\"left\">Boolean Operation(bool)|<p align=\"left\">Non-Boolean Operation(value)|\n",
    "|-|-|-|\n",
    "|<p align=\"left\">**and**|<p align=\"left\">True **and** False = Flase<br>True **and** True = True|<p align=\"left\">If **1st** Value Evaluvates to **True** , Return **2nd Value**<br>If **1st** Value Evaluvates to **False**, Return **1st  Value**|\n",
    "|<p align=\"left\">**or**|<p align=\"left\">True **or** False = True|<p align=\"left\">If **1st** Value Evaluvates to **True** , Return **1st**  Value<br>If **1st** Value Evaluvates to **False**, Return **2nd Value**|\n",
    "|<p align=\"left\">**not**|<p align=\"left\">**not** True = False<br>**not** False = True|<p align=\"left\">Even for non boolean operation **Returns Bool**|"
   ]
  },
  {
   "cell_type": "markdown",
   "metadata": {},
   "source": [
    "Truth Table\n",
    "\n",
    "| Operator | Representation | Value     | Description               |\n",
    "| -------  | -------------- | --------- | ------------------------- |\n",
    "| and      | True and True  | **True**  | if both are True\t        |\n",
    "| and      | True and False | **False** | if at least one is False  |\n",
    "| or       | True or  False | **True**  | if at least one is True   |\n",
    "| or       | False or False | **False** | if both are False.        |\n",
    "| not      | not False      | **True**  | only if False             |\n",
    "| not      | not True       | **False** | only if True              |"
   ]
  },
  {
   "cell_type": "code",
   "execution_count": 144,
   "metadata": {
    "ExecuteTime": {
     "end_time": "2022-09-24T14:27:40.876514Z",
     "start_time": "2022-09-24T14:27:40.868216Z"
    }
   },
   "outputs": [
    {
     "data": {
      "text/plain": [
       "'Vignesh'"
      ]
     },
     "execution_count": 144,
     "metadata": {},
     "output_type": "execute_result"
    }
   ],
   "source": [
    "1 and 'Vignesh'"
   ]
  },
  {
   "cell_type": "code",
   "execution_count": 145,
   "metadata": {
    "ExecuteTime": {
     "end_time": "2022-09-24T14:27:40.892406Z",
     "start_time": "2022-09-24T14:27:40.883656Z"
    }
   },
   "outputs": [
    {
     "data": {
      "text/plain": [
       "0"
      ]
     },
     "execution_count": 145,
     "metadata": {},
     "output_type": "execute_result"
    }
   ],
   "source": [
    "0 and 'Vignesh'"
   ]
  },
  {
   "cell_type": "code",
   "execution_count": 146,
   "metadata": {
    "ExecuteTime": {
     "end_time": "2022-09-24T14:27:40.909621Z",
     "start_time": "2022-09-24T14:27:40.898198Z"
    }
   },
   "outputs": [
    {
     "data": {
      "text/plain": [
       "10"
      ]
     },
     "execution_count": 146,
     "metadata": {},
     "output_type": "execute_result"
    }
   ],
   "source": [
    "10 or 20"
   ]
  },
  {
   "cell_type": "code",
   "execution_count": 147,
   "metadata": {
    "ExecuteTime": {
     "end_time": "2022-09-24T14:27:40.923437Z",
     "start_time": "2022-09-24T14:27:40.913863Z"
    }
   },
   "outputs": [
    {
     "data": {
      "text/plain": [
       "20"
      ]
     },
     "execution_count": 147,
     "metadata": {},
     "output_type": "execute_result"
    }
   ],
   "source": [
    "0 or 20"
   ]
  },
  {
   "cell_type": "code",
   "execution_count": 148,
   "metadata": {
    "ExecuteTime": {
     "end_time": "2022-09-24T14:27:40.938679Z",
     "start_time": "2022-09-24T14:27:40.928837Z"
    }
   },
   "outputs": [
    {
     "data": {
      "text/plain": [
       "0"
      ]
     },
     "execution_count": 148,
     "metadata": {},
     "output_type": "execute_result"
    }
   ],
   "source": [
    "0 or 0"
   ]
  },
  {
   "cell_type": "code",
   "execution_count": 149,
   "metadata": {
    "ExecuteTime": {
     "end_time": "2022-09-24T14:27:40.958265Z",
     "start_time": "2022-09-24T14:27:40.944857Z"
    }
   },
   "outputs": [
    {
     "data": {
      "text/plain": [
       "True"
      ]
     },
     "execution_count": 149,
     "metadata": {},
     "output_type": "execute_result"
    }
   ],
   "source": [
    "not 0"
   ]
  },
  {
   "cell_type": "code",
   "execution_count": 150,
   "metadata": {
    "ExecuteTime": {
     "end_time": "2022-09-24T14:27:40.977111Z",
     "start_time": "2022-09-24T14:27:40.964363Z"
    }
   },
   "outputs": [
    {
     "data": {
      "text/plain": [
       "False"
      ]
     },
     "execution_count": 150,
     "metadata": {},
     "output_type": "execute_result"
    }
   ],
   "source": [
    "not 10"
   ]
  },
  {
   "cell_type": "code",
   "execution_count": 151,
   "metadata": {
    "ExecuteTime": {
     "end_time": "2022-09-24T14:27:41.014434Z",
     "start_time": "2022-09-24T14:27:40.990169Z"
    }
   },
   "outputs": [
    {
     "data": {
      "text/plain": [
       "True"
      ]
     },
     "execution_count": 151,
     "metadata": {},
     "output_type": "execute_result"
    }
   ],
   "source": [
    "not ''"
   ]
  },
  {
   "cell_type": "code",
   "execution_count": 152,
   "metadata": {
    "ExecuteTime": {
     "end_time": "2022-09-24T14:27:41.040455Z",
     "start_time": "2022-09-24T14:27:41.025422Z"
    }
   },
   "outputs": [
    {
     "data": {
      "text/plain": [
       "False"
      ]
     },
     "execution_count": 152,
     "metadata": {},
     "output_type": "execute_result"
    }
   ],
   "source": [
    "not ' '"
   ]
  },
  {
   "cell_type": "code",
   "execution_count": 153,
   "metadata": {
    "ExecuteTime": {
     "end_time": "2022-09-24T14:27:41.056444Z",
     "start_time": "2022-09-24T14:27:41.047434Z"
    }
   },
   "outputs": [
    {
     "data": {
      "text/plain": [
       "True"
      ]
     },
     "execution_count": 153,
     "metadata": {},
     "output_type": "execute_result"
    }
   ],
   "source": [
    "0 or True"
   ]
  },
  {
   "cell_type": "code",
   "execution_count": 154,
   "metadata": {
    "ExecuteTime": {
     "end_time": "2022-09-24T14:27:41.073471Z",
     "start_time": "2022-09-24T14:27:41.062146Z"
    }
   },
   "outputs": [
    {
     "data": {
      "text/plain": [
       "10"
      ]
     },
     "execution_count": 154,
     "metadata": {},
     "output_type": "execute_result"
    }
   ],
   "source": [
    "10 or 10/0"
   ]
  },
  {
   "cell_type": "code",
   "execution_count": 155,
   "metadata": {
    "ExecuteTime": {
     "end_time": "2022-09-24T14:08:55.729070Z",
     "start_time": "2022-09-24T14:08:54.966350Z"
    },
    "deletable": false,
    "editable": false,
    "run_control": {
     "frozen": true
    }
   },
   "outputs": [
    {
     "ename": "ZeroDivisionError",
     "evalue": "division by zero",
     "output_type": "error",
     "traceback": [
      "\u001b[0;31m---------------------------------------------------------------------------\u001b[0m",
      "\u001b[0;31mZeroDivisionError\u001b[0m                         Traceback (most recent call last)",
      "Input \u001b[0;32mIn [155]\u001b[0m, in \u001b[0;36m<cell line: 1>\u001b[0;34m()\u001b[0m\n\u001b[0;32m----> 1\u001b[0m \u001b[38;5;241m10\u001b[39m \u001b[38;5;129;01mand\u001b[39;00m \u001b[38;5;241;43m10\u001b[39;49m\u001b[38;5;241;43m/\u001b[39;49m\u001b[38;5;241;43m0\u001b[39;49m\n",
      "\u001b[0;31mZeroDivisionError\u001b[0m: division by zero"
     ]
    }
   ],
   "source": [
    "10 and 10/0"
   ]
  },
  {
   "cell_type": "markdown",
   "metadata": {},
   "source": [
    "### Bitwise Operator\n",
    "|<p align=\"left\">Operator|<p align=\"left\">Operator Name|<p align=\"left\">Operation and Result|\n",
    "|-|-|-|\n",
    "|<p align=\"left\">&|<p align=\"left\">Bitwise And|<p align=\"left\">Comparing Bit and doing And operation<br>If **both bits are 1** then return **1** else 0|\n",
    "|<p align=\"left\">\\||<p align=\"left\">Bitwise Or|<p align=\"left\">Comparing Bit and doing Or operation<br>If **one or more bit is 1** then return **1** else 0|\n",
    "|<p align=\"left\">^|<p align=\"left\">Bitwise ExOR|<p align=\"left\">Comparing Bit and both should different<br>If **both are different** then return 1 else 0<br>If **both are same** then return **0** else 1|\n",
    "|<p align=\"left\">~|<p align=\"left\">Bitwise Complement **OR** Negation|<p align=\"left\">All the bits will be changed<br>Adding 1 in the last<br>Signed bit will also be changed|\n",
    "|<p align=\"left\">\\<\\<|<p align=\"left\">Bitwise Left shift|<p align=\"left\">Shifting bits to left<br>Fill the extra spaces with 0|\n",
    "|<p align=\"left\">\\>\\>|<p align=\"left\">Bitwise Right shift|<p align=\"left\">Shifting bits to Right<br>Fill the extra spaces with signed bit|"
   ]
  },
  {
   "cell_type": "code",
   "execution_count": 155,
   "metadata": {
    "ExecuteTime": {
     "end_time": "2022-09-24T14:27:41.092453Z",
     "start_time": "2022-09-24T14:27:41.080882Z"
    }
   },
   "outputs": [
    {
     "data": {
      "text/plain": [
       "4"
      ]
     },
     "execution_count": 155,
     "metadata": {},
     "output_type": "execute_result"
    }
   ],
   "source": [
    "4 & 5                              # 4 = 100\n",
    "                                   # 5 = 101\n",
    "                                   #   = 100"
   ]
  },
  {
   "cell_type": "code",
   "execution_count": 156,
   "metadata": {
    "ExecuteTime": {
     "end_time": "2022-09-24T14:27:41.108793Z",
     "start_time": "2022-09-24T14:27:41.099226Z"
    }
   },
   "outputs": [
    {
     "data": {
      "text/plain": [
       "6"
      ]
     },
     "execution_count": 156,
     "metadata": {},
     "output_type": "execute_result"
    }
   ],
   "source": [
    "6 | 4                              # 6 = 110\n",
    "                                   # 4 = 100\n",
    "                                   #   = 110"
   ]
  },
  {
   "cell_type": "code",
   "execution_count": 157,
   "metadata": {
    "ExecuteTime": {
     "end_time": "2022-09-24T14:27:41.124425Z",
     "start_time": "2022-09-24T14:27:41.114592Z"
    }
   },
   "outputs": [
    {
     "data": {
      "text/plain": [
       "5"
      ]
     },
     "execution_count": 157,
     "metadata": {},
     "output_type": "execute_result"
    }
   ],
   "source": [
    "3 ^ 6                              # 3 = 011\n",
    "                                   # 6 = 110\n",
    "                                   #   = 101"
   ]
  },
  {
   "cell_type": "code",
   "execution_count": 158,
   "metadata": {
    "ExecuteTime": {
     "end_time": "2022-09-24T14:27:41.140171Z",
     "start_time": "2022-09-24T14:27:41.131201Z"
    }
   },
   "outputs": [
    {
     "data": {
      "text/plain": [
       "-8"
      ]
     },
     "execution_count": 158,
     "metadata": {},
     "output_type": "execute_result"
    }
   ],
   "source": [
    "~7                                 # 7 = 111\n",
    "                                   #~7 = 000\n",
    "                                   #   = 111  -> 1st Complement\n",
    "                                   #   =   1  -> 2nd Complement\n",
    "                                   #   =1000  -> Adding "
   ]
  },
  {
   "cell_type": "code",
   "execution_count": 159,
   "metadata": {
    "ExecuteTime": {
     "end_time": "2022-09-24T14:27:41.156485Z",
     "start_time": "2022-09-24T14:27:41.146750Z"
    }
   },
   "outputs": [
    {
     "data": {
      "text/plain": [
       "-2"
      ]
     },
     "execution_count": 159,
     "metadata": {},
     "output_type": "execute_result"
    }
   ],
   "source": [
    "~True"
   ]
  },
  {
   "cell_type": "code",
   "execution_count": 160,
   "metadata": {
    "ExecuteTime": {
     "end_time": "2022-09-24T14:27:41.178164Z",
     "start_time": "2022-09-24T14:27:41.166905Z"
    }
   },
   "outputs": [
    {
     "data": {
      "text/plain": [
       "-1"
      ]
     },
     "execution_count": 160,
     "metadata": {},
     "output_type": "execute_result"
    }
   ],
   "source": [
    "~False"
   ]
  },
  {
   "cell_type": "code",
   "execution_count": 161,
   "metadata": {
    "ExecuteTime": {
     "end_time": "2022-09-24T14:27:41.204461Z",
     "start_time": "2022-09-24T14:27:41.186994Z"
    }
   },
   "outputs": [
    {
     "data": {
      "text/plain": [
       "40"
      ]
     },
     "execution_count": 161,
     "metadata": {},
     "output_type": "execute_result"
    }
   ],
   "source": [
    "10 << 2                            # 001010\n",
    "                                   # 101000"
   ]
  },
  {
   "cell_type": "code",
   "execution_count": 162,
   "metadata": {
    "ExecuteTime": {
     "end_time": "2022-09-24T14:27:41.231781Z",
     "start_time": "2022-09-24T14:27:41.218231Z"
    }
   },
   "outputs": [
    {
     "data": {
      "text/plain": [
       "2"
      ]
     },
     "execution_count": 162,
     "metadata": {},
     "output_type": "execute_result"
    }
   ],
   "source": [
    "10 >> 2                            # 001010\n",
    "                                   # 000010"
   ]
  },
  {
   "cell_type": "code",
   "execution_count": 163,
   "metadata": {
    "ExecuteTime": {
     "end_time": "2022-09-24T14:27:41.249894Z",
     "start_time": "2022-09-24T14:27:41.238139Z"
    },
    "scrolled": true
   },
   "outputs": [
    {
     "data": {
      "text/plain": [
       "-3"
      ]
     },
     "execution_count": 163,
     "metadata": {},
     "output_type": "execute_result"
    }
   ],
   "source": [
    "-10 >> 2                           # 001010\n",
    "                                   # 001110"
   ]
  },
  {
   "cell_type": "markdown",
   "metadata": {},
   "source": [
    "### Assignment Operator\n",
    "|<p align=\"left\">Operator|<p align=\"left\">Operator Description|\n",
    "|-|-|\n",
    "|<p align=\"left\">=|<p align=\"left\">Assignment Operator & **Chaining of Assignment**|\n",
    "|<p align=\"left\">+=|<p align=\"left\">Compound Assignment Operator - **Addition**|\n",
    "|<p align=\"left\">-=|<p align=\"left\">Compound Assignment Operator - **Subtraction**|\n",
    "|<p align=\"left\">*=|<p align=\"left\">Compound Assignment Operator - **Multiplication**|\n",
    "|<p align=\"left\">/=|<p align=\"left\">Compound Assignment Operator - **Division**|\n",
    "|<p align=\"left\">//=|<p align=\"left\">Compound Assignment Operator - **Floor Division**|\n",
    "|<p align=\"left\">**=|<p align=\"left\">Compound Assignment Operator - **Power**|\n",
    "|<p align=\"left\">&=|<p align=\"left\">Compound Assignment Operator - **And**|\n",
    "|<p align=\"left\">\\|=|<p align=\"left\">Compound Assignment Operator - **Or**|\n",
    "|<p align=\"left\">^=|<p align=\"left\">Compound Assignment Operator - **ExOR**|\n",
    "|<p align=\"left\">\\>\\>=|<p align=\"left\">Compound Assignment Operator - **Left Shift**|\n",
    "|<p align=\"left\">\\<\\<=|<p align=\"left\">Compound Assignment Operator - **Right Shift**|"
   ]
  },
  {
   "cell_type": "code",
   "execution_count": 164,
   "metadata": {
    "ExecuteTime": {
     "end_time": "2022-09-24T14:27:41.272174Z",
     "start_time": "2022-09-24T14:27:41.257680Z"
    }
   },
   "outputs": [],
   "source": [
    "a, b, c, d = 10, 20 , 30, 40"
   ]
  },
  {
   "cell_type": "code",
   "execution_count": 165,
   "metadata": {
    "ExecuteTime": {
     "end_time": "2022-09-24T14:09:47.265775Z",
     "start_time": "2022-09-24T14:09:46.405267Z"
    },
    "deletable": false,
    "editable": false,
    "run_control": {
     "frozen": true
    }
   },
   "outputs": [
    {
     "ename": "ValueError",
     "evalue": "not enough values to unpack (expected 4, got 3)",
     "output_type": "error",
     "traceback": [
      "\u001b[0;31m---------------------------------------------------------------------------\u001b[0m",
      "\u001b[0;31mValueError\u001b[0m                                Traceback (most recent call last)",
      "Input \u001b[0;32mIn [165]\u001b[0m, in \u001b[0;36m<cell line: 1>\u001b[0;34m()\u001b[0m\n\u001b[0;32m----> 1\u001b[0m a, b, c, d \u001b[38;5;241m=\u001b[39m \u001b[38;5;241m10\u001b[39m, \u001b[38;5;241m20\u001b[39m , \u001b[38;5;241m30\u001b[39m\n",
      "\u001b[0;31mValueError\u001b[0m: not enough values to unpack (expected 4, got 3)"
     ]
    }
   ],
   "source": [
    "a, b, c, d = 10, 20 , 30"
   ]
  },
  {
   "cell_type": "code",
   "execution_count": 166,
   "metadata": {
    "ExecuteTime": {
     "end_time": "2022-09-24T14:10:14.484726Z",
     "start_time": "2022-09-24T14:10:14.466440Z"
    },
    "deletable": false,
    "editable": false,
    "run_control": {
     "frozen": true
    }
   },
   "outputs": [
    {
     "ename": "ValueError",
     "evalue": "too many values to unpack (expected 3)",
     "output_type": "error",
     "traceback": [
      "\u001b[0;31m---------------------------------------------------------------------------\u001b[0m",
      "\u001b[0;31mValueError\u001b[0m                                Traceback (most recent call last)",
      "Input \u001b[0;32mIn [166]\u001b[0m, in \u001b[0;36m<cell line: 1>\u001b[0;34m()\u001b[0m\n\u001b[0;32m----> 1\u001b[0m a, b, c \u001b[38;5;241m=\u001b[39m \u001b[38;5;241m10\u001b[39m, \u001b[38;5;241m20\u001b[39m , \u001b[38;5;241m30\u001b[39m, \u001b[38;5;241m40\u001b[39m\n",
      "\u001b[0;31mValueError\u001b[0m: too many values to unpack (expected 3)"
     ]
    }
   ],
   "source": [
    "a, b, c = 10, 20 , 30, 40"
   ]
  },
  {
   "cell_type": "code",
   "execution_count": 165,
   "metadata": {
    "ExecuteTime": {
     "end_time": "2022-09-24T14:27:41.296934Z",
     "start_time": "2022-09-24T14:27:41.280673Z"
    }
   },
   "outputs": [
    {
     "data": {
      "text/plain": [
       "10"
      ]
     },
     "execution_count": 165,
     "metadata": {},
     "output_type": "execute_result"
    }
   ],
   "source": [
    "+a"
   ]
  },
  {
   "cell_type": "code",
   "execution_count": 166,
   "metadata": {
    "ExecuteTime": {
     "end_time": "2022-09-24T14:27:41.312906Z",
     "start_time": "2022-09-24T14:27:41.302821Z"
    }
   },
   "outputs": [
    {
     "data": {
      "text/plain": [
       "10"
      ]
     },
     "execution_count": 166,
     "metadata": {},
     "output_type": "execute_result"
    }
   ],
   "source": [
    "--a"
   ]
  },
  {
   "cell_type": "code",
   "execution_count": 167,
   "metadata": {
    "ExecuteTime": {
     "end_time": "2022-09-24T14:27:41.335865Z",
     "start_time": "2022-09-24T14:27:41.319804Z"
    }
   },
   "outputs": [
    {
     "data": {
      "text/plain": [
       "-10"
      ]
     },
     "execution_count": 167,
     "metadata": {},
     "output_type": "execute_result"
    }
   ],
   "source": [
    "---a"
   ]
  },
  {
   "cell_type": "code",
   "execution_count": 168,
   "metadata": {
    "ExecuteTime": {
     "end_time": "2022-09-24T14:27:41.352166Z",
     "start_time": "2022-09-24T14:27:41.342258Z"
    }
   },
   "outputs": [
    {
     "data": {
      "text/plain": [
       "-20"
      ]
     },
     "execution_count": 168,
     "metadata": {},
     "output_type": "execute_result"
    }
   ],
   "source": [
    "+-b"
   ]
  },
  {
   "cell_type": "code",
   "execution_count": 171,
   "metadata": {
    "ExecuteTime": {
     "end_time": "2022-09-24T14:10:17.159140Z",
     "start_time": "2022-09-24T14:10:17.152336Z"
    },
    "deletable": false,
    "editable": false,
    "run_control": {
     "frozen": true
    }
   },
   "outputs": [
    {
     "ename": "SyntaxError",
     "evalue": "invalid syntax (530238061.py, line 1)",
     "output_type": "error",
     "traceback": [
      "\u001b[0;36m  Input \u001b[0;32mIn [171]\u001b[0;36m\u001b[0m\n\u001b[0;31m    c++\u001b[0m\n\u001b[0m       ^\u001b[0m\n\u001b[0;31mSyntaxError\u001b[0m\u001b[0;31m:\u001b[0m invalid syntax\n"
     ]
    }
   ],
   "source": [
    "c++"
   ]
  },
  {
   "cell_type": "markdown",
   "metadata": {},
   "source": [
    "### Ternary Operator\n",
    "|<p align=\"left\">Name of Operator|<p align=\"left\">Syntax of Ternary Operator|\n",
    "|-|-|\n",
    "|<p align=\"left\">Ternary Operator|<p align=\"left\">**1st Value** (if Condition) else **2nd Value**<br>1st Value if **(True** \\| **False)** then 2nd Value|\n",
    "|<p align=\"left\">Chaining of Ternary Operator|<p align=\"left\">**1st Value** (if Condition) else **2nd Value** (if Condition) **3rd Value**<br>1st Value if **(True** \\| **False)** then ( 2nd Value if **(True** \\| **False)** then 3rd Value )|"
   ]
  },
  {
   "cell_type": "code",
   "execution_count": 169,
   "metadata": {
    "ExecuteTime": {
     "end_time": "2022-09-24T14:27:41.367483Z",
     "start_time": "2022-09-24T14:27:41.358003Z"
    }
   },
   "outputs": [
    {
     "data": {
      "text/plain": [
       "20"
      ]
     },
     "execution_count": 169,
     "metadata": {},
     "output_type": "execute_result"
    }
   ],
   "source": [
    "10 if 1>2 else 20 "
   ]
  },
  {
   "cell_type": "code",
   "execution_count": 170,
   "metadata": {
    "ExecuteTime": {
     "end_time": "2022-09-24T14:11:31.082367Z",
     "start_time": "2022-09-24T14:10:33.847718Z"
    },
    "deletable": false,
    "editable": false,
    "run_control": {
     "frozen": true
    }
   },
   "outputs": [
    {
     "name": "stdout",
     "output_type": "stream",
     "text": [
      "Enter the 1st Number : 100\n",
      "Enter the 2nd Number : 1000\n",
      "The minimum number is :  100\n"
     ]
    }
   ],
   "source": [
    "first_num = int(input(\"Enter the 1st Number : \"))\n",
    "secon_num = int(input(\"Enter the 2nd Number : \"))\n",
    "\n",
    "minimum   = first_num if (first_num < secon_num) else secon_num\n",
    "\n",
    "print(\"The minimum number is : \",minimum)"
   ]
  },
  {
   "cell_type": "code",
   "execution_count": 170,
   "metadata": {
    "ExecuteTime": {
     "end_time": "2022-09-24T14:17:28.259293Z",
     "start_time": "2022-09-24T14:16:33.060027Z"
    },
    "deletable": false,
    "editable": false,
    "run_control": {
     "frozen": true
    }
   },
   "outputs": [
    {
     "name": "stdout",
     "output_type": "stream",
     "text": [
      "Enter the 1st Number : 10\n",
      "Enter the 2nd Number : 1000\n",
      "Enter the 3rd Number : 100\n",
      "The minimum number is :  100\n"
     ]
    }
   ],
   "source": [
    "a = int(input(\"Enter the 1st Number : \"))\n",
    "b = int(input(\"Enter the 2nd Number : \"))\n",
    "c = int(input(\"Enter the 3rd Number : \"))\n",
    "\n",
    "minimum   = a if (a < b < c) else b if (b < c) else c\n",
    "\n",
    "print(\"The minimum number is : \",minimum)"
   ]
  },
  {
   "cell_type": "code",
   "execution_count": 171,
   "metadata": {
    "ExecuteTime": {
     "end_time": "2022-09-24T14:17:35.769397Z",
     "start_time": "2022-09-24T14:17:28.263814Z"
    },
    "deletable": false,
    "editable": false,
    "run_control": {
     "frozen": true
    }
   },
   "outputs": [
    {
     "name": "stdout",
     "output_type": "stream",
     "text": [
      "Enter the 1st Number : 10\n",
      "Enter the 2nd Number : 1000\n",
      "Enter the 3rd Number : 100\n",
      "The minimum number is :  10\n"
     ]
    }
   ],
   "source": [
    "a = int(input(\"Enter the 1st Number : \"))\n",
    "b = int(input(\"Enter the 2nd Number : \"))\n",
    "c = int(input(\"Enter the 3rd Number : \"))\n",
    "\n",
    "minimum   = a if (a < b and a < c) else b if (b < c ) else c\n",
    "\n",
    "print(\"The minimum number is : \",minimum)"
   ]
  },
  {
   "cell_type": "code",
   "execution_count": 172,
   "metadata": {
    "ExecuteTime": {
     "end_time": "2022-09-24T14:17:42.890323Z",
     "start_time": "2022-09-24T14:17:35.775116Z"
    },
    "deletable": false,
    "editable": false,
    "run_control": {
     "frozen": true
    }
   },
   "outputs": [
    {
     "name": "stdout",
     "output_type": "stream",
     "text": [
      "Enter the 1st Number : 10\n",
      "Enter the 2nd Number : 1000\n",
      "Enter the 3rd Number : 100\n",
      "The maximum number is :  1000\n"
     ]
    }
   ],
   "source": [
    "a = int(input(\"Enter the 1st Number : \"))\n",
    "b = int(input(\"Enter the 2nd Number : \"))\n",
    "c = int(input(\"Enter the 3rd Number : \"))\n",
    "\n",
    "maximum   = a if (a > b > c) else b if (b > c) else c\n",
    "\n",
    "print(\"The maximum number is : \",maximum)"
   ]
  },
  {
   "cell_type": "code",
   "execution_count": 173,
   "metadata": {
    "ExecuteTime": {
     "end_time": "2022-09-24T14:17:51.122654Z",
     "start_time": "2022-09-24T14:17:42.895611Z"
    },
    "deletable": false,
    "editable": false,
    "run_control": {
     "frozen": true
    }
   },
   "outputs": [
    {
     "name": "stdout",
     "output_type": "stream",
     "text": [
      "Enter the 1st Number : 111\n",
      "Enter the 2nd Number : 222\n",
      "1st Num Smaller\n"
     ]
    }
   ],
   "source": [
    "a = int(input(\"Enter the 1st Number : \"))\n",
    "b = int(input(\"Enter the 2nd Number : \"))\n",
    "\n",
    "print(\"Equal\" if (a == b) else \"1st Num Greater\" if (a > b) else \"1st Num Smaller\")"
   ]
  },
  {
   "cell_type": "markdown",
   "metadata": {},
   "source": [
    "### Identity Operator\n",
    "|<p align=\"left\">Operator|<p align=\"left\">Return Value|<p align=\"left\">Operation|\n",
    "|-|-|-|\n",
    "|<p align=\"left\">**is**|<p align=\"left\">Boolean|<p align=\"left\">**Address Comparison** : Checkes both Objects pointing to same object|\n",
    "|<p align=\"left\">**is not**|<p align=\"left\">Boolean|<p align=\"left\">**Address Comparison** : Checkes both Objects are not pointing to same object|\n",
    "|<p align=\"left\">**= =**|<p align=\"left\">Boolean|<p align=\"left\">**Content Comparison** : Checkes both Content are same|"
   ]
  },
  {
   "cell_type": "code",
   "execution_count": 170,
   "metadata": {
    "ExecuteTime": {
     "end_time": "2022-09-24T14:27:41.386045Z",
     "start_time": "2022-09-24T14:27:41.376368Z"
    }
   },
   "outputs": [
    {
     "name": "stdout",
     "output_type": "stream",
     "text": [
      "4363467568\n",
      "4363467888\n",
      "False\n",
      "True\n"
     ]
    }
   ],
   "source": [
    "x = 10\n",
    "y = 20 \n",
    "print(id(x))\n",
    "print(id(y))\n",
    "print(x is y)\n",
    "print(x is not y)"
   ]
  },
  {
   "cell_type": "code",
   "execution_count": 171,
   "metadata": {
    "ExecuteTime": {
     "end_time": "2022-09-24T14:27:41.405428Z",
     "start_time": "2022-09-24T14:27:41.394439Z"
    }
   },
   "outputs": [
    {
     "name": "stdout",
     "output_type": "stream",
     "text": [
      "4363468048\n",
      "4363468048\n",
      "True\n",
      "False\n"
     ]
    }
   ],
   "source": [
    "x = 25\n",
    "y = 25 \n",
    "print(id(x))\n",
    "print(id(y))\n",
    "print(x is y)\n",
    "print(x is not y)"
   ]
  },
  {
   "cell_type": "code",
   "execution_count": 172,
   "metadata": {
    "ExecuteTime": {
     "end_time": "2022-09-24T14:27:41.420268Z",
     "start_time": "2022-09-24T14:27:41.412141Z"
    }
   },
   "outputs": [
    {
     "name": "stdout",
     "output_type": "stream",
     "text": [
      "140320514631920\n",
      "140320514631920\n",
      "True\n",
      "False\n"
     ]
    }
   ],
   "source": [
    "a = 'durga'\n",
    "b = 'durga'\n",
    "print(id(a))\n",
    "print(id(b))\n",
    "print(a is b)\n",
    "print(a is not b)"
   ]
  },
  {
   "cell_type": "code",
   "execution_count": 173,
   "metadata": {
    "ExecuteTime": {
     "end_time": "2022-09-24T14:27:41.439434Z",
     "start_time": "2022-09-24T14:27:41.426979Z"
    }
   },
   "outputs": [
    {
     "name": "stdout",
     "output_type": "stream",
     "text": [
      "140320514208704\n",
      "140320514556416\n",
      "False\n",
      "True\n"
     ]
    }
   ],
   "source": [
    "#List are not Im-Mutable, hence new objects will be created\n",
    "list_1 = [10,20,30]\n",
    "list_2 = [10,20,30]\n",
    "print(id(list_1))\n",
    "print(id(list_2))\n",
    "print(list_1 is list_2)\n",
    "print(list_1 is not list_2)"
   ]
  },
  {
   "cell_type": "markdown",
   "metadata": {},
   "source": [
    "### Membership Operator\n",
    "|<p align=\"left\">Operator|<p align=\"left\">Return Value|<p align=\"left\">Operation|\n",
    "|-|-|-|\n",
    "|<p align=\"left\">**in**|<p align=\"left\">Boolean|<p align=\"left\">To check the given object is Member of another object|\n",
    "|<p align=\"left\">**not in**|<p align=\"left\">Boolean|<p align=\"left\">To check the given object is Not Member of another object|"
   ]
  },
  {
   "cell_type": "code",
   "execution_count": 174,
   "metadata": {
    "ExecuteTime": {
     "end_time": "2022-09-24T14:27:41.452038Z",
     "start_time": "2022-09-24T14:27:41.444558Z"
    }
   },
   "outputs": [
    {
     "name": "stdout",
     "output_type": "stream",
     "text": [
      "True\n",
      "False\n",
      "True\n"
     ]
    }
   ],
   "source": [
    "list_1 = [10,20,30]\n",
    "print(10 in list_1)\n",
    "print(70 in list_1)\n",
    "print(70 not in list_1)"
   ]
  },
  {
   "cell_type": "code",
   "execution_count": 175,
   "metadata": {
    "ExecuteTime": {
     "end_time": "2022-09-24T14:27:41.470871Z",
     "start_time": "2022-09-24T14:27:41.456802Z"
    }
   },
   "outputs": [
    {
     "name": "stdout",
     "output_type": "stream",
     "text": [
      "True\n",
      "True\n",
      "True\n",
      "False\n"
     ]
    }
   ],
   "source": [
    "string = \"Hello, Learning Python is Vary Vary Easy\"\n",
    "print (\"Hello\" in string)\n",
    "print (\"L\" in string)\n",
    "print (\"Z\" in string or \"Z\" not in string)\n",
    "print (\" \" not in string)"
   ]
  },
  {
   "cell_type": "markdown",
   "metadata": {},
   "source": [
    "### Operator Precedence\n",
    "|<p align=\"left\">Operator|<p align=\"left\">Operator Name|\n",
    "|-|-|\n",
    "|<p align=\"left\">**()**|<p align=\"left\">Paranthesis|\n",
    "|<p align=\"left\">**\\****|<p align=\"left\">Exponential|\n",
    "|<p align=\"left\">**~ , -**|<p align=\"left\">Unary|\n",
    "|<p align=\"left\">*** , / , % , //**|<p align=\"left\">Arithmatic - High|\n",
    "|<p align=\"left\">**+ , -**|<p align=\"left\">Arithmatic - Low|\n",
    "|<p align=\"left\">**\\<\\< , \\>\\>**|<p align=\"left\">Bitwise Shift|\n",
    "|<p align=\"left\">**&**|<p align=\"left\">Bitwise And|\n",
    "|<p align=\"left\">**^**|<p align=\"left\">Bitwise EXoR|\n",
    "|<p align=\"left\">**\\|**|<p align=\"left\">Bitwise OR|\n",
    "|<p align=\"left\">**\\< , \\<= , \\> , \\>= , == , !=**|<p align=\"left\">Relational **&** Equality|\n",
    "|<p align=\"left\">**= , += , -= , *=**|<p align=\"left\">Assignement|\n",
    "|<p align=\"left\">**is , is not**|<p align=\"left\">Identity|\n",
    "|<p align=\"left\">**in , not in**|<p align=\"left\">Membership|\n",
    "|<p align=\"left\">**not**|<p align=\"left\">Logical Not|\n",
    "|<p align=\"left\">**and**|<p align=\"left\">Logical And|\n",
    "|<p align=\"left\">**or**|<p align=\"left\">Logical OR|"
   ]
  },
  {
   "cell_type": "code",
   "execution_count": 176,
   "metadata": {
    "ExecuteTime": {
     "end_time": "2022-09-24T14:27:41.486861Z",
     "start_time": "2022-09-24T14:27:41.477682Z"
    }
   },
   "outputs": [
    {
     "name": "stdout",
     "output_type": "stream",
     "text": [
      "100.0\n"
     ]
    }
   ],
   "source": [
    "a = 30\n",
    "b = 20\n",
    "c = 10\n",
    "d = 5\n",
    "print ((a + b) * c / d )"
   ]
  },
  {
   "cell_type": "code",
   "execution_count": 177,
   "metadata": {
    "ExecuteTime": {
     "end_time": "2022-09-24T14:27:41.502137Z",
     "start_time": "2022-09-24T14:27:41.494490Z"
    }
   },
   "outputs": [
    {
     "name": "stdout",
     "output_type": "stream",
     "text": [
      "70.0\n"
     ]
    }
   ],
   "source": [
    "print (a + b * c / d )"
   ]
  },
  {
   "cell_type": "code",
   "execution_count": 178,
   "metadata": {
    "ExecuteTime": {
     "end_time": "2022-09-24T14:27:41.519255Z",
     "start_time": "2022-09-24T14:27:41.511016Z"
    }
   },
   "outputs": [
    {
     "name": "stdout",
     "output_type": "stream",
     "text": [
      "30.0\n"
     ]
    }
   ],
   "source": [
    "print (a + b * c / d % d)"
   ]
  },
  {
   "cell_type": "code",
   "execution_count": 179,
   "metadata": {
    "ExecuteTime": {
     "end_time": "2022-09-24T14:27:41.532137Z",
     "start_time": "2022-09-24T14:27:41.525211Z"
    },
    "scrolled": true
   },
   "outputs": [
    {
     "name": "stdout",
     "output_type": "stream",
     "text": [
      "30\n"
     ]
    }
   ],
   "source": [
    "print (a + b * c // d % d)"
   ]
  },
  {
   "cell_type": "markdown",
   "metadata": {},
   "source": [
    "## List of In-Built Functions\n",
    "| Command                | Operation                            |\n",
    "|------------------------|--------------------------------------|\n",
    "| `input('any Type')`    | To Get the input value of the Object |\n",
    "| `print('any Type')`    | To Print value of the Object         |\n",
    "| `type('Object')`       | To Find Type of the Object           |\n",
    "| `id('Object')`         | To Find Address of the Object        |\n",
    "| `len('Object')`        | To Find Length of the Object         |\n",
    "| `split('Separator')`   | To Split the objects                 |\n",
    "| `eval('any Object')`   | To Evaluate the Objects accordingly  |\n",
    "| `argv['Slicing']`      | To List the command line arguments   |"
   ]
  },
  {
   "cell_type": "markdown",
   "metadata": {},
   "source": [
    "### Input Function\n",
    "`Input  : Function that are used to Read the user provided data or Run time values`<br>\n",
    "`Output : Function that are used to write the processed data to user`<br>\n",
    "`RTA    : Arguments that are passed into the script`<br>\n",
    "\n",
    "\n",
    "|<p align=\"left\">Python 2|<p align=\"left\">Python 3|<p align=\"left\">Default Output|<p align=\"left\">Other Output|\n",
    "|-|-|-|-|\n",
    "|<p align=\"left\">**raw_input()**|<p align=\"left\">**input()**|<p align=\"left\">String|<p align=\"left\">Type Casting is required|\n",
    "|<p align=\"left\">**input()**|<p align=\"left\">|<p align=\"left\">Depends on Value|<p align=\"left\">Type Casting is not required|"
   ]
  },
  {
   "cell_type": "code",
   "execution_count": 184,
   "metadata": {
    "ExecuteTime": {
     "end_time": "2022-09-24T14:18:49.868500Z",
     "start_time": "2022-09-24T14:17:51.318283Z"
    },
    "deletable": false,
    "editable": false,
    "run_control": {
     "frozen": true
    }
   },
   "outputs": [
    {
     "name": "stdout",
     "output_type": "stream",
     "text": [
      "Enter Some Value : 10\n",
      "Enter Some Value : 100\n",
      "<class 'str'> <class 'int'>\n"
     ]
    }
   ],
   "source": [
    "\n",
    "value1 = input(\"Enter Some Value : \")                             #Input function always consider the value as String\n",
    "value2 = int(input(\"Enter Some Value : \"))                        #Use Type casting to convert to other datatype\n",
    "print(type(value1),type(value2))"
   ]
  },
  {
   "cell_type": "code",
   "execution_count": 185,
   "metadata": {
    "ExecuteTime": {
     "end_time": "2022-09-24T14:19:27.750042Z",
     "start_time": "2022-09-24T14:18:49.871618Z"
    },
    "deletable": false,
    "editable": false,
    "run_control": {
     "frozen": true
    }
   },
   "outputs": [
    {
     "name": "stdout",
     "output_type": "stream",
     "text": [
      "Enter Some Value : 100\n",
      "Enter Some Value : 10\n",
      "110\n"
     ]
    }
   ],
   "source": [
    "value1 = int(input(\"Enter Some Value : \"))\n",
    "value2 = int(input(\"Enter Some Value : \"))\n",
    "print(value1 + value2)                                            #Use Type casting to convert to oher datatype"
   ]
  },
  {
   "cell_type": "code",
   "execution_count": 186,
   "metadata": {
    "ExecuteTime": {
     "end_time": "2022-09-24T14:19:47.161742Z",
     "start_time": "2022-09-24T14:19:27.755047Z"
    },
    "deletable": false,
    "editable": false,
    "run_control": {
     "frozen": true
    }
   },
   "outputs": [
    {
     "name": "stdout",
     "output_type": "stream",
     "text": [
      "Enter Some Value : 1000\n",
      "Enter Some Value : 999\n"
     ]
    },
    {
     "data": {
      "text/plain": [
       "1999"
      ]
     },
     "execution_count": 186,
     "metadata": {},
     "output_type": "execute_result"
    }
   ],
   "source": [
    "int(input(\"Enter Some Value : \")) + int(input(\"Enter Some Value : \"))"
   ]
  },
  {
   "cell_type": "code",
   "execution_count": 180,
   "metadata": {
    "ExecuteTime": {
     "end_time": "2022-09-24T14:27:41.597599Z",
     "start_time": "2022-09-24T14:27:41.582676Z"
    }
   },
   "outputs": [
    {
     "data": {
      "text/plain": [
       "1"
      ]
     },
     "execution_count": 180,
     "metadata": {},
     "output_type": "execute_result"
    }
   ],
   "source": [
    "x , y = [1,2]\n",
    "x"
   ]
  },
  {
   "cell_type": "code",
   "execution_count": 188,
   "metadata": {
    "ExecuteTime": {
     "end_time": "2022-09-24T14:20:19.310789Z",
     "start_time": "2022-09-24T14:19:47.247327Z"
    },
    "deletable": false,
    "editable": false,
    "run_control": {
     "frozen": true
    }
   },
   "outputs": [
    {
     "name": "stdout",
     "output_type": "stream",
     "text": [
      "Enter Some Values with comma sep : 100,222\n",
      "Sum :  322\n"
     ]
    }
   ],
   "source": [
    "a , b = [int(x) for x in input(\"Enter Some Values with comma sep : \").split(',')]\n",
    "print (\"Sum : \",a+b)"
   ]
  },
  {
   "cell_type": "code",
   "execution_count": 189,
   "metadata": {
    "ExecuteTime": {
     "end_time": "2022-09-24T14:20:35.676409Z",
     "start_time": "2022-09-24T14:20:19.314555Z"
    },
    "deletable": false,
    "editable": false,
    "run_control": {
     "frozen": true
    }
   },
   "outputs": [
    {
     "name": "stdout",
     "output_type": "stream",
     "text": [
      "Enter 3 Float Values : 10.5 2.3 55.66\n",
      "Sum :  68.46\n"
     ]
    }
   ],
   "source": [
    "a, b, c = [float(x) for x in input(\"Enter 3 Float Values : \").split(\" \")]    #Default seperator is Space\n",
    "print (\"Sum : \",a+b+c)"
   ]
  },
  {
   "cell_type": "markdown",
   "metadata": {},
   "source": [
    "### Eval Function"
   ]
  },
  {
   "cell_type": "code",
   "execution_count": 181,
   "metadata": {
    "ExecuteTime": {
     "end_time": "2022-09-24T14:27:41.631786Z",
     "start_time": "2022-09-24T14:27:41.601262Z"
    }
   },
   "outputs": [
    {
     "data": {
      "text/plain": [
       "-11.200000000000003"
      ]
     },
     "execution_count": 181,
     "metadata": {},
     "output_type": "execute_result"
    }
   ],
   "source": [
    "x = eval (\"10.5+22.3-44\")\n",
    "x"
   ]
  },
  {
   "cell_type": "code",
   "execution_count": 191,
   "metadata": {
    "ExecuteTime": {
     "end_time": "2022-09-24T14:20:57.353110Z",
     "start_time": "2022-09-24T14:20:35.710926Z"
    },
    "deletable": false,
    "editable": false,
    "run_control": {
     "frozen": true
    }
   },
   "outputs": [
    {
     "name": "stdout",
     "output_type": "stream",
     "text": [
      "Enter Some eval Function  : 111111111*111111111\n"
     ]
    },
    {
     "data": {
      "text/plain": [
       "12345678987654321"
      ]
     },
     "execution_count": 191,
     "metadata": {},
     "output_type": "execute_result"
    }
   ],
   "source": [
    "exp = input(\"Enter Some eval Function  : \")\n",
    "res = eval(exp)\n",
    "res"
   ]
  },
  {
   "cell_type": "code",
   "execution_count": 192,
   "metadata": {
    "ExecuteTime": {
     "end_time": "2022-09-24T14:21:16.013610Z",
     "start_time": "2022-09-24T14:20:57.355979Z"
    },
    "deletable": false,
    "editable": false,
    "run_control": {
     "frozen": true
    }
   },
   "outputs": [
    {
     "name": "stdout",
     "output_type": "stream",
     "text": [
      "Enter some data : [10]\n",
      "<class 'str'>\n"
     ]
    }
   ],
   "source": [
    "x = input(\"Enter some data : \")\n",
    "print(type(x))"
   ]
  },
  {
   "cell_type": "code",
   "execution_count": 193,
   "metadata": {
    "ExecuteTime": {
     "end_time": "2022-09-24T14:21:28.753960Z",
     "start_time": "2022-09-24T14:21:16.060345Z"
    },
    "deletable": false,
    "editable": false,
    "run_control": {
     "frozen": true
    }
   },
   "outputs": [
    {
     "name": "stdout",
     "output_type": "stream",
     "text": [
      "Enter some data : [10]\n",
      "<class 'list'>\n"
     ]
    }
   ],
   "source": [
    "x = input(\"Enter some data : \")\n",
    "print(type(eval(x)))"
   ]
  },
  {
   "cell_type": "code",
   "execution_count": 194,
   "metadata": {
    "ExecuteTime": {
     "end_time": "2022-09-24T14:21:45.237322Z",
     "start_time": "2022-09-24T14:21:28.759460Z"
    },
    "deletable": false,
    "editable": false,
    "run_control": {
     "frozen": true
    }
   },
   "outputs": [
    {
     "name": "stdout",
     "output_type": "stream",
     "text": [
      "Enter some data : 10.5\n",
      "<class 'float'>\n"
     ]
    }
   ],
   "source": [
    "x = input(\"Enter some data : \")\n",
    "print(type(eval(x)))"
   ]
  },
  {
   "cell_type": "code",
   "execution_count": 195,
   "metadata": {
    "ExecuteTime": {
     "end_time": "2022-09-24T14:22:02.637484Z",
     "start_time": "2022-09-24T14:21:45.243189Z"
    },
    "deletable": false,
    "editable": false,
    "run_control": {
     "frozen": true
    }
   },
   "outputs": [
    {
     "name": "stdout",
     "output_type": "stream",
     "text": [
      "Enter some data : \"Vignesh !!!\"\n",
      "<class 'str'>\n"
     ]
    }
   ],
   "source": [
    "x = input(\"Enter some data : \")\n",
    "print(type(eval(x)))"
   ]
  },
  {
   "cell_type": "code",
   "execution_count": 182,
   "metadata": {
    "ExecuteTime": {
     "end_time": "2022-09-24T14:24:06.459236Z",
     "start_time": "2022-09-24T14:23:25.179577Z"
    },
    "deletable": false,
    "editable": false,
    "run_control": {
     "frozen": true
    }
   },
   "outputs": [
    {
     "name": "stdout",
     "output_type": "stream",
     "text": [
      "Enter some data : Vignesh !!!\n"
     ]
    },
    {
     "ename": "SyntaxError",
     "evalue": "invalid syntax (<string>, line 1)",
     "output_type": "error",
     "traceback": [
      "Traceback \u001b[0;36m(most recent call last)\u001b[0m:\n",
      "  File \u001b[1;32m/opt/anaconda3/lib/python3.8/site-packages/IPython/core/interactiveshell.py:3398\u001b[0m in \u001b[1;35mrun_code\u001b[0m\n    exec(code_obj, self.user_global_ns, self.user_ns)\n",
      "\u001b[0;36m  Input \u001b[0;32mIn [182]\u001b[0;36m in \u001b[0;35m<cell line: 2>\u001b[0;36m\u001b[0m\n\u001b[0;31m    print(type(eval(x)))\u001b[0m\n",
      "\u001b[0;36m  File \u001b[0;32m<string>:1\u001b[0;36m\u001b[0m\n\u001b[0;31m    Vignesh !!!\u001b[0m\n\u001b[0m            ^\u001b[0m\n\u001b[0;31mSyntaxError\u001b[0m\u001b[0;31m:\u001b[0m invalid syntax\n"
     ]
    }
   ],
   "source": [
    "x = input(\"Enter some data : \")\n",
    "print(type(eval(x)))"
   ]
  },
  {
   "cell_type": "code",
   "execution_count": 183,
   "metadata": {
    "ExecuteTime": {
     "end_time": "2022-09-24T14:24:18.860843Z",
     "start_time": "2022-09-24T14:24:12.178865Z"
    },
    "deletable": false,
    "editable": false,
    "run_control": {
     "frozen": true
    }
   },
   "outputs": [
    {
     "name": "stdout",
     "output_type": "stream",
     "text": [
      "Enter some data : False\n",
      "<class 'bool'>\n"
     ]
    }
   ],
   "source": [
    "x = eval(input(\"Enter some data : \"))\n",
    "print(type(x))"
   ]
  },
  {
   "cell_type": "code",
   "execution_count": 182,
   "metadata": {
    "ExecuteTime": {
     "end_time": "2022-09-24T14:25:19.208451Z",
     "start_time": "2022-09-24T14:24:33.643243Z"
    },
    "deletable": false,
    "editable": false,
    "run_control": {
     "frozen": true
    }
   },
   "outputs": [
    {
     "name": "stdout",
     "output_type": "stream",
     "text": [
      "Enter some data : 10,11.2,True,\"Vignesh\"\n",
      "<class 'int'>\n",
      "<class 'float'>\n",
      "<class 'bool'>\n",
      "<class 'str'>\n"
     ]
    }
   ],
   "source": [
    "a = [eval(x) for x in input(\"Enter some data : \").split(\",\")]\n",
    "for x in a:\n",
    "    print(type(x)) "
   ]
  },
  {
   "cell_type": "code",
   "execution_count": 183,
   "metadata": {
    "ExecuteTime": {
     "end_time": "2022-09-24T14:25:31.921242Z",
     "start_time": "2022-09-24T14:25:19.213212Z"
    },
    "deletable": false,
    "editable": false,
    "run_control": {
     "frozen": true
    },
    "scrolled": true
   },
   "outputs": [
    {
     "name": "stdout",
     "output_type": "stream",
     "text": [
      "Enter some data : 10,11.2,True,Vignesh\n"
     ]
    },
    {
     "ename": "NameError",
     "evalue": "name 'Vignesh' is not defined",
     "output_type": "error",
     "traceback": [
      "\u001b[0;31m---------------------------------------------------------------------------\u001b[0m",
      "\u001b[0;31mNameError\u001b[0m                                 Traceback (most recent call last)",
      "Input \u001b[0;32mIn [183]\u001b[0m, in \u001b[0;36m<cell line: 1>\u001b[0;34m()\u001b[0m\n\u001b[0;32m----> 1\u001b[0m a \u001b[38;5;241m=\u001b[39m [\u001b[38;5;28meval\u001b[39m(x) \u001b[38;5;28;01mfor\u001b[39;00m x \u001b[38;5;129;01min\u001b[39;00m \u001b[38;5;28minput\u001b[39m(\u001b[38;5;124m\"\u001b[39m\u001b[38;5;124mEnter some data : \u001b[39m\u001b[38;5;124m\"\u001b[39m)\u001b[38;5;241m.\u001b[39msplit(\u001b[38;5;124m\"\u001b[39m\u001b[38;5;124m,\u001b[39m\u001b[38;5;124m\"\u001b[39m)]\n\u001b[1;32m      2\u001b[0m \u001b[38;5;28;01mfor\u001b[39;00m x \u001b[38;5;129;01min\u001b[39;00m a:\n\u001b[1;32m      3\u001b[0m     \u001b[38;5;28mprint\u001b[39m(\u001b[38;5;28mtype\u001b[39m(x))\n",
      "Input \u001b[0;32mIn [183]\u001b[0m, in \u001b[0;36m<listcomp>\u001b[0;34m(.0)\u001b[0m\n\u001b[0;32m----> 1\u001b[0m a \u001b[38;5;241m=\u001b[39m [\u001b[38;5;28;43meval\u001b[39;49m\u001b[43m(\u001b[49m\u001b[43mx\u001b[49m\u001b[43m)\u001b[49m \u001b[38;5;28;01mfor\u001b[39;00m x \u001b[38;5;129;01min\u001b[39;00m \u001b[38;5;28minput\u001b[39m(\u001b[38;5;124m\"\u001b[39m\u001b[38;5;124mEnter some data : \u001b[39m\u001b[38;5;124m\"\u001b[39m)\u001b[38;5;241m.\u001b[39msplit(\u001b[38;5;124m\"\u001b[39m\u001b[38;5;124m,\u001b[39m\u001b[38;5;124m\"\u001b[39m)]\n\u001b[1;32m      2\u001b[0m \u001b[38;5;28;01mfor\u001b[39;00m x \u001b[38;5;129;01min\u001b[39;00m a:\n\u001b[1;32m      3\u001b[0m     \u001b[38;5;28mprint\u001b[39m(\u001b[38;5;28mtype\u001b[39m(x))\n",
      "File \u001b[0;32m<string>:1\u001b[0m, in \u001b[0;36m<module>\u001b[0;34m\u001b[0m\n",
      "\u001b[0;31mNameError\u001b[0m: name 'Vignesh' is not defined"
     ]
    }
   ],
   "source": [
    "a = [eval(x) for x in input(\"Enter some data : \").split(\",\")]\n",
    "for x in a:\n",
    "    print(type(x)) "
   ]
  },
  {
   "cell_type": "markdown",
   "metadata": {},
   "source": [
    "### Print function\n",
    "|<p align=\"left\">Python|<p align=\"left\">Default Output|\n",
    "|-|-|\n",
    "|<p align=\"left\">**print ( no arguments )**|<p align=\"left\">New Line|\n",
    "|<p align=\"left\">**print ( \"String\", +, *, \\ )**|<p align=\"left\">Output String with Escape & Concatnation & Repetation|\n",
    "|<p align=\"left\">**print ( \"Arg with Attribute\", sep=';',end='' )**|<p align=\"left\">Arg with Atr Sep(space), end(new line)|\n",
    "|<p align=\"left\">**print ( \"Formated %s\" )**|<p align=\"left\">Formated String Using **%i %s %f %d**|\n",
    "|<p align=\"left\">**print ( \"Replacement {0} {1}\" )**|<p align=\"left\">Replace the function|"
   ]
  },
  {
   "cell_type": "code",
   "execution_count": 182,
   "metadata": {
    "ExecuteTime": {
     "end_time": "2022-09-24T14:27:41.647477Z",
     "start_time": "2022-09-24T14:27:41.641036Z"
    }
   },
   "outputs": [
    {
     "name": "stdout",
     "output_type": "stream",
     "text": [
      "Hello \n",
      "Python !!!\n"
     ]
    }
   ],
   "source": [
    "print(\"Hello \\nPython !!!\")"
   ]
  },
  {
   "cell_type": "code",
   "execution_count": 183,
   "metadata": {
    "ExecuteTime": {
     "end_time": "2022-09-24T14:27:41.658987Z",
     "start_time": "2022-09-24T14:27:41.651753Z"
    }
   },
   "outputs": [
    {
     "name": "stdout",
     "output_type": "stream",
     "text": [
      "Hello Python \n",
      "\n",
      "Hello Python !!! \n"
     ]
    }
   ],
   "source": [
    "print(\"Hello \" + \"Python \")\n",
    "print()\n",
    "print(\"Hello\",\"Python !!! \")"
   ]
  },
  {
   "cell_type": "code",
   "execution_count": 184,
   "metadata": {
    "ExecuteTime": {
     "end_time": "2022-09-24T14:27:41.676293Z",
     "start_time": "2022-09-24T14:27:41.662847Z"
    }
   },
   "outputs": [
    {
     "name": "stdout",
     "output_type": "stream",
     "text": [
      "Hello Python !!! Hello Python !!! Hello Python !!! \n",
      "Hello Python !!! Python !!! Python !!! \n"
     ]
    }
   ],
   "source": [
    "print(\"Hello Python !!! \" * 3)\n",
    "print(\"Hello\",\"Python !!! \" * 3)"
   ]
  },
  {
   "cell_type": "code",
   "execution_count": 185,
   "metadata": {
    "ExecuteTime": {
     "end_time": "2022-09-24T14:27:41.690633Z",
     "start_time": "2022-09-24T14:27:41.683291Z"
    }
   },
   "outputs": [
    {
     "name": "stdout",
     "output_type": "stream",
     "text": [
      "The values are :  10 20 30\n"
     ]
    }
   ],
   "source": [
    "a ,b, c = 10, 20, 30\n",
    "print(\"The values are : \",a, b, c)"
   ]
  },
  {
   "cell_type": "code",
   "execution_count": 186,
   "metadata": {
    "ExecuteTime": {
     "end_time": "2022-09-24T14:27:41.707759Z",
     "start_time": "2022-09-24T14:27:41.695564Z"
    }
   },
   "outputs": [
    {
     "name": "stdout",
     "output_type": "stream",
     "text": [
      "Python\n",
      "is\n",
      "very\n",
      "Easy\n"
     ]
    }
   ],
   "source": [
    "print(\"Python\")\n",
    "print(\"is\")\n",
    "print(\"very\")\n",
    "print(\"Easy\")"
   ]
  },
  {
   "cell_type": "code",
   "execution_count": 187,
   "metadata": {
    "ExecuteTime": {
     "end_time": "2022-09-24T14:27:41.734625Z",
     "start_time": "2022-09-24T14:27:41.715278Z"
    }
   },
   "outputs": [
    {
     "name": "stdout",
     "output_type": "stream",
     "text": [
      "Python is ; very \" Easy : "
     ]
    }
   ],
   "source": [
    "print(\"Python\",end=' ')\n",
    "print(\"is\",end=' ; ')\n",
    "print(\"very\",end=' \" ')\n",
    "print(\"Easy\",end=' : ')"
   ]
  },
  {
   "cell_type": "code",
   "execution_count": 188,
   "metadata": {
    "ExecuteTime": {
     "end_time": "2022-09-24T14:27:41.772780Z",
     "start_time": "2022-09-24T14:27:41.759564Z"
    }
   },
   "outputs": [
    {
     "name": "stdout",
     "output_type": "stream",
     "text": [
      "The values are :  10 20 30    ######    The values are :  - - - 10 - - - 20 - - - 30\n"
     ]
    }
   ],
   "source": [
    "a ,b, c = 10, 20, 30\n",
    "print(\"The values are : \",a, b, c,end='    ######    ')\n",
    "print(\"The values are : \",a, b, c,sep=' - - - ')"
   ]
  },
  {
   "cell_type": "code",
   "execution_count": 189,
   "metadata": {
    "ExecuteTime": {
     "end_time": "2022-09-24T14:27:41.810956Z",
     "start_time": "2022-09-24T14:27:41.800925Z"
    }
   },
   "outputs": [
    {
     "name": "stdout",
     "output_type": "stream",
     "text": [
      "Formated string a=10 b=20 c=30\n",
      "Hello Vignesh , the List is [10, 20, 30, 40]\n"
     ]
    }
   ],
   "source": [
    "a ,b, c = 10, 20, 30\n",
    "name = \"Vignesh\"\n",
    "list_1 = [10,20,30,40]\n",
    "print(\"Formated string a=%i b=%i c=%i\" %(a,b,c))\n",
    "print(\"Hello %s , the List is %s\" %(name,list_1))"
   ]
  },
  {
   "cell_type": "code",
   "execution_count": 190,
   "metadata": {
    "ExecuteTime": {
     "end_time": "2022-09-24T14:27:41.837468Z",
     "start_time": "2022-09-24T14:27:41.820889Z"
    },
    "scrolled": true
   },
   "outputs": [
    {
     "name": "stdout",
     "output_type": "stream",
     "text": [
      "Hello Vignesh, your 1000 Credit Card bill due date today \n",
      "Hello Vignesh, your 1000 Credit Card bill due date today \n",
      "Hello Vignesh, your 1000 Credit Card bill due date today \n"
     ]
    }
   ],
   "source": [
    "name = \"Vignesh\"\n",
    "bill  = \"1000\"\n",
    "card = \"Credit Card\"\n",
    "print (\"Hello {0}, your {1} {2} bill due date today \".format(name,bill,card))\n",
    "print (\"Hello {}, your {} {} bill due date today \".format(name,bill,card))\n",
    "print (\"Hello {y}, your {x} {z} bill due date today \".format(y=name,x=bill,z=card))"
   ]
  },
  {
   "cell_type": "markdown",
   "metadata": {},
   "source": [
    "## Flow Control\n",
    "`Will decide in which order the statements are going to executed`\n",
    "\n",
    "|<p align=\"left\">Statements|<p align=\"left\">Syntax|\n",
    "|-|-|\n",
    "|<p align=\"left\">Conditional Statments or Selection Statements|<p align=\"left\">**if-else  \\| if-elif-else**|\n",
    "|<p align=\"left\">Iterative Statments or Loops Statements|<p align=\"left\">**for \\| while**|\n",
    "|<p align=\"left\">Transfer Statements|<p align=\"left\">**break \\| continue \\| pass**|"
   ]
  },
  {
   "cell_type": "markdown",
   "metadata": {},
   "source": [
    "### Conditional Statments or Selection Statements\n",
    "`The possible types are` <br>\n",
    "\n",
    "    1) if\n",
    "    2) if-else\n",
    "    3) if-elif\n",
    "    4) if-elif-else"
   ]
  },
  {
   "cell_type": "code",
   "execution_count": 191,
   "metadata": {
    "ExecuteTime": {
     "end_time": "2022-09-24T14:26:38.161920Z",
     "start_time": "2022-09-24T14:25:50.360107Z"
    },
    "deletable": false,
    "editable": false,
    "run_control": {
     "frozen": true
    }
   },
   "outputs": [
    {
     "name": "stdout",
     "output_type": "stream",
     "text": [
      "Enter the number : 9\n",
      "\t---> NINE\n"
     ]
    }
   ],
   "source": [
    "number = int(input(\"Enter the number : \"))\n",
    "if number == 1:\n",
    "    print(\"\\t---> ONE\")\n",
    "elif number == 2:\n",
    "    print(\"\\t---> TWO\")\n",
    "elif number == 3:\n",
    "    print(\"\\t---> THREE\")\n",
    "elif number == 4:\n",
    "    print(\"\\t---> FOUR\")\n",
    "elif number == 5:\n",
    "    print(\"\\t---> FIVE\")\n",
    "elif number == 6:\n",
    "    print(\"\\t---> SIX\")\n",
    "elif number == 7:\n",
    "    print(\"\\t---> SEVEN\")\n",
    "elif number == 8:\n",
    "    print(\"\\t---> EIGHT\")\n",
    "elif number == 9:\n",
    "    print(\"\\t---> NINE\")\n",
    "elif number ==10:\n",
    "    print(\"\\t---> TEN\")"
   ]
  },
  {
   "cell_type": "markdown",
   "metadata": {},
   "source": [
    "### Iterative Statments or Loops Statements\n",
    "`The possible types are `<br>\n",
    "\n",
    "    1) for\n",
    "        * Nested Loops\n",
    "    2) while\n",
    "        * Infinite Loops\n",
    "        * Nested Loops"
   ]
  },
  {
   "cell_type": "code",
   "execution_count": 191,
   "metadata": {
    "ExecuteTime": {
     "end_time": "2022-09-24T14:27:41.879025Z",
     "start_time": "2022-09-24T14:27:41.859001Z"
    }
   },
   "outputs": [
    {
     "name": "stdout",
     "output_type": "stream",
     "text": [
      "T\n",
      "o\n",
      "d\n",
      "a\n",
      "y\n",
      " \n",
      "i\n",
      "s\n",
      " \n",
      "S\n",
      "u\n",
      "n\n",
      "n\n",
      "y\n",
      "Length of the string is :  14\n"
     ]
    }
   ],
   "source": [
    "string = \"Today is Sunny\"\n",
    "for i in string:\n",
    "    print(i)\n",
    "print(\"Length of the string is : \",len(string))"
   ]
  },
  {
   "cell_type": "code",
   "execution_count": 192,
   "metadata": {
    "ExecuteTime": {
     "end_time": "2022-09-24T14:27:41.997417Z",
     "start_time": "2022-09-24T14:27:41.899970Z"
    }
   },
   "outputs": [
    {
     "name": "stdout",
     "output_type": "stream",
     "text": [
      "The char in 0 index is : T \n",
      "The char in 1 index is : o \n",
      "The char in 2 index is : d \n",
      "The char in 3 index is : a \n",
      "The char in 4 index is : y \n",
      "The char in 5 index is :   \n",
      "The char in 6 index is : i \n",
      "The char in 7 index is : s \n",
      "The char in 8 index is :   \n",
      "The char in 9 index is : S \n",
      "The char in 10 index is : u \n",
      "The char in 11 index is : n \n",
      "The char in 12 index is : n \n",
      "The char in 13 index is : y \n",
      "\n",
      "Length of the string is :  14\n"
     ]
    }
   ],
   "source": [
    "string = \"Today is Sunny\"\n",
    "index = 0\n",
    "for i in string:\n",
    "    print(\"The char in %d index is : %s \"%(index,i))\n",
    "    index += 1\n",
    "print(\"\\nLength of the string is : \",len(string))"
   ]
  },
  {
   "cell_type": "code",
   "execution_count": 193,
   "metadata": {
    "ExecuteTime": {
     "end_time": "2022-09-24T14:27:42.025783Z",
     "start_time": "2022-09-24T14:27:42.013542Z"
    }
   },
   "outputs": [
    {
     "name": "stdout",
     "output_type": "stream",
     "text": [
      "This is EVEN number : \t\t 0\n",
      "This is ODD number : \t 1\n",
      "This is EVEN number : \t\t 2\n",
      "This is ODD number : \t 3\n",
      "This is EVEN number : \t\t 4\n",
      "This is ODD number : \t 5\n",
      "This is EVEN number : \t\t 6\n",
      "This is ODD number : \t 7\n",
      "This is EVEN number : \t\t 8\n",
      "This is ODD number : \t 9\n"
     ]
    }
   ],
   "source": [
    "for i in range(10):\n",
    "    if i%2 == 0:\n",
    "        print (\"This is EVEN number : \\t\\t\",i)\n",
    "    else:\n",
    "        print (\"This is ODD number : \\t\",i)"
   ]
  },
  {
   "cell_type": "code",
   "execution_count": 194,
   "metadata": {
    "ExecuteTime": {
     "end_time": "2022-09-24T14:27:42.077703Z",
     "start_time": "2022-09-24T14:27:42.050477Z"
    }
   },
   "outputs": [
    {
     "name": "stdout",
     "output_type": "stream",
     "text": [
      "This is EVEN number : \t\t 0\n",
      "This is EVEN number : \t\t 2\n",
      "This is EVEN number : \t\t 4\n",
      "This is EVEN number : \t\t 6\n",
      "This is EVEN number : \t\t 8\n",
      "This is ODD number : \t 1\n",
      "This is ODD number : \t 3\n",
      "This is ODD number : \t 5\n",
      "This is ODD number : \t 7\n",
      "This is ODD number : \t 9\n"
     ]
    }
   ],
   "source": [
    "for i in range(0,10,2):\n",
    "    print (\"This is EVEN number : \\t\\t\",i)\n",
    "for i in range(1,10,2):\n",
    "    print (\"This is ODD number : \\t\",i)"
   ]
  },
  {
   "cell_type": "code",
   "execution_count": 195,
   "metadata": {
    "ExecuteTime": {
     "end_time": "2022-09-24T14:27:42.111655Z",
     "start_time": "2022-09-24T14:27:42.100981Z"
    }
   },
   "outputs": [
    {
     "name": "stdout",
     "output_type": "stream",
     "text": [
      "10\n",
      "9\n",
      "8\n",
      "7\n",
      "6\n",
      "5\n",
      "4\n",
      "3\n",
      "2\n",
      "1\n"
     ]
    }
   ],
   "source": [
    "for i in range(10,0,-1):\n",
    "    print(i)"
   ]
  },
  {
   "cell_type": "code",
   "execution_count": 197,
   "metadata": {
    "ExecuteTime": {
     "end_time": "2022-09-24T14:27:08.930969Z",
     "start_time": "2022-09-24T14:26:38.262482Z"
    },
    "deletable": false,
    "editable": false,
    "run_control": {
     "frozen": true
    }
   },
   "outputs": [
    {
     "name": "stdout",
     "output_type": "stream",
     "text": [
      "Enter list[] of numbers : [10,20,30,40]\n",
      "100\n"
     ]
    }
   ],
   "source": [
    "list = eval(input(\"Enter list[] of numbers : \"))\n",
    "sum = int()\n",
    "for i in list:\n",
    "    sum += i\n",
    "print(sum)"
   ]
  },
  {
   "cell_type": "code",
   "execution_count": 198,
   "metadata": {
    "ExecuteTime": {
     "end_time": "2022-09-24T14:27:22.077453Z",
     "start_time": "2022-09-24T14:27:08.936893Z"
    },
    "deletable": false,
    "editable": false,
    "run_control": {
     "frozen": true
    }
   },
   "outputs": [
    {
     "name": "stdout",
     "output_type": "stream",
     "text": [
      "Enter Number to add : 1000\n",
      "500500\n"
     ]
    }
   ],
   "source": [
    "x = int(input(\"Enter Number to add : \"))\n",
    "sum = 0\n",
    "i = 0\n",
    "while i <= x:\n",
    "    sum = sum + i\n",
    "    i += 1\n",
    "print(sum)"
   ]
  },
  {
   "cell_type": "code",
   "execution_count": 196,
   "metadata": {
    "ExecuteTime": {
     "end_time": "2022-09-24T14:27:42.148059Z",
     "start_time": "2022-09-24T14:27:42.133147Z"
    }
   },
   "outputs": [
    {
     "name": "stdout",
     "output_type": "stream",
     "text": [
      "1\n",
      "2\n",
      "4\n",
      "8\n",
      "16\n",
      "32\n",
      "64\n"
     ]
    }
   ],
   "source": [
    "x = 1\n",
    "while x <= 100:\n",
    "    print(x)\n",
    "    x += x"
   ]
  },
  {
   "cell_type": "markdown",
   "metadata": {},
   "source": [
    "### Transfer Statement\n",
    "\n",
    "    1) Break Statement       - Stop the loop Execution \n",
    "    2) Continue Statement    - Skip the current iteration\n",
    "    3) pass statement        - Empty Block for future purpose\n",
    "    4) for-else | while-else - Associated with break\n",
    "        * else => Loop without break\n",
    "    5) del statement         - delete a variable for garbage collection"
   ]
  },
  {
   "cell_type": "code",
   "execution_count": 197,
   "metadata": {
    "ExecuteTime": {
     "end_time": "2022-09-24T14:27:42.171969Z",
     "start_time": "2022-09-24T14:27:42.159732Z"
    }
   },
   "outputs": [
    {
     "name": "stdout",
     "output_type": "stream",
     "text": [
      "Precessing item :  20\n",
      "Precessing item :  30\n",
      "Please ignore the order\n"
     ]
    }
   ],
   "source": [
    "cart = [20,30,600,499,]\n",
    "for item in cart:\n",
    "    if item > 500:\n",
    "        print(\"Please ignore the order\")\n",
    "        break;\n",
    "    print(\"Precessing item : \",item)"
   ]
  },
  {
   "cell_type": "code",
   "execution_count": 198,
   "metadata": {
    "ExecuteTime": {
     "end_time": "2022-09-24T14:27:42.189959Z",
     "start_time": "2022-09-24T14:27:42.181748Z"
    }
   },
   "outputs": [
    {
     "name": "stdout",
     "output_type": "stream",
     "text": [
      "Precessing item :  20\n",
      "Precessing item :  30\n",
      "Please ignore the item -  600\n",
      "Precessing item :  499\n"
     ]
    }
   ],
   "source": [
    "cart = [20,30,600,499,]\n",
    "for item in cart:\n",
    "    if item > 500:\n",
    "        print(\"Please ignore the item - \",item)\n",
    "        continue;\n",
    "    print(\"Precessing item : \",item)"
   ]
  },
  {
   "cell_type": "code",
   "execution_count": 199,
   "metadata": {
    "ExecuteTime": {
     "end_time": "2022-09-24T14:27:42.205148Z",
     "start_time": "2022-09-24T14:27:42.198439Z"
    }
   },
   "outputs": [
    {
     "name": "stdout",
     "output_type": "stream",
     "text": [
      "Precessing item :  20\n",
      "Precessing item :  30\n",
      "Please ignore the order\n"
     ]
    }
   ],
   "source": [
    "cart = [20,30,600,499,]\n",
    "for item in cart:\n",
    "    if item > 500:\n",
    "        print(\"Please ignore the order\")\n",
    "        break;\n",
    "    print(\"Precessing item : \",item)\n",
    "else:\n",
    "    print(\"All items are processed\")"
   ]
  },
  {
   "cell_type": "code",
   "execution_count": 200,
   "metadata": {
    "ExecuteTime": {
     "end_time": "2022-09-24T14:27:42.222826Z",
     "start_time": "2022-09-24T14:27:42.211963Z"
    }
   },
   "outputs": [
    {
     "name": "stdout",
     "output_type": "stream",
     "text": [
      "Precessing item :  20\n",
      "Precessing item :  30\n",
      "Precessing item :  60\n",
      "Precessing item :  499\n",
      "All items are processed\n"
     ]
    }
   ],
   "source": [
    "cart = [20,30,60,499,]\n",
    "for item in cart:\n",
    "    if item > 500:\n",
    "        print(\"Please ignore the order\")\n",
    "        break;\n",
    "    print(\"Precessing item : \",item)\n",
    "else:\n",
    "    print(\"All items are processed\")"
   ]
  }
 ],
 "metadata": {
  "kernelspec": {
   "display_name": "Python 3 (ipykernel)",
   "language": "python",
   "name": "python3"
  },
  "language_info": {
   "codemirror_mode": {
    "name": "ipython",
    "version": 3
   },
   "file_extension": ".py",
   "mimetype": "text/x-python",
   "name": "python",
   "nbconvert_exporter": "python",
   "pygments_lexer": "ipython3",
   "version": "3.8.13"
  },
  "latex_envs": {
   "LaTeX_envs_menu_present": true,
   "autoclose": false,
   "autocomplete": true,
   "bibliofile": "biblio.bib",
   "cite_by": "apalike",
   "current_citInitial": 1,
   "eqLabelWithNumbers": true,
   "eqNumInitial": 1,
   "hotkeys": {
    "equation": "Ctrl-E",
    "itemize": "Ctrl-I"
   },
   "labels_anchors": false,
   "latex_user_defs": false,
   "report_style_numbering": false,
   "user_envs_cfg": false
  },
  "toc": {
   "base_numbering": 1,
   "nav_menu": {},
   "number_sections": true,
   "sideBar": true,
   "skip_h1_title": false,
   "title_cell": "Table of Contents",
   "title_sidebar": "Contents",
   "toc_cell": true,
   "toc_position": {
    "height": "47.7778px",
    "left": "43.9862px",
    "top": "246.705px",
    "width": "220.898px"
   },
   "toc_section_display": true,
   "toc_window_display": true
  },
  "varInspector": {
   "cols": {
    "lenName": 16,
    "lenType": 16,
    "lenVar": 40
   },
   "kernels_config": {
    "python": {
     "delete_cmd_postfix": "",
     "delete_cmd_prefix": "del ",
     "library": "var_list.py",
     "varRefreshCmd": "print(var_dic_list())"
    },
    "r": {
     "delete_cmd_postfix": ") ",
     "delete_cmd_prefix": "rm(",
     "library": "var_list.r",
     "varRefreshCmd": "cat(var_dic_list()) "
    }
   },
   "types_to_exclude": [
    "module",
    "function",
    "builtin_function_or_method",
    "instance",
    "_Feature"
   ],
   "window_display": false
  }
 },
 "nbformat": 4,
 "nbformat_minor": 2
}
