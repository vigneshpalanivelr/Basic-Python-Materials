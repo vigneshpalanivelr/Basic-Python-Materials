{
 "cells": [
  {
   "cell_type": "markdown",
   "id": "ed9cc95a-2586-462c-b6da-1a996402f538",
   "metadata": {},
   "source": [
    "**Aditya Sunit Kanoi** - Mtech DSE - Section 1  - 2024da04013@wilp.bits-pilani.ac.in"
   ]
  },
  {
   "cell_type": "markdown",
   "id": "3cd8a8b3-6e7c-4c74-8755-fbbb5ce08677",
   "metadata": {},
   "source": [
    "1. Write a Python function to find the factorial of a number using recursion.\n",
    "Description: The factorial of a number n is the product of all positive integers less than or equal to n.\n",
    "Example Input: 5\n",
    "Example Output: 120"
   ]
  },
  {
   "cell_type": "code",
   "execution_count": 7,
   "id": "37dcec9b-0ace-4f9c-bf44-c8281208a6f8",
   "metadata": {},
   "outputs": [
    {
     "name": "stdin",
     "output_type": "stream",
     "text": [
      "Enter a Number to Find the Factorial 5\n"
     ]
    },
    {
     "name": "stdout",
     "output_type": "stream",
     "text": [
      "The factorial of 5 is 120\n"
     ]
    }
   ],
   "source": [
    "def factorial(n):\n",
    "    if n < 0:\n",
    "        raise ValueError(\"Factorial is not defined for negative numbers.\")\n",
    "    elif n == 0 or n == 1:\n",
    "        return 1\n",
    "    else:\n",
    "        return n * factorial(n - 1)\n",
    "        \n",
    "num = int(input(\"Enter a Number to Find the Factorial\"))\n",
    "print(f\"The factorial of {num} is {factorial(num)}\")"
   ]
  },
  {
   "cell_type": "markdown",
   "id": "f4b3aa8a-91eb-4a75-a66c-e9140676878a",
   "metadata": {},
   "source": [
    "2. Given two lists, write a Python function to find the intersection (common elements) of the lists.\n",
    "Description: The function should return a list of elements that appear in both input lists.\n",
    "Example Input: [1, 2, 3, 4] and [3, 4, 5, 6]\n",
    "Example Output: [3, 4]"
   ]
  },
  {
   "cell_type": "code",
   "execution_count": 24,
   "id": "dbeee086-6d4a-4561-933c-29d44737a8b9",
   "metadata": {},
   "outputs": [
    {
     "name": "stdout",
     "output_type": "stream",
     "text": [
      "The Common Elements in these List are : [3, 4]\n"
     ]
    }
   ],
   "source": [
    "def find_intersection(list1, list2):\n",
    "    return list(set(list1) & set(list2))\n",
    "list1 = [1,2,3,4]\n",
    "list2 = [3,4,5,6]\n",
    "print(f\"The Common Elements in these List are : {find_intersection(list1,list2)}\")"
   ]
  },
  {
   "cell_type": "markdown",
   "id": "31f3b3b8-6051-4abe-b565-2abc6eabdd9a",
   "metadata": {},
   "source": [
    "3. Write a Python program to count the frequency of each element in a list.\n",
    "Description: Given a list of elements, return a dictionary where the keys are elements and the values are their frequencies.\n",
    "Example Input: [1, 2, 2, 3, 3, 3, 4]\n",
    "Example Output: {1: 1, 2: 2, 3: 3, 4: 1}"
   ]
  },
  {
   "cell_type": "code",
   "execution_count": 18,
   "id": "a2b7ca8d-50f8-4f5e-95bf-bfce8ea7cdeb",
   "metadata": {},
   "outputs": [
    {
     "name": "stdout",
     "output_type": "stream",
     "text": [
      "{1: 1, 2: 2, 3: 3, 4: 1}\n"
     ]
    }
   ],
   "source": [
    "a = [1, 2, 2, 3, 3, 3, 4]\n",
    "count_dict = {}\n",
    "for i in a:\n",
    "    if i not in count_dict:\n",
    "        count_dict[i] = 1  # Initialize the count to 1\n",
    "    else:\n",
    "        count_dict[i] += 1  # Increment the count by 1\n",
    "\n",
    "print(count_dict)"
   ]
  },
  {
   "cell_type": "markdown",
   "id": "849a7100-bad2-49c9-9b3c-009b8646f40c",
   "metadata": {},
   "source": [
    "4. Write a Python program to remove duplicates from a list while preserving the original order. \n",
    "Description: Given a list, return a new l/ist with all duplicate elements removed, keeping only the first occurrence of each element.\n",
    "Example Input: [1, 2, 2, 3, 4, 3]\n",
    "Example Output: [1, 2, 3, 4]"
   ]
  },
  {
   "cell_type": "code",
   "execution_count": 67,
   "id": "d8afc617-61ee-4131-9f99-197fb58a35e6",
   "metadata": {},
   "outputs": [
    {
     "name": "stdout",
     "output_type": "stream",
     "text": [
      "{1, 2, 3, 4}\n"
     ]
    }
   ],
   "source": [
    "a = [1,2,2,3,4,3]\n",
    "print(set(a))"
   ]
  },
  {
   "cell_type": "markdown",
   "id": "94edb613-a788-4f61-a036-a0e19342d410",
   "metadata": {},
   "source": [
    "5. Write a Python function to calculate nCr (binomial coefficient) using the formula nCr=n!r!(n−r)!nCr = \\frac{n!}{r!(n-r)!}nCr=r!(n−r)!n!.\n",
    "Description: Given integers n and r, calculate the value of nCr. o ExampleInput:n=5,r=3\n",
    "Example Output: 10"
   ]
  },
  {
   "cell_type": "code",
   "execution_count": null,
   "id": "69e1cac6-d61e-48c0-be2c-29e64e05046f",
   "metadata": {},
   "outputs": [],
   "source": [
    "Not able to Solve this One ! Please If Someone Understood The Solution Share 🙂"
   ]
  },
  {
   "cell_type": "markdown",
   "id": "885cbdc4-01e4-4b14-b819-be89c2562a5e",
   "metadata": {},
   "source": [
    "6. Write a Python function that takes a string as input and returns the string reversed.\n",
    "Example Input: \"hello\"\n",
    "Example Output: \"olleh\""
   ]
  },
  {
   "cell_type": "code",
   "execution_count": 42,
   "id": "718db38d-d4b1-48b3-94a7-6dc0e92928c0",
   "metadata": {},
   "outputs": [
    {
     "name": "stdin",
     "output_type": "stream",
     "text": [
      "Enter String to Reverse It : Aditya\n"
     ]
    },
    {
     "name": "stdout",
     "output_type": "stream",
     "text": [
      "aytidA\n"
     ]
    }
   ],
   "source": [
    "value = input(\"Enter String to Reverse It :\")\n",
    "print(value[::-1])"
   ]
  },
  {
   "cell_type": "markdown",
   "id": "f8abd325-d3f8-4e52-bf82-ceab9bc780b2",
   "metadata": {},
   "source": [
    "7. Write a Python program to check if a given year is a leap year or not.\n",
    "Description: A year is a leap year if it is divisible by 4, except for years that are divisible by\n",
    "100, unless they are also divisible by 400.\n",
    "Example Input: 2020\n",
    "Example Output: True"
   ]
  },
  {
   "cell_type": "code",
   "execution_count": 53,
   "id": "6b4f4e6d-70e1-41ba-99ba-8fad6f6de8a3",
   "metadata": {},
   "outputs": [
    {
     "name": "stdin",
     "output_type": "stream",
     "text": [
      "Enter a year:  1900\n"
     ]
    },
    {
     "name": "stdout",
     "output_type": "stream",
     "text": [
      "Not a Leap Year\n"
     ]
    }
   ],
   "source": [
    "yr = int(input(\"Enter a year: \"))\n",
    "\n",
    "if yr % 400 == 0:\n",
    "    print(\"Leap year\")\n",
    "elif yr % 100 == 0:\n",
    "    print(\"Not a Leap Year\")\n",
    "elif yr % 4 == 0:\n",
    "    print(\"Leap year\")\n",
    "else:\n",
    "    print(\"Not a Leap Year\")\n"
   ]
  },
  {
   "cell_type": "markdown",
   "id": "2f892fef-08b6-4b5b-b9e1-3a4652081c2e",
   "metadata": {},
   "source": [
    "8. Write a Python function to count the number of vowels in a given string.\n",
    "Example Input: \"hello world\"\n",
    "Example Output: 3"
   ]
  },
  {
   "cell_type": "code",
   "execution_count": 83,
   "id": "aa195181-a719-4381-a556-1204cf9d7bc1",
   "metadata": {},
   "outputs": [
    {
     "name": "stdin",
     "output_type": "stream",
     "text": [
      "Enter a String Aditya\n"
     ]
    },
    {
     "name": "stdout",
     "output_type": "stream",
     "text": [
      "3\n"
     ]
    }
   ],
   "source": [
    "value = input(\"Enter a String\")\n",
    "value = value.lower() \n",
    "final = \"\"\n",
    "for i in range(len(value)) :\n",
    "    if value[i] == \"a\" or value[i] == \"e\" or value[i] == \"i\" or value[i] == \"o\" or value[i] == \"u\"  :\n",
    "        final = final + value[i]\n",
    "print(len(final))"
   ]
  },
  {
   "cell_type": "markdown",
   "id": "4450562b-0c4f-478a-9a63-2182d0c179f7",
   "metadata": {},
   "source": [
    "9. Write a Python function that takes a list of integers and returns a tuple containing the maximum and minimum values from the list.\n",
    "Example Input: [1, 2, 3, 4, 5] \n",
    "Example Output: (5, 1)"
   ]
  },
  {
   "cell_type": "code",
   "execution_count": 96,
   "id": "f4ae73b8-7fd0-43bd-8756-f8a5a1e7e1a1",
   "metadata": {},
   "outputs": [
    {
     "name": "stdout",
     "output_type": "stream",
     "text": [
      "(5, 1)\n"
     ]
    }
   ],
   "source": [
    "value = [1,2,3,4,5]\n",
    "mx = max(value)\n",
    "mi = min(value)\n",
    "print(tuple([mx,mi]))"
   ]
  },
  {
   "cell_type": "markdown",
   "id": "61a31fe6-8730-4a71-82b4-199347b9747a",
   "metadata": {},
   "source": [
    "10. Write a Python function that takes a list of integers and returns the sum of all the even numbers in the list.\n",
    "Example Input: [1, 2, 3, 4, 5]\n",
    "Example Output: 6"
   ]
  },
  {
   "cell_type": "code",
   "execution_count": 105,
   "id": "a112d472-b302-499d-a642-09e1bc2a27f8",
   "metadata": {},
   "outputs": [
    {
     "name": "stdin",
     "output_type": "stream",
     "text": [
      "Enter an integer value for the range:  5\n"
     ]
    },
    {
     "name": "stdout",
     "output_type": "stream",
     "text": [
      "Sum of even numbers: 6\n"
     ]
    }
   ],
   "source": [
    "a = int(input(\"Enter an integer value for the range: \"))\n",
    "myList = [i for i in range(a + 1) if i % 2 == 0]\n",
    "print(\"Sum of even numbers:\", sum(myList))"
   ]
  },
  {
   "cell_type": "markdown",
   "id": "3231301e-4c73-4e73-87f6-47b62921d2f3",
   "metadata": {},
   "source": [
    "11. Write a Python function that takes a list of integers and returns the second largest element\n",
    "in the list. If there is no second largest, return None.\n",
    "Example Input: [1, 2, 3, 4, 5]\n",
    "Example Output: 4\n",
    "Example Input: [5, 5, 5]\n",
    "Example Output: None"
   ]
  },
  {
   "cell_type": "code",
   "execution_count": 13,
   "id": "6d33ae5c-bb5b-4461-a9f3-8405c0ef459e",
   "metadata": {},
   "outputs": [
    {
     "name": "stdin",
     "output_type": "stream",
     "text": [
      "Enter Digit 1\n",
      "Enter Digit 2\n",
      "Enter Digit 3\n",
      "Enter Digit 4\n",
      "Enter Digit 5\n"
     ]
    },
    {
     "name": "stdout",
     "output_type": "stream",
     "text": [
      "The Second Largest Element is : 4\n"
     ]
    }
   ],
   "source": [
    "def second_largest(lst):\n",
    "    unique_lst = sorted(set(lst), reverse=True)\n",
    "    if len(unique_lst) < 2:\n",
    "        return None\n",
    "    else:\n",
    "        return unique_lst[1]\n",
    "count = 5\n",
    "l = []\n",
    "for i in range(count):\n",
    "    value = input(\"Enter Digit\")    \n",
    "    l.append(value)\n",
    "print(\"The Second Largest Element is : \" + second_largest(l))\n"
   ]
  },
  {
   "cell_type": "markdown",
   "id": "ef01b263-431b-4296-a238-13800522bea0",
   "metadata": {},
   "source": [
    "12. Write a Python function that removes all whitespace characters (spaces, tabs, etc.) from as string.\n",
    "Example Input: \"hello world\"\n",
    "Example Output: helloworld|"
   ]
  },
  {
   "cell_type": "code",
   "execution_count": 134,
   "id": "363b6835-e21f-415e-9fa6-b7fb1e71eead",
   "metadata": {},
   "outputs": [
    {
     "name": "stdin",
     "output_type": "stream",
     "text": [
      "Enter a String Aditya   Kanoi.          DataScience\n"
     ]
    },
    {
     "name": "stdout",
     "output_type": "stream",
     "text": [
      "AdityaKanoi.DataScience\n"
     ]
    }
   ],
   "source": [
    "def remove_whitespace(input_string):\n",
    "    return ''.join(input_string.split())\n",
    "\n",
    "input_string = input(\"Enter a String\")\n",
    "print(f\"{remove_whitespace(input_string)}\")"
   ]
  },
  {
   "cell_type": "markdown",
   "id": "58a8974c-d974-49ab-8a5d-d0ee74960216",
   "metadata": {},
   "source": [
    "13. Write a Python function that takes a string and returns the length of the longest word in\n",
    "the string.\n",
    "Example Input: \"The quick brown fox\"\n",
    "Example Output: 5"
   ]
  },
  {
   "cell_type": "code",
   "execution_count": 156,
   "id": "ce268bb1-9b35-42b7-9836-bf602bf76f8b",
   "metadata": {},
   "outputs": [
    {
     "name": "stdin",
     "output_type": "stream",
     "text": [
      "Enter a Sentence:  The quick brown fox\n"
     ]
    },
    {
     "name": "stdout",
     "output_type": "stream",
     "text": [
      "5\n"
     ]
    }
   ],
   "source": [
    "string = input(\"Enter a Sentence: \")\n",
    "l = string.split()\n",
    "l.sort(key=len)\n",
    "print(len(l[-1]))"
   ]
  },
  {
   "cell_type": "markdown",
   "id": "f7fe7da4-23e5-495a-af92-bf001824d51f",
   "metadata": {},
   "source": [
    "14. Write a Python function that prints the multiplication table for a given number from 1 to 10.\n",
    "Example Input: 3\n",
    "Example Output:\n",
    "3 x 1 = 3\n",
    "3 x 2 = 6\n",
    "3 x 3 = 9\n",
    "...\n",
    "3 x 10 = 30"
   ]
  },
  {
   "cell_type": "code",
   "execution_count": 122,
   "id": "299234f8-5404-4650-8bbb-33206b512993",
   "metadata": {},
   "outputs": [
    {
     "name": "stdin",
     "output_type": "stream",
     "text": [
      "Enter Value to Get Table :  3\n"
     ]
    },
    {
     "name": "stdout",
     "output_type": "stream",
     "text": [
      "3 X 0 = 0\n",
      "3 X 1 = 3\n",
      "3 X 2 = 6\n",
      "3 X 3 = 9\n",
      "3 X 4 = 12\n",
      "3 X 5 = 15\n",
      "3 X 6 = 18\n",
      "3 X 7 = 21\n",
      "3 X 8 = 24\n",
      "3 X 9 = 27\n",
      "3 X 10 = 30\n"
     ]
    }
   ],
   "source": [
    "value = int(input(\"Enter Value to Get Table : \"))\n",
    "for i in range(11) :\n",
    "    print(f\"{value} X {i} = {value*i}\")"
   ]
  },
  {
   "cell_type": "markdown",
   "id": "8a5f7678-c374-4e2a-8b92-f8bc09185980",
   "metadata": {},
   "source": [
    "15. Write a Python function that prints all prime numbers between start and end (inclusive).\n",
    "Example Input: 10, 20\n",
    "Example Output: 11, 13, 17, 19"
   ]
  },
  {
   "cell_type": "code",
   "execution_count": 116,
   "id": "0a0e4069-8cfe-42c7-86a9-be47501fc89e",
   "metadata": {},
   "outputs": [
    {
     "name": "stdin",
     "output_type": "stream",
     "text": [
      "Enter Start Digit 1\n",
      "Enter End Digit 10\n"
     ]
    },
    {
     "name": "stdout",
     "output_type": "stream",
     "text": [
      "[1, 2, 3, 4, 5, 6, 7, 8, 9, 10]\n"
     ]
    }
   ],
   "source": [
    "start = int(input(\"Enter Start Digit\"))\n",
    "end = int(input(\"Enter End Digit\"))\n",
    "myList = [i for i in range(start,end+1)]\n",
    "print(myList)"
   ]
  },
  {
   "cell_type": "markdown",
   "id": "4d65e656-7414-4896-9e42-be5247c5feb5",
   "metadata": {},
   "source": [
    "-------------------------------------- END OF ASSIGNEMENT ------------------------------------------------ END OF ASSIGNEMENT ---------------"
   ]
  }
 ],
 "metadata": {
  "kernelspec": {
   "display_name": "Python 3 (ipykernel)",
   "language": "python",
   "name": "python3"
  },
  "language_info": {
   "codemirror_mode": {
    "name": "ipython",
    "version": 3
   },
   "file_extension": ".py",
   "mimetype": "text/x-python",
   "name": "python",
   "nbconvert_exporter": "python",
   "pygments_lexer": "ipython3",
   "version": "3.12.7"
  }
 },
 "nbformat": 4,
 "nbformat_minor": 5
}
