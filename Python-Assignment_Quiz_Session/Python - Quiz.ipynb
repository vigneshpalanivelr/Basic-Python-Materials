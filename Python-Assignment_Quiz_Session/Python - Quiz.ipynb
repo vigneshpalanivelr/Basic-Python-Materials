{
 "cells": [
  {
   "cell_type": "markdown",
   "id": "0c895322",
   "metadata": {
    "toc": true
   },
   "source": [
    "<h1>Table of Contents<span class=\"tocSkip\"></span></h1>\n",
    "<div class=\"toc\"><ul class=\"toc-item\"><li><span><a href=\"#Question-1:\" data-toc-modified-id=\"Question-1:-1\"><span class=\"toc-item-num\">1&nbsp;&nbsp;</span>Question-1:</a></span></li><li><span><a href=\"#Question-2\" data-toc-modified-id=\"Question-2-2\"><span class=\"toc-item-num\">2&nbsp;&nbsp;</span>Question-2</a></span></li><li><span><a href=\"#Question-3\" data-toc-modified-id=\"Question-3-3\"><span class=\"toc-item-num\">3&nbsp;&nbsp;</span>Question-3</a></span></li><li><span><a href=\"#Question-4\" data-toc-modified-id=\"Question-4-4\"><span class=\"toc-item-num\">4&nbsp;&nbsp;</span>Question-4</a></span></li><li><span><a href=\"#Question-5\" data-toc-modified-id=\"Question-5-5\"><span class=\"toc-item-num\">5&nbsp;&nbsp;</span>Question-5</a></span></li><li><span><a href=\"#Question-6\" data-toc-modified-id=\"Question-6-6\"><span class=\"toc-item-num\">6&nbsp;&nbsp;</span>Question-6</a></span></li><li><span><a href=\"#Question-7\" data-toc-modified-id=\"Question-7-7\"><span class=\"toc-item-num\">7&nbsp;&nbsp;</span>Question-7</a></span></li><li><span><a href=\"#Question-8\" data-toc-modified-id=\"Question-8-8\"><span class=\"toc-item-num\">8&nbsp;&nbsp;</span>Question-8</a></span></li><li><span><a href=\"#Question-9\" data-toc-modified-id=\"Question-9-9\"><span class=\"toc-item-num\">9&nbsp;&nbsp;</span>Question-9</a></span></li><li><span><a href=\"#Question-10\" data-toc-modified-id=\"Question-10-10\"><span class=\"toc-item-num\">10&nbsp;&nbsp;</span>Question-10</a></span></li><li><span><a href=\"#Question-11\" data-toc-modified-id=\"Question-11-11\"><span class=\"toc-item-num\">11&nbsp;&nbsp;</span>Question-11</a></span></li><li><span><a href=\"#Question-12\" data-toc-modified-id=\"Question-12-12\"><span class=\"toc-item-num\">12&nbsp;&nbsp;</span>Question-12</a></span></li><li><span><a href=\"#Question-13\" data-toc-modified-id=\"Question-13-13\"><span class=\"toc-item-num\">13&nbsp;&nbsp;</span>Question-13</a></span></li><li><span><a href=\"#Question-14\" data-toc-modified-id=\"Question-14-14\"><span class=\"toc-item-num\">14&nbsp;&nbsp;</span>Question-14</a></span></li><li><span><a href=\"#Question-15\" data-toc-modified-id=\"Question-15-15\"><span class=\"toc-item-num\">15&nbsp;&nbsp;</span>Question-15</a></span></li><li><span><a href=\"#Question-16\" data-toc-modified-id=\"Question-16-16\"><span class=\"toc-item-num\">16&nbsp;&nbsp;</span>Question-16</a></span></li><li><span><a href=\"#Question-17\" data-toc-modified-id=\"Question-17-17\"><span class=\"toc-item-num\">17&nbsp;&nbsp;</span>Question-17</a></span></li><li><span><a href=\"#Question-18\" data-toc-modified-id=\"Question-18-18\"><span class=\"toc-item-num\">18&nbsp;&nbsp;</span>Question-18</a></span></li><li><span><a href=\"#Question-19\" data-toc-modified-id=\"Question-19-19\"><span class=\"toc-item-num\">19&nbsp;&nbsp;</span>Question-19</a></span></li><li><span><a href=\"#Question-10\" data-toc-modified-id=\"Question-10-20\"><span class=\"toc-item-num\">20&nbsp;&nbsp;</span>Question-10</a></span></li><li><span><a href=\"#Question-21\" data-toc-modified-id=\"Question-21-21\"><span class=\"toc-item-num\">21&nbsp;&nbsp;</span>Question-21</a></span></li><li><span><a href=\"#Question-22\" data-toc-modified-id=\"Question-22-22\"><span class=\"toc-item-num\">22&nbsp;&nbsp;</span>Question-22</a></span></li><li><span><a href=\"#Question-23\" data-toc-modified-id=\"Question-23-23\"><span class=\"toc-item-num\">23&nbsp;&nbsp;</span>Question-23</a></span></li><li><span><a href=\"#Question-24\" data-toc-modified-id=\"Question-24-24\"><span class=\"toc-item-num\">24&nbsp;&nbsp;</span>Question-24</a></span></li><li><span><a href=\"#Question-25\" data-toc-modified-id=\"Question-25-25\"><span class=\"toc-item-num\">25&nbsp;&nbsp;</span>Question-25</a></span></li><li><span><a href=\"#Question-26\" data-toc-modified-id=\"Question-26-26\"><span class=\"toc-item-num\">26&nbsp;&nbsp;</span>Question-26</a></span></li><li><span><a href=\"#Question-27\" data-toc-modified-id=\"Question-27-27\"><span class=\"toc-item-num\">27&nbsp;&nbsp;</span>Question-27</a></span></li><li><span><a href=\"#Question-28\" data-toc-modified-id=\"Question-28-28\"><span class=\"toc-item-num\">28&nbsp;&nbsp;</span>Question-28</a></span></li><li><span><a href=\"#Question-29\" data-toc-modified-id=\"Question-29-29\"><span class=\"toc-item-num\">29&nbsp;&nbsp;</span>Question-29</a></span></li><li><span><a href=\"#Question-30\" data-toc-modified-id=\"Question-30-30\"><span class=\"toc-item-num\">30&nbsp;&nbsp;</span>Question-30</a></span></li><li><span><a href=\"#Question-31\" data-toc-modified-id=\"Question-31-31\"><span class=\"toc-item-num\">31&nbsp;&nbsp;</span>Question-31</a></span></li><li><span><a href=\"#Question-32\" data-toc-modified-id=\"Question-32-32\"><span class=\"toc-item-num\">32&nbsp;&nbsp;</span>Question-32</a></span></li><li><span><a href=\"#Question-33\" data-toc-modified-id=\"Question-33-33\"><span class=\"toc-item-num\">33&nbsp;&nbsp;</span>Question-33</a></span></li><li><span><a href=\"#Question-34\" data-toc-modified-id=\"Question-34-34\"><span class=\"toc-item-num\">34&nbsp;&nbsp;</span>Question-34</a></span></li><li><span><a href=\"#Question-35\" data-toc-modified-id=\"Question-35-35\"><span class=\"toc-item-num\">35&nbsp;&nbsp;</span>Question-35</a></span></li><li><span><a href=\"#Question-36\" data-toc-modified-id=\"Question-36-36\"><span class=\"toc-item-num\">36&nbsp;&nbsp;</span>Question-36</a></span></li><li><span><a href=\"#Question-37\" data-toc-modified-id=\"Question-37-37\"><span class=\"toc-item-num\">37&nbsp;&nbsp;</span>Question-37</a></span></li><li><span><a href=\"#Question-38\" data-toc-modified-id=\"Question-38-38\"><span class=\"toc-item-num\">38&nbsp;&nbsp;</span>Question-38</a></span></li><li><span><a href=\"#Question-39\" data-toc-modified-id=\"Question-39-39\"><span class=\"toc-item-num\">39&nbsp;&nbsp;</span>Question-39</a></span></li><li><span><a href=\"#Question-40\" data-toc-modified-id=\"Question-40-40\"><span class=\"toc-item-num\">40&nbsp;&nbsp;</span>Question-40</a></span></li></ul></div>"
   ]
  },
  {
   "cell_type": "markdown",
   "id": "3b365aa1",
   "metadata": {},
   "source": [
    "# Question-1: \n",
    "\n",
    "```\n",
    "Which of the following best describes Python as a programming language?\n",
    "\n",
    "a. Python is a functional programming language only\n",
    "\n",
    "b. Python is a low-level, compiled language\n",
    "\n",
    "c. Python does not support object-oriented programming\n",
    "\n",
    "d. Python is an interpreted, high-level language with dynamic typing\n",
    "```"
   ]
  },
  {
   "cell_type": "code",
   "execution_count": 2,
   "id": "f42eb0ec",
   "metadata": {
    "ExecuteTime": {
     "end_time": "2024-11-14T19:02:41.646570Z",
     "start_time": "2024-11-14T19:02:41.638758Z"
    }
   },
   "outputs": [
    {
     "name": "stdout",
     "output_type": "stream",
     "text": [
      "d\n"
     ]
    }
   ],
   "source": [
    "print('d')"
   ]
  },
  {
   "cell_type": "code",
   "execution_count": 26,
   "id": "2927313a",
   "metadata": {
    "ExecuteTime": {
     "end_time": "2024-11-14T19:31:28.515403Z",
     "start_time": "2024-11-14T19:31:28.482996Z"
    }
   },
   "outputs": [
    {
     "name": "stdout",
     "output_type": "stream",
     "text": [
      "\n"
     ]
    }
   ],
   "source": [
    "\"\"\"\n",
    "Python is an interpreted language    = It executes code line by line rather than compiling it beforehand. \n",
    "Python is also a high-level language = It is closer to human languages than machine languages. \n",
    "Python uses dynamic typing           = Variable types are determined at runtime.\n",
    "\n",
    "Python supports multiple programming paradigms\n",
    " - Object-Oriented programming\n",
    " - Functional programming\n",
    " - Procedural programming\n",
    "\"\"\"\n",
    "print()"
   ]
  },
  {
   "cell_type": "markdown",
   "id": "7a424412",
   "metadata": {},
   "source": [
    "# Question-2\n",
    "\n",
    "```\n",
    "What will be the output of the following code?s = \"Python\" print(s[1:4])\n",
    "\n",
    "a. Py\n",
    "\n",
    "b. Pyt\n",
    "\n",
    "c. thon\n",
    "\n",
    "d. yth\n",
    "```"
   ]
  },
  {
   "cell_type": "code",
   "execution_count": 4,
   "id": "dba1a52e",
   "metadata": {
    "ExecuteTime": {
     "end_time": "2024-11-14T19:05:03.500110Z",
     "start_time": "2024-11-14T19:05:03.486917Z"
    }
   },
   "outputs": [
    {
     "name": "stdout",
     "output_type": "stream",
     "text": [
      "yth\n"
     ]
    }
   ],
   "source": [
    "s = \"Python\"\n",
    "print(s[1:4])"
   ]
  },
  {
   "cell_type": "code",
   "execution_count": 5,
   "id": "0793f7f2",
   "metadata": {
    "ExecuteTime": {
     "end_time": "2024-11-14T19:05:35.286424Z",
     "start_time": "2024-11-14T19:05:35.270377Z"
    }
   },
   "outputs": [
    {
     "name": "stdout",
     "output_type": "stream",
     "text": [
      "d\n"
     ]
    }
   ],
   "source": [
    "print('d')"
   ]
  },
  {
   "cell_type": "markdown",
   "id": "b5212404",
   "metadata": {},
   "source": [
    "# Question-3\n",
    "\n",
    "```\n",
    "What will be the output of the following expression? 3 > 2 and 2 < 1 or 4 == 4\n",
    "\n",
    "a. False\n",
    "\n",
    "b. None\n",
    "\n",
    "c. Syntax Error\n",
    "\n",
    "d. True\n",
    "```"
   ]
  },
  {
   "cell_type": "code",
   "execution_count": 8,
   "id": "23bd6380",
   "metadata": {
    "ExecuteTime": {
     "end_time": "2024-11-14T19:12:00.762162Z",
     "start_time": "2024-11-14T19:12:00.754539Z"
    }
   },
   "outputs": [
    {
     "name": "stdout",
     "output_type": "stream",
     "text": [
      "d\n"
     ]
    }
   ],
   "source": [
    "print('d')"
   ]
  },
  {
   "cell_type": "code",
   "execution_count": 7,
   "id": "dbc75ff7",
   "metadata": {
    "ExecuteTime": {
     "end_time": "2024-11-14T19:06:46.566059Z",
     "start_time": "2024-11-14T19:06:46.552548Z"
    }
   },
   "outputs": [
    {
     "data": {
      "text/plain": [
       "True"
      ]
     },
     "execution_count": 7,
     "metadata": {},
     "output_type": "execute_result"
    }
   ],
   "source": [
    "3 > 2 and 2 < 1 or 4 == 4"
   ]
  },
  {
   "cell_type": "markdown",
   "id": "c605fd2b",
   "metadata": {},
   "source": [
    "# Question-4\n",
    "\n",
    "```\n",
    "What does the find() method return if the substring is not found in a string?\n",
    "\n",
    "a. Error\n",
    "\n",
    "b. -1\n",
    "\n",
    "c. None\n",
    "\n",
    "d. 0\n",
    "```"
   ]
  },
  {
   "cell_type": "code",
   "execution_count": 12,
   "id": "8fb151d8",
   "metadata": {
    "ExecuteTime": {
     "end_time": "2024-11-14T19:14:57.312482Z",
     "start_time": "2024-11-14T19:14:57.304390Z"
    }
   },
   "outputs": [
    {
     "name": "stdout",
     "output_type": "stream",
     "text": [
      "b\n"
     ]
    }
   ],
   "source": [
    "print('b')"
   ]
  },
  {
   "cell_type": "code",
   "execution_count": 11,
   "id": "c70bbf55",
   "metadata": {
    "ExecuteTime": {
     "end_time": "2024-11-14T19:14:45.327089Z",
     "start_time": "2024-11-14T19:14:45.319166Z"
    }
   },
   "outputs": [
    {
     "data": {
      "text/plain": [
       "-1"
      ]
     },
     "execution_count": 11,
     "metadata": {},
     "output_type": "execute_result"
    }
   ],
   "source": [
    "'bc'.find('a')"
   ]
  },
  {
   "cell_type": "markdown",
   "id": "384c63f2",
   "metadata": {},
   "source": [
    "# Question-5\n",
    "\n",
    "```\n",
    "What will happen if there is a finally block after a try-except block?\n",
    "\n",
    "a. finally block will execute only if an error occurs.\n",
    "\n",
    "b. It depends on the error.\n",
    "\n",
    "c. finally block will not execute at all.\n",
    "\n",
    "d. finally block will always execute.\n",
    "```"
   ]
  },
  {
   "cell_type": "code",
   "execution_count": 13,
   "id": "90c52cb2",
   "metadata": {
    "ExecuteTime": {
     "end_time": "2024-11-14T19:16:01.134281Z",
     "start_time": "2024-11-14T19:16:01.127478Z"
    }
   },
   "outputs": [
    {
     "name": "stdout",
     "output_type": "stream",
     "text": [
      "d\n"
     ]
    }
   ],
   "source": [
    "print('d')"
   ]
  },
  {
   "cell_type": "markdown",
   "id": "7032cea1",
   "metadata": {},
   "source": [
    "# Question-6\n",
    "\n",
    "```\n",
    "What will be the output of the following code? x = \"5.67\" y = int(float(x)) print(y)\n",
    "\n",
    "a. 6\n",
    "\n",
    "b. 5.67\n",
    "\n",
    "c. Error\n",
    "\n",
    "d. 5\n",
    "```"
   ]
  },
  {
   "cell_type": "code",
   "execution_count": 14,
   "id": "0689f375",
   "metadata": {
    "ExecuteTime": {
     "end_time": "2024-11-14T19:17:33.341768Z",
     "start_time": "2024-11-14T19:17:33.304479Z"
    }
   },
   "outputs": [
    {
     "name": "stdout",
     "output_type": "stream",
     "text": [
      "5\n"
     ]
    }
   ],
   "source": [
    "print('5')"
   ]
  },
  {
   "cell_type": "code",
   "execution_count": 15,
   "id": "c61e6352",
   "metadata": {
    "ExecuteTime": {
     "end_time": "2024-11-14T19:17:41.029901Z",
     "start_time": "2024-11-14T19:17:41.022432Z"
    }
   },
   "outputs": [
    {
     "name": "stdout",
     "output_type": "stream",
     "text": [
      "5\n"
     ]
    }
   ],
   "source": [
    "x = \"5.67\"\n",
    "y = int(float(x))\n",
    "print(y)"
   ]
  },
  {
   "cell_type": "markdown",
   "id": "4eda918b",
   "metadata": {},
   "source": [
    "# Question-7\n",
    "```\n",
    "Which method is used to get the index of an element in a list?\n",
    "\n",
    "a. index()\n",
    "\n",
    "b. position()\n",
    "\n",
    "c. find()\n",
    "\n",
    "d. get()\n",
    "```"
   ]
  },
  {
   "cell_type": "code",
   "execution_count": 19,
   "id": "8830516c",
   "metadata": {
    "ExecuteTime": {
     "end_time": "2024-11-14T19:19:25.339638Z",
     "start_time": "2024-11-14T19:19:25.332993Z"
    }
   },
   "outputs": [
    {
     "name": "stdout",
     "output_type": "stream",
     "text": [
      "a\n"
     ]
    }
   ],
   "source": [
    "print('a')"
   ]
  },
  {
   "cell_type": "code",
   "execution_count": 18,
   "id": "5c79eb5e",
   "metadata": {
    "ExecuteTime": {
     "end_time": "2024-11-14T19:19:15.699390Z",
     "start_time": "2024-11-14T19:19:15.690819Z"
    }
   },
   "outputs": [
    {
     "data": {
      "text/plain": [
       "1"
      ]
     },
     "execution_count": 18,
     "metadata": {},
     "output_type": "execute_result"
    }
   ],
   "source": [
    "x=[1,2,3]\n",
    "x.index(2)"
   ]
  },
  {
   "cell_type": "markdown",
   "id": "de247c0c",
   "metadata": {},
   "source": [
    "# Question-8\n",
    "```\n",
    "What will be the result of the following code? s1 = {1, 2, 3} ; s2 = {3, 4, 5} ; print(s1 & s2)\n",
    "\n",
    "a. {1, 2, 3, 4, 5}\n",
    "\n",
    "b. {4, 5}\n",
    "\n",
    "c. {1, 2}\n",
    "\n",
    "d. {3}\n",
    "```"
   ]
  },
  {
   "cell_type": "code",
   "execution_count": 20,
   "id": "9a907c46",
   "metadata": {
    "ExecuteTime": {
     "end_time": "2024-11-14T19:20:55.376095Z",
     "start_time": "2024-11-14T19:20:55.370297Z"
    }
   },
   "outputs": [
    {
     "name": "stdout",
     "output_type": "stream",
     "text": [
      "d\n"
     ]
    }
   ],
   "source": [
    "print('d')"
   ]
  },
  {
   "cell_type": "code",
   "execution_count": 21,
   "id": "fba5e8f8",
   "metadata": {
    "ExecuteTime": {
     "end_time": "2024-11-14T19:21:04.023876Z",
     "start_time": "2024-11-14T19:21:04.016712Z"
    }
   },
   "outputs": [
    {
     "name": "stdout",
     "output_type": "stream",
     "text": [
      "{3}\n"
     ]
    }
   ],
   "source": [
    "s1 = {1, 2, 3} ; s2 = {3, 4, 5} ; print(s1 & s2)"
   ]
  },
  {
   "cell_type": "code",
   "execution_count": 28,
   "id": "6f082a0b",
   "metadata": {
    "ExecuteTime": {
     "end_time": "2024-11-14T19:32:14.599586Z",
     "start_time": "2024-11-14T19:32:14.592735Z"
    }
   },
   "outputs": [
    {
     "name": "stdout",
     "output_type": "stream",
     "text": [
      "{1, 2, 3, 4, 5}\n"
     ]
    }
   ],
   "source": [
    "s1 = {1, 2, 3} ; s2 = {3, 4, 5} ; print(s1 | s2)"
   ]
  },
  {
   "cell_type": "code",
   "execution_count": 29,
   "id": "1ae34e69",
   "metadata": {
    "ExecuteTime": {
     "end_time": "2024-11-14T19:32:34.045781Z",
     "start_time": "2024-11-14T19:32:33.993013Z"
    },
    "deletable": false,
    "editable": false,
    "run_control": {
     "frozen": true
    }
   },
   "outputs": [
    {
     "ename": "TypeError",
     "evalue": "unsupported operand type(s) for *: 'set' and 'set'",
     "output_type": "error",
     "traceback": [
      "\u001b[0;31m---------------------------------------------------------------------------\u001b[0m",
      "\u001b[0;31mTypeError\u001b[0m                                 Traceback (most recent call last)",
      "Input \u001b[0;32mIn [29]\u001b[0m, in \u001b[0;36m<cell line: 1>\u001b[0;34m()\u001b[0m\n\u001b[0;32m----> 1\u001b[0m s1 \u001b[38;5;241m=\u001b[39m {\u001b[38;5;241m1\u001b[39m, \u001b[38;5;241m2\u001b[39m, \u001b[38;5;241m3\u001b[39m} ; s2 \u001b[38;5;241m=\u001b[39m {\u001b[38;5;241m3\u001b[39m, \u001b[38;5;241m4\u001b[39m, \u001b[38;5;241m5\u001b[39m} ; \u001b[38;5;28mprint\u001b[39m(\u001b[43ms1\u001b[49m\u001b[43m \u001b[49m\u001b[38;5;241;43m*\u001b[39;49m\u001b[43m \u001b[49m\u001b[43ms2\u001b[49m)\n",
      "\u001b[0;31mTypeError\u001b[0m: unsupported operand type(s) for *: 'set' and 'set'"
     ]
    }
   ],
   "source": [
    "s1 = {1, 2, 3} ; s2 = {3, 4, 5} ; print(s1 * s2)"
   ]
  },
  {
   "cell_type": "code",
   "execution_count": 30,
   "id": "b161267a",
   "metadata": {
    "ExecuteTime": {
     "end_time": "2024-11-14T19:32:46.810671Z",
     "start_time": "2024-11-14T19:32:46.773941Z"
    },
    "deletable": false,
    "editable": false,
    "run_control": {
     "frozen": true
    }
   },
   "outputs": [
    {
     "ename": "TypeError",
     "evalue": "unsupported operand type(s) for +: 'set' and 'set'",
     "output_type": "error",
     "traceback": [
      "\u001b[0;31m---------------------------------------------------------------------------\u001b[0m",
      "\u001b[0;31mTypeError\u001b[0m                                 Traceback (most recent call last)",
      "Input \u001b[0;32mIn [30]\u001b[0m, in \u001b[0;36m<cell line: 1>\u001b[0;34m()\u001b[0m\n\u001b[0;32m----> 1\u001b[0m s1 \u001b[38;5;241m=\u001b[39m {\u001b[38;5;241m1\u001b[39m, \u001b[38;5;241m2\u001b[39m, \u001b[38;5;241m3\u001b[39m} ; s2 \u001b[38;5;241m=\u001b[39m {\u001b[38;5;241m3\u001b[39m, \u001b[38;5;241m4\u001b[39m, \u001b[38;5;241m5\u001b[39m} ; \u001b[38;5;28mprint\u001b[39m(\u001b[43ms1\u001b[49m\u001b[43m \u001b[49m\u001b[38;5;241;43m+\u001b[39;49m\u001b[43m \u001b[49m\u001b[43ms2\u001b[49m)\n",
      "\u001b[0;31mTypeError\u001b[0m: unsupported operand type(s) for +: 'set' and 'set'"
     ]
    }
   ],
   "source": [
    "s1 = {1, 2, 3} ; s2 = {3, 4, 5} ; print(s1 + s2)"
   ]
  },
  {
   "cell_type": "markdown",
   "id": "22455279",
   "metadata": {},
   "source": [
    "# Question-9\n",
    "```\n",
    "What type of execution flow is being used when we include an if statement within another if statement?\n",
    "\n",
    "a. Chained Execution\n",
    "\n",
    "b. Sequential Execution\n",
    "\n",
    "c. Nested Execution\n",
    "\n",
    "d. Conditional Execution\n",
    "```"
   ]
  },
  {
   "cell_type": "code",
   "execution_count": 22,
   "id": "1f08b14f",
   "metadata": {
    "ExecuteTime": {
     "end_time": "2024-11-14T19:22:38.813730Z",
     "start_time": "2024-11-14T19:22:38.805872Z"
    }
   },
   "outputs": [
    {
     "name": "stdout",
     "output_type": "stream",
     "text": [
      "c\n"
     ]
    }
   ],
   "source": [
    "print('c')"
   ]
  },
  {
   "cell_type": "code",
   "execution_count": 24,
   "id": "12391214",
   "metadata": {
    "ExecuteTime": {
     "end_time": "2024-11-14T19:28:11.250883Z",
     "start_time": "2024-11-14T19:28:11.244256Z"
    }
   },
   "outputs": [
    {
     "name": "stdout",
     "output_type": "stream",
     "text": [
      "\n"
     ]
    }
   ],
   "source": [
    "\"\"\"\n",
    "Sequential execution  = Code running one line after another.\n",
    "Chained execution     = Multiple conditions connected by logical operators (like and, or).\n",
    "Conditional execution = Code that is executed based on a condition, but it doesn't specify whether the conditions are nested\n",
    "\"\"\"\n",
    "print()"
   ]
  },
  {
   "cell_type": "markdown",
   "id": "ace85e6e",
   "metadata": {},
   "source": [
    "# Question-10\n",
    "\n",
    "```\n",
    "Which of the following is the correct way to create a set in Python?\n",
    "\n",
    "a. set = (1, 2, 3, 4)\n",
    "\n",
    "b. set = [1, 2, 3, 4]\n",
    "\n",
    "c. set = set(1, 2, 3, 4)\n",
    "\n",
    "d. set = {1, 2, 3, 4}\n",
    "```"
   ]
  },
  {
   "cell_type": "code",
   "execution_count": 31,
   "id": "cc29d522",
   "metadata": {
    "ExecuteTime": {
     "end_time": "2024-11-14T19:33:31.369193Z",
     "start_time": "2024-11-14T19:33:31.360778Z"
    }
   },
   "outputs": [
    {
     "name": "stdout",
     "output_type": "stream",
     "text": [
      "d\n"
     ]
    }
   ],
   "source": [
    "print('d')"
   ]
  },
  {
   "cell_type": "code",
   "execution_count": 33,
   "id": "eef29299",
   "metadata": {
    "ExecuteTime": {
     "end_time": "2024-11-14T19:34:51.827275Z",
     "start_time": "2024-11-14T19:34:51.820657Z"
    }
   },
   "outputs": [
    {
     "name": "stdout",
     "output_type": "stream",
     "text": [
      "\n"
     ]
    }
   ],
   "source": [
    "\"\"\"\n",
    "a: (1, 2, 3, 4)    = Creates a tuple, not a set.\n",
    "b: [1, 2, 3, 4]    = Creates a list, not a set.\n",
    "c: set(1, 2, 3, 4) = is not a valid syntax. You would need to use the set() constructor and pass an iterable, like set([1, 2, 3, 4]).\n",
    "\"\"\"\n",
    "print()"
   ]
  },
  {
   "cell_type": "markdown",
   "id": "ef29ed19",
   "metadata": {},
   "source": [
    "# Question-11\n",
    "```\n",
    "What will be the output of the following code?lst = [1, 2, 3, 4, 5] ; lst[1:3] = [6, 7, 8] ; print(lst)\n",
    "\n",
    "a. [1, 2, 3, 4, 5, 6, 7, 8]\n",
    "\n",
    "b. [1, 6, 7, 8, 4, 5]\n",
    "\n",
    "c. [1, 2, 6, 7, 8, 4, 5]\n",
    "\n",
    "d. [6, 7, 8, 4, 5]\n",
    "```"
   ]
  },
  {
   "cell_type": "code",
   "execution_count": 35,
   "id": "4c0020cf",
   "metadata": {
    "ExecuteTime": {
     "end_time": "2024-11-14T19:38:04.492774Z",
     "start_time": "2024-11-14T19:38:04.486753Z"
    }
   },
   "outputs": [
    {
     "name": "stdout",
     "output_type": "stream",
     "text": [
      "b\n"
     ]
    }
   ],
   "source": [
    "print('b')"
   ]
  },
  {
   "cell_type": "code",
   "execution_count": 34,
   "id": "e42d884b",
   "metadata": {
    "ExecuteTime": {
     "end_time": "2024-11-14T19:37:55.039707Z",
     "start_time": "2024-11-14T19:37:55.030060Z"
    }
   },
   "outputs": [
    {
     "name": "stdout",
     "output_type": "stream",
     "text": [
      "[1, 6, 7, 8, 4, 5]\n"
     ]
    }
   ],
   "source": [
    "lst = [1, 2, 3, 4, 5] ; lst[1:3] = [6, 7, 8] ; print(lst)"
   ]
  },
  {
   "cell_type": "markdown",
   "id": "701ba51f",
   "metadata": {},
   "source": [
    "# Question-12\n",
    "```\n",
    "What happens if an error occurs in the try block and there is no matching except block?\n",
    "\n",
    "a. The program catches the error automatically.\n",
    "\n",
    "b. The program continues execution as normal.\n",
    "\n",
    "c. The program skips to the next code after try.\n",
    "\n",
    "d. The program stops and displays an error.\n",
    "```"
   ]
  },
  {
   "cell_type": "code",
   "execution_count": 36,
   "id": "b9df88d4",
   "metadata": {
    "ExecuteTime": {
     "end_time": "2024-11-14T19:40:18.575459Z",
     "start_time": "2024-11-14T19:40:18.563980Z"
    }
   },
   "outputs": [
    {
     "name": "stdout",
     "output_type": "stream",
     "text": [
      "d\n"
     ]
    }
   ],
   "source": [
    "print('d')"
   ]
  },
  {
   "cell_type": "code",
   "execution_count": 37,
   "id": "78d0d4d1",
   "metadata": {
    "ExecuteTime": {
     "end_time": "2024-11-14T19:41:01.816957Z",
     "start_time": "2024-11-14T19:41:01.809999Z"
    }
   },
   "outputs": [
    {
     "name": "stdout",
     "output_type": "stream",
     "text": [
      "\n"
     ]
    }
   ],
   "source": [
    "\"\"\"\n",
    "a is incorrect = If no matching except block is found, the error will not be caught automatically.\n",
    "b is incorrect = Program will not continue as normal without handling the error.\n",
    "c is incorrect = Program will not skip to the next code; it will terminate if no error is handled.\n",
    "\"\"\"\n",
    "print()"
   ]
  },
  {
   "cell_type": "markdown",
   "id": "9bf291b9",
   "metadata": {},
   "source": [
    "# Question-13\n",
    "```\n",
    "What does the following code print? x = \"100\" y = float(x) print(type(y))\n",
    "\n",
    "a. <class 'str'>\n",
    "\n",
    "b. <class 'int'>\n",
    "\n",
    "c. <class 'list'>\n",
    "\n",
    "d. <class 'float'>\n",
    "```"
   ]
  },
  {
   "cell_type": "code",
   "execution_count": 40,
   "id": "9199f3ce",
   "metadata": {
    "ExecuteTime": {
     "end_time": "2024-11-14T19:42:07.195994Z",
     "start_time": "2024-11-14T19:42:07.190231Z"
    }
   },
   "outputs": [
    {
     "name": "stdout",
     "output_type": "stream",
     "text": [
      "d\n"
     ]
    }
   ],
   "source": [
    "print('d')"
   ]
  },
  {
   "cell_type": "code",
   "execution_count": 39,
   "id": "51efdd75",
   "metadata": {
    "ExecuteTime": {
     "end_time": "2024-11-14T19:41:51.398493Z",
     "start_time": "2024-11-14T19:41:51.384174Z"
    }
   },
   "outputs": [
    {
     "name": "stdout",
     "output_type": "stream",
     "text": [
      "<class 'float'>\n"
     ]
    }
   ],
   "source": [
    "x = \"100\"; y = float(x); print(type(y))"
   ]
  },
  {
   "cell_type": "markdown",
   "id": "48d16c74",
   "metadata": {},
   "source": [
    "# Question-14\n",
    "\n",
    "```\n",
    "Which of the following methods is used to join a list of strings into a single string?\n",
    "\n",
    "a. str.combine(list)\n",
    "\n",
    "b. str.join(list)\n",
    "\n",
    "c. list.combine(str)\n",
    "\n",
    "d. list.join(str)\n",
    "```"
   ]
  },
  {
   "cell_type": "code",
   "execution_count": 41,
   "id": "b7bbc783",
   "metadata": {
    "ExecuteTime": {
     "end_time": "2024-11-14T19:43:17.242904Z",
     "start_time": "2024-11-14T19:43:17.231487Z"
    }
   },
   "outputs": [
    {
     "name": "stdout",
     "output_type": "stream",
     "text": [
      "b\n"
     ]
    }
   ],
   "source": [
    "print('b')"
   ]
  },
  {
   "cell_type": "markdown",
   "id": "87ba4218",
   "metadata": {},
   "source": [
    "# Question-15\n",
    "```\n",
    "Which of the following is the correct way to concatenate two strings str1 and str2?\n",
    "\n",
    "a. str1.append(str2)\n",
    "\n",
    "b. str1.concat(str2)\n",
    "\n",
    "c. str1.add(str2)\n",
    "\n",
    "d. str1 + str2\n",
    "```"
   ]
  },
  {
   "cell_type": "code",
   "execution_count": 43,
   "id": "7214d929",
   "metadata": {
    "ExecuteTime": {
     "end_time": "2024-11-14T19:44:37.953271Z",
     "start_time": "2024-11-14T19:44:37.945072Z"
    }
   },
   "outputs": [
    {
     "name": "stdout",
     "output_type": "stream",
     "text": [
      "d\n"
     ]
    }
   ],
   "source": [
    "print('d')"
   ]
  },
  {
   "cell_type": "code",
   "execution_count": 44,
   "id": "6a37f02e",
   "metadata": {
    "ExecuteTime": {
     "end_time": "2024-11-14T19:45:10.570743Z",
     "start_time": "2024-11-14T19:45:10.563253Z"
    }
   },
   "outputs": [
    {
     "name": "stdout",
     "output_type": "stream",
     "text": [
      "\n"
     ]
    }
   ],
   "source": [
    "\"\"\"\n",
    "a: str1.append(str2) = Is not valid for strings, as append() is used with lists.\n",
    "b: str1.concat(str2) = Is not a valid method in Python.\n",
    "c: str1.add(str2)    = Is also not valid for strings in Python.\n",
    "\"\"\"\n",
    "print()"
   ]
  },
  {
   "cell_type": "markdown",
   "id": "d521223a",
   "metadata": {},
   "source": [
    "# Question-16\n",
    "```\n",
    "Which of the following will result in an error?\n",
    "\n",
    "a. str(123)\n",
    "\n",
    "b. int(\"123\")\n",
    "\n",
    "c. int(\"12.34\")\n",
    "\n",
    "d. float(\"12.34\")\n",
    "```"
   ]
  },
  {
   "cell_type": "code",
   "execution_count": 49,
   "id": "98d6b4f9",
   "metadata": {
    "ExecuteTime": {
     "end_time": "2024-11-14T19:46:59.684464Z",
     "start_time": "2024-11-14T19:46:59.674255Z"
    }
   },
   "outputs": [
    {
     "name": "stdout",
     "output_type": "stream",
     "text": [
      "c\n"
     ]
    }
   ],
   "source": [
    "print('c')"
   ]
  },
  {
   "cell_type": "code",
   "execution_count": 45,
   "id": "edcfb334",
   "metadata": {
    "ExecuteTime": {
     "end_time": "2024-11-14T19:46:22.308873Z",
     "start_time": "2024-11-14T19:46:22.295176Z"
    }
   },
   "outputs": [
    {
     "data": {
      "text/plain": [
       "'123'"
      ]
     },
     "execution_count": 45,
     "metadata": {},
     "output_type": "execute_result"
    }
   ],
   "source": [
    "str(123)"
   ]
  },
  {
   "cell_type": "code",
   "execution_count": 46,
   "id": "e6085188",
   "metadata": {
    "ExecuteTime": {
     "end_time": "2024-11-14T19:46:29.451225Z",
     "start_time": "2024-11-14T19:46:29.439773Z"
    }
   },
   "outputs": [
    {
     "data": {
      "text/plain": [
       "123"
      ]
     },
     "execution_count": 46,
     "metadata": {},
     "output_type": "execute_result"
    }
   ],
   "source": [
    "int('123')"
   ]
  },
  {
   "cell_type": "code",
   "execution_count": 47,
   "id": "26820e82",
   "metadata": {
    "ExecuteTime": {
     "end_time": "2024-11-14T19:46:36.802331Z",
     "start_time": "2024-11-14T19:46:36.764476Z"
    },
    "deletable": false,
    "editable": false,
    "run_control": {
     "frozen": true
    }
   },
   "outputs": [
    {
     "ename": "ValueError",
     "evalue": "invalid literal for int() with base 10: '12.34'",
     "output_type": "error",
     "traceback": [
      "\u001b[0;31m---------------------------------------------------------------------------\u001b[0m",
      "\u001b[0;31mValueError\u001b[0m                                Traceback (most recent call last)",
      "Input \u001b[0;32mIn [47]\u001b[0m, in \u001b[0;36m<cell line: 1>\u001b[0;34m()\u001b[0m\n\u001b[0;32m----> 1\u001b[0m \u001b[38;5;28;43mint\u001b[39;49m\u001b[43m(\u001b[49m\u001b[38;5;124;43m\"\u001b[39;49m\u001b[38;5;124;43m12.34\u001b[39;49m\u001b[38;5;124;43m\"\u001b[39;49m\u001b[43m)\u001b[49m\n",
      "\u001b[0;31mValueError\u001b[0m: invalid literal for int() with base 10: '12.34'"
     ]
    }
   ],
   "source": [
    "int(\"12.34\")"
   ]
  },
  {
   "cell_type": "code",
   "execution_count": 48,
   "id": "8e752e96",
   "metadata": {
    "ExecuteTime": {
     "end_time": "2024-11-14T19:46:46.089597Z",
     "start_time": "2024-11-14T19:46:46.081615Z"
    }
   },
   "outputs": [
    {
     "data": {
      "text/plain": [
       "12.34"
      ]
     },
     "execution_count": 48,
     "metadata": {},
     "output_type": "execute_result"
    }
   ],
   "source": [
    "float(\"12.34\")"
   ]
  },
  {
   "cell_type": "markdown",
   "id": "5604ce85",
   "metadata": {},
   "source": [
    "# Question-17\n",
    "```\n",
    "What does the pop() method do in a list?\n",
    "\n",
    "a. Removes the first item of the list\n",
    "\n",
    "b. Adds an item at the end of the list\n",
    "\n",
    "c. Removes and returns the last item of the list\n",
    "\n",
    "d. Clears the list\n",
    "```"
   ]
  },
  {
   "cell_type": "code",
   "execution_count": 50,
   "id": "352a9500",
   "metadata": {
    "ExecuteTime": {
     "end_time": "2024-11-14T19:48:26.992437Z",
     "start_time": "2024-11-14T19:48:26.978645Z"
    }
   },
   "outputs": [
    {
     "name": "stdout",
     "output_type": "stream",
     "text": [
      "c\n"
     ]
    }
   ],
   "source": [
    "print('c')"
   ]
  },
  {
   "cell_type": "code",
   "execution_count": 52,
   "id": "d41b7491",
   "metadata": {
    "ExecuteTime": {
     "end_time": "2024-11-14T19:50:24.111484Z",
     "start_time": "2024-11-14T19:50:24.084622Z"
    }
   },
   "outputs": [
    {
     "name": "stdout",
     "output_type": "stream",
     "text": [
      "\n"
     ]
    }
   ],
   "source": [
    "\"\"\"\n",
    "a is incorrect because pop() = without an index removes the last item, not the first.\n",
    "\"\"\"\n",
    "print()"
   ]
  },
  {
   "cell_type": "markdown",
   "id": "8c1dfa08",
   "metadata": {},
   "source": [
    "# Question-18\n",
    "```\n",
    "When using a try block, where should the error-handling code be placed?\n",
    "\n",
    "a. Inside an except block\n",
    "\n",
    "b. In a finally block\n",
    "\n",
    "c. Inside the try block\n",
    "\n",
    "d. After the try block\n",
    "```"
   ]
  },
  {
   "cell_type": "code",
   "execution_count": 53,
   "id": "bc8db1aa",
   "metadata": {
    "ExecuteTime": {
     "end_time": "2024-11-14T19:52:15.791053Z",
     "start_time": "2024-11-14T19:52:15.776009Z"
    }
   },
   "outputs": [
    {
     "name": "stdout",
     "output_type": "stream",
     "text": [
      "a\n"
     ]
    }
   ],
   "source": [
    "print('a')"
   ]
  },
  {
   "cell_type": "code",
   "execution_count": 54,
   "id": "1619846c",
   "metadata": {
    "ExecuteTime": {
     "end_time": "2024-11-14T19:52:23.135122Z",
     "start_time": "2024-11-14T19:52:23.126563Z"
    }
   },
   "outputs": [
    {
     "name": "stdout",
     "output_type": "stream",
     "text": [
      "\n"
     ]
    }
   ],
   "source": [
    "\"\"\"\n",
    "d is incorrect because code placed after the try block is not specifically for handling exceptions.\n",
    "\"\"\"\n",
    "print()"
   ]
  },
  {
   "cell_type": "markdown",
   "id": "f015c938",
   "metadata": {
    "ExecuteTime": {
     "end_time": "2024-11-14T19:53:39.205897Z",
     "start_time": "2024-11-14T19:53:39.189885Z"
    }
   },
   "source": [
    "# Question-19\n",
    "```\n",
    "Which of the following statements is true about Python variables?\n",
    "\n",
    "a. Variables must be declared with a specific type before use\n",
    "\n",
    "b. Variables are case-insensitive\n",
    "\n",
    "c. Variables cannot store different types of data during execution\n",
    "\n",
    "d. Variables are automatically assigned a data type based on the value assigned\n",
    "```"
   ]
  },
  {
   "cell_type": "code",
   "execution_count": 56,
   "id": "8e53b546",
   "metadata": {
    "ExecuteTime": {
     "end_time": "2024-11-14T19:53:53.083548Z",
     "start_time": "2024-11-14T19:53:53.076368Z"
    }
   },
   "outputs": [
    {
     "name": "stdout",
     "output_type": "stream",
     "text": [
      "d\n"
     ]
    }
   ],
   "source": [
    "print('d')"
   ]
  },
  {
   "cell_type": "markdown",
   "id": "db5a12c7",
   "metadata": {
    "ExecuteTime": {
     "end_time": "2024-11-14T19:54:51.727797Z",
     "start_time": "2024-11-14T19:54:51.716173Z"
    }
   },
   "source": [
    "# Question-10\n",
    "```\n",
    "Which of the following is a valid way to convert the string s = \"hello\" to a list of characters?\n",
    "\n",
    "a. s.to_list()\n",
    "\n",
    "b. split(s)\n",
    "\n",
    "c. s.split()\n",
    "\n",
    "d. list(s)\n",
    "```"
   ]
  },
  {
   "cell_type": "code",
   "execution_count": 58,
   "id": "101300e1",
   "metadata": {
    "ExecuteTime": {
     "end_time": "2024-11-14T19:55:15.908742Z",
     "start_time": "2024-11-14T19:55:15.895939Z"
    }
   },
   "outputs": [
    {
     "name": "stdout",
     "output_type": "stream",
     "text": [
      "d\n"
     ]
    }
   ],
   "source": [
    "print('d')"
   ]
  },
  {
   "cell_type": "code",
   "execution_count": 60,
   "id": "e89275af",
   "metadata": {
    "ExecuteTime": {
     "end_time": "2024-11-14T19:55:35.566591Z",
     "start_time": "2024-11-14T19:55:35.560593Z"
    }
   },
   "outputs": [],
   "source": [
    "s = \"hello\""
   ]
  },
  {
   "cell_type": "code",
   "execution_count": 61,
   "id": "69b48154",
   "metadata": {
    "ExecuteTime": {
     "end_time": "2024-11-14T19:55:37.023188Z",
     "start_time": "2024-11-14T19:55:36.922698Z"
    }
   },
   "outputs": [
    {
     "data": {
      "text/plain": [
       "['h', 'e', 'l', 'l', 'o']"
      ]
     },
     "execution_count": 61,
     "metadata": {},
     "output_type": "execute_result"
    }
   ],
   "source": [
    "list(s)"
   ]
  },
  {
   "cell_type": "code",
   "execution_count": 62,
   "id": "7ee44de8",
   "metadata": {
    "ExecuteTime": {
     "end_time": "2024-11-14T19:55:42.677419Z",
     "start_time": "2024-11-14T19:55:42.665621Z"
    }
   },
   "outputs": [
    {
     "data": {
      "text/plain": [
       "['hello']"
      ]
     },
     "execution_count": 62,
     "metadata": {},
     "output_type": "execute_result"
    }
   ],
   "source": [
    "s.split()"
   ]
  },
  {
   "cell_type": "markdown",
   "id": "be0919e7",
   "metadata": {},
   "source": [
    "# Question-21\n",
    "```\n",
    "In Python, what is the purpose of the if __name__ == \"__main__\": statement?\n",
    "\n",
    "a. It allows the script to be run directly or imported as a module without executing the main code\n",
    "\n",
    "b. It is a syntax error in Python\n",
    "\n",
    "c. It checks if a function is defined\n",
    "\n",
    "d. It defines the starting point of a Python program\n",
    "```"
   ]
  },
  {
   "cell_type": "code",
   "execution_count": 63,
   "id": "689decf8",
   "metadata": {
    "ExecuteTime": {
     "end_time": "2024-11-14T19:57:18.036344Z",
     "start_time": "2024-11-14T19:57:18.025610Z"
    }
   },
   "outputs": [
    {
     "name": "stdout",
     "output_type": "stream",
     "text": [
      "a\n"
     ]
    }
   ],
   "source": [
    "print('a')"
   ]
  },
  {
   "cell_type": "code",
   "execution_count": 64,
   "id": "60323ac4",
   "metadata": {
    "ExecuteTime": {
     "end_time": "2024-11-14T20:00:03.212501Z",
     "start_time": "2024-11-14T20:00:03.184321Z"
    }
   },
   "outputs": [
    {
     "name": "stdout",
     "output_type": "stream",
     "text": [
      "\n"
     ]
    }
   ],
   "source": [
    "\"\"\"\n",
    "if __name__ == \"__main__\":\n",
    "    # Code here will only run if the script is executed directly not by importing\n",
    "\n",
    "If the script is being run directly, the code under this statement will execute.\n",
    "If the script is imported, the code under this statement will not run.\n",
    "\n",
    "it does not define the starting point of the program, but rather controls whether specific code should run when the script is executed directly.\n",
    "\"\"\"\n",
    "print()"
   ]
  },
  {
   "cell_type": "markdown",
   "id": "07e1677a",
   "metadata": {},
   "source": [
    "# Question-22\n",
    "```\n",
    "Which of the following is a valid way to convert an integer to a string in Python?\n",
    "\n",
    "a. int(123)\n",
    "\n",
    "b. toString(123)\n",
    "\n",
    "c. string(123)\n",
    "\n",
    "d. str(123)\n",
    "```"
   ]
  },
  {
   "cell_type": "code",
   "execution_count": 65,
   "id": "83b9f80f",
   "metadata": {
    "ExecuteTime": {
     "end_time": "2024-11-14T20:01:06.892844Z",
     "start_time": "2024-11-14T20:01:06.887377Z"
    }
   },
   "outputs": [
    {
     "name": "stdout",
     "output_type": "stream",
     "text": [
      "d\n"
     ]
    }
   ],
   "source": [
    "print('d')"
   ]
  },
  {
   "cell_type": "code",
   "execution_count": 66,
   "id": "df3e70e8",
   "metadata": {
    "ExecuteTime": {
     "end_time": "2024-11-14T20:01:08.230881Z",
     "start_time": "2024-11-14T20:01:08.204641Z"
    }
   },
   "outputs": [
    {
     "data": {
      "text/plain": [
       "'123'"
      ]
     },
     "execution_count": 66,
     "metadata": {},
     "output_type": "execute_result"
    }
   ],
   "source": [
    "str(123)"
   ]
  },
  {
   "cell_type": "markdown",
   "id": "f791aa39",
   "metadata": {
    "ExecuteTime": {
     "end_time": "2024-11-14T20:01:47.493097Z",
     "start_time": "2024-11-14T20:01:47.483426Z"
    }
   },
   "source": [
    "# Question-23\n",
    "```\n",
    "What will the following code output?s = \"hello\" ; s = s.upper() ; print(s)\n",
    "\n",
    "a. Error\n",
    "\n",
    "b. HELLO\n",
    "\n",
    "c. hello\n",
    "\n",
    "d. None\n",
    "```"
   ]
  },
  {
   "cell_type": "code",
   "execution_count": 68,
   "id": "85978abe",
   "metadata": {
    "ExecuteTime": {
     "end_time": "2024-11-14T20:02:04.957383Z",
     "start_time": "2024-11-14T20:02:04.947325Z"
    }
   },
   "outputs": [
    {
     "name": "stdout",
     "output_type": "stream",
     "text": [
      "b\n"
     ]
    }
   ],
   "source": [
    "print('b')"
   ]
  },
  {
   "cell_type": "code",
   "execution_count": 69,
   "id": "e5759616",
   "metadata": {
    "ExecuteTime": {
     "end_time": "2024-11-14T20:02:06.260865Z",
     "start_time": "2024-11-14T20:02:06.251124Z"
    }
   },
   "outputs": [
    {
     "name": "stdout",
     "output_type": "stream",
     "text": [
      "HELLO\n"
     ]
    }
   ],
   "source": [
    "s = \"hello\" ; s = s.upper() ; print(s)"
   ]
  },
  {
   "cell_type": "markdown",
   "id": "9ab0ff1d",
   "metadata": {},
   "source": [
    "# Question-24\n",
    "```\n",
    "Which method would you use to remove all whitespace characters from the beginning and end of a string?\n",
    "\n",
    "a. str.trim()\n",
    "\n",
    "b. str.strip()\n",
    "\n",
    "c. str.clean()\n",
    "\n",
    "d. str.remove()\n",
    "```"
   ]
  },
  {
   "cell_type": "code",
   "execution_count": 70,
   "id": "f310a6dc",
   "metadata": {
    "ExecuteTime": {
     "end_time": "2024-11-14T20:03:23.798394Z",
     "start_time": "2024-11-14T20:03:23.635897Z"
    }
   },
   "outputs": [
    {
     "name": "stdout",
     "output_type": "stream",
     "text": [
      "b\n"
     ]
    }
   ],
   "source": [
    "print('b')"
   ]
  },
  {
   "cell_type": "code",
   "execution_count": 72,
   "id": "b3a10244",
   "metadata": {
    "ExecuteTime": {
     "end_time": "2024-11-14T20:03:53.241514Z",
     "start_time": "2024-11-14T20:03:53.220899Z"
    }
   },
   "outputs": [
    {
     "data": {
      "text/plain": [
       "'123'"
      ]
     },
     "execution_count": 72,
     "metadata": {},
     "output_type": "execute_result"
    }
   ],
   "source": [
    "' 123 '.strip()"
   ]
  },
  {
   "cell_type": "code",
   "execution_count": 71,
   "id": "0ec602cf",
   "metadata": {
    "ExecuteTime": {
     "end_time": "2024-11-14T20:03:35.698696Z",
     "start_time": "2024-11-14T20:03:35.586710Z"
    },
    "deletable": false,
    "editable": false,
    "run_control": {
     "frozen": true
    }
   },
   "outputs": [
    {
     "ename": "AttributeError",
     "evalue": "'str' object has no attribute 'trim'",
     "output_type": "error",
     "traceback": [
      "\u001b[0;31m---------------------------------------------------------------------------\u001b[0m",
      "\u001b[0;31mAttributeError\u001b[0m                            Traceback (most recent call last)",
      "Input \u001b[0;32mIn [71]\u001b[0m, in \u001b[0;36m<cell line: 1>\u001b[0;34m()\u001b[0m\n\u001b[0;32m----> 1\u001b[0m \u001b[38;5;124;43m'\u001b[39;49m\u001b[38;5;124;43m 123 \u001b[39;49m\u001b[38;5;124;43m'\u001b[39;49m\u001b[38;5;241;43m.\u001b[39;49m\u001b[43mtrim\u001b[49m()\n",
      "\u001b[0;31mAttributeError\u001b[0m: 'str' object has no attribute 'trim'"
     ]
    }
   ],
   "source": [
    "' 123 '.trim()"
   ]
  },
  {
   "cell_type": "code",
   "execution_count": 73,
   "id": "e82f6af9",
   "metadata": {
    "ExecuteTime": {
     "end_time": "2024-11-14T20:04:01.377134Z",
     "start_time": "2024-11-14T20:04:01.344847Z"
    },
    "deletable": false,
    "editable": false,
    "run_control": {
     "frozen": true
    },
    "scrolled": true
   },
   "outputs": [
    {
     "ename": "AttributeError",
     "evalue": "'str' object has no attribute 'clean'",
     "output_type": "error",
     "traceback": [
      "\u001b[0;31m---------------------------------------------------------------------------\u001b[0m",
      "\u001b[0;31mAttributeError\u001b[0m                            Traceback (most recent call last)",
      "Input \u001b[0;32mIn [73]\u001b[0m, in \u001b[0;36m<cell line: 1>\u001b[0;34m()\u001b[0m\n\u001b[0;32m----> 1\u001b[0m \u001b[38;5;124;43m'\u001b[39;49m\u001b[38;5;124;43m 123 \u001b[39;49m\u001b[38;5;124;43m'\u001b[39;49m\u001b[38;5;241;43m.\u001b[39;49m\u001b[43mclean\u001b[49m()\n",
      "\u001b[0;31mAttributeError\u001b[0m: 'str' object has no attribute 'clean'"
     ]
    }
   ],
   "source": [
    "' 123 '.clean()"
   ]
  },
  {
   "cell_type": "code",
   "execution_count": 74,
   "id": "5a86ad02",
   "metadata": {
    "ExecuteTime": {
     "end_time": "2024-11-14T20:08:58.225294Z",
     "start_time": "2024-11-14T20:08:58.168712Z"
    },
    "deletable": false,
    "editable": false,
    "run_control": {
     "frozen": true
    }
   },
   "outputs": [
    {
     "ename": "AttributeError",
     "evalue": "'str' object has no attribute 'remove'",
     "output_type": "error",
     "traceback": [
      "\u001b[0;31m---------------------------------------------------------------------------\u001b[0m",
      "\u001b[0;31mAttributeError\u001b[0m                            Traceback (most recent call last)",
      "Input \u001b[0;32mIn [74]\u001b[0m, in \u001b[0;36m<cell line: 1>\u001b[0;34m()\u001b[0m\n\u001b[0;32m----> 1\u001b[0m \u001b[38;5;124;43m'\u001b[39;49m\u001b[38;5;124;43m 123 \u001b[39;49m\u001b[38;5;124;43m'\u001b[39;49m\u001b[38;5;241;43m.\u001b[39;49m\u001b[43mremove\u001b[49m()\n",
      "\u001b[0;31mAttributeError\u001b[0m: 'str' object has no attribute 'remove'"
     ]
    }
   ],
   "source": [
    "' 123 '.remove()"
   ]
  },
  {
   "cell_type": "code",
   "execution_count": null,
   "id": "45d9eb0e",
   "metadata": {
    "deletable": false,
    "editable": false,
    "run_control": {
     "frozen": true
    }
   },
   "outputs": [],
   "source": []
  },
  {
   "cell_type": "code",
   "execution_count": null,
   "id": "59d42286",
   "metadata": {
    "editable": false,
    "run_control": {
     "frozen": true
    }
   },
   "outputs": [],
   "source": []
  },
  {
   "cell_type": "markdown",
   "id": "6e3e38d9",
   "metadata": {},
   "source": [
    "# Question-25\n",
    "```\n",
    "What does the count() method do in Python?\n",
    "\n",
    "a. It counts the number of occurrences of a character in a string.\n",
    "\n",
    "b. It counts the number of elements in a list.\n",
    "\n",
    "c. It counts the number of words in a string.\n",
    "\n",
    "d. It returns the index of the first occurrence of a character.\n",
    "```"
   ]
  },
  {
   "cell_type": "code",
   "execution_count": 75,
   "id": "b883fd10",
   "metadata": {
    "ExecuteTime": {
     "end_time": "2024-11-14T20:10:57.916385Z",
     "start_time": "2024-11-14T20:10:57.903023Z"
    }
   },
   "outputs": [
    {
     "name": "stdout",
     "output_type": "stream",
     "text": [
      "a\n"
     ]
    }
   ],
   "source": [
    "print('a')"
   ]
  },
  {
   "cell_type": "code",
   "execution_count": 76,
   "id": "9836b152",
   "metadata": {
    "ExecuteTime": {
     "end_time": "2024-11-14T20:11:14.347857Z",
     "start_time": "2024-11-14T20:11:14.336414Z"
    }
   },
   "outputs": [
    {
     "name": "stdout",
     "output_type": "stream",
     "text": [
      "\n"
     ]
    }
   ],
   "source": [
    "\"\"\"\n",
    "b is incorrect because count() does not count the total number of elements in a list; for that, you would use len().\n",
    "c is incorrect because count() does not count words in a string directly.\n",
    "d is incorrect because count() does not return the index; index() would be used for finding the position of the first occurrence.\n",
    "\"\"\"\n",
    "print()"
   ]
  },
  {
   "cell_type": "markdown",
   "id": "559b3188",
   "metadata": {
    "ExecuteTime": {
     "end_time": "2024-11-14T20:12:20.307068Z",
     "start_time": "2024-11-14T20:12:20.298366Z"
    }
   },
   "source": [
    "# Question-26\n",
    "```\n",
    "How many times will the following loop execute? for i in range(2, 10, 2) print(i)\n",
    "\n",
    "a. 5\n",
    "\n",
    "b. Infinite\n",
    "\n",
    "c. 3\n",
    "\n",
    "d. 4\n",
    "```"
   ]
  },
  {
   "cell_type": "code",
   "execution_count": 78,
   "id": "3e03b89b",
   "metadata": {
    "ExecuteTime": {
     "end_time": "2024-11-14T20:12:38.160144Z",
     "start_time": "2024-11-14T20:12:38.148905Z"
    }
   },
   "outputs": [
    {
     "name": "stdout",
     "output_type": "stream",
     "text": [
      "d\n"
     ]
    }
   ],
   "source": [
    "print('d')"
   ]
  },
  {
   "cell_type": "code",
   "execution_count": 81,
   "id": "7121793c",
   "metadata": {
    "ExecuteTime": {
     "end_time": "2024-11-14T20:12:53.904741Z",
     "start_time": "2024-11-14T20:12:53.882851Z"
    }
   },
   "outputs": [
    {
     "name": "stdout",
     "output_type": "stream",
     "text": [
      "2\n",
      "4\n",
      "6\n",
      "8\n"
     ]
    }
   ],
   "source": [
    "for i in range(2, 10, 2):\n",
    "    print(i)"
   ]
  },
  {
   "cell_type": "markdown",
   "id": "7a0fbcb2",
   "metadata": {},
   "source": [
    "# Question-27\n",
    "```\n",
    "Which of the following methods is used to add a single element to a set in Python?\n",
    "\n",
    "a. append()\n",
    "\n",
    "b. append() and insert() both\n",
    "\n",
    "c. add()\n",
    "\n",
    "d. insert()\n",
    "```"
   ]
  },
  {
   "cell_type": "code",
   "execution_count": 83,
   "id": "364ecc5c",
   "metadata": {
    "ExecuteTime": {
     "end_time": "2024-11-14T20:14:06.826852Z",
     "start_time": "2024-11-14T20:14:06.816912Z"
    }
   },
   "outputs": [
    {
     "name": "stdout",
     "output_type": "stream",
     "text": [
      "c\n"
     ]
    }
   ],
   "source": [
    "print('c')"
   ]
  },
  {
   "cell_type": "code",
   "execution_count": 85,
   "id": "6a7d3bc5",
   "metadata": {
    "ExecuteTime": {
     "end_time": "2024-11-14T20:14:43.798313Z",
     "start_time": "2024-11-14T20:14:43.791836Z"
    }
   },
   "outputs": [
    {
     "name": "stdout",
     "output_type": "stream",
     "text": [
      "\n"
     ]
    }
   ],
   "source": [
    "\"\"\"\n",
    "a: append() is incorrect because it is used to add elements to a list, not a set.\n",
    "b: This is incorrect because neither append() nor insert() is used with sets.\n",
    "d: insert() is also incorrect, as it is used to add elements at a specific position in a list, not in a set.\n",
    "\"\"\"\n",
    "print()"
   ]
  },
  {
   "cell_type": "markdown",
   "id": "5bdb7a33",
   "metadata": {
    "ExecuteTime": {
     "end_time": "2024-11-14T20:15:28.167613Z",
     "start_time": "2024-11-14T20:15:28.159791Z"
    }
   },
   "source": [
    "# Question-28\n",
    "```\n",
    "What will be the result of the following code?s = \"hello\" print(s * 3)\n",
    "\n",
    "a. hello 3\n",
    "\n",
    "b. 3 hello\n",
    "\n",
    "c. hellohellohello\n",
    "\n",
    "d. hello hello hello\n",
    "```"
   ]
  },
  {
   "cell_type": "code",
   "execution_count": 88,
   "id": "9619504c",
   "metadata": {
    "ExecuteTime": {
     "end_time": "2024-11-14T20:15:51.140966Z",
     "start_time": "2024-11-14T20:15:51.132620Z"
    }
   },
   "outputs": [
    {
     "name": "stdout",
     "output_type": "stream",
     "text": [
      "c\n"
     ]
    }
   ],
   "source": [
    "print('c')"
   ]
  },
  {
   "cell_type": "code",
   "execution_count": 87,
   "id": "3b593e31",
   "metadata": {
    "ExecuteTime": {
     "end_time": "2024-11-14T20:15:43.074597Z",
     "start_time": "2024-11-14T20:15:43.067958Z"
    }
   },
   "outputs": [
    {
     "name": "stdout",
     "output_type": "stream",
     "text": [
      "hellohellohello\n"
     ]
    }
   ],
   "source": [
    "s = \"hello\"; print(s * 3)"
   ]
  },
  {
   "cell_type": "markdown",
   "id": "06f6fe60",
   "metadata": {},
   "source": [
    "# Question-29\n",
    "```\n",
    "What is the purpose of an if-elif-else structure?\n",
    "\n",
    "a. To choose between multiple execution paths based on conditions\n",
    "\n",
    "b. To iterate through elements\n",
    "\n",
    "c. To define functions\n",
    "\n",
    "d. To handle errors\n",
    "```"
   ]
  },
  {
   "cell_type": "code",
   "execution_count": 89,
   "id": "600991fa",
   "metadata": {
    "ExecuteTime": {
     "end_time": "2024-11-14T20:16:43.357561Z",
     "start_time": "2024-11-14T20:16:43.352392Z"
    }
   },
   "outputs": [
    {
     "name": "stdout",
     "output_type": "stream",
     "text": [
      "a\n"
     ]
    }
   ],
   "source": [
    "print('a')"
   ]
  },
  {
   "cell_type": "markdown",
   "id": "cde89577",
   "metadata": {},
   "source": [
    "# Question-30\n",
    "```\n",
    "Which of the following would result in an infinite loop?\n",
    "\n",
    "a. for i in range(10): print(i)\n",
    "\n",
    "b. for i in range(1): print(i)\n",
    "\n",
    "c. while False: print(\"Hello\")\n",
    "\n",
    "d. while True: print(\"Hello\")\n",
    "```"
   ]
  },
  {
   "cell_type": "code",
   "execution_count": 90,
   "id": "20d1f802",
   "metadata": {
    "ExecuteTime": {
     "end_time": "2024-11-14T20:18:12.858961Z",
     "start_time": "2024-11-14T20:18:12.850134Z"
    }
   },
   "outputs": [
    {
     "name": "stdout",
     "output_type": "stream",
     "text": [
      "d\n"
     ]
    }
   ],
   "source": [
    "print('d')"
   ]
  },
  {
   "cell_type": "code",
   "execution_count": 91,
   "id": "e3e7f339",
   "metadata": {
    "ExecuteTime": {
     "end_time": "2024-11-14T20:18:25.999539Z",
     "start_time": "2024-11-14T20:18:25.992157Z"
    }
   },
   "outputs": [
    {
     "name": "stdout",
     "output_type": "stream",
     "text": [
      "\n"
     ]
    }
   ],
   "source": [
    "\"\"\"\n",
    "a: for i in range(10): print(i) will run 10 times and then stop.\n",
    "b: for i in range(1): print(i) will run once and then stop.\n",
    "c: while False: print(\"Hello\") will not execute at all, as the condition is always False.\n",
    "\"\"\"\n",
    "print()"
   ]
  },
  {
   "cell_type": "markdown",
   "id": "3d55c536",
   "metadata": {
    "ExecuteTime": {
     "end_time": "2024-11-14T20:19:15.395172Z",
     "start_time": "2024-11-14T20:19:15.383444Z"
    }
   },
   "source": [
    "# Question-31\n",
    "```\n",
    "Which loop is best suited when the number of iterations is unknown?\n",
    "\n",
    "a. do-while loop\n",
    "\n",
    "b. while loop\n",
    "\n",
    "c. for loop\n",
    "\n",
    "d. Recursive loop\n",
    "```"
   ]
  },
  {
   "cell_type": "code",
   "execution_count": 93,
   "id": "6e8746ec",
   "metadata": {
    "ExecuteTime": {
     "end_time": "2024-11-14T20:19:49.464778Z",
     "start_time": "2024-11-14T20:19:49.447492Z"
    }
   },
   "outputs": [
    {
     "name": "stdout",
     "output_type": "stream",
     "text": [
      "b\n"
     ]
    }
   ],
   "source": [
    "print('b')"
   ]
  },
  {
   "cell_type": "code",
   "execution_count": 94,
   "id": "eb97372f",
   "metadata": {
    "ExecuteTime": {
     "end_time": "2024-11-14T20:20:27.902122Z",
     "start_time": "2024-11-14T20:20:27.892626Z"
    }
   },
   "outputs": [
    {
     "name": "stdout",
     "output_type": "stream",
     "text": [
      "\n"
     ]
    }
   ],
   "source": [
    "\"\"\"\n",
    "a: A do-while loop (used in other languages, not directly in Python) is also based on a condition but guarantees at least one iteration, which may not be ideal if the condition could initially be false.\n",
    "c: A for loop is generally used when the number of iterations is known or when iterating over a fixed sequence.\n",
    "d: A recursive loop involves a function calling itself, which can be used for unknown iteration counts, but it’s not typically referred to as a “loop” and has different use cases.\n",
    "\"\"\"\n",
    "print()"
   ]
  },
  {
   "cell_type": "markdown",
   "id": "8feb274c",
   "metadata": {},
   "source": [
    "# Question-32\n",
    "```\n",
    "What is the output of the following code? s = \"Python\"; s = s[::2] ; print(s)\n",
    "\n",
    "a. yhn\n",
    "\n",
    "b. Pto\n",
    "\n",
    "c. Python\n",
    "\n",
    "d. Pyt\n",
    "```"
   ]
  },
  {
   "cell_type": "code",
   "execution_count": 95,
   "id": "79d5d49f",
   "metadata": {
    "ExecuteTime": {
     "end_time": "2024-11-14T20:21:00.205187Z",
     "start_time": "2024-11-14T20:21:00.195414Z"
    }
   },
   "outputs": [
    {
     "name": "stdout",
     "output_type": "stream",
     "text": [
      "b\n"
     ]
    }
   ],
   "source": [
    "print('b')"
   ]
  },
  {
   "cell_type": "code",
   "execution_count": 96,
   "id": "159ce2ec",
   "metadata": {
    "ExecuteTime": {
     "end_time": "2024-11-14T20:21:05.940213Z",
     "start_time": "2024-11-14T20:21:05.930697Z"
    }
   },
   "outputs": [
    {
     "name": "stdout",
     "output_type": "stream",
     "text": [
      "Pto\n"
     ]
    }
   ],
   "source": [
    "s = \"Python\"; s = s[::2] ; print(s)"
   ]
  },
  {
   "cell_type": "markdown",
   "id": "612faad2",
   "metadata": {},
   "source": [
    "# Question-33\n",
    "```\n",
    "Which of the following code snippets would check if the string s contains only alphabetic characters?\n",
    "\n",
    "a. s.isalpha()\n",
    "\n",
    "b. s.isalnum()\n",
    "\n",
    "c. s.isdigit()\n",
    "\n",
    "d. s.isspace()\n",
    "```"
   ]
  },
  {
   "cell_type": "code",
   "execution_count": 97,
   "id": "c30d00c9",
   "metadata": {
    "ExecuteTime": {
     "end_time": "2024-11-14T20:22:03.453377Z",
     "start_time": "2024-11-14T20:22:03.444254Z"
    }
   },
   "outputs": [
    {
     "name": "stdout",
     "output_type": "stream",
     "text": [
      "a\n"
     ]
    }
   ],
   "source": [
    "print('a')"
   ]
  },
  {
   "cell_type": "code",
   "execution_count": 99,
   "id": "48a25ec4",
   "metadata": {
    "ExecuteTime": {
     "end_time": "2024-11-14T20:22:21.112262Z",
     "start_time": "2024-11-14T20:22:21.105881Z"
    }
   },
   "outputs": [
    {
     "name": "stdout",
     "output_type": "stream",
     "text": [
      "\n"
     ]
    }
   ],
   "source": [
    "\"\"\"\n",
    "b: s.isalnum() checks if all characters in the string are alphanumeric (letters and numbers).\n",
    "c: s.isdigit() checks if all characters in the string are digits.\n",
    "d: s.isspace() checks if all characters in the string are whitespace.\n",
    "\"\"\"\n",
    "print()"
   ]
  },
  {
   "cell_type": "markdown",
   "id": "3d4a9615",
   "metadata": {},
   "source": [
    "# Question-34\n",
    "```\n",
    "Which of the following methods can be used to convert a string to lowercase in Python?\n",
    "\n",
    "a. str.make_lower()\n",
    "\n",
    "b. str.toLowerCase()\n",
    "\n",
    "c. str.lower()\n",
    "\n",
    "d. str.to_lower()\n",
    "```"
   ]
  },
  {
   "cell_type": "code",
   "execution_count": 100,
   "id": "dda581bd",
   "metadata": {
    "ExecuteTime": {
     "end_time": "2024-11-14T20:23:11.194051Z",
     "start_time": "2024-11-14T20:23:11.187721Z"
    }
   },
   "outputs": [
    {
     "name": "stdout",
     "output_type": "stream",
     "text": [
      "c\n"
     ]
    }
   ],
   "source": [
    "print('c')"
   ]
  },
  {
   "cell_type": "markdown",
   "id": "65b6547a",
   "metadata": {},
   "source": [
    "# Question-35\n",
    "```\n",
    "Which operator is used to reverse the Boolean value in Python?\n",
    "\n",
    "a. None\n",
    "\n",
    "b. or\n",
    "\n",
    "c. and\n",
    "\n",
    "d. not\n",
    "```"
   ]
  },
  {
   "cell_type": "code",
   "execution_count": 101,
   "id": "dff5d0d4",
   "metadata": {
    "ExecuteTime": {
     "end_time": "2024-11-14T20:23:54.375687Z",
     "start_time": "2024-11-14T20:23:54.367595Z"
    }
   },
   "outputs": [
    {
     "name": "stdout",
     "output_type": "stream",
     "text": [
      "d\n"
     ]
    }
   ],
   "source": [
    "print('d')"
   ]
  },
  {
   "cell_type": "markdown",
   "id": "1af2b6a5",
   "metadata": {},
   "source": [
    "# Question-36\n",
    "```\n",
    "Which of the following methods adds an element at the beginning of a list in Python?\n",
    "\n",
    "a. extend(item)\n",
    "\n",
    "b. push(item)\n",
    "\n",
    "c. insert(0, item)\n",
    "\n",
    "d. append(item)\n",
    "```"
   ]
  },
  {
   "cell_type": "code",
   "execution_count": 102,
   "id": "c2817416",
   "metadata": {
    "ExecuteTime": {
     "end_time": "2024-11-14T20:25:02.183016Z",
     "start_time": "2024-11-14T20:25:02.172286Z"
    }
   },
   "outputs": [
    {
     "name": "stdout",
     "output_type": "stream",
     "text": [
      "c\n"
     ]
    }
   ],
   "source": [
    "print('c')"
   ]
  },
  {
   "cell_type": "code",
   "execution_count": 103,
   "id": "5f4aad6d",
   "metadata": {
    "ExecuteTime": {
     "end_time": "2024-11-14T20:25:18.597792Z",
     "start_time": "2024-11-14T20:25:18.590293Z"
    }
   },
   "outputs": [
    {
     "name": "stdout",
     "output_type": "stream",
     "text": [
      "\n"
     ]
    }
   ],
   "source": [
    "\"\"\"\n",
    "a: extend(item) adds multiple elements (from an iterable) to the end of a list, not at the beginning.\n",
    "b: push(item) is not a valid method in Python for lists.\n",
    "d: append(item) adds an element to the end of the list, not the beginning.\n",
    "\"\"\"\n",
    "print()"
   ]
  },
  {
   "cell_type": "markdown",
   "id": "204c9edf",
   "metadata": {
    "ExecuteTime": {
     "end_time": "2024-11-14T20:25:52.987945Z",
     "start_time": "2024-11-14T20:25:52.980638Z"
    }
   },
   "source": [
    "# Question-37\n",
    "```\n",
    "What is the result of sum(range(4))?\n",
    "\n",
    "a. 10\n",
    "\n",
    "b. 4\n",
    "\n",
    "c. 0\n",
    "\n",
    "d. 6\n",
    "```"
   ]
  },
  {
   "cell_type": "code",
   "execution_count": 107,
   "id": "1d901f9c",
   "metadata": {
    "ExecuteTime": {
     "end_time": "2024-11-14T20:26:13.996097Z",
     "start_time": "2024-11-14T20:26:13.985729Z"
    }
   },
   "outputs": [
    {
     "name": "stdout",
     "output_type": "stream",
     "text": [
      "d\n"
     ]
    }
   ],
   "source": [
    "print('d')"
   ]
  },
  {
   "cell_type": "code",
   "execution_count": 106,
   "id": "d9f5b9d4",
   "metadata": {
    "ExecuteTime": {
     "end_time": "2024-11-14T20:26:06.913196Z",
     "start_time": "2024-11-14T20:26:06.902668Z"
    }
   },
   "outputs": [
    {
     "data": {
      "text/plain": [
       "6"
      ]
     },
     "execution_count": 106,
     "metadata": {},
     "output_type": "execute_result"
    }
   ],
   "source": [
    "sum(range(4))"
   ]
  },
  {
   "cell_type": "markdown",
   "id": "845a6421",
   "metadata": {},
   "source": [
    "# Question-38\n",
    "```\n",
    "Which of the following methods returns a new list that contains all elements of the original list repeated twice?\n",
    "\n",
    "a. lst.copy()\n",
    "\n",
    "b. lst.append()\n",
    "\n",
    "c. lst.extend()\n",
    "\n",
    "d. lst * 2\n",
    "```"
   ]
  },
  {
   "cell_type": "code",
   "execution_count": 108,
   "id": "4edef77f",
   "metadata": {
    "ExecuteTime": {
     "end_time": "2024-11-14T20:27:16.785382Z",
     "start_time": "2024-11-14T20:27:16.642824Z"
    }
   },
   "outputs": [
    {
     "name": "stdout",
     "output_type": "stream",
     "text": [
      "d\n"
     ]
    }
   ],
   "source": [
    "print('d')"
   ]
  },
  {
   "cell_type": "code",
   "execution_count": 109,
   "id": "bf0402b7",
   "metadata": {
    "ExecuteTime": {
     "end_time": "2024-11-14T20:27:35.044391Z",
     "start_time": "2024-11-14T20:27:35.038849Z"
    }
   },
   "outputs": [
    {
     "name": "stdout",
     "output_type": "stream",
     "text": [
      "\n"
     ]
    }
   ],
   "source": [
    "\"\"\"\n",
    "a: lst.copy() creates a shallow copy of the list but does not repeat its elements.\n",
    "b: lst.append() adds an element to the end of the list but does not repeat the list's contents.\n",
    "c: lst.extend() adds all elements from another iterable to the list, but does not repeat the list itself.\n",
    "\"\"\"\n",
    "print()"
   ]
  },
  {
   "cell_type": "markdown",
   "id": "c64168d9",
   "metadata": {},
   "source": [
    "# Question-39\n",
    "```\n",
    "Which of the following operations is used to find the union of two sets s1 and s2?\n",
    "\n",
    "a. s1 - s2\n",
    "\n",
    "b. s1 + s2\n",
    "\n",
    "c. s1 & s2\n",
    "\n",
    "d. s1 | s2\n",
    "```"
   ]
  },
  {
   "cell_type": "code",
   "execution_count": 110,
   "id": "29cdd0f1",
   "metadata": {
    "ExecuteTime": {
     "end_time": "2024-11-14T20:28:25.564724Z",
     "start_time": "2024-11-14T20:28:25.550434Z"
    }
   },
   "outputs": [
    {
     "name": "stdout",
     "output_type": "stream",
     "text": [
      "d\n"
     ]
    }
   ],
   "source": [
    "print('d')"
   ]
  },
  {
   "cell_type": "code",
   "execution_count": null,
   "id": "2e5469fb",
   "metadata": {},
   "outputs": [],
   "source": [
    "\"\"\"\n",
    "a: s1 - s2 finds the difference between s1 and s2, returning elements in s1 that are not in s2.\n",
    "b: s1 + s2 is not a valid operation for sets. You would use + for lists, not sets.\n",
    "c: s1 & s2 finds the intersection of two sets, returning a new set with elements common to both sets.\n",
    "\"\"\"\n",
    "print()"
   ]
  },
  {
   "cell_type": "markdown",
   "id": "da380688",
   "metadata": {},
   "source": [
    "# Question-40\n",
    "```\n",
    "What is the main purpose of indentation in Python?\n",
    "\n",
    "a. To create spaces between statements\n",
    "\n",
    "b. To make the code visually appealing\n",
    "\n",
    "c. To separate comments from code\n",
    "\n",
    "d. To define code blocks, especially within loops, functions, and classes\n",
    "```"
   ]
  },
  {
   "cell_type": "code",
   "execution_count": 111,
   "id": "ce18c04e",
   "metadata": {
    "ExecuteTime": {
     "end_time": "2024-11-14T20:30:40.726965Z",
     "start_time": "2024-11-14T20:30:40.715553Z"
    }
   },
   "outputs": [
    {
     "name": "stdout",
     "output_type": "stream",
     "text": [
      "b\n"
     ]
    }
   ],
   "source": [
    "print('b')"
   ]
  }
 ],
 "metadata": {
  "kernelspec": {
   "display_name": "Python 3 (ipykernel)",
   "language": "python",
   "name": "python3"
  },
  "language_info": {
   "codemirror_mode": {
    "name": "ipython",
    "version": 3
   },
   "file_extension": ".py",
   "mimetype": "text/x-python",
   "name": "python",
   "nbconvert_exporter": "python",
   "pygments_lexer": "ipython3",
   "version": "3.8.13"
  },
  "toc": {
   "base_numbering": 1,
   "nav_menu": {},
   "number_sections": true,
   "sideBar": true,
   "skip_h1_title": false,
   "title_cell": "Table of Contents",
   "title_sidebar": "Contents",
   "toc_cell": true,
   "toc_position": {},
   "toc_section_display": true,
   "toc_window_display": true
  }
 },
 "nbformat": 4,
 "nbformat_minor": 5
}
