{
 "cells": [
  {
   "cell_type": "markdown",
   "id": "65727d69",
   "metadata": {
    "toc": true
   },
   "source": [
    "<h1>Table of Contents<span class=\"tocSkip\"></span></h1>\n",
    "<div class=\"toc\"><ul class=\"toc-item\"><li><span><a href=\"#Python-Exercises-for-Practice-(Topics-of-S1-and-S2)\" data-toc-modified-id=\"Python-Exercises-for-Practice-(Topics-of-S1-and-S2)-1\"><span class=\"toc-item-num\">1&nbsp;&nbsp;</span>Python Exercises for Practice (Topics of S1 and S2)</a></span><ul class=\"toc-item\"><li><span><a href=\"#Factorial\" data-toc-modified-id=\"Factorial-1.1\"><span class=\"toc-item-num\">1.1&nbsp;&nbsp;</span>Factorial</a></span></li><li><span><a href=\"#Intersection\" data-toc-modified-id=\"Intersection-1.2\"><span class=\"toc-item-num\">1.2&nbsp;&nbsp;</span>Intersection</a></span></li><li><span><a href=\"#Frequency-of-each-elements\" data-toc-modified-id=\"Frequency-of-each-elements-1.3\"><span class=\"toc-item-num\">1.3&nbsp;&nbsp;</span>Frequency of each elements</a></span></li><li><span><a href=\"#Remove-duplicates\" data-toc-modified-id=\"Remove-duplicates-1.4\"><span class=\"toc-item-num\">1.4&nbsp;&nbsp;</span>Remove duplicates</a></span></li><li><span><a href=\"#Binomial-coefficient\" data-toc-modified-id=\"Binomial-coefficient-1.5\"><span class=\"toc-item-num\">1.5&nbsp;&nbsp;</span>Binomial coefficient</a></span></li><li><span><a href=\"#String-Reversal\" data-toc-modified-id=\"String-Reversal-1.6\"><span class=\"toc-item-num\">1.6&nbsp;&nbsp;</span>String Reversal</a></span><ul class=\"toc-item\"><li><span><a href=\"#Slicing\" data-toc-modified-id=\"Slicing-1.6.1\"><span class=\"toc-item-num\">1.6.1&nbsp;&nbsp;</span>Slicing</a></span></li><li><span><a href=\"#Manual-looping\" data-toc-modified-id=\"Manual-looping-1.6.2\"><span class=\"toc-item-num\">1.6.2&nbsp;&nbsp;</span>Manual looping</a></span></li><li><span><a href=\"#Reverse-Built-In-Function\" data-toc-modified-id=\"Reverse-Built-In-Function-1.6.3\"><span class=\"toc-item-num\">1.6.3&nbsp;&nbsp;</span>Reverse Built-In Function</a></span></li><li><span><a href=\"#while\" data-toc-modified-id=\"while-1.6.4\"><span class=\"toc-item-num\">1.6.4&nbsp;&nbsp;</span>while</a></span></li><li><span><a href=\"#Recusrsion\" data-toc-modified-id=\"Recusrsion-1.6.5\"><span class=\"toc-item-num\">1.6.5&nbsp;&nbsp;</span>Recusrsion</a></span></li></ul></li><li><span><a href=\"#Leap-Year\" data-toc-modified-id=\"Leap-Year-1.7\"><span class=\"toc-item-num\">1.7&nbsp;&nbsp;</span>Leap Year</a></span></li><li><span><a href=\"#Find-vowels-in-a-String\" data-toc-modified-id=\"Find-vowels-in-a-String-1.8\"><span class=\"toc-item-num\">1.8&nbsp;&nbsp;</span>Find vowels in a String</a></span></li><li><span><a href=\"#Minimum-and-Maximum\" data-toc-modified-id=\"Minimum-and-Maximum-1.9\"><span class=\"toc-item-num\">1.9&nbsp;&nbsp;</span>Minimum and Maximum</a></span></li><li><span><a href=\"#Sum-of-even-number\" data-toc-modified-id=\"Sum-of-even-number-1.10\"><span class=\"toc-item-num\">1.10&nbsp;&nbsp;</span>Sum of even number</a></span></li><li><span><a href=\"#Second-Largest\" data-toc-modified-id=\"Second-Largest-1.11\"><span class=\"toc-item-num\">1.11&nbsp;&nbsp;</span>Second Largest</a></span></li><li><span><a href=\"#Removed-Spaces,tabs,-etc...\" data-toc-modified-id=\"Removed-Spaces,tabs,-etc...-1.12\"><span class=\"toc-item-num\">1.12&nbsp;&nbsp;</span>Removed Spaces,tabs, etc...</a></span></li><li><span><a href=\"#Length-of-longest-word\" data-toc-modified-id=\"Length-of-longest-word-1.13\"><span class=\"toc-item-num\">1.13&nbsp;&nbsp;</span>Length of longest word</a></span></li><li><span><a href=\"#Multiplication-Table\" data-toc-modified-id=\"Multiplication-Table-1.14\"><span class=\"toc-item-num\">1.14&nbsp;&nbsp;</span>Multiplication Table</a></span></li><li><span><a href=\"#Prime-Number\" data-toc-modified-id=\"Prime-Number-1.15\"><span class=\"toc-item-num\">1.15&nbsp;&nbsp;</span>Prime Number</a></span></li></ul></li></ul></div>"
   ]
  },
  {
   "cell_type": "markdown",
   "id": "43e58044",
   "metadata": {},
   "source": [
    "# Python Exercises for Practice (Topics of S1 and S2)"
   ]
  },
  {
   "cell_type": "markdown",
   "id": "e748ef12",
   "metadata": {},
   "source": [
    "## Factorial"
   ]
  },
  {
   "cell_type": "code",
   "execution_count": 1,
   "id": "b00f92b5",
   "metadata": {
    "ExecuteTime": {
     "end_time": "2024-11-13T00:34:34.919555Z",
     "start_time": "2024-11-13T00:34:34.876248Z"
    }
   },
   "outputs": [],
   "source": [
    "\"\"\"\n",
    "1. Question-1\n",
    "\n",
    "Write a Python function to find the factorial of a number using recursion.\n",
    "\n",
    "Description: The factorial of a number n is the product of all positive integers less than or equal to n.\n",
    "o Example Input: 5\n",
    "o Example Output: 120\n",
    "\"\"\"\n",
    "\n",
    "def recursive(n):\n",
    "    return 1 if n <= 1 else n * recursive(n-1)\n",
    "\n",
    "def factorial(n=None):\n",
    "    if not n:\n",
    "        n = eval(input(\"Enter number to calculate factorial: \"))\n",
    "    if n < 0:\n",
    "        raise ValueError(\"Factorial function is defined only for non-negative integers\")\n",
    "    print(f\"Factorial of {n} is: {recursive(n)}\")"
   ]
  },
  {
   "cell_type": "code",
   "execution_count": 2,
   "id": "23a3f4e7",
   "metadata": {
    "ExecuteTime": {
     "end_time": "2024-11-13T00:34:37.883659Z",
     "start_time": "2024-11-13T00:34:34.942000Z"
    }
   },
   "outputs": [
    {
     "name": "stdout",
     "output_type": "stream",
     "text": [
      "Enter number to calculate factorial: 5\n",
      "Factorial of 5 is: 120\n"
     ]
    }
   ],
   "source": [
    "factorial()"
   ]
  },
  {
   "cell_type": "code",
   "execution_count": 3,
   "id": "f9b6cf34",
   "metadata": {
    "ExecuteTime": {
     "end_time": "2024-11-13T00:34:40.093276Z",
     "start_time": "2024-11-13T00:34:37.890313Z"
    }
   },
   "outputs": [
    {
     "name": "stdout",
     "output_type": "stream",
     "text": [
      "Enter number to calculate factorial: 0\n",
      "Factorial of 0 is: 1\n"
     ]
    }
   ],
   "source": [
    "factorial()"
   ]
  },
  {
   "cell_type": "code",
   "execution_count": 4,
   "id": "476e47b4",
   "metadata": {
    "ExecuteTime": {
     "end_time": "2024-11-13T00:33:57.889567Z",
     "start_time": "2024-11-13T00:33:55.176248Z"
    },
    "deletable": false,
    "editable": false,
    "run_control": {
     "frozen": true
    },
    "scrolled": true
   },
   "outputs": [
    {
     "name": "stdout",
     "output_type": "stream",
     "text": [
      "Enter number to calculate factorial: -5\n"
     ]
    },
    {
     "ename": "ValueError",
     "evalue": "Factorial function is defined only for non-negative integers",
     "output_type": "error",
     "traceback": [
      "\u001b[0;31m---------------------------------------------------------------------------\u001b[0m",
      "\u001b[0;31mValueError\u001b[0m                                Traceback (most recent call last)",
      "Input \u001b[0;32mIn [4]\u001b[0m, in \u001b[0;36m<cell line: 1>\u001b[0;34m()\u001b[0m\n\u001b[0;32m----> 1\u001b[0m \u001b[43mfactorial\u001b[49m\u001b[43m(\u001b[49m\u001b[43m)\u001b[49m\n",
      "Input \u001b[0;32mIn [1]\u001b[0m, in \u001b[0;36mfactorial\u001b[0;34m(n)\u001b[0m\n\u001b[1;32m     16\u001b[0m     n \u001b[38;5;241m=\u001b[39m \u001b[38;5;28meval\u001b[39m(\u001b[38;5;28minput\u001b[39m(\u001b[38;5;124m\"\u001b[39m\u001b[38;5;124mEnter number to calculate factorial: \u001b[39m\u001b[38;5;124m\"\u001b[39m))\n\u001b[1;32m     17\u001b[0m \u001b[38;5;28;01mif\u001b[39;00m n \u001b[38;5;241m<\u001b[39m \u001b[38;5;241m0\u001b[39m:\n\u001b[0;32m---> 18\u001b[0m     \u001b[38;5;28;01mraise\u001b[39;00m \u001b[38;5;167;01mValueError\u001b[39;00m(\u001b[38;5;124m\"\u001b[39m\u001b[38;5;124mFactorial function is defined only for non-negative integers\u001b[39m\u001b[38;5;124m\"\u001b[39m)\n\u001b[1;32m     19\u001b[0m \u001b[38;5;28mprint\u001b[39m(\u001b[38;5;124mf\u001b[39m\u001b[38;5;124m\"\u001b[39m\u001b[38;5;124mFactorial of \u001b[39m\u001b[38;5;132;01m{\u001b[39;00mn\u001b[38;5;132;01m}\u001b[39;00m\u001b[38;5;124m is: \u001b[39m\u001b[38;5;132;01m{\u001b[39;00mrecursive(n)\u001b[38;5;132;01m}\u001b[39;00m\u001b[38;5;124m\"\u001b[39m)\n",
      "\u001b[0;31mValueError\u001b[0m: Factorial function is defined only for non-negative integers"
     ]
    }
   ],
   "source": [
    "factorial()"
   ]
  },
  {
   "cell_type": "markdown",
   "id": "9d450267",
   "metadata": {},
   "source": [
    "## Intersection"
   ]
  },
  {
   "cell_type": "code",
   "execution_count": 4,
   "id": "a325ca32",
   "metadata": {
    "ExecuteTime": {
     "end_time": "2024-11-13T00:34:40.142754Z",
     "start_time": "2024-11-13T00:34:40.100646Z"
    }
   },
   "outputs": [],
   "source": [
    "\"\"\"\n",
    "Question-2\n",
    "\n",
    "2. Given two lists, write a Python function to find the intersection (common elements) of the lists.\n",
    "\n",
    "Description: The function should return a list of elements that appear in both input lists.\n",
    "o Example Input: [1, 2, 3, 4] and [3, 4, 5, 6]\n",
    "o Example Output: [3, 4]\n",
    "\"\"\"\n",
    "import ast\n",
    "\n",
    "def intersection(l1, l2):\n",
    "    l1, l2 = set(l1), set(l2)\n",
    "    l3 = l1.intersection(l2)\n",
    "    if len(l3) >0:\n",
    "        return list(l3)\n",
    "    return \"No Intersection\"\n",
    "\n",
    "def list_intersection():\n",
    "    l1 = ast.literal_eval(input(\"Enter comma separated numbers for List-1: \"))\n",
    "    l2 = ast.literal_eval(input(\"Enter comma separated numbers for List-2: \"))\n",
    "    print(f\"\\nFinding Intersection of {l1} and {l2}\")\n",
    "    print(f\"\\nIntersection: \", intersection(l1, l2))"
   ]
  },
  {
   "cell_type": "code",
   "execution_count": 5,
   "id": "7f598556",
   "metadata": {
    "ExecuteTime": {
     "end_time": "2024-11-13T00:34:59.921212Z",
     "start_time": "2024-11-13T00:34:40.159307Z"
    }
   },
   "outputs": [
    {
     "name": "stdout",
     "output_type": "stream",
     "text": [
      "Enter comma separated numbers for List-1: [1, 2, 3, 4]\n",
      "Enter comma separated numbers for List-2: [3, 4, 5, 6]\n",
      "\n",
      "Finding Intersection of [1, 2, 3, 4] and [3, 4, 5, 6]\n",
      "\n",
      "Intersection:  [3, 4]\n"
     ]
    }
   ],
   "source": [
    "list_intersection()"
   ]
  },
  {
   "cell_type": "code",
   "execution_count": 6,
   "id": "1dc75e1b",
   "metadata": {
    "ExecuteTime": {
     "end_time": "2024-11-13T00:35:43.785829Z",
     "start_time": "2024-11-13T00:34:59.931336Z"
    }
   },
   "outputs": [
    {
     "name": "stdout",
     "output_type": "stream",
     "text": [
      "Enter comma separated numbers for List-1: [1, 2, 3, 4]\n",
      "Enter comma separated numbers for List-2: [4, 3, 2, 1,]\n",
      "\n",
      "Finding Intersection of [1, 2, 3, 4] and [4, 3, 2, 1]\n",
      "\n",
      "Intersection:  [1, 2, 3, 4]\n"
     ]
    }
   ],
   "source": [
    "list_intersection()"
   ]
  },
  {
   "cell_type": "markdown",
   "id": "1dfbd571",
   "metadata": {},
   "source": [
    "## Frequency of each elements"
   ]
  },
  {
   "cell_type": "code",
   "execution_count": 42,
   "id": "e88e79ad",
   "metadata": {
    "ExecuteTime": {
     "end_time": "2024-11-13T03:10:01.806560Z",
     "start_time": "2024-11-13T03:10:01.800301Z"
    }
   },
   "outputs": [],
   "source": [
    "\"\"\"\n",
    "Question-3\n",
    "\n",
    "3. Write a Python program to count the frequency of each element in a list.\n",
    "\n",
    "Description: Given a list of elements, return a dictionary where the keys are elements and the values are their frequencies.\n",
    "o Example Input: [1, 2, 2, 3, 3, 3, 4]\n",
    "o Example Output: {1: 1, 2: 2, 3: 3, 4: 1}\n",
    "\"\"\"\n",
    "\n",
    "def get_frequency():\n",
    "    l1 = ast.literal_eval(input(\"Enter comma separated numbers of List: \"))\n",
    "    print(f\"\\nFrequency of each element: \", frequency(l1))"
   ]
  },
  {
   "cell_type": "code",
   "execution_count": 43,
   "id": "63cd56c2",
   "metadata": {
    "ExecuteTime": {
     "end_time": "2024-11-13T03:10:02.236617Z",
     "start_time": "2024-11-13T03:10:02.222770Z"
    }
   },
   "outputs": [],
   "source": [
    "def frequency(l1):\n",
    "    count = dict()\n",
    "    for i in l1:\n",
    "        if i in count:\n",
    "            count[i] += 1\n",
    "        else:\n",
    "            count[i] = 1\n",
    "    return count"
   ]
  },
  {
   "cell_type": "code",
   "execution_count": 44,
   "id": "928940d3",
   "metadata": {
    "ExecuteTime": {
     "end_time": "2024-11-13T03:10:03.666156Z",
     "start_time": "2024-11-13T03:10:03.647637Z"
    }
   },
   "outputs": [],
   "source": [
    "def frequency(l1):\n",
    "    return {i:l1.count(i) for i in set(l1)}"
   ]
  },
  {
   "cell_type": "code",
   "execution_count": 45,
   "id": "43f0c958",
   "metadata": {
    "ExecuteTime": {
     "end_time": "2024-11-13T03:10:13.658391Z",
     "start_time": "2024-11-13T03:10:12.105785Z"
    }
   },
   "outputs": [
    {
     "name": "stdout",
     "output_type": "stream",
     "text": [
      "Enter comma separated numbers of List: [1, 2, 2, 3, 3, 3, 4]\n",
      "\n",
      "Frequency of each element:  {1: 1, 2: 2, 3: 3, 4: 1}\n"
     ]
    }
   ],
   "source": [
    "get_frequency()"
   ]
  },
  {
   "cell_type": "markdown",
   "id": "c2a98282",
   "metadata": {},
   "source": [
    "## Remove duplicates"
   ]
  },
  {
   "cell_type": "code",
   "execution_count": 9,
   "id": "23cda921",
   "metadata": {
    "ExecuteTime": {
     "end_time": "2024-11-13T00:36:09.726494Z",
     "start_time": "2024-11-13T00:36:09.705138Z"
    }
   },
   "outputs": [],
   "source": [
    "\"\"\"\n",
    "Question-4\n",
    "\n",
    "4. Write a Python program to remove duplicates from a list while preserving the original order.\n",
    "\n",
    "Description: Given a list, return a new list with all duplicate elements removed, keeping only the first occurrence of each element.\n",
    "o Example Input: [1, 2, 2, 3, 4, 3]\n",
    "o Example Output: [1, 2, 3, 4]\n",
    "\"\"\"\n",
    "def clean_list(l1):\n",
    "    output_list = []\n",
    "    [output_list.append(i) for i in l1 if i not in output_list]\n",
    "    return output_list\n",
    "\n",
    "def remove_duplicates():\n",
    "    l1 = ast.literal_eval(input(\"Enter comma separated numbers of List: \"))\n",
    "    print(f\"\\nRemove duplicates: \", clean_list(l1))"
   ]
  },
  {
   "cell_type": "code",
   "execution_count": 10,
   "id": "cbe685cb",
   "metadata": {
    "ExecuteTime": {
     "end_time": "2024-11-13T00:36:19.733828Z",
     "start_time": "2024-11-13T00:36:09.737715Z"
    }
   },
   "outputs": [
    {
     "name": "stdout",
     "output_type": "stream",
     "text": [
      "Enter comma separated numbers of List: [1, 2, 2, 3, 3, 3, 4]\n",
      "\n",
      "Remove duplicates:  [1, 2, 3, 4]\n"
     ]
    }
   ],
   "source": [
    "remove_duplicates()"
   ]
  },
  {
   "cell_type": "code",
   "execution_count": 11,
   "id": "82ed0213",
   "metadata": {
    "ExecuteTime": {
     "end_time": "2024-11-13T00:36:36.416268Z",
     "start_time": "2024-11-13T00:36:19.743361Z"
    }
   },
   "outputs": [
    {
     "name": "stdout",
     "output_type": "stream",
     "text": [
      "Enter comma separated numbers of List: [1, 2, 2, 4, 3, 3]\n",
      "\n",
      "Remove duplicates:  [1, 2, 4, 3]\n"
     ]
    }
   ],
   "source": [
    "remove_duplicates()"
   ]
  },
  {
   "cell_type": "markdown",
   "id": "50385a9f",
   "metadata": {},
   "source": [
    "## Binomial coefficient"
   ]
  },
  {
   "cell_type": "code",
   "execution_count": 14,
   "id": "df8fea61",
   "metadata": {
    "ExecuteTime": {
     "end_time": "2024-11-13T00:39:33.933675Z",
     "start_time": "2024-11-13T00:39:33.927593Z"
    }
   },
   "outputs": [
    {
     "name": "stdout",
     "output_type": "stream",
     "text": [
      "\n"
     ]
    }
   ],
   "source": [
    "\"\"\"\n",
    "Question-5\n",
    "5. Write a Python function to calculate nCr (binomial coefficient) using the formula\n",
    "\n",
    "o Description: Given integers n and r, calculate the value of nCr.\n",
    "o Example Input: n = 5, r = 3\n",
    "o Example Output: 10\n",
    "\"\"\"\n",
    "print()"
   ]
  },
  {
   "cell_type": "markdown",
   "id": "3d4fe995",
   "metadata": {},
   "source": [
    "$$ nCr=n!r!(n−r)!nCr = \\frac{n!}{r!(n-r)!}nCr=r!(n−r)!n! $$"
   ]
  },
  {
   "cell_type": "code",
   "execution_count": 24,
   "id": "4194e150",
   "metadata": {
    "ExecuteTime": {
     "end_time": "2024-11-13T02:54:48.279774Z",
     "start_time": "2024-11-13T02:54:48.273501Z"
    }
   },
   "outputs": [],
   "source": [
    "def fact(i):\n",
    "    return 1 if i <= 1 else i * recursive(i-1)\n",
    "\n",
    "def nCr():\n",
    "    n = eval(input(\"Enter set of item(s) (n): \"))\n",
    "    r = eval(input(\"Enter choose item(s) (r): \"))\n",
    "    ncr = fact(n)//(fact(r) * fact(n-r))\n",
    "    \n",
    "    print(f\"\\nNumber of ways to choose {r} items from a set of {n} distinct items is:\", ncr)"
   ]
  },
  {
   "cell_type": "code",
   "execution_count": 25,
   "id": "1a7acbd7",
   "metadata": {
    "ExecuteTime": {
     "end_time": "2024-11-13T02:55:07.426352Z",
     "start_time": "2024-11-13T02:55:05.034938Z"
    }
   },
   "outputs": [
    {
     "name": "stdout",
     "output_type": "stream",
     "text": [
      "Enter set of item(s) (n): 5\n",
      "Enter choose item(s) (r): 3\n",
      "\n",
      "Number of ways to choose 3 items from a set of 5 distinct items is: 10\n"
     ]
    }
   ],
   "source": [
    "nCr()"
   ]
  },
  {
   "cell_type": "markdown",
   "id": "83e317d0",
   "metadata": {},
   "source": [
    "## String Reversal"
   ]
  },
  {
   "cell_type": "code",
   "execution_count": 36,
   "id": "d7fa3ff6",
   "metadata": {
    "ExecuteTime": {
     "end_time": "2024-11-13T03:05:00.439525Z",
     "start_time": "2024-11-13T03:05:00.432979Z"
    }
   },
   "outputs": [
    {
     "name": "stdout",
     "output_type": "stream",
     "text": [
      "\n"
     ]
    }
   ],
   "source": [
    "\"\"\"\n",
    "Question-6\n",
    "\n",
    "6. Write a Python function that takes a string as input and returns the string reversed.\n",
    "\n",
    "o Example Input: \"hello\"\n",
    "o Example Output: \"olleh\"\n",
    "\"\"\"\n",
    "print()"
   ]
  },
  {
   "cell_type": "markdown",
   "id": "48712296",
   "metadata": {},
   "source": [
    "### Slicing"
   ]
  },
  {
   "cell_type": "code",
   "execution_count": 37,
   "id": "85ed1680",
   "metadata": {
    "ExecuteTime": {
     "end_time": "2024-11-13T03:05:03.787512Z",
     "start_time": "2024-11-13T03:05:03.780685Z"
    }
   },
   "outputs": [
    {
     "name": "stdout",
     "output_type": "stream",
     "text": [
      "olleh\n"
     ]
    }
   ],
   "source": [
    "def reverse(string=\"hello\"):\n",
    "    string = string[-1::-1]\n",
    "    return string\n",
    "\n",
    "print(reverse())"
   ]
  },
  {
   "cell_type": "markdown",
   "id": "abcfb51d",
   "metadata": {},
   "source": [
    "### Manual looping"
   ]
  },
  {
   "cell_type": "code",
   "execution_count": 34,
   "id": "23f853e5",
   "metadata": {
    "ExecuteTime": {
     "end_time": "2024-11-13T03:01:29.246058Z",
     "start_time": "2024-11-13T03:01:29.236367Z"
    }
   },
   "outputs": [
    {
     "name": "stdout",
     "output_type": "stream",
     "text": [
      "olleh\n"
     ]
    }
   ],
   "source": [
    "def reverse(string=\"hello\"):\n",
    "    reverse = ''\n",
    "    for i in string:\n",
    "        reverse = i + reverse\n",
    "    return reverse\n",
    "\n",
    "print(reverse())"
   ]
  },
  {
   "cell_type": "markdown",
   "id": "254d1f5e",
   "metadata": {},
   "source": [
    "### Reverse Built-In Function"
   ]
  },
  {
   "cell_type": "code",
   "execution_count": 40,
   "id": "015696d4",
   "metadata": {
    "ExecuteTime": {
     "end_time": "2024-11-13T03:07:50.230089Z",
     "start_time": "2024-11-13T03:07:50.213809Z"
    }
   },
   "outputs": [
    {
     "name": "stdout",
     "output_type": "stream",
     "text": [
      "olleh\n"
     ]
    }
   ],
   "source": [
    "def reverse(string=\"hello\"):\n",
    "    return ''.join(reversed(\"hello\"))\n",
    "\n",
    "print(reverse())"
   ]
  },
  {
   "cell_type": "markdown",
   "id": "b38f6a0c",
   "metadata": {},
   "source": [
    "### while"
   ]
  },
  {
   "cell_type": "code",
   "execution_count": 49,
   "id": "588c922e",
   "metadata": {
    "ExecuteTime": {
     "end_time": "2024-11-13T03:17:37.509924Z",
     "start_time": "2024-11-13T03:17:37.501406Z"
    }
   },
   "outputs": [
    {
     "name": "stdout",
     "output_type": "stream",
     "text": [
      "olleh\n"
     ]
    }
   ],
   "source": [
    "def reverse(string=\"hello\"):\n",
    "    length = len(string) -1\n",
    "    reverse_str = ''\n",
    "    while length >= 0:\n",
    "        reverse_str += string[length]\n",
    "        length -= 1\n",
    "    return reverse_str\n",
    "        \n",
    "\n",
    "print(reverse())"
   ]
  },
  {
   "cell_type": "markdown",
   "id": "92d5ab20",
   "metadata": {},
   "source": [
    "### Recusrsion"
   ]
  },
  {
   "cell_type": "code",
   "execution_count": 58,
   "id": "14cc51d7",
   "metadata": {
    "ExecuteTime": {
     "end_time": "2024-11-13T03:34:03.991047Z",
     "start_time": "2024-11-13T03:34:03.983261Z"
    }
   },
   "outputs": [
    {
     "name": "stdout",
     "output_type": "stream",
     "text": [
      "olleh\n"
     ]
    }
   ],
   "source": [
    "def reverse(string=\"hello\"):\n",
    "    if len(string) == 0:\n",
    "        return string\n",
    "    return string[-1] + reverse(string[:-1])\n",
    "\n",
    "print(reverse())"
   ]
  },
  {
   "cell_type": "markdown",
   "id": "43414cda",
   "metadata": {},
   "source": [
    "## Leap Year"
   ]
  },
  {
   "cell_type": "code",
   "execution_count": 64,
   "id": "6cbe8f23",
   "metadata": {
    "ExecuteTime": {
     "end_time": "2024-11-14T02:50:40.549384Z",
     "start_time": "2024-11-14T02:50:40.482021Z"
    }
   },
   "outputs": [],
   "source": [
    "\"\"\"\n",
    "Question-7\n",
    "7. Write a Python program to check if a given year is a leap year or not.\n",
    "\n",
    "o Description: A year is a leap year if it is divisible by 4, except for years that are divisible by 100, unless they are also divisible by 400.\n",
    "\n",
    "o Example Input: 2020\n",
    "o Example Output: True\n",
    "\"\"\"\n",
    "\n",
    "def leap_year():\n",
    "    year = eval(input(\"Enter year to check if it is Leap Year:\"))\n",
    "    if year % 4 == 0 and (year % 100 != 0 or year % 400 == 0):\n",
    "        return True\n",
    "    return False"
   ]
  },
  {
   "cell_type": "code",
   "execution_count": 65,
   "id": "d4380803",
   "metadata": {
    "ExecuteTime": {
     "end_time": "2024-11-14T02:50:44.270001Z",
     "start_time": "2024-11-14T02:50:41.206472Z"
    }
   },
   "outputs": [
    {
     "name": "stdout",
     "output_type": "stream",
     "text": [
      "Enter year to check if it is Leap Year:1900\n"
     ]
    },
    {
     "data": {
      "text/plain": [
       "False"
      ]
     },
     "execution_count": 65,
     "metadata": {},
     "output_type": "execute_result"
    }
   ],
   "source": [
    "leap_year()"
   ]
  },
  {
   "cell_type": "code",
   "execution_count": 66,
   "id": "a8be83aa",
   "metadata": {
    "ExecuteTime": {
     "end_time": "2024-11-14T02:50:49.895406Z",
     "start_time": "2024-11-14T02:50:46.039784Z"
    }
   },
   "outputs": [
    {
     "name": "stdout",
     "output_type": "stream",
     "text": [
      "Enter year to check if it is Leap Year:2000\n"
     ]
    },
    {
     "data": {
      "text/plain": [
       "True"
      ]
     },
     "execution_count": 66,
     "metadata": {},
     "output_type": "execute_result"
    }
   ],
   "source": [
    "leap_year()"
   ]
  },
  {
   "cell_type": "code",
   "execution_count": 67,
   "id": "d1053a6f",
   "metadata": {
    "ExecuteTime": {
     "end_time": "2024-11-14T02:50:57.648262Z",
     "start_time": "2024-11-14T02:50:55.406758Z"
    }
   },
   "outputs": [
    {
     "name": "stdout",
     "output_type": "stream",
     "text": [
      "Enter year to check if it is Leap Year:2004\n"
     ]
    },
    {
     "data": {
      "text/plain": [
       "True"
      ]
     },
     "execution_count": 67,
     "metadata": {},
     "output_type": "execute_result"
    }
   ],
   "source": [
    "leap_year()"
   ]
  },
  {
   "cell_type": "markdown",
   "id": "6d8c45d8",
   "metadata": {},
   "source": [
    "## Find vowels in a String"
   ]
  },
  {
   "cell_type": "code",
   "execution_count": 88,
   "id": "ea96799b",
   "metadata": {
    "ExecuteTime": {
     "end_time": "2024-11-14T03:10:10.235016Z",
     "start_time": "2024-11-14T03:10:10.225018Z"
    }
   },
   "outputs": [],
   "source": [
    "\"\"\"\n",
    "Question-7\n",
    "\n",
    "8. Write a Python function to count the number of vowels in a given string.\n",
    "\n",
    "o Example Input: \"hello world\"\n",
    "o Example Output: 3\n",
    "\"\"\"\n",
    "import ast\n",
    "\n",
    "def vovels_count():\n",
    "    string = ast.literal_eval(input(\"Enter string to Count Vowels: \"))\n",
    "    vovels=\"aeiou\"\n",
    "\n",
    "    print(f\"\\nVowels count in the string '{string}' is: {sum(1 for i in string if i in vovels)}\")"
   ]
  },
  {
   "cell_type": "code",
   "execution_count": 89,
   "id": "c7e09f49",
   "metadata": {
    "ExecuteTime": {
     "end_time": "2024-11-14T03:10:13.788382Z",
     "start_time": "2024-11-14T03:10:12.030658Z"
    }
   },
   "outputs": [
    {
     "name": "stdout",
     "output_type": "stream",
     "text": [
      "Enter string to Count Vowels:\"hello world\"\n",
      "\n",
      "Vowels count in the string 'hello world' is: 3\n"
     ]
    }
   ],
   "source": [
    "vovels_count()"
   ]
  },
  {
   "cell_type": "markdown",
   "id": "d49d4057",
   "metadata": {},
   "source": [
    "## Minimum and Maximum"
   ]
  },
  {
   "cell_type": "code",
   "execution_count": 106,
   "id": "49ec6215",
   "metadata": {
    "ExecuteTime": {
     "end_time": "2024-11-14T18:17:02.644914Z",
     "start_time": "2024-11-14T18:17:02.633973Z"
    }
   },
   "outputs": [],
   "source": [
    "\"\"\"\n",
    "Question-9\n",
    "\n",
    "9. Write a Python function that takes a list of integers and returns a tuple containing the maximum and minimum values from the list.\n",
    "\n",
    "○ Example Input: [1, 2, 3, 4, 5]\n",
    "○ Example Output: (5, 1)\n",
    "\"\"\"\n",
    "import ast\n",
    "\n",
    "def min_max():\n",
    "    input_list = ast.literal_eval(input(\"Enter list of integers to find max and min values:\"))\n",
    "    minimum = input_list[0]\n",
    "    maximum = input_list[0]\n",
    "    for element in input_list:\n",
    "        minimum = element if element < minimum else minimum\n",
    "        maximum = element if element > maximum else maximum\n",
    "    output = (maximum, minimum)\n",
    "    print('\\n', output)"
   ]
  },
  {
   "cell_type": "code",
   "execution_count": 107,
   "id": "2b34d945",
   "metadata": {
    "ExecuteTime": {
     "end_time": "2024-11-14T18:17:11.197131Z",
     "start_time": "2024-11-14T18:17:02.950251Z"
    }
   },
   "outputs": [
    {
     "name": "stdout",
     "output_type": "stream",
     "text": [
      "Enter list of integers to find max and min values:[1, 2, 3, 4, 5]\n",
      "\n",
      " (5, 1)\n"
     ]
    }
   ],
   "source": [
    "min_max()"
   ]
  },
  {
   "cell_type": "markdown",
   "id": "ec0ba5a3",
   "metadata": {},
   "source": [
    "## Sum of even number"
   ]
  },
  {
   "cell_type": "code",
   "execution_count": 134,
   "id": "508aafde",
   "metadata": {
    "ExecuteTime": {
     "end_time": "2024-11-14T18:44:11.872478Z",
     "start_time": "2024-11-14T18:44:11.862549Z"
    }
   },
   "outputs": [],
   "source": [
    "\"\"\"\n",
    "Question-10\n",
    "\n",
    "Write a Python function that takes a list of integers and returns the sum of all the even numbers in the list.\n",
    "\n",
    "○ Example Input: [1, 2, 3, 4, 5]\n",
    "○ Example Output: 6\n",
    "\"\"\"\n",
    "import ast\n",
    "\n",
    "def sum_even():\n",
    "    input_list = ast.literal_eval(input(\"Enter list of integers to find sum of all the even numbers:\"))\n",
    "    output = sum(num for num in input_list if num % 2 == 0)            \n",
    "    print(output)"
   ]
  },
  {
   "cell_type": "code",
   "execution_count": 124,
   "id": "3933c1bf",
   "metadata": {
    "ExecuteTime": {
     "end_time": "2024-11-14T18:33:26.608145Z",
     "start_time": "2024-11-14T18:33:25.037702Z"
    }
   },
   "outputs": [
    {
     "name": "stdout",
     "output_type": "stream",
     "text": [
      "Enter list of integers to find sum of all the even numbers:[1, 2, 3, 4, 5]\n",
      "6\n"
     ]
    }
   ],
   "source": [
    "sum_even()"
   ]
  },
  {
   "cell_type": "markdown",
   "id": "312324f3",
   "metadata": {},
   "source": [
    "## Second Largest"
   ]
  },
  {
   "cell_type": "code",
   "execution_count": 135,
   "id": "6d01f0a6",
   "metadata": {
    "ExecuteTime": {
     "end_time": "2024-11-14T18:45:36.287560Z",
     "start_time": "2024-11-14T18:45:36.275827Z"
    }
   },
   "outputs": [],
   "source": [
    "\"\"\"\n",
    "Question-11\n",
    "\n",
    "11. Write a Python function that takes a list of integers and returns the second largest element in the list.\n",
    "    If there is no second largest, return None.\n",
    "\n",
    "○ Example Input: [1, 2, 3, 4, 5]\n",
    "○ Example Output: 4\n",
    "\n",
    "○ Example Input: [5, 5, 5]\n",
    "○ Example Output: None\n",
    "\"\"\"\n",
    "import ast\n",
    "\n",
    "def second_largest():\n",
    "    input_list = ast.literal_eval(input(\"Enter list of integers to find max and min values:\"))\n",
    "    \n",
    "    if len(input_list) < 2:\n",
    "        print(None)\n",
    "        return\n",
    "    \n",
    "    largest = s_largest = input_list[0]\n",
    "    \n",
    "    for num in input_list:\n",
    "        if num > largest:\n",
    "            temp = largest\n",
    "            s_largest = largest\n",
    "            largest = num\n",
    "    if largest == s_largest:\n",
    "        s_largest = None\n",
    "            \n",
    "    print(s_largest)"
   ]
  },
  {
   "cell_type": "code",
   "execution_count": 136,
   "id": "223ebac8",
   "metadata": {
    "ExecuteTime": {
     "end_time": "2024-11-14T18:45:43.911644Z",
     "start_time": "2024-11-14T18:45:42.938626Z"
    },
    "scrolled": true
   },
   "outputs": [
    {
     "name": "stdout",
     "output_type": "stream",
     "text": [
      "Enter list of integers to find max and min values:[1, 2, 3, 4, 5]\n",
      "4\n"
     ]
    }
   ],
   "source": [
    "second_largest()"
   ]
  },
  {
   "cell_type": "code",
   "execution_count": 137,
   "id": "ac71bdaa",
   "metadata": {
    "ExecuteTime": {
     "end_time": "2024-11-14T18:45:49.932938Z",
     "start_time": "2024-11-14T18:45:48.807373Z"
    }
   },
   "outputs": [
    {
     "name": "stdout",
     "output_type": "stream",
     "text": [
      "Enter list of integers to find max and min values:[5, 5, 5]\n",
      "None\n"
     ]
    }
   ],
   "source": [
    "second_largest()"
   ]
  },
  {
   "cell_type": "code",
   "execution_count": 138,
   "id": "28502720",
   "metadata": {
    "ExecuteTime": {
     "end_time": "2024-11-14T18:45:56.257754Z",
     "start_time": "2024-11-14T18:45:53.229418Z"
    }
   },
   "outputs": [
    {
     "name": "stdout",
     "output_type": "stream",
     "text": [
      "Enter list of integers to find max and min values:[5]\n",
      "None\n"
     ]
    }
   ],
   "source": [
    "second_largest()"
   ]
  },
  {
   "cell_type": "markdown",
   "id": "3b6ef622",
   "metadata": {},
   "source": [
    "## Removed Spaces,tabs, etc..."
   ]
  },
  {
   "cell_type": "code",
   "execution_count": 147,
   "id": "86130fcd",
   "metadata": {
    "ExecuteTime": {
     "end_time": "2024-11-14T18:57:08.311928Z",
     "start_time": "2024-11-14T18:57:08.289985Z"
    }
   },
   "outputs": [],
   "source": [
    "\"\"\"\n",
    "Question-12\n",
    "\n",
    "12. Write a Python function that removes all whitespace characters (spaces, tabs, etc.) from a string.\n",
    "\n",
    "○ Example Input: \"hello world\"\n",
    "○ Example Output: helloworld\n",
    "\"\"\"\n",
    "import re\n",
    "import ast\n",
    "\n",
    "def remove_spaces():\n",
    "    string = ast.literal_eval(input(\"Enter string to removes all whitespace: \"))\n",
    "    print(re.sub(r\"\\s+\", '', string))"
   ]
  },
  {
   "cell_type": "code",
   "execution_count": 148,
   "id": "5c647fed",
   "metadata": {
    "ExecuteTime": {
     "end_time": "2024-11-14T18:57:23.978399Z",
     "start_time": "2024-11-14T18:57:11.827196Z"
    }
   },
   "outputs": [
    {
     "name": "stdout",
     "output_type": "stream",
     "text": [
      "Enter string to removes all whitespace: \"  Hello, \\t world!  \\nThis is 2024.  \"\n",
      "Hello,world!Thisis2024.\n"
     ]
    }
   ],
   "source": [
    "remove_spaces()"
   ]
  },
  {
   "cell_type": "markdown",
   "id": "0643b65d",
   "metadata": {},
   "source": [
    "## Length of longest word"
   ]
  },
  {
   "cell_type": "code",
   "execution_count": 9,
   "id": "877435f9",
   "metadata": {
    "ExecuteTime": {
     "end_time": "2024-11-16T01:50:09.196132Z",
     "start_time": "2024-11-16T01:50:09.188293Z"
    }
   },
   "outputs": [],
   "source": [
    "\"\"\"\n",
    "Question-13\n",
    "\n",
    "13. Write a Python function that takes a string and returns the length of the longest word in the string.\n",
    "\n",
    "○ Example Input: \"The quick brown fox\"\n",
    "○ Example Output: 5\n",
    "\"\"\"\n",
    "\n",
    "def longest_word():\n",
    "    string = eval(input(\"Enter string to find length of the longest word: \"))\n",
    "    print(max(len(word) for word in string.split()))"
   ]
  },
  {
   "cell_type": "code",
   "execution_count": 8,
   "id": "5c4e5746",
   "metadata": {
    "ExecuteTime": {
     "end_time": "2024-11-16T01:48:28.904617Z",
     "start_time": "2024-11-16T01:48:22.745189Z"
    }
   },
   "outputs": [
    {
     "name": "stdout",
     "output_type": "stream",
     "text": [
      "Enter string to find length of the longest word: \"The quick brown fox\"\n",
      "5\n"
     ]
    }
   ],
   "source": [
    "longest_word()"
   ]
  },
  {
   "cell_type": "markdown",
   "id": "1c8913aa",
   "metadata": {},
   "source": [
    "## Multiplication Table"
   ]
  },
  {
   "cell_type": "code",
   "execution_count": 14,
   "id": "075f2812",
   "metadata": {
    "ExecuteTime": {
     "end_time": "2024-11-16T01:58:02.079096Z",
     "start_time": "2024-11-16T01:58:02.068447Z"
    }
   },
   "outputs": [],
   "source": [
    "\"\"\"\n",
    "Question-14\n",
    "\n",
    "14. Write a Python function that prints the multiplication table for a given number from 1 to 10.\n",
    "\n",
    "○ Example Input: 3\n",
    "○ Example Output:\n",
    "# 3 x 1 = 3\n",
    "# 3 x 2 = 6\n",
    "# 3 x 3 = 9\n",
    "# ...\n",
    "# 3 x 10 = 30\n",
    "\"\"\"\n",
    "def print_table(number, count=1):\n",
    "    if count > 10:\n",
    "        return\n",
    "    print(f\"{number} x {count} = {number * count}\")\n",
    "    print_table(number, count + 1)\n",
    "\n",
    "\n",
    "def multiplication_table():\n",
    "    number = eval(input(\"Enter number to print the multiplication table for a given number: \"))\n",
    "    print_table(number)"
   ]
  },
  {
   "cell_type": "code",
   "execution_count": 15,
   "id": "93c29a09",
   "metadata": {
    "ExecuteTime": {
     "end_time": "2024-11-16T01:58:06.147829Z",
     "start_time": "2024-11-16T01:58:04.786616Z"
    },
    "scrolled": false
   },
   "outputs": [
    {
     "name": "stdout",
     "output_type": "stream",
     "text": [
      "Enter string to print the multiplication table for a given number: 3\n",
      "3 x 1 = 3\n",
      "3 x 2 = 6\n",
      "3 x 3 = 9\n",
      "3 x 4 = 12\n",
      "3 x 5 = 15\n",
      "3 x 6 = 18\n",
      "3 x 7 = 21\n",
      "3 x 8 = 24\n",
      "3 x 9 = 27\n",
      "3 x 10 = 30\n"
     ]
    }
   ],
   "source": [
    "multiplication_table()"
   ]
  },
  {
   "cell_type": "code",
   "execution_count": 16,
   "id": "be068c21",
   "metadata": {
    "ExecuteTime": {
     "end_time": "2024-11-16T01:58:21.930414Z",
     "start_time": "2024-11-16T01:58:20.014076Z"
    }
   },
   "outputs": [
    {
     "name": "stdout",
     "output_type": "stream",
     "text": [
      "Enter string to print the multiplication table for a given number: 5\n",
      "5 x 1 = 5\n",
      "5 x 2 = 10\n",
      "5 x 3 = 15\n",
      "5 x 4 = 20\n",
      "5 x 5 = 25\n",
      "5 x 6 = 30\n",
      "5 x 7 = 35\n",
      "5 x 8 = 40\n",
      "5 x 9 = 45\n",
      "5 x 10 = 50\n"
     ]
    }
   ],
   "source": [
    "multiplication_table()"
   ]
  },
  {
   "cell_type": "markdown",
   "id": "e36bb010",
   "metadata": {},
   "source": [
    "## Prime Number"
   ]
  },
  {
   "cell_type": "code",
   "execution_count": 53,
   "id": "11d82e5a",
   "metadata": {
    "ExecuteTime": {
     "end_time": "2024-11-16T03:19:37.530926Z",
     "start_time": "2024-11-16T03:19:37.522026Z"
    }
   },
   "outputs": [],
   "source": [
    "\"\"\"\n",
    "Question-15\n",
    "\n",
    "15. Write a Python function that prints all prime numbers between start and end (inclusive).\n",
    "\n",
    "○ Example Input: 10, 20\n",
    "○ Example Output: 11, 13, 17, 19\n",
    "\"\"\"\n",
    "\n",
    "def prime_number():\n",
    "    start, end = ast.literal_eval(input(\"Enter start and end number to prints all prime numbers between them: \"))\n",
    "    prime_num = []\n",
    "    for each_number in range(start, end + 1):\n",
    "        for number in range(2, each_number):\n",
    "            if each_number % number == 0:\n",
    "                break\n",
    "        else:\n",
    "            prime_num.append(each_number)\n",
    "    print()\n",
    "    print(' '.join(map(str, prime_num)))"
   ]
  },
  {
   "cell_type": "code",
   "execution_count": 54,
   "id": "a8913773",
   "metadata": {
    "ExecuteTime": {
     "end_time": "2024-11-16T03:19:42.173083Z",
     "start_time": "2024-11-16T03:19:37.960955Z"
    }
   },
   "outputs": [
    {
     "name": "stdout",
     "output_type": "stream",
     "text": [
      "Enter start and end number to prints all prime numbers between them: 10, 20\n",
      "\n",
      "11 13 17 19\n"
     ]
    }
   ],
   "source": [
    "prime_number()"
   ]
  }
 ],
 "metadata": {
  "kernelspec": {
   "display_name": "Python 3 (ipykernel)",
   "language": "python",
   "name": "python3"
  },
  "language_info": {
   "codemirror_mode": {
    "name": "ipython",
    "version": 3
   },
   "file_extension": ".py",
   "mimetype": "text/x-python",
   "name": "python",
   "nbconvert_exporter": "python",
   "pygments_lexer": "ipython3",
   "version": "3.8.13"
  },
  "toc": {
   "base_numbering": 1,
   "nav_menu": {},
   "number_sections": true,
   "sideBar": true,
   "skip_h1_title": false,
   "title_cell": "Table of Contents",
   "title_sidebar": "Contents",
   "toc_cell": true,
   "toc_position": {},
   "toc_section_display": true,
   "toc_window_display": true
  }
 },
 "nbformat": 4,
 "nbformat_minor": 5
}
