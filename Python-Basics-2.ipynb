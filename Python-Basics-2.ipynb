{
 "cells": [
  {
   "cell_type": "markdown",
   "metadata": {
    "toc": true
   },
   "source": [
    "<h1>Table of Contents<span class=\"tocSkip\"></span></h1>\n",
    "<div class=\"toc\"><ul class=\"toc-item\"><li><span><a href=\"#Slicing-Operations\" data-toc-modified-id=\"Slicing-Operations-1\"><span class=\"toc-item-num\">1&nbsp;&nbsp;</span>Slicing Operations</a></span><ul class=\"toc-item\"><li><span><a href=\"#List-Slicing\" data-toc-modified-id=\"List-Slicing-1.1\"><span class=\"toc-item-num\">1.1&nbsp;&nbsp;</span>List Slicing</a></span></li><li><span><a href=\"#String-Slicing\" data-toc-modified-id=\"String-Slicing-1.2\"><span class=\"toc-item-num\">1.2&nbsp;&nbsp;</span>String Slicing</a></span></li></ul></li><li><span><a href=\"#Comprehensions\" data-toc-modified-id=\"Comprehensions-2\"><span class=\"toc-item-num\">2&nbsp;&nbsp;</span>Comprehensions</a></span><ul class=\"toc-item\"><li><span><a href=\"#List-Comprehension\" data-toc-modified-id=\"List-Comprehension-2.1\"><span class=\"toc-item-num\">2.1&nbsp;&nbsp;</span>List Comprehension</a></span></li><li><span><a href=\"#Dict-Comprehension\" data-toc-modified-id=\"Dict-Comprehension-2.2\"><span class=\"toc-item-num\">2.2&nbsp;&nbsp;</span>Dict Comprehension</a></span></li><li><span><a href=\"#Set-Comprehension\" data-toc-modified-id=\"Set-Comprehension-2.3\"><span class=\"toc-item-num\">2.3&nbsp;&nbsp;</span>Set Comprehension</a></span></li></ul></li><li><span><a href=\"#Sorting\" data-toc-modified-id=\"Sorting-3\"><span class=\"toc-item-num\">3&nbsp;&nbsp;</span>Sorting</a></span><ul class=\"toc-item\"><li><span><a href=\"#List-Sorting\" data-toc-modified-id=\"List-Sorting-3.1\"><span class=\"toc-item-num\">3.1&nbsp;&nbsp;</span>List Sorting</a></span></li><li><span><a href=\"#Tuple-Sorting\" data-toc-modified-id=\"Tuple-Sorting-3.2\"><span class=\"toc-item-num\">3.2&nbsp;&nbsp;</span>Tuple Sorting</a></span></li><li><span><a href=\"#Set-Sorting\" data-toc-modified-id=\"Set-Sorting-3.3\"><span class=\"toc-item-num\">3.3&nbsp;&nbsp;</span>Set Sorting</a></span></li><li><span><a href=\"#Dict-Sorting\" data-toc-modified-id=\"Dict-Sorting-3.4\"><span class=\"toc-item-num\">3.4&nbsp;&nbsp;</span>Dict Sorting</a></span></li></ul></li><li><span><a href=\"#Concatenation-&amp;-Replicator-Operator\" data-toc-modified-id=\"Concatenation-&amp;-Replicator-Operator-4\"><span class=\"toc-item-num\">4&nbsp;&nbsp;</span>Concatenation &amp; Replicator Operator</a></span></li></ul></div>"
   ]
  },
  {
   "cell_type": "markdown",
   "metadata": {},
   "source": [
    "# Slicing Operations\n",
    "## List Slicing\n",
    "    • list[ start : end : step ]\n",
    "    • List is a kind of circle with start value 0."
   ]
  },
  {
   "cell_type": "code",
   "execution_count": 2,
   "metadata": {
    "ExecuteTime": {
     "end_time": "2020-05-15T13:12:21.534354Z",
     "start_time": "2020-05-15T13:12:21.517353Z"
    }
   },
   "outputs": [],
   "source": [
    "my_list      = [1, 2, 3, 4, 5, 6, 7, 8, 9, 10]\n",
    "# +ve Index     0, 1, 2, 3, 4, 5, 6, 7, 8, 9\n",
    "# -ve Index   -10,-9,-8,-7,-6,-5,-4,-3,-2,-1"
   ]
  },
  {
   "cell_type": "code",
   "execution_count": 6,
   "metadata": {
    "ExecuteTime": {
     "end_time": "2020-05-15T13:14:11.493643Z",
     "start_time": "2020-05-15T13:14:11.479643Z"
    }
   },
   "outputs": [
    {
     "name": "stdout",
     "output_type": "stream",
     "text": [
      "[1, 2, 3, 4, 5, 6, 7, 8, 9, 10]\n"
     ]
    }
   ],
   "source": [
    "print (my_list)"
   ]
  },
  {
   "cell_type": "code",
   "execution_count": 8,
   "metadata": {
    "ExecuteTime": {
     "end_time": "2020-05-15T13:14:14.504816Z",
     "start_time": "2020-05-15T13:14:14.492815Z"
    }
   },
   "outputs": [
    {
     "name": "stdout",
     "output_type": "stream",
     "text": [
      "1\n",
      "6\n"
     ]
    }
   ],
   "source": [
    "print (my_list[0])\n",
    "print (my_list[5])"
   ]
  },
  {
   "cell_type": "code",
   "execution_count": 11,
   "metadata": {
    "ExecuteTime": {
     "end_time": "2020-05-15T13:25:31.021510Z",
     "start_time": "2020-05-15T13:25:30.992508Z"
    }
   },
   "outputs": [
    {
     "name": "stdout",
     "output_type": "stream",
     "text": [
      "4\n",
      "10\n"
     ]
    }
   ],
   "source": [
    "print (my_list[-7])\n",
    "print (my_list[-1])"
   ]
  },
  {
   "cell_type": "code",
   "execution_count": 41,
   "metadata": {
    "ExecuteTime": {
     "end_time": "2020-05-15T14:25:09.330178Z",
     "start_time": "2020-05-15T14:25:09.307176Z"
    }
   },
   "outputs": [
    {
     "name": "stdout",
     "output_type": "stream",
     "text": [
      "[4, 5, 6, 7, 8, 9]\n",
      "[4, 5, 6, 7, 8, 9, 10]\n",
      "[]\n",
      "\n",
      "[]\n",
      "[2, 4, 6, 8]\n",
      "[2, 5, 8]\n",
      "\n",
      "[2, 3, 4, 5, 6, 7, 8, 9, 10]\n",
      "[3, 5, 7]\n",
      "[1, 2, 3, 4, 5]\n",
      "[1, 2, 3, 4, 5, 6, 7, 8, 9, 10]\n",
      "[1, 2, 3, 4, 5, 6, 7, 8, 9, 10]\n",
      "[]\n"
     ]
    }
   ],
   "source": [
    "my_list      = [1, 2, 3, 4, 5, 6, 7, 8, 9, 10]\n",
    "# +ve Index     0, 1, 2, 3, 4, 5, 6, 7, 8, 9\n",
    "# -ve Index   -10,-9,-8,-7,-6,-5,-4,-3,-2,-1\n",
    "\n",
    "\n",
    "\n",
    "# print (my_list[ start : end : step ])\n",
    "print (my_list[  3  :  9  ])            #         End  : 10 (empty-1)th element ;; default Step : 1\n",
    "print (my_list[  3  :     ])            # default End  : last (empty-1)th element\n",
    "print (my_list[  3  :  3  ])            # start and end same index => empty list\n",
    "print ()\n",
    "print (my_list[  3  :  3  : -2  ])      # start and end same index => empty list\n",
    "print (my_list[  1  :  8  :  2  ])      #         End  : at (5-1)th element ;;         step : 2 (every +2 element)\n",
    "print (my_list[  1  :  8  :  3  ])      #         End  : at (5-1)th element ;;         step : 3 (every +3 element)\n",
    "print ()\n",
    "print (my_list[  1  :     :     ])      # start 1 End  : at last    element ;; default step : 1 (every +1 element)\n",
    "print (my_list[     :     :     ])      # deflt 0 End  : at Last    element ;; default step : 1 (every +1 element)\n",
    "print (my_list[  0  : 100 :     ])      # deflt 0 End  : at Last    element ;; default step : 1 (every +1 element)\n",
    "print (my_list[  0  : 100 : -1  ])      # deflt 0 End  : at Last    element ;; default step :-1 (every -1 element)"
   ]
  },
  {
   "cell_type": "code",
   "execution_count": 52,
   "metadata": {
    "ExecuteTime": {
     "end_time": "2020-05-15T14:34:02.409668Z",
     "start_time": "2020-05-15T14:34:02.388667Z"
    },
    "scrolled": true
   },
   "outputs": [
    {
     "name": "stdout",
     "output_type": "stream",
     "text": [
      "[8, 9, 10]\n",
      "[]\n",
      "[8, 7, 6, 5, 4, 3, 2, 1]\n",
      "\n",
      "[6, 5, 4]\n",
      "[10, 8, 6, 4]\n",
      "\n",
      "[3, 5, 7]\n",
      "[1, 2, 3, 4, 5]\n",
      "[1]\n",
      "[10, 9, 8, 7, 6, 5, 4, 3, 2, 1]\n"
     ]
    }
   ],
   "source": [
    "my_list      = [1, 2, 3, 4, 5, 6, 7, 8, 9, 10]\n",
    "# +ve Index     0, 1, 2, 3, 4, 5, 6, 7, 8, 9\n",
    "# -ve Index   -10,-9,-8,-7,-6,-5,-4,-3,-2,-1\n",
    "\n",
    "\n",
    "\n",
    "# print (my_list[ start : end : step ])\n",
    "print (my_list[ -3  :     ])            # default End  : last (empty-1)th element\n",
    "print (my_list[ -3  :-100 ])            # start and end same index => empty list\n",
    "print (my_list[ -3  :-100 : -1  ])      # start and end same index => empty list\n",
    "print ()\n",
    "print (my_list[ -5  : -8  : -1  ])      #         End  : at (5-1)th element ;; default Step : 1\n",
    "print (my_list[ -1  :  2  : -2  ])      #         End  : at (5-1)th element ;; default Step : 1\n",
    "print ()\n",
    "print (my_list[  2  : -2  :  2  ])      # start 1 End  : at (-2-1)th element;;         step : 2 (every +2 element)\n",
    "print (my_list[     : -5  :     ])      # deflt 0 End  : at (5-1)th element ;; default step : 1 (every +1 element)\n",
    "print (my_list[  0  :     : -1  ])      # deflt 0 End  : at (5-1)th element ;; default step : 1 (every +1 element)\n",
    "print (my_list[     :     : -1  ])      # deflt 0 End  : at (5-1)th element ;; default step : 1 (every +1 element)"
   ]
  },
  {
   "cell_type": "markdown",
   "metadata": {},
   "source": [
    "## String Slicing\n",
    "    • str[ start : end : step ]\n",
    "    • str is a kind of circle with start value 0."
   ]
  },
  {
   "cell_type": "code",
   "execution_count": 63,
   "metadata": {
    "ExecuteTime": {
     "end_time": "2020-05-15T14:38:33.577178Z",
     "start_time": "2020-05-15T14:38:33.558177Z"
    }
   },
   "outputs": [
    {
     "name": "stdout",
     "output_type": "stream",
     "text": [
      "https://www.google-cloud.com\n"
     ]
    }
   ],
   "source": [
    "sample_url = 'https://www.google-cloud.com'\n",
    "# Index       0123456789...\n",
    "print (sample_url)"
   ]
  },
  {
   "cell_type": "code",
   "execution_count": 71,
   "metadata": {
    "ExecuteTime": {
     "end_time": "2020-05-15T14:41:15.049414Z",
     "start_time": "2020-05-15T14:41:15.036413Z"
    }
   },
   "outputs": [
    {
     "name": "stdout",
     "output_type": "stream",
     "text": [
      "https://www.google-cloud.com\n",
      "moc.duolc-elgoog.www//:sptth\n"
     ]
    }
   ],
   "source": [
    "print (sample_url[::])\n",
    "print (sample_url[::-1])"
   ]
  },
  {
   "cell_type": "code",
   "execution_count": 70,
   "metadata": {
    "ExecuteTime": {
     "end_time": "2020-05-15T14:41:05.095844Z",
     "start_time": "2020-05-15T14:41:05.086844Z"
    }
   },
   "outputs": [
    {
     "name": "stdout",
     "output_type": "stream",
     "text": [
      ".com\n",
      "https\n",
      "www.google-cloud\n"
     ]
    }
   ],
   "source": [
    "print (sample_url[-4::])\n",
    "print (sample_url[:5:])\n",
    "print (sample_url[8:-4:])"
   ]
  },
  {
   "cell_type": "markdown",
   "metadata": {},
   "source": [
    "# Comprehensions\n",
    "    • Easier,Compact and More readable way to create List, Set and Dict Comprehensions"
   ]
  },
  {
   "cell_type": "markdown",
   "metadata": {},
   "source": [
    "## List Comprehension\n",
    "`1) Using Normal way`<br>\n",
    "`2) Using Looping `<br>\n",
    "`3) Using (map/filter) + lambda`<br>\n",
    "`3) Using zip`<br>"
   ]
  },
  {
   "cell_type": "code",
   "execution_count": 12,
   "metadata": {
    "ExecuteTime": {
     "end_time": "2020-05-18T04:34:08.085394Z",
     "start_time": "2020-05-18T04:34:08.067794Z"
    }
   },
   "outputs": [
    {
     "name": "stdout",
     "output_type": "stream",
     "text": [
      "[1, 2, 3, 4, 5, 6, 7, 8, 9, 10]\n",
      "[1, 2, 3, 4, 5, 6, 7, 8, 9, 10]\n",
      "[1, 2, 3, 4, 5, 6, 7, 8, 9, 10]\n"
     ]
    }
   ],
   "source": [
    "numbers = [1, 2, 3, 4, 5, 6, 7, 8, 9, 10]\n",
    "\n",
    "'''List Comprehension : Normal '''\n",
    "my_list = []\n",
    "for n in numbers:\n",
    "    my_list.append(n)\n",
    "\n",
    "print (my_list)\n",
    "\n",
    "'''List Comprehension : Looping '''\n",
    "my_list = [n for n in numbers]\n",
    "print (my_list)\n",
    "\n",
    "'''List Comprehension : Function '''\n",
    "my_list = map(lambda n: n, numbers)\n",
    "print (list(my_list))"
   ]
  },
  {
   "cell_type": "code",
   "execution_count": 18,
   "metadata": {
    "ExecuteTime": {
     "end_time": "2020-05-18T04:38:37.861446Z",
     "start_time": "2020-05-18T04:38:37.839846Z"
    }
   },
   "outputs": [
    {
     "name": "stdout",
     "output_type": "stream",
     "text": [
      "[1, 4, 9, 16, 25, 36, 49, 64, 81, 100]\n",
      "[1, 4, 9, 16, 25, 36, 49, 64, 81, 100]\n",
      "[1, 4, 9, 16, 25, 36, 49, 64, 81, 100]\n"
     ]
    }
   ],
   "source": [
    "numbers = [1, 2, 3, 4, 5, 6, 7, 8, 9, 10]\n",
    "\n",
    "'''List Comprehension : Normal '''\n",
    "my_list = []\n",
    "for n in numbers:\n",
    "    my_list.append(n*n)\n",
    "\n",
    "print (my_list)\n",
    "\n",
    "'''List Comprehension : Looping '''\n",
    "my_list = [n*n for n in numbers]\n",
    "print (my_list)\n",
    "\n",
    "'''List Comprehension : Function '''\n",
    "my_list = map(lambda n: n*n, numbers)\n",
    "print (list(my_list))"
   ]
  },
  {
   "cell_type": "code",
   "execution_count": 16,
   "metadata": {
    "ExecuteTime": {
     "end_time": "2020-05-18T04:36:42.504752Z",
     "start_time": "2020-05-18T04:36:42.482152Z"
    }
   },
   "outputs": [
    {
     "name": "stdout",
     "output_type": "stream",
     "text": [
      "[2, 4, 6, 8, 10]\n",
      "[2, 4, 6, 8, 10]\n",
      "[2, 4, 6, 8, 10]\n"
     ]
    }
   ],
   "source": [
    "numbers = [1, 2, 3, 4, 5, 6, 7, 8, 9, 10]\n",
    "\n",
    "'''List Comprehension : Normal with condition '''\n",
    "my_list = []\n",
    "for n in numbers:\n",
    "    if n%2 == 0:\n",
    "        my_list.append(n)\n",
    "\n",
    "print (my_list)\n",
    "\n",
    "'''List Comprehension : Looping with condition '''\n",
    "my_list = [n for n in numbers if n%2 == 0]\n",
    "print (my_list)\n",
    "\n",
    "'''List Comprehension : Function with condition '''\n",
    "my_list = filter(lambda n: n%2 == 0, numbers)\n",
    "print (list(my_list))"
   ]
  },
  {
   "cell_type": "code",
   "execution_count": 26,
   "metadata": {
    "ExecuteTime": {
     "end_time": "2020-05-18T05:05:22.631433Z",
     "start_time": "2020-05-18T05:05:22.611833Z"
    }
   },
   "outputs": [
    {
     "name": "stdout",
     "output_type": "stream",
     "text": [
      "[('a', 0), ('a', 1), ('a', 2), ('b', 0), ('b', 1), ('b', 2), ('c', 0), ('c', 1), ('c', 2)]\n",
      "[('a', 0), ('a', 1), ('a', 2), ('b', 0), ('b', 1), ('b', 2), ('c', 0), ('c', 1), ('c', 2)]\n",
      "[('a', 0), ('b', 1), ('c', 2)]\n"
     ]
    }
   ],
   "source": [
    "'''List Comprehension : Normal with condition & Nested List '''\n",
    "my_list = []\n",
    "for letter in 'abc':\n",
    "    for n in range(3):\n",
    "      my_list.append((letter,n))\n",
    "\n",
    "print (my_list)\n",
    "\n",
    "'''List Comprehension : Looping with condition & Nested List '''\n",
    "my_list = [(letter,n ) for letter in 'abc' for n in range(3)]\n",
    "print (my_list)\n",
    "\n",
    "'''List Comprehension : ZIP '''\n",
    "print (list(zip('abc', range(3))))"
   ]
  },
  {
   "cell_type": "code",
   "execution_count": 25,
   "metadata": {
    "ExecuteTime": {
     "end_time": "2020-05-18T05:03:39.467939Z",
     "start_time": "2020-05-18T05:03:39.448339Z"
    }
   },
   "outputs": [
    {
     "name": "stdout",
     "output_type": "stream",
     "text": [
      "[('Bruce Wyne', 'BatMan'), ('Clark', 'SuperMan'), ('Peter', 'SpiderMan'), ('Logan', 'X-Men'), ('Wade', 'DeadPool')]\n"
     ]
    }
   ],
   "source": [
    "names = ['Bruce Wyne', 'Clark', 'Peter', 'Logan', 'Wade']\n",
    "heros = ['BatMan', 'SuperMan', 'SpiderMan', 'X-Men', 'DeadPool']\n",
    "\n",
    "'''List Comprehension : ZIP '''\n",
    "print (list(zip(names, heros)))"
   ]
  },
  {
   "cell_type": "markdown",
   "metadata": {},
   "source": [
    "## Dict Comprehension\n",
    "`1) Using Normal way`<br>\n",
    "`2) Using Looping `<br>\n",
    "`3) Using zip`<br>"
   ]
  },
  {
   "cell_type": "code",
   "execution_count": 37,
   "metadata": {
    "ExecuteTime": {
     "end_time": "2020-05-18T05:17:01.279618Z",
     "start_time": "2020-05-18T05:17:01.257017Z"
    }
   },
   "outputs": [
    {
     "name": "stdout",
     "output_type": "stream",
     "text": [
      "{'Bruce Wyne': 'DeadPool', 'Clark': 'DeadPool', 'Peter': 'DeadPool', 'Logan': 'DeadPool', 'Wade': 'DeadPool'}\n",
      "{'Bruce Wyne': 'BatMan', 'Clark': 'SuperMan', 'Peter': 'SpiderMan', 'Logan': 'X-Men', 'Wade': 'DeadPool'}\n"
     ]
    }
   ],
   "source": [
    "names = ['Bruce Wyne', 'Clark', 'Peter', 'Logan', 'Wade']\n",
    "heros = ['BatMan', 'SuperMan', 'SpiderMan', 'X-Men', 'DeadPool']\n",
    "\n",
    "\n",
    "'''Dict Comprehension : Looping '''\n",
    "'''Two List to Dict => Always need to use ZIP'''\n",
    "my_dict = {name: hero for name in names for hero in heros}\n",
    "print (my_dict)\n",
    "\n",
    "'''Dict Comprehension : ZIP & Normal'''\n",
    "my_dict = {}\n",
    "for name, hero in zip(names,heros):\n",
    "    my_dict[name] = hero\n",
    "\n",
    "print (my_dict)"
   ]
  },
  {
   "cell_type": "code",
   "execution_count": 33,
   "metadata": {
    "ExecuteTime": {
     "end_time": "2020-05-18T05:10:53.287489Z",
     "start_time": "2020-05-18T05:10:53.264389Z"
    }
   },
   "outputs": [
    {
     "name": "stdout",
     "output_type": "stream",
     "text": [
      "{'Bruce Wyne': 'DeadPool', 'Clark': 'DeadPool', 'Peter': 'DeadPool', 'Logan': 'DeadPool', 'Wade': 'DeadPool'}\n",
      "{'Bruce Wyne': 'BatMan', 'Clark': 'SuperMan', 'Peter': 'SpiderMan', 'Logan': 'X-Men', 'Wade': 'DeadPool'}\n"
     ]
    }
   ],
   "source": [
    "'''Dict Comprehension : ZIP '''\n",
    "my_dict = {name: hero for name,hero in zip(names,heros)}\n",
    "print (my_dict)"
   ]
  },
  {
   "cell_type": "code",
   "execution_count": 38,
   "metadata": {
    "ExecuteTime": {
     "end_time": "2020-05-18T05:17:10.949010Z",
     "start_time": "2020-05-18T05:17:10.933410Z"
    }
   },
   "outputs": [
    {
     "name": "stdout",
     "output_type": "stream",
     "text": [
      "{'Bruce Wyne': 'BatMan', 'Clark': 'SuperMan', 'Logan': 'X-Men', 'Wade': 'DeadPool'}\n"
     ]
    }
   ],
   "source": [
    "'''Dict Comprehension : ZIP with condition'''\n",
    "my_dict = {name: hero for name,hero in zip(names,heros) if name != 'Peter'}\n",
    "print (my_dict)"
   ]
  },
  {
   "cell_type": "markdown",
   "metadata": {},
   "source": [
    "## Set Comprehension"
   ]
  },
  {
   "cell_type": "code",
   "execution_count": 41,
   "metadata": {
    "ExecuteTime": {
     "end_time": "2020-05-18T05:22:08.346343Z",
     "start_time": "2020-05-18T05:22:08.315143Z"
    }
   },
   "outputs": [
    {
     "name": "stdout",
     "output_type": "stream",
     "text": [
      "{1, 2, 3, 4, 5, 6, 7, 8, 9}\n",
      "{1, 2, 3, 4, 5, 6, 7, 8, 9}\n"
     ]
    }
   ],
   "source": [
    "numbers_1 = [1,2,3,1,2,4,5,4,6,7,8,9,6]\n",
    "\n",
    "'''Set Comprehension : Normal'''\n",
    "my_set = set()\n",
    "for n in numbers_1:\n",
    "    my_set.add(n)\n",
    "\n",
    "print (my_set)\n",
    "\n",
    "'''Set Comprehension : Looping'''\n",
    "my_set = {n for n in numbers_1}\n",
    "print (my_set)"
   ]
  },
  {
   "cell_type": "code",
   "execution_count": 43,
   "metadata": {
    "ExecuteTime": {
     "end_time": "2020-05-18T05:22:47.325480Z",
     "start_time": "2020-05-18T05:22:47.309479Z"
    }
   },
   "outputs": [
    {
     "name": "stdout",
     "output_type": "stream",
     "text": [
      "{8, 2, 4, 6}\n",
      "{8, 2, 4, 6}\n"
     ]
    }
   ],
   "source": [
    "numbers_1 = [1,2,3,1,2,4,5,4,6,7,8,9,6]\n",
    "\n",
    "'''Set Comprehension : Normal'''\n",
    "my_set = set()\n",
    "for n in numbers_1:\n",
    "    if n%2 == 0:\n",
    "      my_set.add(n)\n",
    "\n",
    "print (my_set)\n",
    "\n",
    "'''Set Comprehension : Looping with condition '''\n",
    "my_set = {n for n in numbers_1 if n%2 == 0}\n",
    "print (my_set)"
   ]
  },
  {
   "cell_type": "markdown",
   "metadata": {},
   "source": [
    "# Sorting "
   ]
  },
  {
   "cell_type": "markdown",
   "metadata": {},
   "source": [
    "## List Sorting\n",
    "`1) sorted() Function => Returns New list of sorted object ;; Leave the original object`<br>\n",
    "`2) .sort()  Method   => Returns None but                  ;; Alter the original`<br>"
   ]
  },
  {
   "cell_type": "code",
   "execution_count": 13,
   "metadata": {
    "ExecuteTime": {
     "end_time": "2020-05-20T11:06:59.448542Z",
     "start_time": "2020-05-20T11:06:59.431541Z"
    }
   },
   "outputs": [
    {
     "name": "stdout",
     "output_type": "stream",
     "text": [
      "Sorted List :  [0, 1, 1, 2, 3, 4, 5, 6, 7, 9, 9]\n",
      "Origin List :  [9, 4, 9, 2, 1, 7, 3, 0, 5, 6, 1]\n",
      "\n",
      "Sort List   :  None\n",
      "Sort List   :  [0, 1, 1, 2, 3, 4, 5, 6, 7, 9, 9]\n"
     ]
    }
   ],
   "source": [
    "list = [9,4,9,2,1,7,3,0,5,6,1]\n",
    "\n",
    "'''sorted() Function Example'''\n",
    "s_list = sorted(list)\n",
    "print ('Sorted List : ', s_list)\n",
    "print ('Origin List : ', list)\n",
    "print()\n",
    "\n",
    "'''.sort() Method Example'''\n",
    "print ('Sort List   : ', list.sort())\n",
    "print ('Sort List   : ', list)"
   ]
  },
  {
   "cell_type": "code",
   "execution_count": 16,
   "metadata": {
    "ExecuteTime": {
     "end_time": "2020-05-20T11:08:48.328967Z",
     "start_time": "2020-05-20T11:08:48.299966Z"
    }
   },
   "outputs": [
    {
     "name": "stdout",
     "output_type": "stream",
     "text": [
      "Sorted List(Reversed) :  [9, 9, 7, 6, 5, 4, 3, 2, 1, 1, 0]\n",
      "Origin List(Reversed) :  [9, 4, 9, 2, 1, 7, 3, 0, 5, 6, 1]\n",
      "\n",
      "Sort List(Reversed)   :  None\n",
      "Sort List(Reversed)   :  [9, 9, 7, 6, 5, 4, 3, 2, 1, 1, 0]\n"
     ]
    }
   ],
   "source": [
    "list = [9,4,9,2,1,7,3,0,5,6,1]\n",
    "\n",
    "'''sorted() Function with Reverse'''\n",
    "s_list = sorted(list, reverse=True)\n",
    "print ('Sorted List(Reversed) : ', s_list)\n",
    "print ('Origin List(Reversed) : ', list)\n",
    "print()\n",
    "\n",
    "'''.sort() Method with Reverse'''\n",
    "print ('Sort List(Reversed)   : ', list.sort(reverse=True))\n",
    "print ('Sort List(Reversed)   : ', list)"
   ]
  },
  {
   "cell_type": "markdown",
   "metadata": {},
   "source": [
    "## Tuple Sorting\n",
    "`1) sorted() Function => Returns New list of sorted object ;; Leave the original object`<br>\n",
    "`2) .sort()  Method   => There is method in Tuple`<br>\n",
    "\n",
    "output will be in **List** not in **Tuple**"
   ]
  },
  {
   "cell_type": "code",
   "execution_count": 19,
   "metadata": {
    "ExecuteTime": {
     "end_time": "2020-05-20T11:12:06.247108Z",
     "start_time": "2020-05-20T11:12:06.219507Z"
    }
   },
   "outputs": [
    {
     "ename": "AttributeError",
     "evalue": "'tuple' object has no attribute 'sort'",
     "output_type": "error",
     "traceback": [
      "\u001b[1;31m---------------------------------------------------------------------------\u001b[0m",
      "\u001b[1;31mAttributeError\u001b[0m                            Traceback (most recent call last)",
      "\u001b[1;32m<ipython-input-19-fb041bbf184f>\u001b[0m in \u001b[0;36m<module>\u001b[1;34m\u001b[0m\n\u001b[0;32m      1\u001b[0m \u001b[0mtup\u001b[0m \u001b[1;33m=\u001b[0m \u001b[1;33m(\u001b[0m\u001b[1;36m9\u001b[0m\u001b[1;33m,\u001b[0m\u001b[1;36m4\u001b[0m\u001b[1;33m,\u001b[0m\u001b[1;36m9\u001b[0m\u001b[1;33m,\u001b[0m\u001b[1;36m2\u001b[0m\u001b[1;33m,\u001b[0m\u001b[1;36m1\u001b[0m\u001b[1;33m,\u001b[0m\u001b[1;36m7\u001b[0m\u001b[1;33m,\u001b[0m\u001b[1;36m3\u001b[0m\u001b[1;33m,\u001b[0m\u001b[1;36m0\u001b[0m\u001b[1;33m,\u001b[0m\u001b[1;36m5\u001b[0m\u001b[1;33m,\u001b[0m\u001b[1;36m6\u001b[0m\u001b[1;33m,\u001b[0m\u001b[1;36m1\u001b[0m\u001b[1;33m)\u001b[0m\u001b[1;33m\u001b[0m\u001b[1;33m\u001b[0m\u001b[0m\n\u001b[0;32m      2\u001b[0m \u001b[1;33m\u001b[0m\u001b[0m\n\u001b[1;32m----> 3\u001b[1;33m \u001b[0mtup\u001b[0m\u001b[1;33m.\u001b[0m\u001b[0msort\u001b[0m\u001b[1;33m(\u001b[0m\u001b[1;33m)\u001b[0m\u001b[1;33m\u001b[0m\u001b[1;33m\u001b[0m\u001b[0m\n\u001b[0m",
      "\u001b[1;31mAttributeError\u001b[0m: 'tuple' object has no attribute 'sort'"
     ]
    }
   ],
   "source": [
    "tup = (9,4,9,2,1,7,3,0,5,6,1)\n",
    "\n",
    "tup.sort()"
   ]
  },
  {
   "cell_type": "code",
   "execution_count": 24,
   "metadata": {
    "ExecuteTime": {
     "end_time": "2020-05-20T11:15:44.881975Z",
     "start_time": "2020-05-20T11:15:44.850775Z"
    }
   },
   "outputs": [
    {
     "name": "stdout",
     "output_type": "stream",
     "text": [
      "Sorted Tuple :  [0, 1, 1, 2, 3, 4, 5, 6, 7, 9, 9]\n",
      "Origin Tuple :  (9, 4, 9, 2, 1, 7, 3, 0, 5, 6, 1)\n",
      "\n",
      "Sorted List(Reversed) :  [9, 9, 7, 6, 5, 4, 3, 2, 1, 1, 0]\n",
      "Origin List(Reversed) :  (9, 4, 9, 2, 1, 7, 3, 0, 5, 6, 1)\n",
      "\n"
     ]
    }
   ],
   "source": [
    "tup = (9,4,9,2,1,7,3,0,5,6,1)\n",
    "\n",
    "'''sorted() Function Example with Reverse'''\n",
    "s_tup = sorted(tup)\n",
    "print ('Sorted Tuple : ', s_tup)\n",
    "print ('Origin Tuple : ', tup)\n",
    "print()\n",
    "\n",
    "s_tup = sorted(tup, reverse=True)\n",
    "print ('Sorted List(Reversed) : ', s_tup)\n",
    "print ('Origin List(Reversed) : ', tup)\n",
    "print()"
   ]
  },
  {
   "cell_type": "markdown",
   "metadata": {},
   "source": [
    "## Set Sorting\n",
    "`1) sorted() Function => Returns New list of sorted object ;; Leave the original object`<br>\n",
    "`2) .sort()  Method   => By Default set will SORT(nearly)`<br>\n",
    "\n",
    "1) sort function on string set, this set function sorts the items in Alphabetical order<br>\n",
    "\n",
    "Ref : https://docs.python.org/3.3/howto/sorting.html"
   ]
  },
  {
   "cell_type": "code",
   "execution_count": 46,
   "metadata": {
    "ExecuteTime": {
     "end_time": "2020-05-20T11:31:04.202573Z",
     "start_time": "2020-05-20T11:31:04.186973Z"
    }
   },
   "outputs": [
    {
     "name": "stdout",
     "output_type": "stream",
     "text": [
      "Origin Set :  {0, 1, 2, 3, 4, 5, 6, 7, 9}\n"
     ]
    }
   ],
   "source": [
    "sett = {9,4,9,2,1,7,3,0,5,6,1}\n",
    "\n",
    "print ('Origin Set : ', sett)"
   ]
  },
  {
   "cell_type": "code",
   "execution_count": 45,
   "metadata": {
    "ExecuteTime": {
     "end_time": "2020-05-20T11:31:01.357264Z",
     "start_time": "2020-05-20T11:31:01.326064Z"
    }
   },
   "outputs": [
    {
     "name": "stdout",
     "output_type": "stream",
     "text": [
      "Old Set Items        =  {'apple', 'banana', 'orange', 'kiwi', 'mango'}\n",
      "Sorted List from Set =  ['apple', 'banana', 'kiwi', 'mango', 'orange']\n",
      "\n",
      "Sorted List from Set(Reversed) =  ['orange', 'mango', 'kiwi', 'banana', 'apple']\n"
     ]
    }
   ],
   "source": [
    "'''Python set default/sorted method'''\n",
    "sortFruitSet = {'mango', 'kiwi', 'apple', 'orange', 'banana'}\n",
    "print(\"Old Set Items        = \", sortFruitSet)\n",
    "\n",
    "'''Python Set Sorting become list'''\n",
    "print(\"Sorted List from Set = \", sorted(sortFruitSet))\n",
    "\n",
    "print()\n",
    "'''Python Set Sorting become list'''\n",
    "print(\"Sorted List from Set(Reversed) = \", sorted(sortFruitSet, reverse = True))"
   ]
  },
  {
   "cell_type": "code",
   "execution_count": 3,
   "metadata": {
    "ExecuteTime": {
     "end_time": "2020-05-20T11:32:10.030409Z",
     "start_time": "2020-05-20T11:32:09.990407Z"
    }
   },
   "outputs": [
    {
     "name": "stdout",
     "output_type": "stream",
     "text": [
      "['0.000000000', '0.009518000', '0.018384000', '0.030810999', '10.277200999', '4.918560000']\n",
      "['0.000000000', '0.009518000', '0.018384000', '0.030810999', '4.918560000', '10.277200999']\n"
     ]
    }
   ],
   "source": [
    "s = set(['0.000000000', '0.009518000', '10.277200999', '0.030810999', '0.018384000', '4.918560000'])\n",
    "print (sorted(s))\n",
    "print (sorted(s, key=float))"
   ]
  },
  {
   "cell_type": "markdown",
   "metadata": {},
   "source": [
    "## Dict Sorting"
   ]
  },
  {
   "cell_type": "code",
   "execution_count": 5,
   "metadata": {
    "ExecuteTime": {
     "end_time": "2020-05-20T14:40:53.394879Z",
     "start_time": "2020-05-20T14:40:53.343876Z"
    }
   },
   "outputs": [
    {
     "data": {
      "text/plain": [
       "[1, 2, 3, 4, 5]"
      ]
     },
     "execution_count": 5,
     "metadata": {},
     "output_type": "execute_result"
    }
   ],
   "source": [
    "sorted({1: 'D', 2: 'B', 3: 'B', 4: 'E', 5: 'A'})"
   ]
  },
  {
   "cell_type": "code",
   "execution_count": 6,
   "metadata": {
    "ExecuteTime": {
     "end_time": "2020-05-20T14:43:47.127754Z",
     "start_time": "2020-05-20T14:43:47.115753Z"
    }
   },
   "outputs": [
    {
     "name": "stdout",
     "output_type": "stream",
     "text": [
      "[-4, -3, -1, 2]\n"
     ]
    }
   ],
   "source": [
    "list=[-1,2,-3,-4]\n",
    "print(sorted(list))"
   ]
  },
  {
   "cell_type": "code",
   "execution_count": 7,
   "metadata": {
    "ExecuteTime": {
     "end_time": "2020-05-20T14:44:46.654619Z",
     "start_time": "2020-05-20T14:44:46.634618Z"
    }
   },
   "outputs": [
    {
     "name": "stdout",
     "output_type": "stream",
     "text": [
      "[-1, 2, -3, -4]\n"
     ]
    }
   ],
   "source": [
    "list=[-1,2,-3,-4]\n",
    "print(sorted(list, key=abs))"
   ]
  },
  {
   "cell_type": "code",
   "execution_count": 15,
   "metadata": {
    "ExecuteTime": {
     "end_time": "2020-05-20T14:56:28.188886Z",
     "start_time": "2020-05-20T14:56:28.154285Z"
    }
   },
   "outputs": [
    {
     "data": {
      "text/plain": [
       "('john', 'A', 15)"
      ]
     },
     "execution_count": 15,
     "metadata": {},
     "output_type": "execute_result"
    }
   ],
   "source": [
    "class Student:\n",
    "        def __init__(self, name, grade, age):\n",
    "            self.name = name\n",
    "            self.grade = grade\n",
    "            self.age = age\n",
    "        def __repr__(self):\n",
    "            return repr((self.name, self.grade, self.age))\n",
    "\n",
    "Student('john', 'A', 15)"
   ]
  },
  {
   "cell_type": "code",
   "execution_count": 16,
   "metadata": {
    "ExecuteTime": {
     "end_time": "2020-05-20T14:56:32.727279Z",
     "start_time": "2020-05-20T14:56:32.706679Z"
    }
   },
   "outputs": [
    {
     "name": "stdout",
     "output_type": "stream",
     "text": [
      "['__class__', '__delattr__', '__dict__', '__dir__', '__doc__', '__eq__', '__format__', '__ge__', '__getattribute__', '__gt__', '__hash__', '__init__', '__init_subclass__', '__le__', '__lt__', '__module__', '__ne__', '__new__', '__reduce__', '__reduce_ex__', '__repr__', '__setattr__', '__sizeof__', '__str__', '__subclasshook__', '__weakref__', 'age', 'grade', 'name']\n"
     ]
    }
   ],
   "source": [
    "print(dir(Student('john', 'A', 15)))"
   ]
  },
  {
   "cell_type": "code",
   "execution_count": 56,
   "metadata": {
    "ExecuteTime": {
     "end_time": "2020-05-20T15:27:50.678758Z",
     "start_time": "2020-05-20T15:27:50.662757Z"
    }
   },
   "outputs": [
    {
     "name": "stdout",
     "output_type": "stream",
     "text": [
      "[('ajon', 'A', 15), ('john', 'A', 15), ('jane', 'B', 12), ('dave', 'B', 10)]\n"
     ]
    }
   ],
   "source": [
    "s4 = Student('ajon', 'A', 15)\n",
    "s1 = Student('john', 'A', 15)\n",
    "s2 = Student('jane', 'B', 12)\n",
    "s3 = Student('dave', 'B', 10)\n",
    "\n",
    "student_objects = [s4, s1, s2, s3]\n",
    "print (student_objects)"
   ]
  },
  {
   "cell_type": "code",
   "execution_count": 57,
   "metadata": {
    "ExecuteTime": {
     "end_time": "2020-05-20T15:27:51.243790Z",
     "start_time": "2020-05-20T15:27:50.860768Z"
    }
   },
   "outputs": [
    {
     "ename": "TypeError",
     "evalue": "'<' not supported between instances of 'Student' and 'Student'",
     "output_type": "error",
     "traceback": [
      "\u001b[1;31m---------------------------------------------------------------------------\u001b[0m",
      "\u001b[1;31mTypeError\u001b[0m                                 Traceback (most recent call last)",
      "\u001b[1;32m<ipython-input-57-a8e4809ee1a5>\u001b[0m in \u001b[0;36m<module>\u001b[1;34m\u001b[0m\n\u001b[1;32m----> 1\u001b[1;33m \u001b[0mstud\u001b[0m \u001b[1;33m=\u001b[0m \u001b[0msorted\u001b[0m\u001b[1;33m(\u001b[0m\u001b[0mstudent_objects\u001b[0m\u001b[1;33m)\u001b[0m\u001b[1;33m\u001b[0m\u001b[1;33m\u001b[0m\u001b[0m\n\u001b[0m",
      "\u001b[1;31mTypeError\u001b[0m: '<' not supported between instances of 'Student' and 'Student'"
     ]
    }
   ],
   "source": [
    "stud = sorted(student_objects)"
   ]
  },
  {
   "cell_type": "code",
   "execution_count": 59,
   "metadata": {
    "ExecuteTime": {
     "end_time": "2020-05-20T15:28:07.297708Z",
     "start_time": "2020-05-20T15:28:07.271707Z"
    }
   },
   "outputs": [
    {
     "name": "stdout",
     "output_type": "stream",
     "text": [
      "[('dave', 'B', 10), ('jane', 'B', 12), ('ajon', 'A', 15), ('john', 'A', 15)]\n"
     ]
    }
   ],
   "source": [
    "def sort_m(st):\n",
    "    return st.age\n",
    "stud = sorted(student_objects, key=sort_m)\n",
    "print(stud)"
   ]
  },
  {
   "cell_type": "code",
   "execution_count": 58,
   "metadata": {
    "ExecuteTime": {
     "end_time": "2020-05-20T15:27:52.487861Z",
     "start_time": "2020-05-20T15:27:52.469860Z"
    }
   },
   "outputs": [
    {
     "data": {
      "text/plain": [
       "[('dave', 'B', 10), ('jane', 'B', 12), ('ajon', 'A', 15), ('john', 'A', 15)]"
      ]
     },
     "execution_count": 58,
     "metadata": {},
     "output_type": "execute_result"
    }
   ],
   "source": [
    "sorted(student_objects, key=lambda student: student.age)   # sort by age"
   ]
  },
  {
   "cell_type": "markdown",
   "metadata": {},
   "source": [
    "# Concatenation & Replicator Operator"
   ]
  },
  {
   "cell_type": "raw",
   "metadata": {},
   "source": [
    "List Concatenation Operator: +\n",
    "List Replicator Operator: *"
   ]
  },
  {
   "cell_type": "code",
   "execution_count": null,
   "metadata": {},
   "outputs": [],
   "source": [
    "# Concatenation & Replicator Operator\n",
    "\n",
    "List Concatenation Operator: +\n",
    "List Replicator Operator: *## List Comprehension\n",
    "`1) Using Normal way`<br>\n",
    "`2) Using Looping `<br>\n",
    "`3) Using (map/filter) + lambda`<br>\n",
    "`3) Using zip`<br>\n",
    "\n",
    "numbers = [1, 2, 3, 4, 5, 6, 7, 8, 9, 10]\n",
    "\n",
    "'''List Comprehension : Normal '''\n",
    "my_list = []\n",
    "for n in numbers:\n",
    "    my_list.append(n)\n",
    "\n",
    "print (my_list)\n",
    "\n",
    "'''List Comprehension : Looping '''\n",
    "my_list = [n for n in numbers]\n",
    "print (my_list)\n",
    "\n",
    "'''List Comprehension : Function '''\n",
    "my_list = map(lambda n: n, numbers)\n",
    "print (list(my_list))\n",
    "\n",
    "numbers = [1, 2, 3, 4, 5, 6, 7, 8, 9, 10]\n",
    "\n",
    "'''List Comprehension : Normal '''\n",
    "my_list = []\n",
    "for n in numbers:\n",
    "    my_list.append(n*n)\n",
    "\n",
    "print (my_list)\n",
    "\n",
    "'''List Comprehension : Looping '''\n",
    "my_list = [n*n for n in numbers]\n",
    "print (my_list)\n",
    "\n",
    "'''List Comprehension : Function '''\n",
    "my_list = map(lambda n: n*n, numbers)\n",
    "print (list(my_list))\n",
    "\n",
    "numbers = [1, 2, 3, 4, 5, 6, 7, 8, 9, 10]\n",
    "\n",
    "'''List Comprehension : Normal with condition '''\n",
    "my_list = []\n",
    "for n in numbers:\n",
    "    if n%2 == 0:\n",
    "        my_list.append(n)\n",
    "\n",
    "print (my_list)\n",
    "\n",
    "'''List Comprehension : Looping with condition '''\n",
    "my_list = [n for n in numbers if n%2 == 0]\n",
    "print (my_list)\n",
    "\n",
    "'''List Comprehension : Function with condition '''\n",
    "my_list = filter(lambda n: n%2 == 0, numbers)\n",
    "print (list(my_list))\n",
    "\n",
    "'''List Comprehension : Normal with condition & Nested List '''\n",
    "my_list = []\n",
    "for letter in 'abc':\n",
    "    for n in range(3):\n",
    "      my_list.append((letter,n))\n",
    "\n",
    "print (my_list)\n",
    "\n",
    "'''List Comprehension : Looping with condition & Nested List '''\n",
    "my_list = [(letter,n ) for letter in 'abc' for n in range(3)]\n",
    "print (my_list)\n",
    "\n",
    "'''List Comprehension : ZIP '''\n",
    "print (list(zip('abc', range(3))))\n",
    "\n",
    "names = ['Bruce Wyne', 'Clark', 'Peter', 'Logan', 'Wade']\n",
    "heros = ['BatMan', 'SuperMan', 'SpiderMan', 'X-Men', 'DeadPool']\n",
    "\n",
    "'''List Comprehension : ZIP '''\n",
    "print (list(zip(names, heros)))L = [ 1, 2, 3]\n",
    "list4 = [i*10 for i in L] # create a list whose elements are 10 times the elements of original list\n",
    "list4"
   ]
  }
 ],
 "metadata": {
  "kernelspec": {
   "display_name": "Python 3 (ipykernel)",
   "language": "python",
   "name": "python3"
  },
  "language_info": {
   "codemirror_mode": {
    "name": "ipython",
    "version": 3
   },
   "file_extension": ".py",
   "mimetype": "text/x-python",
   "name": "python",
   "nbconvert_exporter": "python",
   "pygments_lexer": "ipython3",
   "version": "3.8.13"
  },
  "latex_envs": {
   "LaTeX_envs_menu_present": true,
   "autoclose": false,
   "autocomplete": true,
   "bibliofile": "biblio.bib",
   "cite_by": "apalike",
   "current_citInitial": 1,
   "eqLabelWithNumbers": true,
   "eqNumInitial": 1,
   "hotkeys": {
    "equation": "Ctrl-E",
    "itemize": "Ctrl-I"
   },
   "labels_anchors": false,
   "latex_user_defs": false,
   "report_style_numbering": false,
   "user_envs_cfg": false
  },
  "toc": {
   "base_numbering": 1,
   "nav_menu": {},
   "number_sections": true,
   "sideBar": true,
   "skip_h1_title": false,
   "title_cell": "Table of Contents",
   "title_sidebar": "Contents",
   "toc_cell": true,
   "toc_position": {
    "height": "601.25px",
    "left": "33px",
    "top": "103.469px",
    "width": "318.965px"
   },
   "toc_section_display": true,
   "toc_window_display": true
  },
  "varInspector": {
   "cols": {
    "lenName": 16,
    "lenType": 16,
    "lenVar": 40
   },
   "kernels_config": {
    "python": {
     "delete_cmd_postfix": "",
     "delete_cmd_prefix": "del ",
     "library": "var_list.py",
     "varRefreshCmd": "print(var_dic_list())"
    },
    "r": {
     "delete_cmd_postfix": ") ",
     "delete_cmd_prefix": "rm(",
     "library": "var_list.r",
     "varRefreshCmd": "cat(var_dic_list()) "
    }
   },
   "types_to_exclude": [
    "module",
    "function",
    "builtin_function_or_method",
    "instance",
    "_Feature"
   ],
   "window_display": false
  }
 },
 "nbformat": 4,
 "nbformat_minor": 2
}
